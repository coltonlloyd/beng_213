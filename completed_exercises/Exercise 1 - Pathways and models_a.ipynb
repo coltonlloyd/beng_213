{
 "cells": [
  {
   "cell_type": "markdown",
   "metadata": {},
   "source": [
    "# Modeling anabolic pathways\n",
    "\n",
    "Building and simulation pathways using COBRApy. \n"
   ]
  },
  {
   "cell_type": "code",
   "execution_count": 1,
   "metadata": {
    "scrolled": true
   },
   "outputs": [
    {
     "name": "stderr",
     "output_type": "stream",
     "text": [
      "/Users/coltonlloyd/Envs/qbio18/lib/python3.6/importlib/_bootstrap.py:219: RuntimeWarning: numpy.dtype size changed, may indicate binary incompatibility. Expected 96, got 88\n",
      "  return f(*args, **kwds)\n",
      "/Users/coltonlloyd/Envs/qbio18/lib/python3.6/importlib/_bootstrap.py:219: RuntimeWarning: numpy.dtype size changed, may indicate binary incompatibility. Expected 96, got 88\n",
      "  return f(*args, **kwds)\n"
     ]
    }
   ],
   "source": [
    "import cobra\n",
    "import escher\n",
    "from qbio_resources.histidine_pathway import metabolites_and_info, reactions_and_info"
   ]
  },
  {
   "cell_type": "code",
   "execution_count": 2,
   "metadata": {},
   "outputs": [
    {
     "data": {
      "text/html": [
       "\n",
       "\n",
       "\n",
       "  \n",
       "  \n",
       "\n",
       "  \n",
       "  \n",
       "    <link rel=\"stylesheet\" href=\"//unpkg.com/escher-vis@1.6.0/css/dist/builder.min.css\"/>\n",
       "  \n",
       "\n",
       "\n",
       "\n",
       "  <div style=\"height: 500px; width: 100%;\" id=\"jvddkytrzo\"></div>\n",
       "\n",
       "  <script>\n",
       "   /* Closure to make sure data only applies to this map. */\n",
       "   (function() {\n",
       "       /* data from python */\n",
       "       var data = get_data();\n",
       "\n",
       "       function load_lib(url, callback) {\n",
       "           /** Dynamically load a JavaScript file */\n",
       "           var s = document.createElement('script');\n",
       "           s.src = url;\n",
       "           s.async = true;\n",
       "           s.onreadystatechange = s.onload = callback;\n",
       "           s.onerror = function() {\n",
       "               console.warn('Failed to load library ' + url);\n",
       "           };\n",
       "           document.getElementsByTagName('head')[0].appendChild(s);\n",
       "       }\n",
       "\n",
       "       function check_global_and_load(name, url, callback) {\n",
       "           /** Look for the name in the global scope. If it isn't present, then\n",
       "              load the library at url. Returns the object. */\n",
       "           if (window[name] !== undefined) {\n",
       "               callback(window[name]);\n",
       "           } else {\n",
       "               load_lib(url, function() {\n",
       "                   callback(window[name]);\n",
       "               });\n",
       "           }\n",
       "       }\n",
       "\n",
       "       function draw_escher(escher) {\n",
       "           /** Get data and draw */\n",
       "           var load = function(t_map_data, t_model_data, t_options) {\n",
       "               escher.Builder(t_map_data, t_model_data, data.builder_embed_css,\n",
       "                              escher.libs.d3_select('#' + data.id), t_options);\n",
       "           }\n",
       "\n",
       "           // for the static site, use the url attributes for the map and model\n",
       "           // information\n",
       "           if (data.static_site_index !== null) {\n",
       "               escher.static.load_map_model_from_url(data.map_download_url, data.model_download_url,\n",
       "                                                     data.static_site_index, data.options, load);\n",
       "           } else {\n",
       "               load(data.map_data, data.model_data, data.options);\n",
       "           }\n",
       "       }\n",
       "\n",
       "       // Load dependencies and draw\n",
       "       if (typeof define === 'function' && define.amd) {\n",
       "           // require.js is available: use it to load escher\n",
       "           require.config({\n",
       "             paths: {\n",
       "               escher: '//unpkg.com/escher-vis@1.6.0/js/dist/escher.min',\n",
       "             },\n",
       "             // Override urlArgs that adds ?v= to the end of the escher URL and\n",
       "             // messes up unpkg links. Honestly, I'm not sure if this will lead\n",
       "             // to downstream bugs in the notebook, but they really shouldn't be\n",
       "             // doing this cache-busting anyway.\n",
       "             urlArgs: null,\n",
       "           })\n",
       "           require([ 'escher' ], function(escher) {\n",
       "               draw_escher(escher);\n",
       "           })\n",
       "       } else {\n",
       "           // require.js not available: dynamically load escher\n",
       "           check_global_and_load('escher', '//unpkg.com/escher-vis@1.6.0/js/dist/escher.min.js', function(escher) {\n",
       "               draw_escher(escher);\n",
       "           })\n",
       "       }\n",
       "\n",
       "       // Put this at the end so Chrome doesn't cut off the code above.\n",
       "       function get_data() {\n",
       "           /** Return the data passed in by the Python module. */\n",
       "           return {\n",
       "               id: JSON.parse('\"jvddkytrzo\"'),\n",
       "               map_download_url: JSON.parse('\"//escher.github.io/1-0-0/5/maps/\"'),\n",
       "               model_download_url: JSON.parse('\"//escher.github.io/1-0-0/5/models/\"'),\n",
       "               options: JSON.parse('{\"menu\": \"zoom\", \"enable_keys\": false, \"enable_editing\": false, \"scroll_behavior\": \"none\", \"fill_screen\": false, \"ignore_bootstrap\": true, \"never_ask_before_quit\": true, \"reaction_data\": null, \"metabolite_data\": null, \"gene_data\": null}'),\n",
       "               builder_embed_css: JSON.parse('null'),\n",
       "               map_data: JSON.parse('[{\"map_name\":\"iJO1366.Central metabolism\",\"map_id\":\"c50080dc494c0686982966090cefc2de\",\"map_description\":\"Central metabolism (iJO1366)\\\\nLast Modified Wed Jun 27 2018 14:17:02 GMT-0700 (PDT)\",\"homepage\":\"https://escher.github.io\",\"schema\":\"https://escher.github.io/escher/jsonschema/1-0-0#\"},{\"reactions\":{\"2076052\":{\"name\":\"Phosphoribosylpyrophosphate synthetase\",\"bigg_id\":\"PRPPS\",\"reversibility\":true,\"label_x\":3191.288419921875,\"label_y\":1953.48166484375,\"gene_reaction_rule\":\"b1207\",\"genes\":[{\"notes\":{\"original_bigg_ids\":[\"dha_e\",\"FACOAL161t2pp\",\"b1207\"]},\"name\":\"prs\",\"bigg_id\":\"b1207\"}],\"metabolites\":[{\"bigg_id\":\"h_c\",\"coefficient\":1},{\"bigg_id\":\"r5p_c\",\"coefficient\":-1},{\"bigg_id\":\"amp_c\",\"coefficient\":1},{\"bigg_id\":\"prpp_c\",\"coefficient\":1},{\"bigg_id\":\"atp_c\",\"coefficient\":-1}],\"segments\":{\"1169\":{\"from_node_id\":\"2076586\",\"to_node_id\":\"2076587\",\"b1\":null,\"b2\":null},\"1170\":{\"from_node_id\":\"2076588\",\"to_node_id\":\"2076587\",\"b1\":null,\"b2\":null},\"1171\":{\"from_node_id\":\"2076588\",\"to_node_id\":\"2076589\",\"b1\":{\"x\":3307.288419921875,\"y\":1993.48166484375},\"b2\":{\"x\":3312.538419921875,\"y\":2011.48166484375}},\"1172\":{\"from_node_id\":\"2076586\",\"to_node_id\":\"2075464\",\"b1\":{\"x\":3179.288419921875,\"y\":1993.48166484375},\"b2\":{\"x\":3125.0384199218747,\"y\":1993.4816648437497}},\"1173\":{\"from_node_id\":\"2076588\",\"to_node_id\":\"2076590\",\"b1\":{\"x\":3307.288419921875,\"y\":1993.48166484375},\"b2\":{\"x\":3312.538419921875,\"y\":1975.48166484375}},\"1174\":{\"from_node_id\":\"2076588\",\"to_node_id\":\"2076591\",\"b1\":{\"x\":3303.288419921875,\"y\":1993.48166484375},\"b2\":{\"x\":3357.538419921875,\"y\":1993.48166484375}},\"1175\":{\"from_node_id\":\"2076586\",\"to_node_id\":\"2076592\",\"b1\":{\"x\":3175.288419921875,\"y\":1993.48166484375},\"b2\":{\"x\":3170.038419921875,\"y\":2011.48166484375}}}},\"2076053\":{\"name\":\"ATP phosphoribosyltransferase\",\"bigg_id\":\"ATPPRT\",\"reversibility\":false,\"label_x\":3535.324064453125,\"label_y\":1956.4639646484375,\"gene_reaction_rule\":\"b2019\",\"genes\":[{\"notes\":{\"original_bigg_ids\":[\"arbtn_DASH_fe3_c\",\"EX_succ_LPAREN_e_RPAREN_\",\"b2019\"]},\"name\":\"hisG\",\"bigg_id\":\"b2019\"}],\"metabolites\":[{\"bigg_id\":\"ppi_c\",\"coefficient\":1},{\"bigg_id\":\"atp_c\",\"coefficient\":-1},{\"bigg_id\":\"prpp_c\",\"coefficient\":-1},{\"bigg_id\":\"prbatp_c\",\"coefficient\":1}],\"segments\":{\"1176\":{\"from_node_id\":\"2076593\",\"to_node_id\":\"2076594\",\"b1\":null,\"b2\":null},\"1177\":{\"from_node_id\":\"2076595\",\"to_node_id\":\"2076594\",\"b1\":null,\"b2\":null},\"1178\":{\"from_node_id\":\"2076595\",\"to_node_id\":\"2076596\",\"b1\":{\"x\":3657.288419921875,\"y\":1993.48166484375},\"b2\":{\"x\":3662.538419921875,\"y\":2011.48166484375}},\"1179\":{\"from_node_id\":\"2076593\",\"to_node_id\":\"2076597\",\"b1\":{\"x\":3525.288419921875,\"y\":1993.48166484375},\"b2\":{\"x\":3520.038419921875,\"y\":2011.48166484375}},\"1180\":{\"from_node_id\":\"2076593\",\"to_node_id\":\"2076591\",\"b1\":{\"x\":3529.288419921875,\"y\":1993.48166484375},\"b2\":{\"x\":3475.038419921875,\"y\":1993.48166484375}},\"1181\":{\"from_node_id\":\"2076595\",\"to_node_id\":\"2076598\",\"b1\":{\"x\":3653.288419921875,\"y\":1993.48166484375},\"b2\":{\"x\":3707.538419921875,\"y\":1993.48166484375}}}},\"2076054\":{\"name\":\"Phosphoribosyl-ATP pyrophosphatase\",\"bigg_id\":\"PRATPP\",\"reversibility\":false,\"label_x\":3891.288419921875,\"label_y\":1953.48166484375,\"gene_reaction_rule\":\"b2026\",\"genes\":[{\"notes\":{\"original_bigg_ids\":[\"dcmp_e\",\"FACOAL100t2pp\",\"b2026\"]},\"name\":\"hisI\",\"bigg_id\":\"b2026\"}],\"metabolites\":[{\"bigg_id\":\"ppi_c\",\"coefficient\":1},{\"bigg_id\":\"prbamp_c\",\"coefficient\":1},{\"bigg_id\":\"h_c\",\"coefficient\":1},{\"bigg_id\":\"h2o_c\",\"coefficient\":-1},{\"bigg_id\":\"prbatp_c\",\"coefficient\":-1}],\"segments\":{\"1182\":{\"from_node_id\":\"2076599\",\"to_node_id\":\"2076600\",\"b1\":null,\"b2\":null},\"1183\":{\"from_node_id\":\"2076601\",\"to_node_id\":\"2076600\",\"b1\":null,\"b2\":null},\"1184\":{\"from_node_id\":\"2076601\",\"to_node_id\":\"2076602\",\"b1\":{\"x\":4007.288419921875,\"y\":1993.48166484375},\"b2\":{\"x\":4012.538419921875,\"y\":1975.48166484375}},\"1185\":{\"from_node_id\":\"2076601\",\"to_node_id\":\"2076603\",\"b1\":{\"x\":4003.288419921875,\"y\":1993.48166484375},\"b2\":{\"x\":4057.538419921875,\"y\":1993.48166484375}},\"1186\":{\"from_node_id\":\"2076601\",\"to_node_id\":\"2076604\",\"b1\":{\"x\":4007.288419921875,\"y\":1993.48166484375},\"b2\":{\"x\":4012.538419921875,\"y\":2011.48166484375}},\"1187\":{\"from_node_id\":\"2076599\",\"to_node_id\":\"2076605\",\"b1\":{\"x\":3875.288419921875,\"y\":1993.48166484375},\"b2\":{\"x\":3870.038419921875,\"y\":2011.48166484375}},\"1188\":{\"from_node_id\":\"2076599\",\"to_node_id\":\"2076598\",\"b1\":{\"x\":3879.288419921875,\"y\":1993.48166484375},\"b2\":{\"x\":3825.038419921875,\"y\":1993.48166484375}}}},\"2076055\":{\"name\":\"Phosphoribosyl-AMP cyclohydrolase\",\"bigg_id\":\"PRAMPC\",\"reversibility\":false,\"label_x\":4241.288419921875,\"label_y\":1953.48166484375,\"gene_reaction_rule\":\"b2026\",\"genes\":[{\"notes\":{\"original_bigg_ids\":[\"dcmp_e\",\"FACOAL100t2pp\",\"b2026\"]},\"name\":\"hisI\",\"bigg_id\":\"b2026\"}],\"metabolites\":[{\"bigg_id\":\"prfp_c\",\"coefficient\":1},{\"bigg_id\":\"h2o_c\",\"coefficient\":-1},{\"bigg_id\":\"prbamp_c\",\"coefficient\":-1}],\"segments\":{\"1189\":{\"from_node_id\":\"2076606\",\"to_node_id\":\"2076607\",\"b1\":null,\"b2\":null},\"1190\":{\"from_node_id\":\"2076608\",\"to_node_id\":\"2076607\",\"b1\":null,\"b2\":null},\"1191\":{\"from_node_id\":\"2076608\",\"to_node_id\":\"2076609\",\"b1\":{\"x\":4353.288419921875,\"y\":1993.48166484375},\"b2\":{\"x\":4407.538419921875,\"y\":1993.48166484375}},\"1192\":{\"from_node_id\":\"2076606\",\"to_node_id\":\"2076610\",\"b1\":{\"x\":4225.288419921875,\"y\":1993.48166484375},\"b2\":{\"x\":4220.038419921875,\"y\":2011.48166484375}},\"1193\":{\"from_node_id\":\"2076606\",\"to_node_id\":\"2076603\",\"b1\":{\"x\":4229.288419921875,\"y\":1993.48166484375},\"b2\":{\"x\":4175.038419921875,\"y\":1993.48166484375}}}},\"2076056\":{\"name\":\"1-(5-phosphoribosyl)-5-[(5-phosphoribosylamino)methylideneamino)imidazole-4-carboxamide isomerase\",\"bigg_id\":\"PRMICI\",\"reversibility\":true,\"label_x\":4591.288419921875,\"label_y\":1953.48166484375,\"gene_reaction_rule\":\"b2024\",\"genes\":[{\"notes\":{\"original_bigg_ids\":[\"dgmp_e\",\"FACOAL141t2pp\",\"b2024\"]},\"name\":\"hisA\",\"bigg_id\":\"b2024\"}],\"metabolites\":[{\"bigg_id\":\"prfp_c\",\"coefficient\":-1},{\"bigg_id\":\"prlp_c\",\"coefficient\":1}],\"segments\":{\"1194\":{\"from_node_id\":\"2076611\",\"to_node_id\":\"2076612\",\"b1\":null,\"b2\":null},\"1195\":{\"from_node_id\":\"2076613\",\"to_node_id\":\"2076612\",\"b1\":null,\"b2\":null},\"1196\":{\"from_node_id\":\"2076611\",\"to_node_id\":\"2076609\",\"b1\":{\"x\":4579.288419921875,\"y\":1993.48166484375},\"b2\":{\"x\":4525.038419921875,\"y\":1993.48166484375}},\"1197\":{\"from_node_id\":\"2076613\",\"to_node_id\":\"2076614\",\"b1\":{\"x\":4703.288419921875,\"y\":1993.48166484375},\"b2\":{\"x\":4757.538419921875,\"y\":1993.48166484375}}}},\"2076058\":{\"name\":\"Imidazoleglycerol-phosphate dehydratase\",\"bigg_id\":\"IGPDH\",\"reversibility\":false,\"label_x\":5291.288419921875,\"label_y\":1953.48166484375,\"gene_reaction_rule\":\"b2022\",\"genes\":[{\"notes\":{\"original_bigg_ids\":[\"pan4p_c\",\"CA2t3pp\",\"b2022\"]},\"name\":\"hisB\",\"bigg_id\":\"b2022\"}],\"metabolites\":[{\"bigg_id\":\"h2o_c\",\"coefficient\":1},{\"bigg_id\":\"imacp_c\",\"coefficient\":1},{\"bigg_id\":\"eig3p_c\",\"coefficient\":-1}],\"segments\":{\"1206\":{\"from_node_id\":\"2076623\",\"to_node_id\":\"2076624\",\"b1\":null,\"b2\":null},\"1207\":{\"from_node_id\":\"2076625\",\"to_node_id\":\"2076624\",\"b1\":null,\"b2\":null},\"1208\":{\"from_node_id\":\"2076625\",\"to_node_id\":\"2076626\",\"b1\":{\"x\":5407.288419921875,\"y\":1993.48166484375},\"b2\":{\"x\":5412.538419921875,\"y\":2011.48166484375}},\"1209\":{\"from_node_id\":\"2076625\",\"to_node_id\":\"2076627\",\"b1\":{\"x\":5403.288419921875,\"y\":1993.48166484375},\"b2\":{\"x\":5457.538419921875,\"y\":1993.48166484375}},\"1210\":{\"from_node_id\":\"2076623\",\"to_node_id\":\"2076620\",\"b1\":{\"x\":5279.288419921875,\"y\":1993.48166484375},\"b2\":{\"x\":5225.038419921875,\"y\":1993.48166484375}}}},\"2076059\":{\"name\":\"Histidinol-phosphate transaminase\",\"bigg_id\":\"HSTPT\",\"reversibility\":false,\"label_x\":5641.288419921875,\"label_y\":1953.48166484375,\"gene_reaction_rule\":\"b2021\",\"genes\":[{\"notes\":{\"original_bigg_ids\":[\"pg141_c\",\"CD2abcpp\",\"b2021\"]},\"name\":\"hisC\",\"bigg_id\":\"b2021\"}],\"metabolites\":[{\"bigg_id\":\"hisp_c\",\"coefficient\":1},{\"bigg_id\":\"akg_c\",\"coefficient\":1},{\"bigg_id\":\"glu__L_c\",\"coefficient\":-1},{\"bigg_id\":\"imacp_c\",\"coefficient\":-1}],\"segments\":{\"1211\":{\"from_node_id\":\"2076628\",\"to_node_id\":\"2076629\",\"b1\":null,\"b2\":null},\"1212\":{\"from_node_id\":\"2076630\",\"to_node_id\":\"2076629\",\"b1\":null,\"b2\":null},\"1213\":{\"from_node_id\":\"2076630\",\"to_node_id\":\"2076631\",\"b1\":{\"x\":5753.288419921875,\"y\":1993.48166484375},\"b2\":{\"x\":5807.538419921875,\"y\":1993.48166484375}},\"1214\":{\"from_node_id\":\"2076630\",\"to_node_id\":\"2076632\",\"b1\":{\"x\":5757.288419921875,\"y\":1993.48166484375},\"b2\":{\"x\":5774.721037109375,\"y\":2053.290014453125}},\"1215\":{\"from_node_id\":\"2076628\",\"to_node_id\":\"2076633\",\"b1\":{\"x\":5625.288419921875,\"y\":1993.48166484375},\"b2\":{\"x\":5620.038419921875,\"y\":2011.48166484375}},\"1216\":{\"from_node_id\":\"2076628\",\"to_node_id\":\"2076627\",\"b1\":{\"x\":5629.288419921875,\"y\":1993.48166484375},\"b2\":{\"x\":5575.038419921875,\"y\":1993.48166484375}}}},\"2076060\":{\"name\":\"Histidinol-phosphatase\",\"bigg_id\":\"HISTP\",\"reversibility\":false,\"label_x\":5991.288419921875,\"label_y\":1953.48166484375,\"gene_reaction_rule\":\"b2022\",\"genes\":[{\"notes\":{\"original_bigg_ids\":[\"pan4p_c\",\"CA2t3pp\",\"b2022\"]},\"name\":\"hisB\",\"bigg_id\":\"b2022\"}],\"metabolites\":[{\"bigg_id\":\"hisp_c\",\"coefficient\":-1},{\"bigg_id\":\"histd_c\",\"coefficient\":1},{\"bigg_id\":\"h2o_c\",\"coefficient\":-1},{\"bigg_id\":\"pi_c\",\"coefficient\":1}],\"segments\":{\"1217\":{\"from_node_id\":\"2076634\",\"to_node_id\":\"2076635\",\"b1\":null,\"b2\":null},\"1218\":{\"from_node_id\":\"2076636\",\"to_node_id\":\"2076635\",\"b1\":null,\"b2\":null},\"1219\":{\"from_node_id\":\"2076634\",\"to_node_id\":\"2076631\",\"b1\":{\"x\":5979.288419921875,\"y\":1993.48166484375},\"b2\":{\"x\":5925.038419921875,\"y\":1993.48166484375}},\"1220\":{\"from_node_id\":\"2076636\",\"to_node_id\":\"2076637\",\"b1\":{\"x\":6103.288419921875,\"y\":1993.48166484375},\"b2\":{\"x\":6157.538419921875,\"y\":1993.48166484375}},\"1221\":{\"from_node_id\":\"2076634\",\"to_node_id\":\"2076638\",\"b1\":{\"x\":5975.288419921875,\"y\":1993.48166484375},\"b2\":{\"x\":5970.038419921875,\"y\":2011.48166484375}},\"1222\":{\"from_node_id\":\"2076636\",\"to_node_id\":\"2076639\",\"b1\":{\"x\":6107.288419921875,\"y\":1993.48166484375},\"b2\":{\"x\":6112.538419921875,\"y\":2011.48166484375}}}},\"2076061\":{\"name\":\"Histidinol dehydrogenase\",\"bigg_id\":\"HISTD\",\"reversibility\":false,\"label_x\":6341.288419921875,\"label_y\":1953.48166484375,\"gene_reaction_rule\":\"b2020\",\"genes\":[{\"notes\":{\"original_bigg_ids\":[\"palmACP_c\",\"BWCOS\",\"b2020\"]},\"name\":\"hisD\",\"bigg_id\":\"b2020\"}],\"metabolites\":[{\"bigg_id\":\"histd_c\",\"coefficient\":-1},{\"bigg_id\":\"h2o_c\",\"coefficient\":-1},{\"bigg_id\":\"his__L_c\",\"coefficient\":1},{\"bigg_id\":\"h_c\",\"coefficient\":3},{\"bigg_id\":\"nad_c\",\"coefficient\":-2},{\"bigg_id\":\"nadh_c\",\"coefficient\":2}],\"segments\":{\"1223\":{\"from_node_id\":\"2076640\",\"to_node_id\":\"2076641\",\"b1\":null,\"b2\":null},\"1224\":{\"from_node_id\":\"2076642\",\"to_node_id\":\"2076641\",\"b1\":null,\"b2\":null},\"1225\":{\"from_node_id\":\"2076640\",\"to_node_id\":\"2076637\",\"b1\":{\"x\":6329.288419921875,\"y\":1993.48166484375},\"b2\":{\"x\":6275.038419921875,\"y\":1993.48166484375}},\"1226\":{\"from_node_id\":\"2076640\",\"to_node_id\":\"2076643\",\"b1\":{\"x\":6325.288419921875,\"y\":1993.48166484375},\"b2\":{\"x\":6320.038419921875,\"y\":1975.48166484375}},\"1227\":{\"from_node_id\":\"2076642\",\"to_node_id\":\"2076644\",\"b1\":{\"x\":6453.288419921875,\"y\":1993.48166484375},\"b2\":{\"x\":6507.538419921875,\"y\":1993.48166484375}},\"1228\":{\"from_node_id\":\"2076642\",\"to_node_id\":\"2076645\",\"b1\":{\"x\":6457.288419921875,\"y\":1993.48166484375},\"b2\":{\"x\":6462.538419921875,\"y\":1975.48166484375}},\"1229\":{\"from_node_id\":\"2076640\",\"to_node_id\":\"2076646\",\"b1\":{\"x\":6325.288419921875,\"y\":1993.48166484375},\"b2\":{\"x\":6320.038419921875,\"y\":2011.48166484375}},\"1230\":{\"from_node_id\":\"2076642\",\"to_node_id\":\"2076647\",\"b1\":{\"x\":6457.288419921875,\"y\":1993.48166484375},\"b2\":{\"x\":6462.538419921875,\"y\":2011.48166484375}}}},\"2076073\":{\"name\":\"Ribokinase\",\"bigg_id\":\"RBK\",\"reversibility\":false,\"label_x\":2846.9383492443367,\"label_y\":1950.3790814443466,\"gene_reaction_rule\":\"b3752\",\"genes\":[{\"notes\":{\"original_bigg_ids\":[\"g3pc_e\",\"FE3HOXR3\",\"b3752\"]},\"name\":\"rbsK\",\"bigg_id\":\"b3752\"}],\"metabolites\":[{\"bigg_id\":\"adp_c\",\"coefficient\":1},{\"bigg_id\":\"r5p_c\",\"coefficient\":1},{\"bigg_id\":\"h_c\",\"coefficient\":1},{\"bigg_id\":\"atp_c\",\"coefficient\":-1},{\"bigg_id\":\"rib__D_c\",\"coefficient\":-1}],\"segments\":{\"1311\":{\"from_node_id\":\"2076728\",\"to_node_id\":\"2076729\",\"b1\":null,\"b2\":null},\"1312\":{\"from_node_id\":\"2076730\",\"to_node_id\":\"2076729\",\"b1\":null,\"b2\":null},\"1313\":{\"from_node_id\":\"2076730\",\"to_node_id\":\"2076731\",\"b1\":{\"x\":2951.6184851456137,\"y\":1988.02210311928},\"b2\":{\"x\":2956.888269563414,\"y\":2006.016320862483}},\"1314\":{\"from_node_id\":\"2076730\",\"to_node_id\":\"2075464\",\"b1\":{\"x\":2947.61848756258,\"y\":1988.0265003615195},\"b2\":{\"x\":3027.5193769531256,\"y\":1991.3938962890625}},\"1315\":{\"from_node_id\":\"2076730\",\"to_node_id\":\"2076732\",\"b1\":{\"x\":2951.6184851456137,\"y\":1988.02210311928},\"b2\":{\"x\":2956.848694383267,\"y\":1970.0163426151998}},\"1316\":{\"from_node_id\":\"2076728\",\"to_node_id\":\"2076733\",\"b1\":{\"x\":2819.6185649055574,\"y\":1988.1672121131637},\"b2\":{\"x\":2799.4376476752564,\"y\":1970.1729943699572}},\"1317\":{\"from_node_id\":\"2076728\",\"to_node_id\":\"2076734\",\"b1\":{\"x\":2823.6185624885893,\"y\":1988.162814870925},\"b2\":{\"x\":2769.368595268723,\"y\":1988.2224524687874}}}},\"2076074\":{\"name\":\"D-ribose transport via ABC system (periplasm)\",\"bigg_id\":\"RIBabcpp\",\"reversibility\":false,\"label_x\":2466.1950467835686,\"label_y\":2142.52385337042,\"gene_reaction_rule\":\"(b4231 and b4227 and b4485 and b4230) or (b3749 and b3751 and b3750 and b3748) or (b4087 and b4088 and b4086)\",\"genes\":[{\"notes\":{\"original_bigg_ids\":[\"b4231\"]},\"name\":\"yjfF\",\"bigg_id\":\"b4231\"},{\"notes\":{\"original_bigg_ids\":[\"b4227\"]},\"name\":\"ytfQ\",\"bigg_id\":\"b4227\"},{\"notes\":{\"original_bigg_ids\":[\"b4485\"]},\"name\":\"ytfR\",\"bigg_id\":\"b4485\"},{\"notes\":{\"original_bigg_ids\":[\"b4230\"]},\"name\":\"ytfT\",\"bigg_id\":\"b4230\"},{\"notes\":{\"original_bigg_ids\":[\"b3749\"]},\"name\":\"rbsA\",\"bigg_id\":\"b3749\"},{\"notes\":{\"original_bigg_ids\":[\"b3751\"]},\"name\":\"rbsB\",\"bigg_id\":\"b3751\"},{\"notes\":{\"original_bigg_ids\":[\"b3750\"]},\"name\":\"rbsC\",\"bigg_id\":\"b3750\"},{\"notes\":{\"original_bigg_ids\":[\"b3748\"]},\"name\":\"rbsD\",\"bigg_id\":\"b3748\"},{\"notes\":{\"original_bigg_ids\":[\"b4087\"]},\"name\":\"alsA\",\"bigg_id\":\"b4087\"},{\"notes\":{\"original_bigg_ids\":[\"b4088\"]},\"name\":\"alsB\",\"bigg_id\":\"b4088\"},{\"notes\":{\"original_bigg_ids\":[\"b4086\"]},\"name\":\"alsC\",\"bigg_id\":\"b4086\"}],\"metabolites\":[{\"bigg_id\":\"h2o_c\",\"coefficient\":-1},{\"bigg_id\":\"atp_c\",\"coefficient\":-1},{\"bigg_id\":\"rib__D_p\",\"coefficient\":-1},{\"bigg_id\":\"h_c\",\"coefficient\":1},{\"bigg_id\":\"adp_c\",\"coefficient\":1},{\"bigg_id\":\"pi_c\",\"coefficient\":1},{\"bigg_id\":\"rib__D_c\",\"coefficient\":1}],\"segments\":{\"1318\":{\"from_node_id\":\"2076735\",\"to_node_id\":\"2076736\",\"b1\":null,\"b2\":null},\"1319\":{\"from_node_id\":\"2076737\",\"to_node_id\":\"2076736\",\"b1\":null,\"b2\":null},\"1320\":{\"from_node_id\":\"2076735\",\"to_node_id\":\"2076738\",\"b1\":{\"x\":2469.6186307679436,\"y\":1988.28703696417},\"b2\":{\"x\":2464.3686307679436,\"y\":2006.28703696417}},\"1321\":{\"from_node_id\":\"2076735\",\"to_node_id\":\"2076739\",\"b1\":{\"x\":2469.6186307679436,\"y\":1988.28703696417},\"b2\":{\"x\":2464.3686307679436,\"y\":1970.28703696417}},\"1322\":{\"from_node_id\":\"2076735\",\"to_node_id\":\"2076740\",\"b1\":{\"x\":2473.6186307679436,\"y\":1988.28703696417},\"b2\":{\"x\":2419.3686307679436,\"y\":1988.28703696417}},\"1323\":{\"from_node_id\":\"2076737\",\"to_node_id\":\"2076741\",\"b1\":{\"x\":2601.6186307679436,\"y\":1988.28703696417},\"b2\":{\"x\":2606.8686307679436,\"y\":2006.28703696417}},\"1324\":{\"from_node_id\":\"2076737\",\"to_node_id\":\"2076742\",\"b1\":{\"x\":2601.6186307679436,\"y\":1988.28703696417},\"b2\":{\"x\":2606.8686307679436,\"y\":1970.28703696417}},\"1325\":{\"from_node_id\":\"2076737\",\"to_node_id\":\"2076743\",\"b1\":{\"x\":2601.6186307679436,\"y\":1988.28703696417},\"b2\":{\"x\":2591.8686307679436,\"y\":1952.28703696417}},\"1326\":{\"from_node_id\":\"2076737\",\"to_node_id\":\"2076734\",\"b1\":{\"x\":2597.6186307679436,\"y\":1988.28703696417},\"b2\":{\"x\":2651.8686307679436,\"y\":1988.28703696417}}}},\"2076075\":{\"name\":\"Ribose transport via diffusion (extracellular to periplasm)\",\"bigg_id\":\"RIBtex\",\"reversibility\":true,\"label_x\":2164.7250760804436,\"label_y\":1955.563648292295,\"gene_reaction_rule\":\"b0241 or b0929 or b1377 or b2215\",\"genes\":[{\"notes\":{\"original_bigg_ids\":[\"b0241\"]},\"name\":\"phoE\",\"bigg_id\":\"b0241\"},{\"notes\":{\"original_bigg_ids\":[\"b0929\"]},\"name\":\"ompF\",\"bigg_id\":\"b0929\"},{\"notes\":{\"original_bigg_ids\":[\"b1377\"]},\"name\":\"ompN\",\"bigg_id\":\"b1377\"},{\"notes\":{\"original_bigg_ids\":[\"b2215\"]},\"name\":\"ompC\",\"bigg_id\":\"b2215\"}],\"metabolites\":[{\"bigg_id\":\"rib__D_e\",\"coefficient\":-1},{\"bigg_id\":\"rib__D_p\",\"coefficient\":1}],\"segments\":{\"1327\":{\"from_node_id\":\"2076744\",\"to_node_id\":\"2076745\",\"b1\":null,\"b2\":null},\"1328\":{\"from_node_id\":\"2076746\",\"to_node_id\":\"2076745\",\"b1\":null,\"b2\":null},\"1329\":{\"from_node_id\":\"2076744\",\"to_node_id\":\"2076747\",\"b1\":{\"x\":2123.6186307679436,\"y\":1988.28703696417},\"b2\":{\"x\":2149.4113553773186,\"y\":1988.28703696417}},\"1330\":{\"from_node_id\":\"2076746\",\"to_node_id\":\"2076740\",\"b1\":{\"x\":2247.6186307679436,\"y\":1988.28703696417},\"b2\":{\"x\":2301.8686307679436,\"y\":1988.28703696417}}}},\"2076077\":{\"name\":\"L-histidine transport via ABC system (periplasm)\",\"bigg_id\":\"HISabcpp\",\"reversibility\":false,\"label_x\":6691.288419921875,\"label_y\":1953.48166484375,\"gene_reaction_rule\":\"b2309 and b2307 and b2306 and b2308\",\"genes\":[{\"notes\":{\"original_bigg_ids\":[\"b2309\"]},\"name\":\"hisJ\",\"bigg_id\":\"b2309\"},{\"notes\":{\"original_bigg_ids\":[\"b2307\"]},\"name\":\"hisM\",\"bigg_id\":\"b2307\"},{\"notes\":{\"original_bigg_ids\":[\"b2306\"]},\"name\":\"hisP\",\"bigg_id\":\"b2306\"},{\"notes\":{\"original_bigg_ids\":[\"b2308\"]},\"name\":\"hisQ\",\"bigg_id\":\"b2308\"}],\"metabolites\":[{\"bigg_id\":\"h2o_c\",\"coefficient\":-1},{\"bigg_id\":\"pi_c\",\"coefficient\":1},{\"bigg_id\":\"atp_c\",\"coefficient\":-1},{\"bigg_id\":\"his__L_c\",\"coefficient\":1},{\"bigg_id\":\"h_c\",\"coefficient\":1},{\"bigg_id\":\"adp_c\",\"coefficient\":1},{\"bigg_id\":\"his__L_p\",\"coefficient\":-1}],\"segments\":{\"1334\":{\"from_node_id\":\"2076751\",\"to_node_id\":\"2076752\",\"b1\":null,\"b2\":null},\"1335\":{\"from_node_id\":\"2076753\",\"to_node_id\":\"2076752\",\"b1\":null,\"b2\":null},\"1336\":{\"from_node_id\":\"2076751\",\"to_node_id\":\"2076754\",\"b1\":{\"x\":6807.288419921875,\"y\":1993.48166484375},\"b2\":{\"x\":6812.538419921875,\"y\":1975.48166484375}},\"1337\":{\"from_node_id\":\"2076753\",\"to_node_id\":\"2076755\",\"b1\":{\"x\":6675.288419921875,\"y\":1993.48166484375},\"b2\":{\"x\":6670.038419921875,\"y\":1975.48166484375}},\"1338\":{\"from_node_id\":\"2076751\",\"to_node_id\":\"2076756\",\"b1\":{\"x\":6807.288419921875,\"y\":1993.48166484375},\"b2\":{\"x\":6812.538419921875,\"y\":2011.48166484375}},\"1339\":{\"from_node_id\":\"2076753\",\"to_node_id\":\"2076644\",\"b1\":{\"x\":6679.288419921875,\"y\":1993.48166484375},\"b2\":{\"x\":6625.038419921875,\"y\":1993.48166484375}},\"1340\":{\"from_node_id\":\"2076753\",\"to_node_id\":\"2076757\",\"b1\":{\"x\":6675.288419921875,\"y\":1993.48166484375},\"b2\":{\"x\":6670.038419921875,\"y\":2011.48166484375}},\"1341\":{\"from_node_id\":\"2076753\",\"to_node_id\":\"2076758\",\"b1\":{\"x\":6675.288419921875,\"y\":1993.48166484375},\"b2\":{\"x\":6685.038419921875,\"y\":2029.48166484375}},\"1342\":{\"from_node_id\":\"2076751\",\"to_node_id\":\"2076759\",\"b1\":{\"x\":6803.288419921875,\"y\":1993.48166484375},\"b2\":{\"x\":6857.538419921875,\"y\":1993.48166484375}}}},\"2076078\":{\"name\":\"L-histidine transport via diffusion (extracellular to periplasm)\",\"bigg_id\":\"HIStex\",\"reversibility\":true,\"label_x\":7004.905119140625,\"label_y\":1953.48166484375,\"gene_reaction_rule\":\"b0241 or b0929 or b1377 or b2215\",\"genes\":[{\"notes\":{\"original_bigg_ids\":[\"b0241\"]},\"name\":\"phoE\",\"bigg_id\":\"b0241\"},{\"notes\":{\"original_bigg_ids\":[\"b0929\"]},\"name\":\"ompF\",\"bigg_id\":\"b0929\"},{\"notes\":{\"original_bigg_ids\":[\"b1377\"]},\"name\":\"ompN\",\"bigg_id\":\"b1377\"},{\"notes\":{\"original_bigg_ids\":[\"b2215\"]},\"name\":\"ompC\",\"bigg_id\":\"b2215\"}],\"metabolites\":[{\"bigg_id\":\"his__L_p\",\"coefficient\":1},{\"bigg_id\":\"his__L_e\",\"coefficient\":-1}],\"segments\":{\"1343\":{\"from_node_id\":\"2076760\",\"to_node_id\":\"2076761\",\"b1\":null,\"b2\":null},\"1344\":{\"from_node_id\":\"2076762\",\"to_node_id\":\"2076761\",\"b1\":null,\"b2\":null},\"1345\":{\"from_node_id\":\"2076762\",\"to_node_id\":\"2076759\",\"b1\":{\"x\":7029.288419921875,\"y\":1993.48166484375},\"b2\":{\"x\":6975.038419921875,\"y\":1993.48166484375}},\"1346\":{\"from_node_id\":\"2076760\",\"to_node_id\":\"2076763\",\"b1\":{\"x\":7153.288419921875,\"y\":1993.48166484375},\"b2\":{\"x\":7112.942716796875,\"y\":1993.48166484375}}}},\"2076079\":{\"name\":\"Imidazole-glycerol-3-phosphate synthase\",\"bigg_id\":\"IG3PS\",\"reversibility\":false,\"label_x\":4941.288419921875,\"label_y\":1953.48166484375,\"gene_reaction_rule\":\"b2023 and b2025\",\"genes\":[{\"notes\":{\"original_bigg_ids\":[\"b2023\"]},\"name\":\"hisH\",\"bigg_id\":\"b2023\"},{\"notes\":{\"original_bigg_ids\":[\"b2025\"]},\"name\":\"hisF\",\"bigg_id\":\"b2025\"}],\"metabolites\":[{\"bigg_id\":\"aicar_c\",\"coefficient\":1},{\"bigg_id\":\"glu__L_c\",\"coefficient\":1},{\"bigg_id\":\"eig3p_c\",\"coefficient\":1},{\"bigg_id\":\"h_c\",\"coefficient\":1},{\"bigg_id\":\"prlp_c\",\"coefficient\":-1},{\"bigg_id\":\"gln__L_c\",\"coefficient\":-1}],\"segments\":{\"1347\":{\"from_node_id\":\"2076764\",\"to_node_id\":\"2076765\",\"b1\":null,\"b2\":null},\"1348\":{\"from_node_id\":\"2076766\",\"to_node_id\":\"2076765\",\"b1\":null,\"b2\":null},\"1349\":{\"from_node_id\":\"2076766\",\"to_node_id\":\"2076767\",\"b1\":{\"x\":5057.288419921875,\"y\":1993.48166484375},\"b2\":{\"x\":5047.538419921875,\"y\":2029.48166484375}},\"1350\":{\"from_node_id\":\"2076766\",\"to_node_id\":\"2076768\",\"b1\":{\"x\":5057.288419921875,\"y\":1993.48166484375},\"b2\":{\"x\":5062.538419921875,\"y\":2011.48166484375}},\"1351\":{\"from_node_id\":\"2076766\",\"to_node_id\":\"2076620\",\"b1\":{\"x\":5053.288419921875,\"y\":1993.48166484375},\"b2\":{\"x\":5110.481291015625,\"y\":1996.4244138671875}},\"1352\":{\"from_node_id\":\"2076766\",\"to_node_id\":\"2076770\",\"b1\":{\"x\":5057.288419921875,\"y\":1993.48166484375},\"b2\":{\"x\":5062.538419921875,\"y\":1975.48166484375}},\"1353\":{\"from_node_id\":\"2076764\",\"to_node_id\":\"2076614\",\"b1\":{\"x\":4929.288419921875,\"y\":1993.48166484375},\"b2\":{\"x\":4875.038419921875,\"y\":1993.48166484375}},\"1354\":{\"from_node_id\":\"2076764\",\"to_node_id\":\"2076771\",\"b1\":{\"x\":4925.288419921875,\"y\":1993.48166484375},\"b2\":{\"x\":4920.038419921875,\"y\":2011.48166484375}}}}},\"nodes\":{\"2075464\":{\"node_type\":\"metabolite\",\"x\":3066.288419921875,\"y\":1993.48166484375,\"bigg_id\":\"r5p_c\",\"name\":\"Alpha-D-Ribose 5-phosphate\",\"label_x\":3097.288419921875,\"label_y\":1974.48166484375,\"node_is_primary\":true},\"2076586\":{\"node_type\":\"multimarker\",\"x\":3221.288419921875,\"y\":1993.48166484375},\"2076587\":{\"node_type\":\"midmarker\",\"x\":3241.288419921875,\"y\":1993.48166484375},\"2076588\":{\"node_type\":\"multimarker\",\"x\":3261.288419921875,\"y\":1993.48166484375},\"2076589\":{\"node_type\":\"metabolite\",\"x\":3346.288419921875,\"y\":2073.48166484375,\"bigg_id\":\"h_c\",\"name\":\"H+\",\"label_x\":3313.888419921875,\"label_y\":2113.48166484375,\"node_is_primary\":false},\"2076590\":{\"node_type\":\"metabolite\",\"x\":3346.288419921875,\"y\":1913.48166484375,\"bigg_id\":\"amp_c\",\"name\":\"AMP\",\"label_x\":3330.0884199218754,\"label_y\":1893.48166484375,\"node_is_primary\":false},\"2076591\":{\"node_type\":\"metabolite\",\"x\":3416.288419921875,\"y\":1993.48166484375,\"bigg_id\":\"prpp_c\",\"name\":\"5-Phospho-alpha-D-ribose 1-diphosphate\",\"label_x\":3389.288419921875,\"label_y\":2033.48166484375,\"node_is_primary\":true},\"2076592\":{\"node_type\":\"metabolite\",\"x\":3136.288419921875,\"y\":2073.48166484375,\"bigg_id\":\"atp_c\",\"name\":\"ATP\",\"label_x\":3109.288419921875,\"label_y\":2113.48166484375,\"node_is_primary\":false},\"2076593\":{\"node_type\":\"multimarker\",\"x\":3571.288419921875,\"y\":1993.48166484375},\"2076594\":{\"node_type\":\"midmarker\",\"x\":3591.288419921875,\"y\":1993.48166484375},\"2076595\":{\"node_type\":\"multimarker\",\"x\":3611.288419921875,\"y\":1993.48166484375},\"2076596\":{\"node_type\":\"metabolite\",\"x\":3696.288419921875,\"y\":2073.48166484375,\"bigg_id\":\"ppi_c\",\"name\":\"Diphosphate\",\"label_x\":3669.288419921875,\"label_y\":2113.48166484375,\"node_is_primary\":false},\"2076597\":{\"node_type\":\"metabolite\",\"x\":3486.288419921875,\"y\":2073.48166484375,\"bigg_id\":\"atp_c\",\"name\":\"ATP\",\"label_x\":3459.288419921875,\"label_y\":2113.48166484375,\"node_is_primary\":false},\"2076598\":{\"node_type\":\"metabolite\",\"x\":3766.288419921875,\"y\":1993.48166484375,\"bigg_id\":\"prbatp_c\",\"name\":\"1-(5-Phosphoribosyl)-ATP\",\"label_x\":3723.0884199218754,\"label_y\":2033.48166484375,\"node_is_primary\":true},\"2076599\":{\"node_type\":\"multimarker\",\"x\":3921.288419921875,\"y\":1993.48166484375},\"2076600\":{\"node_type\":\"midmarker\",\"x\":3941.288419921875,\"y\":1993.48166484375},\"2076601\":{\"node_type\":\"multimarker\",\"x\":3961.288419921875,\"y\":1993.48166484375},\"2076602\":{\"node_type\":\"metabolite\",\"x\":4046.288419921875,\"y\":1913.48166484375,\"bigg_id\":\"ppi_c\",\"name\":\"Diphosphate\",\"label_x\":4019.288419921875,\"label_y\":1893.48166484375,\"node_is_primary\":false},\"2076603\":{\"node_type\":\"metabolite\",\"x\":4116.288419921875,\"y\":1993.48166484375,\"bigg_id\":\"prbamp_c\",\"name\":\"1-(5-Phosphoribosyl)-AMP\",\"label_x\":4073.0884199218754,\"label_y\":2033.48166484375,\"node_is_primary\":true},\"2076604\":{\"node_type\":\"metabolite\",\"x\":4046.288419921875,\"y\":2073.48166484375,\"bigg_id\":\"h_c\",\"name\":\"H+\",\"label_x\":4030.0884199218754,\"label_y\":2113.48166484375,\"node_is_primary\":false},\"2076605\":{\"node_type\":\"metabolite\",\"x\":3836.288419921875,\"y\":2073.48166484375,\"bigg_id\":\"h2o_c\",\"name\":\"H2O\",\"label_x\":3809.288419921875,\"label_y\":2113.48166484375,\"node_is_primary\":false},\"2076606\":{\"node_type\":\"multimarker\",\"x\":4271.288419921875,\"y\":1993.48166484375},\"2076607\":{\"node_type\":\"midmarker\",\"x\":4291.288419921875,\"y\":1993.48166484375},\"2076608\":{\"node_type\":\"multimarker\",\"x\":4311.288419921875,\"y\":1993.48166484375},\"2076609\":{\"node_type\":\"metabolite\",\"x\":4466.288419921875,\"y\":1993.48166484375,\"bigg_id\":\"prfp_c\",\"name\":\"1-(5-Phosphoribosyl)-5-[(5-phosphoribosylamino)methylideneamino]imidazole-4-carboxamide\",\"label_x\":4433.8884199218755,\"label_y\":2033.48166484375,\"node_is_primary\":true},\"2076610\":{\"node_type\":\"metabolite\",\"x\":4186.288419921875,\"y\":2073.48166484375,\"bigg_id\":\"h2o_c\",\"name\":\"H2O\",\"label_x\":4159.288419921875,\"label_y\":2113.48166484375,\"node_is_primary\":false},\"2076611\":{\"node_type\":\"multimarker\",\"x\":4621.288419921875,\"y\":1993.48166484375},\"2076612\":{\"node_type\":\"midmarker\",\"x\":4641.288419921875,\"y\":1993.48166484375},\"2076613\":{\"node_type\":\"multimarker\",\"x\":4661.288419921875,\"y\":1993.48166484375},\"2076614\":{\"node_type\":\"metabolite\",\"x\":4816.288419921875,\"y\":1993.48166484375,\"bigg_id\":\"prlp_c\",\"name\":\"5-[(5-phospho-1-deoxyribulos-1-ylamino)methylideneamino]-1-(5-phosphoribosyl)imidazole-4-carboxamide\",\"label_x\":4783.8884199218755,\"label_y\":2033.48166484375,\"node_is_primary\":true},\"2076620\":{\"node_type\":\"metabolite\",\"x\":5166.288419921875,\"y\":1993.48166484375,\"bigg_id\":\"eig3p_c\",\"name\":\"D-erythro-1-(Imidazol-4-yl)glycerol 3-phosphate\",\"label_x\":5128.488419921875,\"label_y\":2033.48166484375,\"node_is_primary\":true},\"2076623\":{\"node_type\":\"multimarker\",\"x\":5321.288419921875,\"y\":1993.48166484375},\"2076624\":{\"node_type\":\"midmarker\",\"x\":5341.288419921875,\"y\":1993.48166484375},\"2076625\":{\"node_type\":\"multimarker\",\"x\":5361.288419921875,\"y\":1993.48166484375},\"2076626\":{\"node_type\":\"metabolite\",\"x\":5446.288419921875,\"y\":2073.48166484375,\"bigg_id\":\"h2o_c\",\"name\":\"H2O\",\"label_x\":5419.288419921875,\"label_y\":2113.48166484375,\"node_is_primary\":false},\"2076627\":{\"node_type\":\"metabolite\",\"x\":5516.288419921875,\"y\":1993.48166484375,\"bigg_id\":\"imacp_c\",\"name\":\"3-(Imidazol-4-yl)-2-oxopropyl phosphate\",\"label_x\":5478.488419921875,\"label_y\":2033.48166484375,\"node_is_primary\":true},\"2076628\":{\"node_type\":\"multimarker\",\"x\":5671.288419921875,\"y\":1993.48166484375},\"2076629\":{\"node_type\":\"midmarker\",\"x\":5691.288419921875,\"y\":1993.48166484375},\"2076630\":{\"node_type\":\"multimarker\",\"x\":5711.288419921875,\"y\":1993.48166484375},\"2076631\":{\"node_type\":\"metabolite\",\"x\":5866.288419921875,\"y\":1993.48166484375,\"bigg_id\":\"hisp_c\",\"name\":\"L-Histidinol phosphate\",\"label_x\":5833.8884199218755,\"label_y\":2033.48166484375,\"node_is_primary\":true},\"2076632\":{\"node_type\":\"metabolite\",\"x\":5808.471037109375,\"y\":2115.290014453125,\"bigg_id\":\"akg_c\",\"name\":\"2-Oxoglutarate\",\"label_x\":5781.471037109375,\"label_y\":2155.290014453125,\"node_is_primary\":false},\"2076633\":{\"node_type\":\"metabolite\",\"x\":5586.288419921875,\"y\":2073.48166484375,\"bigg_id\":\"glu__L_c\",\"name\":\"L-Glutamate\",\"label_x\":5543.088419921875,\"label_y\":2113.48166484375,\"node_is_primary\":false},\"2076634\":{\"node_type\":\"multimarker\",\"x\":6021.288419921875,\"y\":1993.48166484375},\"2076635\":{\"node_type\":\"midmarker\",\"x\":6041.288419921875,\"y\":1993.48166484375},\"2076636\":{\"node_type\":\"multimarker\",\"x\":6061.288419921875,\"y\":1993.48166484375},\"2076637\":{\"node_type\":\"metabolite\",\"x\":6216.288419921875,\"y\":1993.48166484375,\"bigg_id\":\"histd_c\",\"name\":\"L-Histidinol\",\"label_x\":6178.488419921875,\"label_y\":2033.48166484375,\"node_is_primary\":true},\"2076638\":{\"node_type\":\"metabolite\",\"x\":5936.288419921875,\"y\":2073.48166484375,\"bigg_id\":\"h2o_c\",\"name\":\"H2O\",\"label_x\":5909.288419921875,\"label_y\":2113.48166484375,\"node_is_primary\":false},\"2076639\":{\"node_type\":\"metabolite\",\"x\":6146.288419921875,\"y\":2073.48166484375,\"bigg_id\":\"pi_c\",\"name\":\"Phosphate\",\"label_x\":6124.688419921875,\"label_y\":2113.48166484375,\"node_is_primary\":false},\"2076640\":{\"node_type\":\"multimarker\",\"x\":6371.288419921875,\"y\":1993.48166484375},\"2076641\":{\"node_type\":\"midmarker\",\"x\":6391.288419921875,\"y\":1993.48166484375},\"2076642\":{\"node_type\":\"multimarker\",\"x\":6411.288419921875,\"y\":1993.48166484375},\"2076643\":{\"node_type\":\"metabolite\",\"x\":6286.288419921875,\"y\":1913.48166484375,\"bigg_id\":\"h2o_c\",\"name\":\"H2O\",\"label_x\":6259.288419921875,\"label_y\":1893.48166484375,\"node_is_primary\":false},\"2076644\":{\"node_type\":\"metabolite\",\"x\":6566.288419921875,\"y\":1993.48166484375,\"bigg_id\":\"his__L_c\",\"name\":\"L-Histidine\",\"label_x\":6523.088419921875,\"label_y\":2033.48166484375,\"node_is_primary\":true},\"2076645\":{\"node_type\":\"metabolite\",\"x\":6496.288419921875,\"y\":1913.48166484375,\"bigg_id\":\"h_c\",\"name\":\"H+\",\"label_x\":6480.088419921875,\"label_y\":1893.48166484375,\"node_is_primary\":false},\"2076646\":{\"node_type\":\"metabolite\",\"x\":6286.288419921875,\"y\":2073.48166484375,\"bigg_id\":\"nad_c\",\"name\":\"Nicotinamide adenine dinucleotide\",\"label_x\":6259.288419921875,\"label_y\":2113.48166484375,\"node_is_primary\":false},\"2076647\":{\"node_type\":\"metabolite\",\"x\":6496.288419921875,\"y\":2073.48166484375,\"bigg_id\":\"nadh_c\",\"name\":\"Nicotinamide adenine dinucleotide - reduced\",\"label_x\":6463.8884199218755,\"label_y\":2113.48166484375,\"node_is_primary\":false},\"2076728\":{\"node_type\":\"multimarker\",\"x\":2865.6185371104266,\"y\":1988.116643827418},\"2076729\":{\"node_type\":\"midmarker\",\"x\":2885.6185250255867,\"y\":1988.0946576162216},\"2076730\":{\"node_type\":\"multimarker\",\"x\":2905.6185129407418,\"y\":1988.0726714050288},\"2076731\":{\"node_type\":\"metabolite\",\"x\":2990.70640642495,\"y\":2067.979181668091,\"bigg_id\":\"adp_c\",\"name\":\"ADP\",\"label_x\":2945.70640642495,\"label_y\":2097.979181668091,\"node_is_primary\":false},\"2076732\":{\"node_type\":\"metabolite\",\"x\":2990.5305167353927,\"y\":1907.9792783468156,\"bigg_id\":\"h_c\",\"name\":\"H+\",\"label_x\":3005.5305167353927,\"label_y\":1907.9792783468156,\"node_is_primary\":false},\"2076733\":{\"node_type\":\"metabolite\",\"x\":2765.619510813721,\"y\":1908.2101335643567,\"bigg_id\":\"atp_c\",\"name\":\"ATP\",\"label_x\":2780.619510813721,\"label_y\":1908.2101335643567,\"node_is_primary\":false},\"2076734\":{\"node_type\":\"metabolite\",\"x\":2710.6186307679436,\"y\":1988.28703696417,\"bigg_id\":\"rib__D_c\",\"name\":\"D-Ribose\",\"label_x\":2625.2763456116936,\"label_y\":2050.91350180792,\"node_is_primary\":true},\"2076735\":{\"node_type\":\"multimarker\",\"x\":2515.6186307679436,\"y\":1988.28703696417},\"2076736\":{\"node_type\":\"midmarker\",\"x\":2535.6186307679436,\"y\":1988.28703696417},\"2076737\":{\"node_type\":\"multimarker\",\"x\":2555.6186307679436,\"y\":1988.28703696417},\"2076738\":{\"node_type\":\"metabolite\",\"x\":2430.6186307679436,\"y\":2068.28703696417,\"bigg_id\":\"h2o_c\",\"name\":\"H2O\",\"label_x\":2403.6186307679436,\"label_y\":2108.28703696417,\"node_is_primary\":false},\"2076739\":{\"node_type\":\"metabolite\",\"x\":2430.6186307679436,\"y\":1908.28703696417,\"bigg_id\":\"atp_c\",\"name\":\"ATP\",\"label_x\":2403.6186307679436,\"label_y\":1888.28703696417,\"node_is_primary\":false},\"2076740\":{\"node_type\":\"metabolite\",\"x\":2360.6186307679436,\"y\":1988.28703696417,\"bigg_id\":\"rib__D_p\",\"name\":\"D-Ribose\",\"label_x\":2317.418630767944,\"label_y\":2028.28703696417,\"node_is_primary\":true},\"2076741\":{\"node_type\":\"metabolite\",\"x\":2640.6186307679436,\"y\":2068.28703696417,\"bigg_id\":\"h_c\",\"name\":\"H+\",\"label_x\":2624.418630767944,\"label_y\":2108.28703696417,\"node_is_primary\":false},\"2076742\":{\"node_type\":\"metabolite\",\"x\":2640.6186307679436,\"y\":1908.28703696417,\"bigg_id\":\"adp_c\",\"name\":\"ADP\",\"label_x\":2613.6186307679436,\"label_y\":1888.28703696417,\"node_is_primary\":false},\"2076743\":{\"node_type\":\"metabolite\",\"x\":2620.6186307679436,\"y\":1828.28703696417,\"bigg_id\":\"pi_c\",\"name\":\"Phosphate\",\"label_x\":2599.0186307679437,\"label_y\":1808.28703696417,\"node_is_primary\":false},\"2076744\":{\"node_type\":\"multimarker\",\"x\":2165.6186307679436,\"y\":1988.28703696417},\"2076745\":{\"node_type\":\"midmarker\",\"x\":2185.6186307679436,\"y\":1988.28703696417},\"2076746\":{\"node_type\":\"multimarker\",\"x\":2205.6186307679436,\"y\":1988.28703696417},\"2076747\":{\"node_type\":\"metabolite\",\"x\":2090.6613553773186,\"y\":1988.28703696417,\"bigg_id\":\"rib__D_e\",\"name\":\"D-Ribose\",\"label_x\":2047.4613553773188,\"label_y\":2028.28703696417,\"node_is_primary\":true},\"2076751\":{\"node_type\":\"multimarker\",\"x\":6761.288419921875,\"y\":1993.48166484375},\"2076752\":{\"node_type\":\"midmarker\",\"x\":6741.288419921875,\"y\":1993.48166484375},\"2076753\":{\"node_type\":\"multimarker\",\"x\":6721.288419921875,\"y\":1993.48166484375},\"2076754\":{\"node_type\":\"metabolite\",\"x\":6846.288419921875,\"y\":1913.48166484375,\"bigg_id\":\"h2o_c\",\"name\":\"H2O\",\"label_x\":6819.288419921875,\"label_y\":1893.48166484375,\"node_is_primary\":false},\"2076755\":{\"node_type\":\"metabolite\",\"x\":6636.288419921875,\"y\":1913.48166484375,\"bigg_id\":\"pi_c\",\"name\":\"Phosphate\",\"label_x\":6614.688419921875,\"label_y\":1893.48166484375,\"node_is_primary\":false},\"2076756\":{\"node_type\":\"metabolite\",\"x\":6846.288419921875,\"y\":2073.48166484375,\"bigg_id\":\"atp_c\",\"name\":\"ATP\",\"label_x\":6819.288419921875,\"label_y\":2113.48166484375,\"node_is_primary\":false},\"2076757\":{\"node_type\":\"metabolite\",\"x\":6636.288419921875,\"y\":2073.48166484375,\"bigg_id\":\"h_c\",\"name\":\"H+\",\"label_x\":6620.088419921875,\"label_y\":2113.48166484375,\"node_is_primary\":false},\"2076758\":{\"node_type\":\"metabolite\",\"x\":6656.288419921875,\"y\":2153.48166484375,\"bigg_id\":\"adp_c\",\"name\":\"ADP\",\"label_x\":6629.288419921875,\"label_y\":2193.48166484375,\"node_is_primary\":false},\"2076759\":{\"node_type\":\"metabolite\",\"x\":6916.288419921875,\"y\":1993.48166484375,\"bigg_id\":\"his__L_p\",\"name\":\"L-Histidine\",\"label_x\":6873.088419921875,\"label_y\":2033.48166484375,\"node_is_primary\":true},\"2076760\":{\"node_type\":\"multimarker\",\"x\":7111.288419921875,\"y\":1993.48166484375},\"2076761\":{\"node_type\":\"midmarker\",\"x\":7091.288419921875,\"y\":1993.48166484375},\"2076762\":{\"node_type\":\"multimarker\",\"x\":7071.288419921875,\"y\":1993.48166484375},\"2076763\":{\"node_type\":\"metabolite\",\"x\":7171.692716796875,\"y\":1993.48166484375,\"bigg_id\":\"his__L_e\",\"name\":\"L-Histidine\",\"label_x\":7128.492716796875,\"label_y\":2033.48166484375,\"node_is_primary\":true},\"2076764\":{\"node_type\":\"multimarker\",\"x\":4971.288419921875,\"y\":1993.48166484375},\"2076765\":{\"node_type\":\"midmarker\",\"x\":4991.288419921875,\"y\":1993.48166484375},\"2076766\":{\"node_type\":\"multimarker\",\"x\":5011.288419921875,\"y\":1993.48166484375},\"2076767\":{\"node_type\":\"metabolite\",\"x\":5076.288419921875,\"y\":2153.48166484375,\"bigg_id\":\"aicar_c\",\"name\":\"5-Amino-1-(5-Phospho-D-ribosyl)imidazole-4-carboxamide\",\"label_x\":5060.088419921875,\"label_y\":2193.48166484375,\"node_is_primary\":false},\"2076768\":{\"node_type\":\"metabolite\",\"x\":5096.288419921875,\"y\":2073.48166484375,\"bigg_id\":\"glu__L_c\",\"name\":\"L-Glutamate\",\"label_x\":5058.488419921875,\"label_y\":2113.48166484375,\"node_is_primary\":false},\"2076770\":{\"node_type\":\"metabolite\",\"x\":5096.288419921875,\"y\":1913.48166484375,\"bigg_id\":\"h_c\",\"name\":\"H+\",\"label_x\":5053.088419921875,\"label_y\":1893.48166484375,\"node_is_primary\":false},\"2076771\":{\"node_type\":\"metabolite\",\"x\":4886.288419921875,\"y\":2073.48166484375,\"bigg_id\":\"gln__L_c\",\"name\":\"L-Glutamine\",\"label_x\":4843.088419921875,\"label_y\":2113.48166484375,\"node_is_primary\":false}},\"text_labels\":{},\"canvas\":{\"x\":1940.2484584296876,\"y\":1748.1860766420898,\"width\":5452.857031226562,\"height\":501.4467932172845}}]'),\n",
       "               model_data: JSON.parse('null'),\n",
       "               static_site_index: JSON.parse('null'),\n",
       "           };\n",
       "       }\n",
       "   })();\n",
       "  </script>\n"
      ],
      "text/plain": [
       "<IPython.core.display.HTML object>"
      ]
     },
     "execution_count": 2,
     "metadata": {},
     "output_type": "execute_result"
    }
   ],
   "source": [
    "# The reactions and metabolites to be added in this exercise\n",
    "builder = escher.Builder(map_json='../qbio_resources/histidine_ribose_map.json')\n",
    "builder.display_in_notebook()"
   ]
  },
  {
   "cell_type": "markdown",
   "metadata": {},
   "source": [
    "---------\n",
    "## A) Add the pathway metabolites and their information to a new model\n",
    "\n",
    "The goal of this exercise will be to build a simulate the histidine synthesis pathway shown above. \n",
    "\n",
    "This section will introduce the first steps of adding the pathway to model.\n",
    "\n",
    "### 1) Initialize an empty COBRApy model"
   ]
  },
  {
   "cell_type": "code",
   "execution_count": 3,
   "metadata": {},
   "outputs": [
    {
     "name": "stdout",
     "output_type": "stream",
     "text": [
      "Number of reactions: 0\n",
      "Number of metabolites: 0\n"
     ]
    }
   ],
   "source": [
    "# Initiate empty model\n",
    "model = cobra.Model()\n",
    "\n",
    "# with no reactions\n",
    "print('Number of reactions: ' + str(len(model.reactions)))\n",
    "print('Number of metabolites: ' + str(len(model.metabolites)))"
   ]
  },
  {
   "cell_type": "markdown",
   "metadata": {},
   "source": [
    "### 2) Add metabolites and info to the model\n",
    "\n",
    "**Hints:**\n",
    "\n",
    "1) The information regarding the reactions and metabolites involved in this pathway can be found in `reactions_and_info` and `metabolites_and_info`, respectively. These are imported above.\n",
    "  - These are imported in the form of a **dictionary**"
   ]
  },
  {
   "cell_type": "code",
   "execution_count": 4,
   "metadata": {},
   "outputs": [
    {
     "name": "stdout",
     "output_type": "stream",
     "text": [
      "{'adp_c': {'charge': -3, 'compartment': 'Cytosol', 'formula': 'C10H12N5O10P2', 'name': 'ADP'}, 'aicar_c': {'charge': -2, 'compartment': 'Cytosol', 'formula': 'C9H13N4O8P', 'name': '5-Amino-1-(5-Phospho-D-ribosyl)imidazole-4-carboxamide'}, 'akg_c': {'charge': -2, 'compartment': 'Cytosol', 'formula': 'C5H4O5', 'name': '2-Oxoglutarate'}, 'amp_c': {'charge': -2, 'compartment': 'Cytosol', 'formula': 'C10H12N5O7P', 'name': 'AMP'}, 'atp_c': {'charge': -4, 'compartment': 'Cytosol', 'formula': 'C10H12N5O13P3', 'name': 'ATP'}, 'eig3p_c': {'charge': -2, 'compartment': 'Cytosol', 'formula': 'C6H9N2O6P', 'name': 'D-erythro-1-(Imidazol-4-yl)glycerol 3-phosphate'}, 'gln__L_c': {'charge': 0, 'compartment': 'Cytosol', 'formula': 'C5H10N2O3', 'name': 'L-Glutamine'}, 'glu__L_c': {'charge': -1, 'compartment': 'Cytosol', 'formula': 'C5H8NO4', 'name': 'L-Glutamate'}, 'h2o_c': {'charge': 0, 'compartment': 'Cytosol', 'formula': 'H2O', 'name': 'H2O'}, 'h_c': {'charge': 1, 'compartment': 'Cytosol', 'formula': 'H', 'name': 'H+'}, 'his__L_c': {'charge': 0, 'compartment': 'Cytosol', 'formula': 'C6H9N3O2', 'name': 'L-Histidine'}, 'his__L_e': {'charge': 0, 'compartment': 'e', 'formula': 'C6H9N3O2', 'name': 'L-Histidine'}, 'his__L_p': {'charge': 0, 'compartment': 'Periplasm', 'formula': 'C6H9N3O2', 'name': 'L-Histidine'}, 'hisp_c': {'charge': -1, 'compartment': 'Cytosol', 'formula': 'C6H11N3O4P', 'name': 'L-Histidinol phosphate'}, 'histd_c': {'charge': 1, 'compartment': 'Cytosol', 'formula': 'C6H12N3O', 'name': 'L-Histidinol'}, 'imacp_c': {'charge': -2, 'compartment': 'Cytosol', 'formula': 'C6H7N2O5P', 'name': '3-(Imidazol-4-yl)-2-oxopropyl phosphate'}, 'nad_c': {'charge': -1, 'compartment': 'Cytosol', 'formula': 'C21H26N7O14P2', 'name': 'Nicotinamide adenine dinucleotide'}, 'nadh_c': {'charge': -2, 'compartment': 'Cytosol', 'formula': 'C21H27N7O14P2', 'name': 'Nicotinamide adenine dinucleotide - reduced'}, 'pi_c': {'charge': -2, 'compartment': 'Cytosol', 'formula': 'HO4P', 'name': 'Phosphate'}, 'ppi_c': {'charge': -3, 'compartment': 'Cytosol', 'formula': 'HO7P2', 'name': 'Diphosphate'}, 'prbamp_c': {'charge': -4, 'compartment': 'Cytosol', 'formula': 'C15H19N5O14P2', 'name': '1-(5-Phosphoribosyl)-AMP'}, 'prbatp_c': {'charge': -6, 'compartment': 'Cytosol', 'formula': 'C15H19N5O20P4', 'name': '1-(5-Phosphoribosyl)-ATP'}, 'prfp_c': {'charge': -4, 'compartment': 'Cytosol', 'formula': 'C15H21N5O15P2', 'name': '1-(5-Phosphoribosyl)-5-[(5-phosphoribosylamino)methylideneamino]imidazole-4-carboxamide'}, 'prlp_c': {'charge': -4, 'compartment': 'Cytosol', 'formula': 'C15H21N5O15P2', 'name': '5-[(5-phospho-1-deoxyribulos-1-ylamino)methylideneamino]-1-(5-phosphoribosyl)imidazole-4-carboxamide'}, 'prpp_c': {'charge': -5, 'compartment': 'Cytosol', 'formula': 'C5H8O14P3', 'name': '5-Phospho-alpha-D-ribose 1-diphosphate'}, 'r5p_c': {'charge': -2, 'compartment': 'Cytosol', 'formula': 'C5H9O8P', 'name': 'alpha-D-Ribose 5-phosphate'}, 'rib__D_c': {'charge': 0, 'compartment': 'Cytosol', 'formula': 'C5H10O5', 'name': 'D-Ribose'}, 'rib__D_e': {'charge': 0, 'compartment': 'e', 'formula': 'C5H10O5', 'name': 'D-Ribose'}, 'rib__D_p': {'charge': 0, 'compartment': 'Periplasm', 'formula': 'C5H10O5', 'name': 'D-Ribose'}}\n"
     ]
    }
   ],
   "source": [
    "print(metabolites_and_info)"
   ]
  },
  {
   "cell_type": "markdown",
   "metadata": {},
   "source": [
    "----\n",
    "\n",
    "- A dictionary is a Python data structure that consists of both `keys` and `values`. This allows you to look up quantities based on the `key` you are interested in. An example of this is shown below for the histidine metabolite\n",
    "\n",
    "----"
   ]
  },
  {
   "cell_type": "code",
   "execution_count": 5,
   "metadata": {
    "scrolled": false
   },
   "outputs": [
    {
     "name": "stdout",
     "output_type": "stream",
     "text": [
      "Values associated with his__L_c =  {'charge': 0, 'compartment': 'Cytosol', 'formula': 'C6H9N3O2', 'name': 'L-Histidine'}\n",
      "Formula =  C6H9N3O2\n"
     ]
    }
   ],
   "source": [
    "# Look up the information assocated with the histidine metabolite (his__L_c)\n",
    "print('Values associated with his__L_c = ', metabolites_and_info['his__L_c'])\n",
    "# This returns another dictionary where the formula, etc. can be looked up with:\n",
    "print('Formula = ', metabolites_and_info['his__L_c']['formula'])"
   ]
  },
  {
   "cell_type": "markdown",
   "metadata": {},
   "source": [
    "2) To leverage dictionary properties to add the metabolites to model more efficiently, you can iterate through all of the dictionary entries (items), like below"
   ]
  },
  {
   "cell_type": "code",
   "execution_count": 6,
   "metadata": {},
   "outputs": [
    {
     "name": "stdout",
     "output_type": "stream",
     "text": [
      "adp_c {'charge': -3, 'compartment': 'Cytosol', 'formula': 'C10H12N5O10P2', 'name': 'ADP'}\n",
      "aicar_c {'charge': -2, 'compartment': 'Cytosol', 'formula': 'C9H13N4O8P', 'name': '5-Amino-1-(5-Phospho-D-ribosyl)imidazole-4-carboxamide'}\n",
      "akg_c {'charge': -2, 'compartment': 'Cytosol', 'formula': 'C5H4O5', 'name': '2-Oxoglutarate'}\n",
      "amp_c {'charge': -2, 'compartment': 'Cytosol', 'formula': 'C10H12N5O7P', 'name': 'AMP'}\n",
      "atp_c {'charge': -4, 'compartment': 'Cytosol', 'formula': 'C10H12N5O13P3', 'name': 'ATP'}\n",
      "eig3p_c {'charge': -2, 'compartment': 'Cytosol', 'formula': 'C6H9N2O6P', 'name': 'D-erythro-1-(Imidazol-4-yl)glycerol 3-phosphate'}\n",
      "gln__L_c {'charge': 0, 'compartment': 'Cytosol', 'formula': 'C5H10N2O3', 'name': 'L-Glutamine'}\n",
      "glu__L_c {'charge': -1, 'compartment': 'Cytosol', 'formula': 'C5H8NO4', 'name': 'L-Glutamate'}\n",
      "h2o_c {'charge': 0, 'compartment': 'Cytosol', 'formula': 'H2O', 'name': 'H2O'}\n",
      "h_c {'charge': 1, 'compartment': 'Cytosol', 'formula': 'H', 'name': 'H+'}\n",
      "his__L_c {'charge': 0, 'compartment': 'Cytosol', 'formula': 'C6H9N3O2', 'name': 'L-Histidine'}\n",
      "his__L_e {'charge': 0, 'compartment': 'e', 'formula': 'C6H9N3O2', 'name': 'L-Histidine'}\n",
      "his__L_p {'charge': 0, 'compartment': 'Periplasm', 'formula': 'C6H9N3O2', 'name': 'L-Histidine'}\n",
      "hisp_c {'charge': -1, 'compartment': 'Cytosol', 'formula': 'C6H11N3O4P', 'name': 'L-Histidinol phosphate'}\n",
      "histd_c {'charge': 1, 'compartment': 'Cytosol', 'formula': 'C6H12N3O', 'name': 'L-Histidinol'}\n",
      "imacp_c {'charge': -2, 'compartment': 'Cytosol', 'formula': 'C6H7N2O5P', 'name': '3-(Imidazol-4-yl)-2-oxopropyl phosphate'}\n",
      "nad_c {'charge': -1, 'compartment': 'Cytosol', 'formula': 'C21H26N7O14P2', 'name': 'Nicotinamide adenine dinucleotide'}\n",
      "nadh_c {'charge': -2, 'compartment': 'Cytosol', 'formula': 'C21H27N7O14P2', 'name': 'Nicotinamide adenine dinucleotide - reduced'}\n",
      "pi_c {'charge': -2, 'compartment': 'Cytosol', 'formula': 'HO4P', 'name': 'Phosphate'}\n",
      "ppi_c {'charge': -3, 'compartment': 'Cytosol', 'formula': 'HO7P2', 'name': 'Diphosphate'}\n",
      "prbamp_c {'charge': -4, 'compartment': 'Cytosol', 'formula': 'C15H19N5O14P2', 'name': '1-(5-Phosphoribosyl)-AMP'}\n",
      "prbatp_c {'charge': -6, 'compartment': 'Cytosol', 'formula': 'C15H19N5O20P4', 'name': '1-(5-Phosphoribosyl)-ATP'}\n",
      "prfp_c {'charge': -4, 'compartment': 'Cytosol', 'formula': 'C15H21N5O15P2', 'name': '1-(5-Phosphoribosyl)-5-[(5-phosphoribosylamino)methylideneamino]imidazole-4-carboxamide'}\n",
      "prlp_c {'charge': -4, 'compartment': 'Cytosol', 'formula': 'C15H21N5O15P2', 'name': '5-[(5-phospho-1-deoxyribulos-1-ylamino)methylideneamino]-1-(5-phosphoribosyl)imidazole-4-carboxamide'}\n",
      "prpp_c {'charge': -5, 'compartment': 'Cytosol', 'formula': 'C5H8O14P3', 'name': '5-Phospho-alpha-D-ribose 1-diphosphate'}\n",
      "r5p_c {'charge': -2, 'compartment': 'Cytosol', 'formula': 'C5H9O8P', 'name': 'alpha-D-Ribose 5-phosphate'}\n",
      "rib__D_c {'charge': 0, 'compartment': 'Cytosol', 'formula': 'C5H10O5', 'name': 'D-Ribose'}\n",
      "rib__D_e {'charge': 0, 'compartment': 'e', 'formula': 'C5H10O5', 'name': 'D-Ribose'}\n",
      "rib__D_p {'charge': 0, 'compartment': 'Periplasm', 'formula': 'C5H10O5', 'name': 'D-Ribose'}\n"
     ]
    }
   ],
   "source": [
    "for key, value in metabolites_and_info.items():\n",
    "    print(key, value)"
   ]
  },
  {
   "cell_type": "code",
   "execution_count": 7,
   "metadata": {},
   "outputs": [],
   "source": [
    "# Add all the remaining metabolites involved in the pathway\n",
    "for met_id, info in metabolites_and_info.items():\n",
    "    met = cobra.Metabolite(met_id, name=info['name'], formula=info['formula'], \n",
    "                           charge=info['charge'], compartment=info['compartment'])\n",
    "    model.add_metabolites(met)"
   ]
  },
  {
   "cell_type": "code",
   "execution_count": 8,
   "metadata": {},
   "outputs": [
    {
     "name": "stdout",
     "output_type": "stream",
     "text": [
      "Number of metabolites: 29\n"
     ]
    }
   ],
   "source": [
    "print('Number of metabolites: ' + str(len(model.metabolites)))"
   ]
  },
  {
   "cell_type": "markdown",
   "metadata": {},
   "source": [
    "-------\n",
    "## B) Add reactions to model and simulate\n",
    "\n",
    "### 1) Like above, add the reaction info found in `reactions_and_info` to the model\n",
    " "
   ]
  },
  {
   "cell_type": "code",
   "execution_count": null,
   "metadata": {},
   "outputs": [],
   "source": []
  },
  {
   "cell_type": "markdown",
   "metadata": {},
   "source": [
    "### 2)  Mass balance check each reaction added to the pathway using `reaction.check_mass_balance()` method\n",
    "\n",
    "This is an important step in quality controlling any metabolic model. Failing to do so could result in incorrect reactions and incorrect predictions\n",
    "\n",
    "**Hints:** \n",
    "\n",
    "1) An example of using this function can be found below\n"
   ]
  },
  {
   "cell_type": "code",
   "execution_count": null,
   "metadata": {},
   "outputs": [],
   "source": [
    "# Returning an empty dictionary means the reaction is mass balanced\n",
    "model.reactions.HISTD.check_mass_balance()"
   ]
  },
  {
   "cell_type": "markdown",
   "metadata": {},
   "source": [
    "2) You can iterate through all reactions in a model with the following"
   ]
  },
  {
   "cell_type": "code",
   "execution_count": null,
   "metadata": {},
   "outputs": [],
   "source": [
    "for r in model.reactions:\n",
    "    print(r.id, r.reaction)"
   ]
  },
  {
   "cell_type": "code",
   "execution_count": null,
   "metadata": {
    "scrolled": true
   },
   "outputs": [],
   "source": []
  },
  {
   "cell_type": "markdown",
   "metadata": {},
   "source": [
    "### 3) If a reaction is not mass balanced, correct it with `reaction.add_metabolites()` and confirm it is now mass balance\n",
    "The proper stoichiometry for the reaction can be found at [ecocyc](http://www.ecocyc.com) or [bigg](http://bigg.ucsd.edu). Databases like these are useful references for metabolic reconstructions and understanding models.\n",
    "\n",
    "**Hint:**\n",
    "1) Metabolites can be add and removed from reactions using `add_metabolites` on an existing reaction like below"
   ]
  },
  {
   "cell_type": "code",
   "execution_count": null,
   "metadata": {},
   "outputs": [],
   "source": [
    "model.reactions.ATPPRT.add_metabolites({'his__L_c': 1}, combine=False)\n",
    "print('With histidine: ', model.reactions.ATPPRT.reaction)\n",
    "model.reactions.ATPPRT.add_metabolites({'his__L_c': 0}, combine=False)\n",
    "print('Back to original reaction: ', model.reactions.ATPPRT.reaction)"
   ]
  },
  {
   "cell_type": "code",
   "execution_count": null,
   "metadata": {},
   "outputs": [],
   "source": []
  },
  {
   "cell_type": "markdown",
   "metadata": {},
   "source": [
    "### 4) Add boundary reactions to act as source and sink for ribose and histidine\n",
    "\n",
    "Models require inputs and outputs in order to simulate. In other words, flux going into a metabolite must ultimately go somewhere.\n",
    "\n",
    "The reactions should have the following info:\n",
    "\n",
    "| ID      | Reaction       |   Lower Bound | Upper Bound \n",
    "| :-------------: |:-------------:|:-------------:|:-------------:|\n",
    "| EX_rib__D_e | rib__D_e <=>     | -10 | 1000 |\n",
    "| EX_his__L_e | his__L_e -->     | 0 | 1000 |\n",
    "\n",
    "These reactions are called **Exchange Reactions** and by convention begin with 'EX_'. Further, by convention a negative lower bound/flux corresponds to a model input (or metabolite uptake from the growth media/growth condition). Therefore, a lower bound of 10 means that the model can take up, at most, 10 $\\frac{mmol}{gDW \\cdot hr}$ of ribose"
   ]
  },
  {
   "cell_type": "code",
   "execution_count": null,
   "metadata": {},
   "outputs": [],
   "source": []
  },
  {
   "cell_type": "markdown",
   "metadata": {},
   "source": [
    "### 5) View the growth media of the model based on the exchange reactions using `model.medium`"
   ]
  },
  {
   "cell_type": "code",
   "execution_count": null,
   "metadata": {},
   "outputs": [],
   "source": []
  },
  {
   "cell_type": "markdown",
   "metadata": {},
   "source": [
    "### 6) Set the model objective to histidine production ('EX_his__L_e') and optimize\n",
    "\n",
    "**Hint:** The objective corresponds to the reaction flux that the optimization will either maximize or minimize (by default maximize). It can be changed with the following:"
   ]
  },
  {
   "cell_type": "code",
   "execution_count": null,
   "metadata": {},
   "outputs": [],
   "source": [
    "model.objective = 'HISTD'\n",
    "print(model.objective)"
   ]
  },
  {
   "cell_type": "code",
   "execution_count": null,
   "metadata": {},
   "outputs": [],
   "source": []
  },
  {
   "cell_type": "markdown",
   "metadata": {},
   "source": [
    "**Still no flux through the reaction?  Why?**\n",
    "\n",
    "Flux balance analysis assumes that the system is opperating at steady state (meaning the concentration of the metabolites in the system do not increase or decrease over time). As a consequence of this, each metabolite that participates in the pathway must be created and consumed at the same rate. "
   ]
  },
  {
   "cell_type": "markdown",
   "metadata": {},
   "source": [
    "-----\n",
    "## C) Simulate pathway using complete model\n",
    "The above exercise demonstrates that a more complete network is required to model the activity of the histidine synthesis pathway. For this section, we will try to model the pathway activity using the most complete metabolic reconstruction of *E. coli*, iML1515.\n",
    "\n",
    "### 1) Load the model and assign it to variable called `full_model`\n",
    "The model path is '../qbio_resources/iML1515.json'"
   ]
  },
  {
   "cell_type": "code",
   "execution_count": null,
   "metadata": {},
   "outputs": [],
   "source": []
  },
  {
   "cell_type": "code",
   "execution_count": null,
   "metadata": {},
   "outputs": [],
   "source": [
    "# Set the lower bound of ATPM reaction to 0. This will be discussed later\n",
    "full_model.reactions.ATPM.lower_bound = 0"
   ]
  },
  {
   "cell_type": "markdown",
   "metadata": {},
   "source": [
    "### 2) Change the primary carbon substrate from glucose (`EX_glc__D_e`) to ribose (`EX_rib__D_e`)\n",
    "Allow a maximum of 10 $\\frac{mmol}{gDW \\cdot hr}$ of uptake flux"
   ]
  },
  {
   "cell_type": "code",
   "execution_count": null,
   "metadata": {},
   "outputs": [],
   "source": []
  },
  {
   "cell_type": "markdown",
   "metadata": {},
   "source": [
    "### 3) Change the model objective to histidine secretion (`EX_his__L_e`)"
   ]
  },
  {
   "cell_type": "code",
   "execution_count": null,
   "metadata": {},
   "outputs": [],
   "source": []
  },
  {
   "cell_type": "markdown",
   "metadata": {},
   "source": [
    "### 4) Optimize the model using parsimonious FBA (pFBA)\n",
    "This is an optimization method that finds the most frugal way to optimize a given objective. In other words, it gives the optimal solution that requires the least amount of total reaction flux.\n",
    "\n",
    "Information about how the function can be used can by found using:"
   ]
  },
  {
   "cell_type": "code",
   "execution_count": null,
   "metadata": {},
   "outputs": [],
   "source": [
    "cobra.flux_analysis.pfba?"
   ]
  },
  {
   "cell_type": "markdown",
   "metadata": {},
   "source": [
    "The `fraction_of_optimum`, `objective`, and `reactions` parameters can be left as their default. \n",
    "\n",
    "Assign the output of this function to a variable named `solution`"
   ]
  },
  {
   "cell_type": "code",
   "execution_count": null,
   "metadata": {},
   "outputs": [],
   "source": []
  },
  {
   "cell_type": "markdown",
   "metadata": {},
   "source": [
    "### 5) Visualize the flux solution on an escher map using the `visualize_flux()` function below\n",
    "\n",
    "**Hint:**  The reaction fluxes can be accessed from the `solution` object returned from the pfba function with `solution.fluxes`"
   ]
  },
  {
   "cell_type": "code",
   "execution_count": null,
   "metadata": {},
   "outputs": [],
   "source": [
    "def visualize_flux(reaction_fluxes):\n",
    "    builder = escher.Builder(map_json='../qbio_resources/primer_iML_map.json', \n",
    "                         reaction_scale=[{'type': 'min', 'color': '#cccccc', 'size': 4},\n",
    "                                   {'type': 'value', 'value': .01, 'color': '#0000dd', 'size': 20},\n",
    "                                   {'type': 'max', 'color': '#0000dd', 'size': 20}])\n",
    "    builder.reaction_data = reaction_fluxes.to_dict()\n",
    "    \n",
    "    return builder.display_in_notebook()"
   ]
  },
  {
   "cell_type": "code",
   "execution_count": null,
   "metadata": {
    "scrolled": true
   },
   "outputs": [],
   "source": []
  },
  {
   "cell_type": "markdown",
   "metadata": {},
   "source": [
    "### 6) Optimize the model anaerobically and visualize the solution on an escher map\n",
    "\n",
    "The default *in silico* media is aerobic glucose M9 minimal media\n",
    "\n",
    "The id for oxygen uptake is `EX_o2_e`"
   ]
  },
  {
   "cell_type": "code",
   "execution_count": null,
   "metadata": {
    "scrolled": true
   },
   "outputs": [],
   "source": [
    "# Below list the rest of the metabolites in the default growth media. \n",
    "full_model.medium"
   ]
  },
  {
   "cell_type": "code",
   "execution_count": null,
   "metadata": {},
   "outputs": [],
   "source": []
  },
  {
   "cell_type": "markdown",
   "metadata": {},
   "source": [
    "### 7) (If time permits) Find the number of reactions required to synthesize histidine from ribose, anaerobically\n",
    "\n",
    "**Hint:** the reaction flux from the most recent optimization can be found using the following:"
   ]
  },
  {
   "cell_type": "code",
   "execution_count": null,
   "metadata": {},
   "outputs": [],
   "source": [
    "full_model.reactions.EX_his__L_e.flux"
   ]
  },
  {
   "cell_type": "code",
   "execution_count": null,
   "metadata": {},
   "outputs": [],
   "source": []
  }
 ],
 "metadata": {
  "kernelspec": {
   "display_name": "qbio18",
   "language": "python",
   "name": "qbio18"
  },
  "language_info": {
   "codemirror_mode": {
    "name": "ipython",
    "version": 3
   },
   "file_extension": ".py",
   "mimetype": "text/x-python",
   "name": "python",
   "nbconvert_exporter": "python",
   "pygments_lexer": "ipython3",
   "version": "3.6.4"
  }
 },
 "nbformat": 4,
 "nbformat_minor": 2
}
