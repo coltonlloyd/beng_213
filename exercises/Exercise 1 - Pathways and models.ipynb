{
 "cells": [
  {
   "cell_type": "markdown",
   "metadata": {},
   "source": [
    "# Modeling anabolic pathways\n",
    "\n",
    "Building and simulation pathways using COBRApy. \n"
   ]
  },
  {
   "cell_type": "code",
   "execution_count": null,
   "metadata": {
    "scrolled": true
   },
   "outputs": [],
   "source": [
    "import cobra\n",
    "import escher\n",
    "from qbio_resources.histidine_pathway import metabolites_and_info, reactions_and_info"
   ]
  },
  {
   "cell_type": "code",
   "execution_count": null,
   "metadata": {},
   "outputs": [],
   "source": [
    "# The reactions and metabolites to be added in this exercise\n",
    "builder = escher.Builder(map_json='../qbio_resources/histidine_ribose_map.json')\n",
    "builder.display_in_notebook()"
   ]
  },
  {
   "cell_type": "markdown",
   "metadata": {},
   "source": [
    "---------\n",
    "## A) Add the pathway metabolites and their information to a new model\n",
    "\n",
    "The goal of this exercise will be to build a simulate the histidine synthesis pathway shown above. \n",
    "\n",
    "This section will introduce the first steps of adding the pathway to model.\n",
    "\n",
    "### 1) Initialize an empty COBRApy model"
   ]
  },
  {
   "cell_type": "code",
   "execution_count": null,
   "metadata": {},
   "outputs": [],
   "source": []
  },
  {
   "cell_type": "markdown",
   "metadata": {},
   "source": [
    "### 2) Add metabolites and info to the model\n",
    "\n",
    "**Hints:**\n",
    "\n",
    "1) The information regarding the reactions and metabolites involved in this pathway can be found in `reactions_and_info` and `metabolites_and_info`, respectively. These are imported above.\n",
    "  - These are imported in the form of a **dictionary**"
   ]
  },
  {
   "cell_type": "code",
   "execution_count": null,
   "metadata": {},
   "outputs": [],
   "source": [
    "print(metabolites_and_info)"
   ]
  },
  {
   "cell_type": "markdown",
   "metadata": {},
   "source": [
    "----\n",
    "\n",
    "- A dictionary is a Python data structure that consists of both `keys` and `values`. This allows you to look up quantities based on the `key` you are interested in. An example of this is shown below for the histidine metabolite\n",
    "\n",
    "----"
   ]
  },
  {
   "cell_type": "code",
   "execution_count": null,
   "metadata": {
    "scrolled": false
   },
   "outputs": [],
   "source": [
    "# Look up the information assocated with the histidine metabolite (his__L_c)\n",
    "print('Values associated with his__L_c = ', metabolites_and_info['his__L_c'])\n",
    "# This returns another dictionary where the formula, etc. can be looked up with:\n",
    "print('Formula = ', metabolites_and_info['his__L_c']['formula'])"
   ]
  },
  {
   "cell_type": "markdown",
   "metadata": {},
   "source": [
    "2) To leverage dictionary properties to add the metabolites to model more efficiently, you can iterate through all of the dictionary entries (items), like below"
   ]
  },
  {
   "cell_type": "code",
   "execution_count": null,
   "metadata": {},
   "outputs": [],
   "source": [
    "for key, value in metabolites_and_info.items():\n",
    "    print(key, value)"
   ]
  },
  {
   "cell_type": "code",
   "execution_count": null,
   "metadata": {},
   "outputs": [],
   "source": []
  },
  {
   "cell_type": "markdown",
   "metadata": {},
   "source": [
    "-------\n",
    "## B) Add reactions to model and simulate\n",
    "\n",
    "### 1) Like above, add the reaction info found in `reactions_and_info` to the model\n",
    " "
   ]
  },
  {
   "cell_type": "code",
   "execution_count": null,
   "metadata": {},
   "outputs": [],
   "source": []
  },
  {
   "cell_type": "markdown",
   "metadata": {},
   "source": [
    "### 2)  Mass balance check each reaction added to the pathway using `reaction.check_mass_balance()` method\n",
    "\n",
    "This is an important step in quality controlling any metabolic model. Failing to do so could result in incorrect reactions and incorrect predictions\n",
    "\n",
    "**Hints:** \n",
    "\n",
    "1) An example of using this function can be found below\n"
   ]
  },
  {
   "cell_type": "code",
   "execution_count": null,
   "metadata": {},
   "outputs": [],
   "source": [
    "# Returning an empty dictionary means the reaction is mass balanced\n",
    "model.reactions.HISTD.check_mass_balance()"
   ]
  },
  {
   "cell_type": "markdown",
   "metadata": {},
   "source": [
    "2) You can iterate through all reactions in a model with the following"
   ]
  },
  {
   "cell_type": "code",
   "execution_count": null,
   "metadata": {},
   "outputs": [],
   "source": [
    "for r in model.reactions:\n",
    "    print(r.id, r.reaction)"
   ]
  },
  {
   "cell_type": "code",
   "execution_count": null,
   "metadata": {
    "scrolled": true
   },
   "outputs": [],
   "source": []
  },
  {
   "cell_type": "markdown",
   "metadata": {},
   "source": [
    "### 3) If a reaction is not mass balanced, correct it with `reaction.add_metabolites()` and confirm it is now mass balance\n",
    "The proper stoichiometry for the reaction can be found at [ecocyc](http://www.ecocyc.com) or [bigg](http://bigg.ucsd.edu). Databases like these are useful references for metabolic reconstructions and understanding models.\n",
    "\n",
    "**Hint:**\n",
    "1) Metabolites can be add and removed from reactions using `add_metabolites` on an existing reaction like below"
   ]
  },
  {
   "cell_type": "code",
   "execution_count": null,
   "metadata": {},
   "outputs": [],
   "source": [
    "model.reactions.ATPPRT.add_metabolites({'his__L_c': 1}, combine=False)\n",
    "print('With histidine: ', model.reactions.ATPPRT.reaction)\n",
    "model.reactions.ATPPRT.add_metabolites({'his__L_c': 0}, combine=False)\n",
    "print('Back to original reaction: ', model.reactions.ATPPRT.reaction)"
   ]
  },
  {
   "cell_type": "code",
   "execution_count": null,
   "metadata": {},
   "outputs": [],
   "source": []
  },
  {
   "cell_type": "markdown",
   "metadata": {},
   "source": [
    "### 4) Add boundary reactions to act as source and sink for ribose and histidine\n",
    "\n",
    "Models require inputs and outputs in order to simulate. In other words, flux going into a metabolite must ultimately go somewhere.\n",
    "\n",
    "The reactions should have the following info:\n",
    "\n",
    "| ID      | Reaction       |   Lower Bound | Upper Bound \n",
    "| :-------------: |:-------------:|:-------------:|:-------------:|\n",
    "| EX_rib__D_e | rib__D_e <=>     | -10 | 1000 |\n",
    "| EX_his__L_e | his__L_e -->     | 0 | 1000 |\n",
    "\n",
    "These reactions are called **Exchange Reactions** and by convention begin with 'EX_'. Further, by convention a negative lower bound/flux corresponds to a model input (or metabolite uptake from the growth media/growth condition). Therefore, a lower bound of 10 means that the model can take up, at most, 10 $\\frac{mmol}{gDW \\cdot hr}$ of ribose"
   ]
  },
  {
   "cell_type": "code",
   "execution_count": null,
   "metadata": {},
   "outputs": [],
   "source": []
  },
  {
   "cell_type": "markdown",
   "metadata": {},
   "source": [
    "### 5) View the growth media of the model based on the exchange reactions using `model.medium`"
   ]
  },
  {
   "cell_type": "code",
   "execution_count": null,
   "metadata": {},
   "outputs": [],
   "source": []
  },
  {
   "cell_type": "markdown",
   "metadata": {},
   "source": [
    "### 6) Set the model objective to histidine production ('EX_his__L_e') and optimize\n",
    "\n",
    "**Hint:** The objective corresponds to the reaction flux that the optimization will either maximize or minimize (by default maximize). It can be changed with the following:"
   ]
  },
  {
   "cell_type": "code",
   "execution_count": null,
   "metadata": {},
   "outputs": [],
   "source": [
    "model.objective = 'HISTD'\n",
    "print(model.objective)"
   ]
  },
  {
   "cell_type": "code",
   "execution_count": null,
   "metadata": {},
   "outputs": [],
   "source": []
  },
  {
   "cell_type": "markdown",
   "metadata": {},
   "source": [
    "**Still no flux through the reaction?  Why?**\n",
    "\n",
    "Flux balance analysis assumes that the system is opperating at steady state (meaning the concentration of the metabolites in the system do not increase or decrease over time). As a consequence of this, each metabolite that participates in the pathway must be created and consumed at the same rate. "
   ]
  },
  {
   "cell_type": "markdown",
   "metadata": {},
   "source": [
    "-----\n",
    "## C) Simulate pathway using complete model\n",
    "The above exercise demonstrates that a more complete network is required to model the activity of the histidine synthesis pathway. For this section, we will try to model the pathway activity using the most complete metabolic reconstruction of *E. coli*, iML1515.\n",
    "\n",
    "### 1) Load the model and assign it to variable called `full_model`\n",
    "The model path is '../qbio_resources/iML1515.json'"
   ]
  },
  {
   "cell_type": "code",
   "execution_count": null,
   "metadata": {},
   "outputs": [],
   "source": []
  },
  {
   "cell_type": "code",
   "execution_count": null,
   "metadata": {},
   "outputs": [],
   "source": [
    "# Set the lower bound of ATPM reaction to 0. This will be discussed later\n",
    "full_model.reactions.ATPM.lower_bound = 0"
   ]
  },
  {
   "cell_type": "markdown",
   "metadata": {},
   "source": [
    "### 2) Change the primary carbon substrate from glucose (`EX_glc__D_e`) to ribose (`EX_rib__D_e`)\n",
    "Allow a maximum of 10 $\\frac{mmol}{gDW \\cdot hr}$ of uptake flux"
   ]
  },
  {
   "cell_type": "code",
   "execution_count": null,
   "metadata": {},
   "outputs": [],
   "source": []
  },
  {
   "cell_type": "markdown",
   "metadata": {},
   "source": [
    "### 3) Change the model objective to histidine secretion (`EX_his__L_e`)"
   ]
  },
  {
   "cell_type": "code",
   "execution_count": null,
   "metadata": {},
   "outputs": [],
   "source": []
  },
  {
   "cell_type": "markdown",
   "metadata": {},
   "source": [
    "### 4) Optimize the model using parsimonious FBA (pFBA)\n",
    "This is an optimization method that finds the most frugal way to optimize a given objective. In other words, it gives the optimal solution that requires the least amount of total reaction flux.\n",
    "\n",
    "Information about how the function can be used can by found using:"
   ]
  },
  {
   "cell_type": "code",
   "execution_count": null,
   "metadata": {},
   "outputs": [],
   "source": [
    "cobra.flux_analysis.pfba?"
   ]
  },
  {
   "cell_type": "markdown",
   "metadata": {},
   "source": [
    "The `fraction_of_optimum`, `objective`, and `reactions` parameters can be left as their default. \n",
    "\n",
    "Assign the output of this function to a variable named `solution`"
   ]
  },
  {
   "cell_type": "code",
   "execution_count": null,
   "metadata": {},
   "outputs": [],
   "source": []
  },
  {
   "cell_type": "markdown",
   "metadata": {},
   "source": [
    "### 5) Visualize the flux solution on an escher map using the `visualize_flux()` function below\n",
    "\n",
    "**Hint:**  The reaction fluxes can be accessed from the `solution` object returned from the pfba function with `solution.fluxes`"
   ]
  },
  {
   "cell_type": "code",
   "execution_count": null,
   "metadata": {},
   "outputs": [],
   "source": [
    "def visualize_flux(reaction_fluxes):\n",
    "    builder = escher.Builder(map_json='../qbio_resources/primer_iML_map.json', \n",
    "                         reaction_scale=[{'type': 'min', 'color': '#cccccc', 'size': 4},\n",
    "                                   {'type': 'value', 'value': .01, 'color': '#0000dd', 'size': 20},\n",
    "                                   {'type': 'max', 'color': '#0000dd', 'size': 20}])\n",
    "    builder.reaction_data = reaction_fluxes.to_dict()\n",
    "    \n",
    "    return builder.display_in_notebook()"
   ]
  },
  {
   "cell_type": "code",
   "execution_count": null,
   "metadata": {
    "scrolled": true
   },
   "outputs": [],
   "source": []
  },
  {
   "cell_type": "markdown",
   "metadata": {},
   "source": [
    "### 6) Optimize the model anaerobically and visualize the solution on an escher map\n",
    "\n",
    "The default *in silico* media is aerobic glucose M9 minimal media\n",
    "\n",
    "The id for oxygen uptake is `EX_o2_e`"
   ]
  },
  {
   "cell_type": "code",
   "execution_count": null,
   "metadata": {
    "scrolled": true
   },
   "outputs": [],
   "source": [
    "# Below list the rest of the metabolites in the default growth media. \n",
    "full_model.medium"
   ]
  },
  {
   "cell_type": "code",
   "execution_count": null,
   "metadata": {},
   "outputs": [],
   "source": []
  },
  {
   "cell_type": "markdown",
   "metadata": {},
   "source": [
    "### 7) (If time permits) Find the number of reactions required to synthesize histidine from ribose, anaerobically\n",
    "\n",
    "**Hint:** the reaction flux from the most recent optimization can be found using the following:"
   ]
  },
  {
   "cell_type": "code",
   "execution_count": null,
   "metadata": {},
   "outputs": [],
   "source": [
    "full_model.reactions.EX_his__L_e.flux"
   ]
  },
  {
   "cell_type": "code",
   "execution_count": null,
   "metadata": {},
   "outputs": [],
   "source": []
  }
 ],
 "metadata": {
  "kernelspec": {
   "display_name": "qbio18",
   "language": "python",
   "name": "qbio18"
  },
  "language_info": {
   "codemirror_mode": {
    "name": "ipython",
    "version": 3
   },
   "file_extension": ".py",
   "mimetype": "text/x-python",
   "name": "python",
   "nbconvert_exporter": "python",
   "pygments_lexer": "ipython3",
   "version": "3.6.4"
  }
 },
 "nbformat": 4,
 "nbformat_minor": 2
}
