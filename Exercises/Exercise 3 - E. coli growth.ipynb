{
 "cells": [
  {
   "cell_type": "markdown",
   "metadata": {},
   "source": [
    "# Modeling *E. coli* growth"
   ]
  },
  {
   "cell_type": "code",
   "execution_count": null,
   "metadata": {
    "scrolled": true
   },
   "outputs": [],
   "source": [
    "import cobra\n",
    "from matplotlib import pyplot\n",
    "import escher\n",
    "import numpy\n",
    "from qbio_resources.phase_plane import calculate_phenotype_phase_plane\n",
    "from qbio_resources.plotting_functions import visualize_flux\n",
    "\n",
    "%matplotlib inline"
   ]
  },
  {
   "cell_type": "markdown",
   "metadata": {},
   "source": [
    "## A) Modeling growth on varying electron acceptors\n",
    "\n",
    "The use of the electron transport chain (ETC) and oxidative respiration enables highly efficient ATP generation in *E. coli*. An essential component of the ETC, however, is the presence of an electronegative electron acceptor, as the strong attraction between electrons and the acceptor essentially powers the process.\n",
    "\n",
    "Oxygen is the most ubiquitous bacterial electron acceptor and therefore bacteria are often only considered as growing in one of two oxidative states: aerobically or anaerobically. However, *E. coli* has evolved to use various other chemicals as electron acceptors in the absence of oxygen. Some of these include:\n",
    "\n",
    "- Nitrate (NO3)\n",
    "- Nitrite (NO2)\n",
    "- Dimethylsulfoxide (DMSO)\n",
    "- Trimethylamine N-oxide (TMAO)\n",
    "\n",
    "This section will assess the efficacy of some of these additional electron acceptors to produce ATP\n",
    "\n",
    "### 1) Load the model and save it as a variable called `model`\n",
    " - Since the cellular ATP requirements should be considered in totality, the lower bound of the non-growth dependent ATP maintenance reaction (ATPM) should not be set to 0"
   ]
  },
  {
   "cell_type": "code",
   "execution_count": null,
   "metadata": {},
   "outputs": [],
   "source": []
  },
  {
   "cell_type": "markdown",
   "metadata": {},
   "source": [
    "### 2) Begin by optimizing the model using `pfba()` in default aerobic conditions \n",
    "- Save the solution in a variable called `solution`"
   ]
  },
  {
   "cell_type": "code",
   "execution_count": null,
   "metadata": {},
   "outputs": [],
   "source": []
  },
  {
   "cell_type": "markdown",
   "metadata": {},
   "source": [
    "### 3) Observe the flux balance of periplasm hydrogen (h_p) using the `metabolite.summary()` function\n",
    " - This function lists all the reactions creating and consuming h_p\n",
    " - The gradient of hydrogen across the inner membrane (i.e., a build of hydrogen ions in the periplasmic space) ultimately powers ATP synthesis via the ATP synthase (ATPS4rpp) reaction\n",
    " - The sum of fluxes producing h_p will be proportional to the amount of ATP the cell can synthesize"
   ]
  },
  {
   "cell_type": "code",
   "execution_count": null,
   "metadata": {},
   "outputs": [],
   "source": []
  },
  {
   "cell_type": "markdown",
   "metadata": {},
   "source": [
    "### 4) Observe the flux balance of NAD+ (nad_c) using the `metabolite.summary()` function\n",
    " - Reduced NADH donates the electrons that enter ETC and provide the energy to translocate h+ accross the inner membrane\n",
    " - NAD must be available within the cell in order for glycolysis to run. If the cell does not have a way to oxidize NADH to NAD via the ETC, then it likely must look for other methods of doing so."
   ]
  },
  {
   "cell_type": "code",
   "execution_count": null,
   "metadata": {},
   "outputs": [],
   "source": []
  },
  {
   "cell_type": "markdown",
   "metadata": {},
   "source": [
    "### 5) Calculate the efficiency of the electron acceptor to produce ATP\n",
    " - This will be the ratio of $\\mathrm{\\frac{flux\\ of\\ ATP\\ synthesis\\ powered\\ by\\ H+}{flux\\ of\\ electron\\ acceptor\\ reduction}}$\n",
    "\n",
    "**Hint:** it's a reasonable assumption that the electron acceptor will be reduced at the rate it is taken up"
   ]
  },
  {
   "cell_type": "code",
   "execution_count": null,
   "metadata": {
    "scrolled": true
   },
   "outputs": [],
   "source": []
  },
  {
   "cell_type": "markdown",
   "metadata": {},
   "source": [
    "### 6) Use `model.summary()` to return an output of the metabolite uptake and secretion fluxes \n",
    "- Note the secretion products (out fluxes). The only carbon containing growth byproduct should be CO2.\n",
    "- The solution can also be observed over a flux map using `visualize_flux(reaction_fluxes)` like in Exercise 1"
   ]
  },
  {
   "cell_type": "code",
   "execution_count": null,
   "metadata": {
    "scrolled": true
   },
   "outputs": [],
   "source": []
  },
  {
   "cell_type": "code",
   "execution_count": null,
   "metadata": {
    "scrolled": true
   },
   "outputs": [],
   "source": []
  },
  {
   "cell_type": "markdown",
   "metadata": {},
   "source": [
    "### 7) Repeate 1-6 with $\\mathrm{NO_3}$ (no3) as the electron acceptor instead of oxygen\n",
    "\n",
    " - Allow unlimited (-1000 $\\frac{mmol}{gDW \\cdot hr}$) uptake of no3_e\n",
    " - Note the stoichiometry of the reactions capable of translocating H+ into the periplasm\n",
    "   - NO3 is less electronegative and thus can power less translocation of H+ against the electrochemical gradient\n",
    "   \n",
    " - **Don't forget to the set oxygen uptake to 0 before this analysis AND reset the uptake of the no3 to 0 after this analysis!**\n",
    " "
   ]
  },
  {
   "cell_type": "code",
   "execution_count": null,
   "metadata": {},
   "outputs": [],
   "source": []
  },
  {
   "cell_type": "code",
   "execution_count": null,
   "metadata": {},
   "outputs": [],
   "source": []
  },
  {
   "cell_type": "code",
   "execution_count": null,
   "metadata": {},
   "outputs": [],
   "source": []
  },
  {
   "cell_type": "code",
   "execution_count": null,
   "metadata": {
    "scrolled": true
   },
   "outputs": [],
   "source": []
  },
  {
   "cell_type": "code",
   "execution_count": null,
   "metadata": {},
   "outputs": [],
   "source": []
  },
  {
   "cell_type": "code",
   "execution_count": null,
   "metadata": {
    "scrolled": true
   },
   "outputs": [],
   "source": []
  },
  {
   "cell_type": "markdown",
   "metadata": {},
   "source": [
    "### 8) Repeate 1-6 with Dimethylsulfoxide (dmso_e) as the electron acceptor instead of oxygen\n",
    " - Allow unlimited (-1000 $\\frac{mmol}{gDW \\cdot hr}$) uptake of dmso_e\n",
    " - Note the number of reactions capable of translocating H+ into the periplasm and the stoichiometry of those reactions\n",
    "   - DMSO is even less electronegative then no3 and thus can power less translocation of H+ against the electrochemical gradient\n",
    " - Also note the byproduct secretion. Performing the `metabolite.summary()` command for atp_c will give clues to why this is happening\n",
    "  - **Don't forget to the set no3 uptake to 0 before this analysis and reset the uptake of the dmso to 0 after this analysis!**"
   ]
  },
  {
   "cell_type": "code",
   "execution_count": null,
   "metadata": {},
   "outputs": [],
   "source": []
  },
  {
   "cell_type": "code",
   "execution_count": null,
   "metadata": {},
   "outputs": [],
   "source": []
  },
  {
   "cell_type": "code",
   "execution_count": null,
   "metadata": {},
   "outputs": [],
   "source": []
  },
  {
   "cell_type": "code",
   "execution_count": null,
   "metadata": {
    "scrolled": false
   },
   "outputs": [],
   "source": []
  },
  {
   "cell_type": "code",
   "execution_count": null,
   "metadata": {},
   "outputs": [],
   "source": []
  },
  {
   "cell_type": "code",
   "execution_count": null,
   "metadata": {},
   "outputs": [],
   "source": []
  },
  {
   "cell_type": "code",
   "execution_count": null,
   "metadata": {},
   "outputs": [],
   "source": []
  },
  {
   "cell_type": "markdown",
   "metadata": {},
   "source": [
    "### 9) Repeate 1-6 with no electron acceptors (anaerobic growth)\n",
    " - Do not calculate the efficiency because this will obviously be zero\n",
    " - The model predicts secretion of 4 carbon containing metabolites\n",
    "  - Using the mass balances summaries of nad_c and atp_c and a flux map, can you predict why these metabolites are secreted during anaerobic growth (fermentation)"
   ]
  },
  {
   "cell_type": "code",
   "execution_count": null,
   "metadata": {},
   "outputs": [],
   "source": []
  },
  {
   "cell_type": "code",
   "execution_count": null,
   "metadata": {
    "scrolled": true
   },
   "outputs": [],
   "source": []
  },
  {
   "cell_type": "code",
   "execution_count": null,
   "metadata": {},
   "outputs": [],
   "source": []
  },
  {
   "cell_type": "code",
   "execution_count": null,
   "metadata": {},
   "outputs": [],
   "source": []
  },
  {
   "cell_type": "code",
   "execution_count": null,
   "metadata": {},
   "outputs": [],
   "source": []
  },
  {
   "cell_type": "code",
   "execution_count": null,
   "metadata": {},
   "outputs": [],
   "source": []
  },
  {
   "cell_type": "markdown",
   "metadata": {},
   "source": [
    "----\n",
    "## B) Modeling growth regions\n",
    "The above analysis modeled *E. coli* growth in discrete states (i.e., aerobic in oxygen excess or anaerobic with no oxygen present). \n",
    "\n",
    "This section will highlight and characterize some of the interesting model behavior that occurs between these two extremes. We'll start by creating a phenotype phase plane that shows the full range of behavior that occurs as the *in silico* substrates are varied.\n",
    "\n",
    "### 1) Load a new model saved as a variable called `model`"
   ]
  },
  {
   "cell_type": "code",
   "execution_count": null,
   "metadata": {},
   "outputs": [],
   "source": []
  },
  {
   "cell_type": "markdown",
   "metadata": {},
   "source": [
    "### 2) Use the `calculate_phenotype_phase_plane()` function imported above to calculate the model behavior as oxygen uptake and glucose uptake is varied\n",
    "\n",
    "- Vary glucose and oxygen uptake from 0 to 20 (set by using the `reaction1_range_max` or `reaction2_range_max` parameters)\n",
    "- Restrict the number of points for each reaction to 20 (set using `reaction1_npoints` or `reaction2_npoints` parameters)\n",
    "- Store the output in a variable called `phase_plane_data`"
   ]
  },
  {
   "cell_type": "code",
   "execution_count": null,
   "metadata": {},
   "outputs": [],
   "source": []
  },
  {
   "cell_type": "markdown",
   "metadata": {},
   "source": [
    "### 3) Visualize the phase plane using the `plot()` method of `phase_plane_data`\n",
    " - Note the existence of distinct growth regions on the surface plot (areas where the slope changes)"
   ]
  },
  {
   "cell_type": "code",
   "execution_count": null,
   "metadata": {},
   "outputs": [],
   "source": []
  },
  {
   "cell_type": "markdown",
   "metadata": {},
   "source": [
    "### 4) Simulate growth over a cross section of the above plot\n",
    " - Constrain the lower bound on oxygen uptake to 20 $\\frac{mmol}{gDW \\cdot hr}$\n",
    " - Simulate growth with glucose exchange lower bounds ranging from 0 to 20\n",
    "  - Use 40 intermediate points\n",
    " - Save the growth rate predictions from each condition as a **list**\n",
    " \n",
    "**Hint:** The range of glucose values meeting the conditions outlined above can be found using the `numpy.linspace()` function. This can be used to create, for instace, an array ranging from 0 to 1 with 10 points like below:"
   ]
  },
  {
   "cell_type": "code",
   "execution_count": null,
   "metadata": {},
   "outputs": [],
   "source": [
    "numpy.linspace(0, 1, 10)"
   ]
  },
  {
   "cell_type": "code",
   "execution_count": null,
   "metadata": {},
   "outputs": [],
   "source": []
  },
  {
   "cell_type": "markdown",
   "metadata": {},
   "source": [
    "### 5) Visualize the solution as a line plot using the `pyplot.plot()` function\n",
    "- Plot the lower bound on glucose uptake on the x-axis and the growth rate on the y-axis\n",
    "- Set appropriate x- and y-axis labels similar to in Exercise 2\n",
    "- Note the appearance of three distinct growth regions where the slope of $\\mathrm{\\frac{growth\\ rate}{glucose\\ uptake}}$ changes"
   ]
  },
  {
   "cell_type": "code",
   "execution_count": null,
   "metadata": {},
   "outputs": [],
   "source": []
  },
  {
   "cell_type": "markdown",
   "metadata": {},
   "source": [
    "### 6) Simulate growth in each of the regions to determine the region's growth characteristics\n",
    "**Hint:** Use the ideas and methods used above (change in growth byproducts, visualizing over flux maps, metabolite flux balance summaries)"
   ]
  },
  {
   "cell_type": "code",
   "execution_count": null,
   "metadata": {},
   "outputs": [],
   "source": []
  },
  {
   "cell_type": "code",
   "execution_count": null,
   "metadata": {},
   "outputs": [],
   "source": []
  },
  {
   "cell_type": "code",
   "execution_count": null,
   "metadata": {},
   "outputs": [],
   "source": []
  },
  {
   "cell_type": "code",
   "execution_count": null,
   "metadata": {
    "scrolled": true
   },
   "outputs": [],
   "source": []
  },
  {
   "cell_type": "code",
   "execution_count": null,
   "metadata": {},
   "outputs": [],
   "source": []
  },
  {
   "cell_type": "markdown",
   "metadata": {},
   "source": [
    "## C) Modeling antimicrobial mechanisms\n",
    "**Goal:** \n",
    "\n",
    "Use metabolic models to understand how common antibiotics (ampicillin, sulfonamides) function to kill bacteria\n",
    "\n",
    "**Mechanisms of action:**\n",
    " 1. Amoxicillin is a beta-lactam antibiotic with a mechanism of action that irreversibly inhibits transpeptidases (b0084, ftsI)\n",
    "\n",
    " 2. Sulfonamides competitively inhibit dihydropteroate synthase (b3177, folP)"
   ]
  },
  {
   "cell_type": "markdown",
   "metadata": {},
   "source": [
    "### 1) Load a new model as a variable called `model`"
   ]
  },
  {
   "cell_type": "code",
   "execution_count": null,
   "metadata": {},
   "outputs": [],
   "source": []
  },
  {
   "cell_type": "markdown",
   "metadata": {},
   "source": [
    "### 2) Knock out the gene or reactions inhibited by amoxicillin"
   ]
  },
  {
   "cell_type": "code",
   "execution_count": null,
   "metadata": {
    "scrolled": true
   },
   "outputs": [],
   "source": []
  },
  {
   "cell_type": "markdown",
   "metadata": {},
   "source": [
    "### 3) Optimize model to ensure that the antibiotic indeed kills the cell"
   ]
  },
  {
   "cell_type": "code",
   "execution_count": null,
   "metadata": {},
   "outputs": [],
   "source": []
  },
  {
   "cell_type": "markdown",
   "metadata": {},
   "source": [
    "### 4) Find the essential metabolite(s) that can no longer be synthesized in the presence of amoxicillin\n",
    " This can be accomplished by iterating through the metabolites in the biomass objective function (BIOMASS_Ec_iML1515_core_75p37M) and:\n",
    " 1. Create a new \"demand\" reaction that consumes the metabolite with the form `metabolite_1 -> `\n",
    " 2. Set this new demand reaction as the model objective\n",
    " 3. Maximize flux through this objective by optimizing the model\n",
    " 4. Print the metabolite or demand reaction ID if the maximum flux is zero (or below .001)\n",
    "  - Recall the flux through the objective reaction can be found with `model.optimize().f`"
   ]
  },
  {
   "cell_type": "code",
   "execution_count": null,
   "metadata": {},
   "outputs": [],
   "source": []
  },
  {
   "cell_type": "code",
   "execution_count": null,
   "metadata": {
    "scrolled": false
   },
   "outputs": [],
   "source": []
  },
  {
   "cell_type": "markdown",
   "metadata": {},
   "source": [
    "### 5) Repeat the above steps for the gene or reactions inhibited by sulfonamides"
   ]
  },
  {
   "cell_type": "code",
   "execution_count": null,
   "metadata": {
    "scrolled": false
   },
   "outputs": [],
   "source": []
  }
 ],
 "metadata": {
  "kernelspec": {
   "display_name": "qbio18",
   "language": "python",
   "name": "qbio18"
  },
  "language_info": {
   "codemirror_mode": {
    "name": "ipython",
    "version": 3
   },
   "file_extension": ".py",
   "mimetype": "text/x-python",
   "name": "python",
   "nbconvert_exporter": "python",
   "pygments_lexer": "ipython3",
   "version": "3.6.4"
  }
 },
 "nbformat": 4,
 "nbformat_minor": 2
}
