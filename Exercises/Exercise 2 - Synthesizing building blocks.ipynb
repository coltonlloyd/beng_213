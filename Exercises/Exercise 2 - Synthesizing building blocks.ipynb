{
 "cells": [
  {
   "cell_type": "markdown",
   "metadata": {},
   "source": [
    "## Synthesizing building blocks"
   ]
  },
  {
   "cell_type": "code",
   "execution_count": null,
   "metadata": {
    "scrolled": true
   },
   "outputs": [],
   "source": [
    "import cobra\n",
    "from qbio_resources.plotting_functions import substrate_name_to_rxn, plot_theoretical_yields\n",
    "from matplotlib import pyplot\n",
    "%matplotlib inline"
   ]
  },
  {
   "cell_type": "markdown",
   "metadata": {},
   "source": [
    "----\n",
    "## A) Simulating carbon yield of key biomass components for 10 substrates\n",
    "\n",
    "This section will assess the potential of 10 carbon substrates to produce essential biomass components. \n",
    "\n",
    "To do this simulate the maximum theoretical yield of the following biomass components\n",
    " - Histidine\n",
    " - ATP hydrolysis (using ATPM)\n",
    " \n",
    "using substrates contained in the dictionary of substrates below"
   ]
  },
  {
   "cell_type": "code",
   "execution_count": null,
   "metadata": {},
   "outputs": [],
   "source": [
    "print(substrate_name_to_rxn)"
   ]
  },
  {
   "cell_type": "markdown",
   "metadata": {},
   "source": [
    "### 1) Load the model and save it as a variable called `model` \n",
    "\n",
    " - Set lower bound of the ATPM reaction to 0. This reaction will be discussed later\n"
   ]
  },
  {
   "cell_type": "code",
   "execution_count": null,
   "metadata": {},
   "outputs": [],
   "source": []
  },
  {
   "cell_type": "markdown",
   "metadata": {},
   "source": [
    "### 2) Interate through the substrates and optimize for histidine productions\n",
    "\n",
    "**Instructions**\n",
    "- Use -10 $\\frac{mmol}{gDW \\cdot hr}$ as the lower bound for each substrate\n",
    "\n",
    "\n",
    "- Store the maximum theoretical yield in a `list` called `yield_list`\n",
    "  - The yield is defined as $\\mathrm{\\frac{product\\_secretion\\_flux}{absolute\\_value\\_of\\_substrate\\_uptake\\_flux}}$ \n",
    "  \n",
    "  \n",
    "- Store the substrate names in a `list` called `substrate_list`\n",
    "\n",
    "\n",
    "- Store the number of reactions active in each condition in a `list` called `num_reaction_list`\n",
    "  - Only consider reactions with an absolute flux value $\\geq 10^{-6}$ \n",
    "  \n",
    "  \n",
    "- Use `cobra.flux_analyis.pfba()` function like in Exercise 1 to simulate model\n",
    "  - This will give the minimal set of reactions that must be active\n",
    "  \n",
    "**Hints:** \n",
    "\n",
    "1) You will be reusing the same or similar code to run each of the following analyses. It might be worth writing a function to do this.\n",
    "\n",
    "2) You may run into divide by zero errors when calculating the product yield if histidine cannot be synthesized by the particular substrate. You will need to find a way to account for this."
   ]
  },
  {
   "cell_type": "code",
   "execution_count": null,
   "metadata": {},
   "outputs": [],
   "source": []
  },
  {
   "cell_type": "markdown",
   "metadata": {},
   "source": [
    "### 3) Use the `plot_theoretical_yields()` function imported above to visualize results\n",
    "\n",
    "This function takes the following arguments (in order):\n",
    "1. List of substrate yields\n",
    "2. List of substrate names\n",
    "3. The name (string) of the metabolite that was optimized for\n",
    "4. List of the number of reactions active in the simulation"
   ]
  },
  {
   "cell_type": "code",
   "execution_count": null,
   "metadata": {},
   "outputs": [],
   "source": []
  },
  {
   "cell_type": "markdown",
   "metadata": {},
   "source": [
    "### 4) Visualize the correlation (or lack thereof) between the maximum theoretical yield and number of reaction active\n",
    "\n",
    " - Use matplotlib's scatter plot function which can be executed with `pyplot.scatter(x_values, y_values)` where `x_values` and `y_values` correspond to lists of values that should be plotted on the x- and y-axis, respectively\n",
    " \n",
    " - Add x- and y-axis labels with `pyplot.xlabel(label_string)` and `pyplot.ylabel(label_string)` "
   ]
  },
  {
   "cell_type": "code",
   "execution_count": null,
   "metadata": {},
   "outputs": [],
   "source": []
  },
  {
   "cell_type": "markdown",
   "metadata": {},
   "source": [
    "### 5) Repeat above analysis for anaerobic histidine production"
   ]
  },
  {
   "cell_type": "code",
   "execution_count": null,
   "metadata": {},
   "outputs": [],
   "source": []
  },
  {
   "cell_type": "code",
   "execution_count": null,
   "metadata": {},
   "outputs": [],
   "source": []
  },
  {
   "cell_type": "markdown",
   "metadata": {},
   "source": [
    "### 6) Repeat above analysis for aerobic and anaerobic ATP production\n",
    "\n",
    "To do this, we will use the non-growth associated ATP maintenance reaction (ATPM). This reaction is used to model cellular ATP demands that are not due to growth (maintaining ion gradients, etc.) and has the following form:"
   ]
  },
  {
   "cell_type": "code",
   "execution_count": null,
   "metadata": {},
   "outputs": [],
   "source": [
    "model.reactions.ATPM.reaction"
   ]
  },
  {
   "cell_type": "markdown",
   "metadata": {},
   "source": [
    "Therefore maximizing flux through this ATP hydrolyis reaction will give an indication of the maximum amount of ATP that can be produced from a given substrate."
   ]
  },
  {
   "cell_type": "code",
   "execution_count": null,
   "metadata": {},
   "outputs": [],
   "source": []
  },
  {
   "cell_type": "code",
   "execution_count": null,
   "metadata": {},
   "outputs": [],
   "source": []
  },
  {
   "cell_type": "code",
   "execution_count": null,
   "metadata": {},
   "outputs": [],
   "source": []
  },
  {
   "cell_type": "code",
   "execution_count": null,
   "metadata": {},
   "outputs": [],
   "source": []
  },
  {
   "cell_type": "markdown",
   "metadata": {
    "collapsed": true
   },
   "source": [
    "---\n",
    "## B) Assess solution variability\n",
    "One caveat of COBRA methods is that an optimal FBA solution is not unique. In fact there exists an infinite number of alternative optimal solutions that fall within what is called a \"solution space\". Therefore many model predictions require that this reality is addressed in order to ensure that these predictions are meaningful.\n",
    "\n",
    "A common way to get an understanding of solution variability is called \"flux variability analysis\" (FVA). This section will outline how this method is used.\n",
    "\n",
    "### 1) Like above, optimize for the aerobic synthesis of histidine from glucose\n",
    "- Save the maximum histidine synthesis flux in a variable called `max_flux`"
   ]
  },
  {
   "cell_type": "code",
   "execution_count": null,
   "metadata": {},
   "outputs": [],
   "source": []
  },
  {
   "cell_type": "markdown",
   "metadata": {},
   "source": [
    "### 2) Set the upper and lower bound of the histidine production flux equal to `max_flux`"
   ]
  },
  {
   "cell_type": "code",
   "execution_count": null,
   "metadata": {},
   "outputs": [],
   "source": []
  },
  {
   "cell_type": "markdown",
   "metadata": {},
   "source": [
    "### 3) Find the maximum and minimum flux possible through phosphofructokinase (PFK) at the maximum histidine synthesis condition\n",
    "- The solutions to the two optimizations will represent the total flux variability of PFK at the optimal histidine production\n",
    "\n",
    "**Hint:** the minimum flux can be found by executing `model.optimize('minimize')`"
   ]
  },
  {
   "cell_type": "code",
   "execution_count": null,
   "metadata": {},
   "outputs": [],
   "source": []
  },
  {
   "cell_type": "markdown",
   "metadata": {},
   "source": [
    "### 4) Reset the model\n",
    " - Return the objective to `EX_his__L_e` and return `EX_his__L_e`'s default bounds (lower_bound = 0, upper_bound = 1000)"
   ]
  },
  {
   "cell_type": "code",
   "execution_count": null,
   "metadata": {},
   "outputs": [],
   "source": []
  },
  {
   "cell_type": "markdown",
   "metadata": {},
   "source": [
    "### 5) Perform flux variability analysis on every reaction in the model\n",
    "\n",
    " - Use the cobra function `cobra.flux_analysis.flux_variability_analysis()` with `fraction_of_optimum=1`. This will perform the optimizations above on every reaction in the model at the optimal solution.\n",
    "\n",
    " - Assign the output to a variable called `fva_solution`"
   ]
  },
  {
   "cell_type": "code",
   "execution_count": null,
   "metadata": {},
   "outputs": [],
   "source": []
  },
  {
   "cell_type": "markdown",
   "metadata": {},
   "source": [
    "### 6) Remove values from `fva_solution` with 'maximum' and 'minimum' absolute values < $10^{-3}$ \n",
    "\n",
    "- Store the resulting values in two lists `maximum_flux` and `minimum_flux` \n",
    "\n",
    "**Hint:** \n",
    "\n",
    "1) The maximum or minimum values can be obtained from `fva_solution` with:"
   ]
  },
  {
   "cell_type": "code",
   "execution_count": null,
   "metadata": {},
   "outputs": [],
   "source": [
    "fva_solution['maximum'].values"
   ]
  },
  {
   "cell_type": "markdown",
   "metadata": {},
   "source": [
    "2) Two lists of equal length can be iterated through together using `zip` like below"
   ]
  },
  {
   "cell_type": "code",
   "execution_count": null,
   "metadata": {},
   "outputs": [],
   "source": [
    "a = [1, 2, 3]\n",
    "b = [4, 5, 6]\n",
    "for i1, i2 in zip(a,b):\n",
    "    print(i1, i2)"
   ]
  },
  {
   "cell_type": "code",
   "execution_count": null,
   "metadata": {},
   "outputs": [],
   "source": []
  },
  {
   "cell_type": "markdown",
   "metadata": {},
   "source": [
    "### 7) Visualize the variability of the reactions in the optimal solution using the `plot_variability()` function below"
   ]
  },
  {
   "cell_type": "code",
   "execution_count": null,
   "metadata": {},
   "outputs": [],
   "source": [
    "def plot_variability(maximum_flux, minimum_flux):\n",
    "    x_array = list(range(0, len(maximum_flux)))\n",
    "    pyplot.semilogy(x_array, minimum_flux, x_array, maximum_flux, '#1f77b4')\n",
    "    pyplot.fill_between(x_array, minimum_flux, maximum_flux)\n",
    "    pyplot.fill()\n",
    "    pyplot.yscale('symlog')\n",
    "    pyplot.xlabel('Reaction')\n",
    "    pyplot.ylabel('Max and min flux possible in model')"
   ]
  },
  {
   "cell_type": "code",
   "execution_count": null,
   "metadata": {},
   "outputs": [],
   "source": []
  },
  {
   "cell_type": "markdown",
   "metadata": {},
   "source": [
    "----\n",
    "## C) Sampling the solution space\n",
    "\n",
    "Methods have been developed to try to address the uncertainty that comes from alternate optimimal solutions. One such method is called \"solution space sampling\". This approach involves performing FBA optimation on the model many times (10,000+ simulations) until the entirety of the solution space has been effictively sampled. This ultimately provides prediction of which reactions/fluxes are most \"likely\" within a solution space. \n",
    "\n",
    "This section will outline how this approach can be implemented."
   ]
  },
  {
   "cell_type": "markdown",
   "metadata": {},
   "source": [
    "### 1) Like above, set the lower and upper bound of histidine exchange equal to the optimal histidine synthesis flux in glucose aerobic conditions"
   ]
  },
  {
   "cell_type": "code",
   "execution_count": null,
   "metadata": {},
   "outputs": [],
   "source": []
  },
  {
   "cell_type": "markdown",
   "metadata": {},
   "source": [
    "### 2) Sample the model 300 times using `cobra.flux_analysis.sample()` function\n",
    "- This may take a few minutes to run\n",
    "- Assign the output to a variable called `sampled_fluxes` "
   ]
  },
  {
   "cell_type": "code",
   "execution_count": null,
   "metadata": {},
   "outputs": [],
   "source": []
  },
  {
   "cell_type": "markdown",
   "metadata": {},
   "source": [
    "### 3) Look up the sampled distribution of fluxes for glucose uptake \n",
    "This is a reaction that we would expect to show no variability at the optimal solution, as it is the limiting substrate\n",
    "\n",
    "**Hint:** `sampled_fluxes` is a pandas `DataFrame` whose columns correspond to each reaction in the model. The values in a column can be returned by executing `data_frame_variable['column_name']`"
   ]
  },
  {
   "cell_type": "code",
   "execution_count": null,
   "metadata": {},
   "outputs": [],
   "source": []
  },
  {
   "cell_type": "markdown",
   "metadata": {},
   "source": [
    "### 4) Visualize the variability of the following reactions as a histogram\n",
    "Attempt to infer the most \"likely\" fluxes that would be carried by the following reactions:\n",
    "\n",
    "1. Phosphofructokinase (PFK)\n",
    "2. Glucose-6-phosophate Isomerase (PGI)\n",
    "3. Phosphopentomutase (PPM)\n",
    "4. L-aspartate uptake via facillitated diffusion (ASPtpp)\n",
    "\n",
    "**Hints:** \n",
    "\n",
    "1) The method for querying column values (shown above) returns a pandas `Series`. This data type has a method that can be used to easily create histagrams with `series_variable_name.hist()`\n",
    "\n",
    "2) Set the number of bins to 25\n",
    "\n",
    "3) The `series_variable_name.hist()` function returns an intance of a matplotlib axis. Set this to a variable named `ax`.\n",
    "\n",
    "4) The x-axis and y-axis labels can be set using `ax.set_xlabel(label_name)` and `ax.set_ylabel(label_name)`, respectively\n",
    "   - The flux value of the sampling should be plotted on the x-axis and the number of sampling solutions corresponding to that flux value should be plotted on the y-axis"
   ]
  },
  {
   "cell_type": "code",
   "execution_count": null,
   "metadata": {},
   "outputs": [],
   "source": []
  },
  {
   "cell_type": "code",
   "execution_count": null,
   "metadata": {},
   "outputs": [],
   "source": []
  },
  {
   "cell_type": "code",
   "execution_count": null,
   "metadata": {},
   "outputs": [],
   "source": []
  },
  {
   "cell_type": "code",
   "execution_count": null,
   "metadata": {},
   "outputs": [],
   "source": []
  }
 ],
 "metadata": {
  "kernelspec": {
   "display_name": "qbio18",
   "language": "python",
   "name": "qbio18"
  },
  "language_info": {
   "codemirror_mode": {
    "name": "ipython",
    "version": 3
   },
   "file_extension": ".py",
   "mimetype": "text/x-python",
   "name": "python",
   "nbconvert_exporter": "python",
   "pygments_lexer": "ipython3",
   "version": "3.6.4"
  }
 },
 "nbformat": 4,
 "nbformat_minor": 2
}
