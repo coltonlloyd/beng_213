{
 "cells": [
  {
   "cell_type": "code",
   "execution_count": 20,
   "metadata": {},
   "outputs": [],
   "source": [
    "from __future__ import print_function\n",
    "import cobra\n",
    "from matplotlib import pyplot as plt\n",
    "\n",
    "import os\n",
    "import pandas as pd\n",
    "import numpy as np\n"
   ]
  },
  {
   "cell_type": "code",
   "execution_count": 2,
   "metadata": {},
   "outputs": [],
   "source": [
    "plt.rcParams['axes.labelsize'] = 'x-large'\n",
    "plt.rcParams['axes.linewidth'] = 1.5\n",
    "plt.rcParams['lines.linewidth'] = 3"
   ]
  },
  {
   "cell_type": "code",
   "execution_count": 31,
   "metadata": {},
   "outputs": [],
   "source": [
    "model_cons = cobra.io.load_json_model('../resources/glycolysis_ppp_tca_etc_model.json')"
   ]
  },
  {
   "cell_type": "markdown",
   "metadata": {},
   "source": [
    "## A) Revisiting old assumptions\n",
    "### 1) Set the objective to ATPM and optimize"
   ]
  },
  {
   "cell_type": "code",
   "execution_count": 35,
   "metadata": {},
   "outputs": [
    {
     "data": {
      "text/html": [
       "<strong><em>Optimal</em> solution with objective value 25.200</strong><br><div>\n",
       "<style scoped>\n",
       "    .dataframe tbody tr th:only-of-type {\n",
       "        vertical-align: middle;\n",
       "    }\n",
       "\n",
       "    .dataframe tbody tr th {\n",
       "        vertical-align: top;\n",
       "    }\n",
       "\n",
       "    .dataframe thead th {\n",
       "        text-align: right;\n",
       "    }\n",
       "</style>\n",
       "<table border=\"1\" class=\"dataframe\">\n",
       "  <thead>\n",
       "    <tr style=\"text-align: right;\">\n",
       "      <th></th>\n",
       "      <th>fluxes</th>\n",
       "      <th>reduced_costs</th>\n",
       "    </tr>\n",
       "  </thead>\n",
       "  <tbody>\n",
       "    <tr>\n",
       "      <td>NADH2_u10mi</td>\n",
       "      <td>1.000000e+01</td>\n",
       "      <td>3.552714e-15</td>\n",
       "    </tr>\n",
       "    <tr>\n",
       "      <td>SUCD1m</td>\n",
       "      <td>2.000000e+00</td>\n",
       "      <td>-4.440892e-15</td>\n",
       "    </tr>\n",
       "    <tr>\n",
       "      <td>FADH2ETC</td>\n",
       "      <td>2.000000e+00</td>\n",
       "      <td>7.993606e-15</td>\n",
       "    </tr>\n",
       "    <tr>\n",
       "      <td>CYOR_u10mi</td>\n",
       "      <td>1.200000e+01</td>\n",
       "      <td>-8.881784e-15</td>\n",
       "    </tr>\n",
       "    <tr>\n",
       "      <td>CYOOm2i</td>\n",
       "      <td>6.000000e+00</td>\n",
       "      <td>-4.440892e-15</td>\n",
       "    </tr>\n",
       "    <tr>\n",
       "      <td>...</td>\n",
       "      <td>...</td>\n",
       "      <td>...</td>\n",
       "    </tr>\n",
       "    <tr>\n",
       "      <td>SPODM</td>\n",
       "      <td>0.000000e+00</td>\n",
       "      <td>0.000000e+00</td>\n",
       "    </tr>\n",
       "    <tr>\n",
       "      <td>GTHPi</td>\n",
       "      <td>0.000000e+00</td>\n",
       "      <td>-4.200000e+00</td>\n",
       "    </tr>\n",
       "    <tr>\n",
       "      <td>GTHOr</td>\n",
       "      <td>0.000000e+00</td>\n",
       "      <td>4.440892e-16</td>\n",
       "    </tr>\n",
       "    <tr>\n",
       "      <td>EX_r5p_c</td>\n",
       "      <td>0.000000e+00</td>\n",
       "      <td>-4.400000e+01</td>\n",
       "    </tr>\n",
       "    <tr>\n",
       "      <td>EX_o2s_c</td>\n",
       "      <td>1.110223e-15</td>\n",
       "      <td>4.440892e-15</td>\n",
       "    </tr>\n",
       "  </tbody>\n",
       "</table>\n",
       "<p>76 rows × 2 columns</p>\n",
       "</div>"
      ],
      "text/plain": [
       "<Solution 25.200 at 0x12c0045c0>"
      ]
     },
     "execution_count": 35,
     "metadata": {},
     "output_type": "execute_result"
    }
   ],
   "source": [
    "model_cons.objective = 'ATPM'\n",
    "model_cons.optimize()"
   ]
  },
  {
   "cell_type": "markdown",
   "metadata": {},
   "source": [
    "### 2) Assess the cause of the decrease in ATP yield\n",
    "Using the glycolysis model and the `pyr_to_ATP` and `NADH_to_ATP` pseudo-reactions, the computed yield was 32 ATP per glucose\n",
    "\n",
    "Use the `h_i` metabolite's `summary` method to find the reactions producing and consumine the high energy protons"
   ]
  },
  {
   "cell_type": "code",
   "execution_count": 36,
   "metadata": {},
   "outputs": [
    {
     "data": {
      "text/html": [
       "<div>\n",
       "<style scoped>\n",
       "    .dataframe tbody tr th:only-of-type {\n",
       "        vertical-align: middle;\n",
       "    }\n",
       "\n",
       "    .dataframe tbody tr th {\n",
       "        vertical-align: top;\n",
       "    }\n",
       "\n",
       "    .dataframe thead th {\n",
       "        text-align: right;\n",
       "    }\n",
       "</style>\n",
       "<table border=\"1\" class=\"dataframe\">\n",
       "  <thead>\n",
       "    <tr style=\"text-align: right;\">\n",
       "      <th></th>\n",
       "      <th></th>\n",
       "      <th>PERCENT</th>\n",
       "      <th>FLUX</th>\n",
       "      <th>REACTION_STRING</th>\n",
       "    </tr>\n",
       "    <tr>\n",
       "      <th>RXN_STAT</th>\n",
       "      <th>ID</th>\n",
       "      <th></th>\n",
       "      <th></th>\n",
       "      <th></th>\n",
       "    </tr>\n",
       "  </thead>\n",
       "  <tbody>\n",
       "    <tr>\n",
       "      <td rowspan=\"3\" valign=\"top\">PRODUCING</td>\n",
       "      <td>CYOR_u10mi</td>\n",
       "      <td>42.857143</td>\n",
       "      <td>48.0</td>\n",
       "      <td>2.0 ficytC_m + 2.0 h_m + q10h2_m --&gt; 2.0 focyt...</td>\n",
       "    </tr>\n",
       "    <tr>\n",
       "      <td>NADH2_u10mi</td>\n",
       "      <td>35.714286</td>\n",
       "      <td>40.0</td>\n",
       "      <td>5.0 h_m + nadh_m + q10_m --&gt; 4.0 h_i + nad_m +...</td>\n",
       "    </tr>\n",
       "    <tr>\n",
       "      <td>CYOOm2i</td>\n",
       "      <td>21.428571</td>\n",
       "      <td>24.0</td>\n",
       "      <td>4.0 focytC_m + 8.0 h_m + o2_m --&gt; 4.0 ficytC_m...</td>\n",
       "    </tr>\n",
       "    <tr>\n",
       "      <td rowspan=\"4\" valign=\"top\">CONSUMING</td>\n",
       "      <td>ATPS4mi</td>\n",
       "      <td>75.714286</td>\n",
       "      <td>84.8</td>\n",
       "      <td>adp_m + 4.0 h_i + pi_m --&gt; atp_m + h2o_m + 3.0...</td>\n",
       "    </tr>\n",
       "    <tr>\n",
       "      <td>PItm</td>\n",
       "      <td>20.714286</td>\n",
       "      <td>23.2</td>\n",
       "      <td>h_i + pi_c --&gt; h_m + pi_m</td>\n",
       "    </tr>\n",
       "    <tr>\n",
       "      <td>PYRt2m</td>\n",
       "      <td>1.785714</td>\n",
       "      <td>2.0</td>\n",
       "      <td>h_i + pyr_c --&gt; h_m + pyr_m</td>\n",
       "    </tr>\n",
       "    <tr>\n",
       "      <td>ASPGLUm</td>\n",
       "      <td>1.785714</td>\n",
       "      <td>2.0</td>\n",
       "      <td>asp__L_m + glu__L_c + h_i --&gt; asp__L_c + glu__...</td>\n",
       "    </tr>\n",
       "  </tbody>\n",
       "</table>\n",
       "</div>"
      ],
      "text/plain": [
       "<cobra.core.summary.metabolite_summary.MetaboliteSummary at 0x12c036278>"
      ]
     },
     "execution_count": 36,
     "metadata": {},
     "output_type": "execute_result"
    }
   ],
   "source": [
    "model_cons.metabolites.h_i.summary()"
   ]
  },
  {
   "cell_type": "markdown",
   "metadata": {},
   "source": [
    "### Modeling alternative pathways"
   ]
  },
  {
   "cell_type": "code",
   "execution_count": 29,
   "metadata": {},
   "outputs": [
    {
     "data": {
      "text/html": [
       "<script type=\"text/javascript\">window.PlotlyConfig = {MathJaxConfig: 'local'};</script><script type=\"text/javascript\">if (window.MathJax) {MathJax.Hub.Config({SVG: {font: \"STIX-Web\"}});}</script><script>requirejs.config({paths: { 'plotly': ['https://cdn.plot.ly/plotly-latest.min']},});if(!window._Plotly) {require(['plotly'],function(plotly) {window._Plotly=plotly;});}</script>"
      ],
      "text/vnd.plotly.v1+html": [
       "<script type=\"text/javascript\">window.PlotlyConfig = {MathJaxConfig: 'local'};</script><script type=\"text/javascript\">if (window.MathJax) {MathJax.Hub.Config({SVG: {font: \"STIX-Web\"}});}</script><script>requirejs.config({paths: { 'plotly': ['https://cdn.plot.ly/plotly-latest.min']},});if(!window._Plotly) {require(['plotly'],function(plotly) {window._Plotly=plotly;});}</script>"
      ]
     },
     "metadata": {},
     "output_type": "display_data"
    },
    {
     "data": {
      "text/plain": [
       "<matplotlib.axes._subplots.AxesSubplot at 0x12bbf8da0>"
      ]
     },
     "execution_count": 29,
     "metadata": {},
     "output_type": "execute_result"
    },
    {
     "data": {
      "image/png": "[encoded data removed]",
      "text/plain": [
       "<Figure size 432x288 with 1 Axes>"
      ]
     },
     "metadata": {
      "needs_background": "light"
     },
     "output_type": "display_data"
    }
   ],
   "source": [
    "g6pdh = np.linspace(0, 1, 10)\n",
    "data = []\n",
    "\n",
    "combined = model_cons.copy()\n",
    "combined.reactions.EX_glc__D_c.lower_bound = -1\n",
    "combined.reactions.EX_o2s_c.lower_bound = -1000\n",
    "combined.objective = 'ATPM_c'\n",
    "\n",
    "\n",
    "combined.reactions.G6PDH2r.lower_bound = 1\n",
    "combined.reactions.PGI.upper_bound = 0\n",
    "combined.reactions.PGI.lower_bound = 0\n",
    "sol=combined.optimize()\n",
    "series1 = sol.fluxes[['ATPM_c', 'GTHOr', 'EX_h_c', 'EX_co2_c', 'EX_h2o_c']]\n",
    "series1.name = 'G6PDH(Oxidative PPP)'\n",
    "\n",
    "combined.reactions.G6PDH2r.lower_bound = 0\n",
    "combined.reactions.G6PDH2r.upper_bound = 0\n",
    "combined.reactions.PGI.lower_bound = 1\n",
    "\n",
    "sol = combined.optimize()\n",
    "series2 = sol.fluxes[['ATPM_c', 'GTHOr', 'EX_h_c', 'EX_co2_c', 'EX_h2o_c']]\n",
    "series2.name = 'PGI(Upper Glycolysis)'\n",
    "\n",
    "df = pd.DataFrame([series1, series2])\n",
    "df.columns = ['ATP', 'NADPH', 'H+', 'CO2', 'H2O']\n",
    "df.abs().T.plot(kind='bar')"
   ]
  },
  {
   "cell_type": "markdown",
   "metadata": {},
   "source": [
    "### 2) ATP yield as function of superoxide stress"
   ]
  },
  {
   "cell_type": "code",
   "execution_count": 14,
   "metadata": {},
   "outputs": [
    {
     "name": "stderr",
     "output_type": "stream",
     "text": [
      "No handles with labels found to put in legend.\n"
     ]
    },
    {
     "data": {
      "image/png": "[encoded data removed]",
      "text/plain": [
       "<Figure size 432x288 with 1 Axes>"
      ]
     },
     "metadata": {},
     "output_type": "display_data"
    }
   ],
   "source": [
    "combined = cobra.io.load_json_model('../models/glycolysis_ppp_model.json')\n",
    "uptake_bounds = np.linspace(0, 4)\n",
    "atp = []\n",
    "for b in uptake_bounds:\n",
    "    combined.reactions.EX_o2s_c.lower_bound = -b\n",
    "    combined.reactions.EX_o2s_c.upper_bound = -b\n",
    "    sol = combined.optimize()\n",
    "    atp.append(sol.x_dict['ATPM'])\n",
    "plt.plot(uptake_bounds, atp)\n",
    "plt.legend()\n",
    "plt.xlabel('Superoxide stress', size=15)\n",
    "plt.ylabel('ATP production', size=15)\n",
    "plt.show()"
   ]
  },
  {
   "cell_type": "markdown",
   "metadata": {},
   "source": [
    "### 2) ATP yield as function of superoxide stress and r5p demand for biosynthesis)"
   ]
  },
  {
   "cell_type": "code",
   "execution_count": 1,
   "metadata": {},
   "outputs": [
    {
     "ename": "NameError",
     "evalue": "name 'combined' is not defined",
     "output_type": "error",
     "traceback": [
      "\u001b[0;31m---------------------------------------------------------------------------\u001b[0m",
      "\u001b[0;31mNameError\u001b[0m                                 Traceback (most recent call last)",
      "\u001b[0;32m<ipython-input-1-cee370bd696b>\u001b[0m in \u001b[0;36m<module>\u001b[0;34m\u001b[0m\n\u001b[1;32m      1\u001b[0m \u001b[0;32mfrom\u001b[0m \u001b[0mfba4l\u001b[0m\u001b[0;34m.\u001b[0m\u001b[0mhelper_functions\u001b[0m\u001b[0;34m.\u001b[0m\u001b[0mphase_plane\u001b[0m \u001b[0;32mimport\u001b[0m \u001b[0mcalculate_phenotype_phase_plane\u001b[0m\u001b[0;34m\u001b[0m\u001b[0m\n\u001b[0;32m----> 2\u001b[0;31m \u001b[0mdata\u001b[0m \u001b[0;34m=\u001b[0m \u001b[0mcalculate_phenotype_phase_plane\u001b[0m\u001b[0;34m(\u001b[0m\u001b[0mcombined\u001b[0m\u001b[0;34m,\u001b[0m \u001b[0;34m'EX_o2s_c'\u001b[0m\u001b[0;34m,\u001b[0m \u001b[0;34m'EX_r5p_c'\u001b[0m\u001b[0;34m,\u001b[0m \u001b[0mreaction1_range_max\u001b[0m\u001b[0;34m=\u001b[0m\u001b[0;34m-\u001b[0m\u001b[0;36m15\u001b[0m\u001b[0;34m,\u001b[0m \u001b[0mreaction2_range_max\u001b[0m\u001b[0;34m=\u001b[0m\u001b[0;36m10\u001b[0m\u001b[0;34m)\u001b[0m\u001b[0;34m\u001b[0m\u001b[0m\n\u001b[0m\u001b[1;32m      3\u001b[0m \u001b[0mdata\u001b[0m\u001b[0;34m.\u001b[0m\u001b[0mplot\u001b[0m\u001b[0;34m(\u001b[0m\u001b[0;34m)\u001b[0m\u001b[0;34m\u001b[0m\u001b[0m\n",
      "\u001b[0;31mNameError\u001b[0m: name 'combined' is not defined"
     ]
    }
   ],
   "source": [
    "from fba4l.helper_functions.phase_plane import calculate_phenotype_phase_plane\n",
    "data = calculate_phenotype_phase_plane(combined, 'EX_o2s_c', 'EX_r5p_c', reaction1_range_max=-15, reaction2_range_max=10)\n",
    "data.plot()"
   ]
  },
  {
   "cell_type": "markdown",
   "metadata": {},
   "source": [
    "### 3) Introduction to alternative solutions\n",
    "High ATP yield and low ATP yield solutions"
   ]
  },
  {
   "cell_type": "code",
   "execution_count": 3,
   "metadata": {},
   "outputs": [
    {
     "ename": "NameError",
     "evalue": "name 'cobra' is not defined",
     "output_type": "error",
     "traceback": [
      "\u001b[0;31m---------------------------------------------------------------------------\u001b[0m",
      "\u001b[0;31mNameError\u001b[0m                                 Traceback (most recent call last)",
      "\u001b[0;32m<ipython-input-3-c58eafba2773>\u001b[0m in \u001b[0;36m<module>\u001b[0;34m\u001b[0m\n\u001b[0;32m----> 1\u001b[0;31m \u001b[0mcombined\u001b[0m \u001b[0;34m=\u001b[0m \u001b[0mcobra\u001b[0m\u001b[0;34m.\u001b[0m\u001b[0mio\u001b[0m\u001b[0;34m.\u001b[0m\u001b[0mload_json_model\u001b[0m\u001b[0;34m(\u001b[0m\u001b[0;34m'../models/glycolysis_ppp_model.json'\u001b[0m\u001b[0;34m)\u001b[0m\u001b[0;34m\u001b[0m\u001b[0m\n\u001b[0m\u001b[1;32m      2\u001b[0m \u001b[0mcombined\u001b[0m\u001b[0;34m.\u001b[0m\u001b[0mreactions\u001b[0m\u001b[0;34m.\u001b[0m\u001b[0mEX_o2s_c\u001b[0m\u001b[0;34m.\u001b[0m\u001b[0mupper_bound\u001b[0m \u001b[0;34m=\u001b[0m \u001b[0;36m0\u001b[0m\u001b[0;34m\u001b[0m\u001b[0m\n\u001b[1;32m      3\u001b[0m \u001b[0mcombined\u001b[0m\u001b[0;34m.\u001b[0m\u001b[0mreactions\u001b[0m\u001b[0;34m.\u001b[0m\u001b[0mEX_o2s_c\u001b[0m\u001b[0;34m.\u001b[0m\u001b[0mlower_bound\u001b[0m \u001b[0;34m=\u001b[0m \u001b[0;34m-\u001b[0m\u001b[0;36m20\u001b[0m\u001b[0;34m\u001b[0m\u001b[0m\n\u001b[1;32m      4\u001b[0m \u001b[0mcombined\u001b[0m\u001b[0;34m.\u001b[0m\u001b[0mreactions\u001b[0m\u001b[0;34m.\u001b[0m\u001b[0mEX_glc__D_c\u001b[0m\u001b[0;34m.\u001b[0m\u001b[0mlower_bound\u001b[0m \u001b[0;34m=\u001b[0m \u001b[0;34m-\u001b[0m\u001b[0;36m1\u001b[0m\u001b[0;34m\u001b[0m\u001b[0m\n\u001b[1;32m      5\u001b[0m \u001b[0;34m\u001b[0m\u001b[0m\n",
      "\u001b[0;31mNameError\u001b[0m: name 'cobra' is not defined"
     ]
    }
   ],
   "source": [
    "combined = cobra.io.load_json_model('../models/glycolysis_ppp_model.json')\n",
    "combined.reactions.EX_o2s_c.upper_bound = 0\n",
    "combined.reactions.EX_o2s_c.lower_bound = -20\n",
    "combined.reactions.EX_glc__D_c.lower_bound = -1\n",
    "\n",
    "combined.reactions.EX_r5p_c.lower_bound = 0\n",
    "combined.reactions.EX_r5p_c.upper_bound = 1000\n",
    "\n",
    "rxn = 'ATPM'\n",
    "var_rxn = 'G6PDH2r'\n",
    "var_rxn_2 = 'PGI'\n",
    "combined.objective = rxn\n",
    "obj = combined.optimize().f\n",
    "bounds = np.linspace(0, obj, 10)\n",
    "lower = []\n",
    "upper = []\n",
    "lower_2 = []\n",
    "upper_2 = []\n",
    "for bound in bounds:\n",
    "    combined.reactions.get_by_id(rxn).lower_bound = bound\n",
    "    combined.reactions.get_by_id(rxn).upper_bound = bound\n",
    "\n",
    "    combined.objective = var_rxn\n",
    "    lower.append(combined.optimize('minimize').f)\n",
    "    upper.append(combined.optimize().f)\n",
    "    combined.objective = var_rxn_2\n",
    "    upper_2.append(combined.optimize('minimize').f)\n",
    "    lower_2.append(combined.optimize().f)\n",
    "    \n",
    "    combined.reactions.get_by_id(rxn).lower_bound = 0\n",
    "plt.fill_between(bounds, upper, lower, label='G6PDH(ppp)', alpha=.7)\n",
    "plt.fill_between(bounds, upper_2, lower_2, label='PGI(glycolysis)', alpha=.7)\n",
    "plt.legend()\n",
    "plt.xlabel(rxn + ' flux')\n",
    "plt.ylabel('Range of possible fluxes')\n",
    "plt.savefig(out_loc + 'fva.png')"
   ]
  },
  {
   "cell_type": "markdown",
   "metadata": {},
   "source": [
    "### 4) Sampling"
   ]
  },
  {
   "cell_type": "code",
   "execution_count": 48,
   "metadata": {},
   "outputs": [],
   "source": [
    "combined = cobra.io.load_json_model('../models/glycolysis_ppp_model.json')\n",
    "combined.reactions.EX_glc__D_c.lower_bound = -1\n",
    "combined.reactions.EX_glc__D_c.upper_bound = -1\n",
    "df = cobra.flux_analysis.sample(combined, 5000)"
   ]
  },
  {
   "cell_type": "code",
   "execution_count": 49,
   "metadata": {},
   "outputs": [
    {
     "data": {
      "image/png": "[encoded data removed]",
      "text/plain": [
       "<Figure size 720x360 with 2 Axes>"
      ]
     },
     "metadata": {
      "needs_background": "light"
     },
     "output_type": "display_data"
    }
   ],
   "source": [
    "fig, axes = plt.subplots(1, 2, figsize=(10, 5), sharey=True)\n",
    "ax = axes[0]\n",
    "df['G6PDH2r'].hist(ax=ax)\n",
    "ax.set_xlabel('G6PDH2r flux')\n",
    "ax.set_ylabel('Number of solutions')\n",
    "\n",
    "ax = axes[1]\n",
    "ax = df['PGI'].hist()\n",
    "ax.set_xlabel('PGI flux')\n",
    "ax.figure.savefig(out_loc + 'sampling.png')\n"
   ]
  },
  {
   "cell_type": "markdown",
   "metadata": {},
   "source": [
    "## Interactive PGI vs G6PDH flux split"
   ]
  },
  {
   "cell_type": "code",
   "execution_count": 21,
   "metadata": {},
   "outputs": [
    {
     "data": {
      "text/html": [
       "<script type=\"text/javascript\">window.PlotlyConfig = {MathJaxConfig: 'local'};</script><script type=\"text/javascript\">if (window.MathJax) {MathJax.Hub.Config({SVG: {font: \"STIX-Web\"}});}</script><script>requirejs.config({paths: { 'plotly': ['https://cdn.plot.ly/plotly-latest.min']},});if(!window._Plotly) {require(['plotly'],function(plotly) {window._Plotly=plotly;});}</script>"
      ],
      "text/vnd.plotly.v1+html": [
       "<script type=\"text/javascript\">window.PlotlyConfig = {MathJaxConfig: 'local'};</script><script type=\"text/javascript\">if (window.MathJax) {MathJax.Hub.Config({SVG: {font: \"STIX-Web\"}});}</script><script>requirejs.config({paths: { 'plotly': ['https://cdn.plot.ly/plotly-latest.min']},});if(!window._Plotly) {require(['plotly'],function(plotly) {window._Plotly=plotly;});}</script>"
      ]
     },
     "metadata": {},
     "output_type": "display_data"
    },
    {
     "data": {
      "application/vnd.plotly.v1+json": {
       "config": {
        "linkText": "Export to plot.ly",
        "plotlyServerURL": "https://plot.ly",
        "showLink": false
       },
       "data": [
        {
         "name": "G6PDH = 0.00",
         "type": "bar",
         "uid": "d931cc2b-ea9a-491d-8e00-39672c7b384f",
         "visible": true,
         "x": [
          "ATP",
          "NADPH",
          "PYR",
          "NADH",
          "C02",
          "H"
         ],
         "y": [
          2,
          0,
          2,
          2,
          0,
          6
         ]
        },
        {
         "name": "G6PDH = 0.10",
         "type": "bar",
         "uid": "12211a4c-f224-4521-b15c-a890f4100f4f",
         "visible": false,
         "x": [
          "ATP",
          "NADPH",
          "PYR",
          "NADH",
          "C02",
          "H"
         ],
         "y": [
          1.9666666666666672,
          0.19999999999999996,
          1.9666666666666668,
          1.9666666666666668,
          0.1,
          5.5
         ]
        },
        {
         "name": "G6PDH = 0.20",
         "type": "bar",
         "uid": "bad408e2-aa61-4e40-9a65-0ed2f3545f7e",
         "visible": false,
         "x": [
          "ATP",
          "NADPH",
          "PYR",
          "NADH",
          "C02",
          "H"
         ],
         "y": [
          1.9333333333333347,
          0.3999999999999999,
          1.9333333333333336,
          1.9333333333333336,
          0.2,
          5.000000000000001
         ]
        },
        {
         "name": "G6PDH = 0.30",
         "type": "bar",
         "uid": "7ce27bc8-9395-4544-ad56-0d3e43498456",
         "visible": false,
         "x": [
          "ATP",
          "NADPH",
          "PYR",
          "NADH",
          "C02",
          "H"
         ],
         "y": [
          1.8999999999999997,
          0.5999999999999996,
          1.9,
          1.9,
          0.3,
          4.500000000000001
         ]
        },
        {
         "name": "G6PDH = 0.40",
         "type": "bar",
         "uid": "17de48be-3be0-42d8-9adc-d834a26eb807",
         "visible": false,
         "x": [
          "ATP",
          "NADPH",
          "PYR",
          "NADH",
          "C02",
          "H"
         ],
         "y": [
          1.8666666666666676,
          0.8000000000000004,
          1.8666666666666665,
          1.8666666666666665,
          0.4,
          3.9999999999999982
         ]
        },
        {
         "name": "G6PDH = 0.50",
         "type": "bar",
         "uid": "a07751d6-2324-40c9-b1da-af77adb77733",
         "visible": false,
         "x": [
          "ATP",
          "NADPH",
          "PYR",
          "NADH",
          "C02",
          "H"
         ],
         "y": [
          1.8333333333333335,
          1,
          1.8333333333333335,
          1.8333333333333335,
          0.5,
          3.5
         ]
        },
        {
         "name": "G6PDH = 0.60",
         "type": "bar",
         "uid": "b9f44781-61c9-442a-8a30-05306d9f6102",
         "visible": false,
         "x": [
          "ATP",
          "NADPH",
          "PYR",
          "NADH",
          "C02",
          "H"
         ],
         "y": [
          1.8000000000000007,
          1.1999999999999997,
          1.8000000000000005,
          1.8000000000000005,
          0.6,
          3.0000000000000027
         ]
        },
        {
         "name": "G6PDH = 0.70",
         "type": "bar",
         "uid": "fe157cd0-7b92-4a43-a9bf-00bb506d5bfc",
         "visible": false,
         "x": [
          "ATP",
          "NADPH",
          "PYR",
          "NADH",
          "C02",
          "H"
         ],
         "y": [
          1.766666666666667,
          1.4,
          1.7666666666666666,
          1.7666666666666666,
          0.7,
          2.500000000000001
         ]
        },
        {
         "name": "G6PDH = 0.80",
         "type": "bar",
         "uid": "f1fefb02-155c-4cb5-87df-72b3d06efa53",
         "visible": false,
         "x": [
          "ATP",
          "NADPH",
          "PYR",
          "NADH",
          "C02",
          "H"
         ],
         "y": [
          1.733333333333333,
          1.6,
          1.7333333333333334,
          1.7333333333333334,
          0.8,
          1.9999999999999991
         ]
        },
        {
         "name": "G6PDH = 0.90",
         "type": "bar",
         "uid": "fa3ce7b0-d320-4fd5-9e16-a344ab0816b5",
         "visible": false,
         "x": [
          "ATP",
          "NADPH",
          "PYR",
          "NADH",
          "C02",
          "H"
         ],
         "y": [
          1.700000000000001,
          1.8000000000000003,
          1.7000000000000002,
          1.7000000000000002,
          0.9,
          1.5000000000000009
         ]
        },
        {
         "name": "G6PDH = 1.00",
         "type": "bar",
         "uid": "84b582af-ef9a-44ad-8179-b814e1beed7f",
         "visible": false,
         "x": [
          "ATP",
          "NADPH",
          "PYR",
          "NADH",
          "C02",
          "H"
         ],
         "y": [
          1.6666666666666665,
          2.000000000000001,
          1.6666666666666665,
          1.6666666666666665,
          1,
          0.9999999999999982
         ]
        }
       ],
       "layout": {
        "sliders": [
         {
          "active": 10,
          "currentvalue": {
           "prefix": "G6PDH Flux: "
          },
          "pad": {
           "t": 50
          },
          "steps": [
           {
            "args": [
             "visible",
             [
              true,
              false,
              false,
              false,
              false,
              false,
              false,
              false,
              false,
              false,
              false
             ]
            ],
            "label": "0.0",
            "method": "restyle"
           },
           {
            "args": [
             "visible",
             [
              false,
              true,
              false,
              false,
              false,
              false,
              false,
              false,
              false,
              false,
              false
             ]
            ],
            "label": "0.1",
            "method": "restyle"
           },
           {
            "args": [
             "visible",
             [
              false,
              false,
              true,
              false,
              false,
              false,
              false,
              false,
              false,
              false,
              false
             ]
            ],
            "label": "0.2",
            "method": "restyle"
           },
           {
            "args": [
             "visible",
             [
              false,
              false,
              false,
              true,
              false,
              false,
              false,
              false,
              false,
              false,
              false
             ]
            ],
            "label": "0.3",
            "method": "restyle"
           },
           {
            "args": [
             "visible",
             [
              false,
              false,
              false,
              false,
              true,
              false,
              false,
              false,
              false,
              false,
              false
             ]
            ],
            "label": "0.4",
            "method": "restyle"
           },
           {
            "args": [
             "visible",
             [
              false,
              false,
              false,
              false,
              false,
              true,
              false,
              false,
              false,
              false,
              false
             ]
            ],
            "label": "0.5",
            "method": "restyle"
           },
           {
            "args": [
             "visible",
             [
              false,
              false,
              false,
              false,
              false,
              false,
              true,
              false,
              false,
              false,
              false
             ]
            ],
            "label": "0.6",
            "method": "restyle"
           },
           {
            "args": [
             "visible",
             [
              false,
              false,
              false,
              false,
              false,
              false,
              false,
              true,
              false,
              false,
              false
             ]
            ],
            "label": "0.7",
            "method": "restyle"
           },
           {
            "args": [
             "visible",
             [
              false,
              false,
              false,
              false,
              false,
              false,
              false,
              false,
              true,
              false,
              false
             ]
            ],
            "label": "0.8",
            "method": "restyle"
           },
           {
            "args": [
             "visible",
             [
              false,
              false,
              false,
              false,
              false,
              false,
              false,
              false,
              false,
              true,
              false
             ]
            ],
            "label": "0.9",
            "method": "restyle"
           },
           {
            "args": [
             "visible",
             [
              false,
              false,
              false,
              false,
              false,
              false,
              false,
              false,
              false,
              false,
              true
             ]
            ],
            "label": "1.0",
            "method": "restyle"
           }
          ]
         }
        ],
        "yaxis": {
         "range": [
          0,
          8
         ],
         "tickfont": {
          "color": "rgb(107, 107, 107)",
          "size": 14
         },
         "title": {
          "font": {
           "color": "rgb(107, 107, 107)",
           "size": 16
          },
          "text": "Flux"
         }
        }
       }
      },
      "text/html": [
       "<div id=\"859948aa-10b0-422e-8c12-b6b3710abf9d\" style=\"height: 525px; width: 100%;\" class=\"plotly-graph-div\"></div><script type=\"text/javascript\">require([\"plotly\"], function(Plotly) { window.PLOTLYENV=window.PLOTLYENV || {};window.PLOTLYENV.BASE_URL=\"https://plot.ly\";Plotly.newPlot(\"859948aa-10b0-422e-8c12-b6b3710abf9d\", [{\"name\": \"G6PDH = 0.00\", \"visible\": true, \"x\": [\"ATP\", \"NADPH\", \"PYR\", \"NADH\", \"C02\", \"H\"], \"y\": [2.0, 0.0, 2.0, 2.0, 0.0, 6.0], \"type\": \"bar\", \"uid\": \"701f25c8-d688-4517-8e85-0ad48fa0baf5\"}, {\"name\": \"G6PDH = 0.10\", \"visible\": false, \"x\": [\"ATP\", \"NADPH\", \"PYR\", \"NADH\", \"C02\", \"H\"], \"y\": [1.9666666666666672, 0.19999999999999996, 1.9666666666666668, 1.9666666666666668, 0.1, 5.5], \"type\": \"bar\", \"uid\": \"8873d027-cf80-4636-b6d7-b413467c1a32\"}, {\"name\": \"G6PDH = 0.20\", \"visible\": false, \"x\": [\"ATP\", \"NADPH\", \"PYR\", \"NADH\", \"C02\", \"H\"], \"y\": [1.9333333333333347, 0.3999999999999999, 1.9333333333333336, 1.9333333333333336, 0.2, 5.000000000000001], \"type\": \"bar\", \"uid\": \"0c714f69-9c2f-4127-a843-a139574f8bd2\"}, {\"name\": \"G6PDH = 0.30\", \"visible\": false, \"x\": [\"ATP\", \"NADPH\", \"PYR\", \"NADH\", \"C02\", \"H\"], \"y\": [1.8999999999999997, 0.5999999999999996, 1.9, 1.9, 0.3, 4.500000000000001], \"type\": \"bar\", \"uid\": \"9fb3f833-e7a5-4fba-855f-ad248bca8fee\"}, {\"name\": \"G6PDH = 0.40\", \"visible\": false, \"x\": [\"ATP\", \"NADPH\", \"PYR\", \"NADH\", \"C02\", \"H\"], \"y\": [1.8666666666666676, 0.8000000000000004, 1.8666666666666665, 1.8666666666666665, 0.4, 3.9999999999999982], \"type\": \"bar\", \"uid\": \"927fc781-272c-45e1-811d-0cf77328f131\"}, {\"name\": \"G6PDH = 0.50\", \"visible\": false, \"x\": [\"ATP\", \"NADPH\", \"PYR\", \"NADH\", \"C02\", \"H\"], \"y\": [1.8333333333333335, 1.0, 1.8333333333333335, 1.8333333333333335, 0.5, 3.5], \"type\": \"bar\", \"uid\": \"1f7ae1cf-e2c6-4c77-b464-97c681c9084b\"}, {\"name\": \"G6PDH = 0.60\", \"visible\": false, \"x\": [\"ATP\", \"NADPH\", \"PYR\", \"NADH\", \"C02\", \"H\"], \"y\": [1.8000000000000007, 1.1999999999999997, 1.8000000000000005, 1.8000000000000005, 0.6, 3.0000000000000027], \"type\": \"bar\", \"uid\": \"629ad4fb-2930-4e19-bf8b-7cc826b92a68\"}, {\"name\": \"G6PDH = 0.70\", \"visible\": false, \"x\": [\"ATP\", \"NADPH\", \"PYR\", \"NADH\", \"C02\", \"H\"], \"y\": [1.766666666666667, 1.4, 1.7666666666666666, 1.7666666666666666, 0.7, 2.500000000000001], \"type\": \"bar\", \"uid\": \"3318b8fa-aeef-408f-8c32-828747cdbd5f\"}, {\"name\": \"G6PDH = 0.80\", \"visible\": false, \"x\": [\"ATP\", \"NADPH\", \"PYR\", \"NADH\", \"C02\", \"H\"], \"y\": [1.733333333333333, 1.6, 1.7333333333333334, 1.7333333333333334, 0.8, 1.9999999999999991], \"type\": \"bar\", \"uid\": \"af3a2f44-2d09-4032-8613-a764fc702305\"}, {\"name\": \"G6PDH = 0.90\", \"visible\": false, \"x\": [\"ATP\", \"NADPH\", \"PYR\", \"NADH\", \"C02\", \"H\"], \"y\": [1.700000000000001, 1.8000000000000003, 1.7000000000000002, 1.7000000000000002, 0.9, 1.5000000000000009], \"type\": \"bar\", \"uid\": \"2df64538-f9e9-4f53-8333-f854a714a7d7\"}, {\"name\": \"G6PDH = 1.00\", \"visible\": false, \"x\": [\"ATP\", \"NADPH\", \"PYR\", \"NADH\", \"C02\", \"H\"], \"y\": [1.6666666666666665, 2.000000000000001, 1.6666666666666665, 1.6666666666666665, 1.0, 0.9999999999999982], \"type\": \"bar\", \"uid\": \"a9b6614f-6db4-4e1b-bfc4-13f90df3d5f2\"}], {\"sliders\": [{\"active\": 10, \"currentvalue\": {\"prefix\": \"G6PDH Flux: \"}, \"pad\": {\"t\": 50}, \"steps\": [{\"args\": [\"visible\", [true, false, false, false, false, false, false, false, false, false, false]], \"label\": \"0.0\", \"method\": \"restyle\"}, {\"args\": [\"visible\", [false, true, false, false, false, false, false, false, false, false, false]], \"label\": \"0.1\", \"method\": \"restyle\"}, {\"args\": [\"visible\", [false, false, true, false, false, false, false, false, false, false, false]], \"label\": \"0.2\", \"method\": \"restyle\"}, {\"args\": [\"visible\", [false, false, false, true, false, false, false, false, false, false, false]], \"label\": \"0.3\", \"method\": \"restyle\"}, {\"args\": [\"visible\", [false, false, false, false, true, false, false, false, false, false, false]], \"label\": \"0.4\", \"method\": \"restyle\"}, {\"args\": [\"visible\", [false, false, false, false, false, true, false, false, false, false, false]], \"label\": \"0.5\", \"method\": \"restyle\"}, {\"args\": [\"visible\", [false, false, false, false, false, false, true, false, false, false, false]], \"label\": \"0.6\", \"method\": \"restyle\"}, {\"args\": [\"visible\", [false, false, false, false, false, false, false, true, false, false, false]], \"label\": \"0.7\", \"method\": \"restyle\"}, {\"args\": [\"visible\", [false, false, false, false, false, false, false, false, true, false, false]], \"label\": \"0.8\", \"method\": \"restyle\"}, {\"args\": [\"visible\", [false, false, false, false, false, false, false, false, false, true, false]], \"label\": \"0.9\", \"method\": \"restyle\"}, {\"args\": [\"visible\", [false, false, false, false, false, false, false, false, false, false, true]], \"label\": \"1.0\", \"method\": \"restyle\"}]}], \"yaxis\": {\"range\": [0, 8], \"tickfont\": {\"color\": \"rgb(107, 107, 107)\", \"size\": 14}, \"title\": {\"text\": \"Flux\", \"font\": {\"color\": \"rgb(107, 107, 107)\", \"size\": 16}}}}, {\"showLink\": false, \"linkText\": \"Export to plot.ly\", \"plotlyServerURL\": \"https://plot.ly\"})});</script><script type=\"text/javascript\">window.addEventListener(\"resize\", function(){window._Plotly.Plots.resize(document.getElementById(\"859948aa-10b0-422e-8c12-b6b3710abf9d\"));});</script>"
      ],
      "text/vnd.plotly.v1+html": [
       "<div id=\"859948aa-10b0-422e-8c12-b6b3710abf9d\" style=\"height: 525px; width: 100%;\" class=\"plotly-graph-div\"></div><script type=\"text/javascript\">require([\"plotly\"], function(Plotly) { window.PLOTLYENV=window.PLOTLYENV || {};window.PLOTLYENV.BASE_URL=\"https://plot.ly\";Plotly.newPlot(\"859948aa-10b0-422e-8c12-b6b3710abf9d\", [{\"name\": \"G6PDH = 0.00\", \"visible\": true, \"x\": [\"ATP\", \"NADPH\", \"PYR\", \"NADH\", \"C02\", \"H\"], \"y\": [2.0, 0.0, 2.0, 2.0, 0.0, 6.0], \"type\": \"bar\", \"uid\": \"701f25c8-d688-4517-8e85-0ad48fa0baf5\"}, {\"name\": \"G6PDH = 0.10\", \"visible\": false, \"x\": [\"ATP\", \"NADPH\", \"PYR\", \"NADH\", \"C02\", \"H\"], \"y\": [1.9666666666666672, 0.19999999999999996, 1.9666666666666668, 1.9666666666666668, 0.1, 5.5], \"type\": \"bar\", \"uid\": \"8873d027-cf80-4636-b6d7-b413467c1a32\"}, {\"name\": \"G6PDH = 0.20\", \"visible\": false, \"x\": [\"ATP\", \"NADPH\", \"PYR\", \"NADH\", \"C02\", \"H\"], \"y\": [1.9333333333333347, 0.3999999999999999, 1.9333333333333336, 1.9333333333333336, 0.2, 5.000000000000001], \"type\": \"bar\", \"uid\": \"0c714f69-9c2f-4127-a843-a139574f8bd2\"}, {\"name\": \"G6PDH = 0.30\", \"visible\": false, \"x\": [\"ATP\", \"NADPH\", \"PYR\", \"NADH\", \"C02\", \"H\"], \"y\": [1.8999999999999997, 0.5999999999999996, 1.9, 1.9, 0.3, 4.500000000000001], \"type\": \"bar\", \"uid\": \"9fb3f833-e7a5-4fba-855f-ad248bca8fee\"}, {\"name\": \"G6PDH = 0.40\", \"visible\": false, \"x\": [\"ATP\", \"NADPH\", \"PYR\", \"NADH\", \"C02\", \"H\"], \"y\": [1.8666666666666676, 0.8000000000000004, 1.8666666666666665, 1.8666666666666665, 0.4, 3.9999999999999982], \"type\": \"bar\", \"uid\": \"927fc781-272c-45e1-811d-0cf77328f131\"}, {\"name\": \"G6PDH = 0.50\", \"visible\": false, \"x\": [\"ATP\", \"NADPH\", \"PYR\", \"NADH\", \"C02\", \"H\"], \"y\": [1.8333333333333335, 1.0, 1.8333333333333335, 1.8333333333333335, 0.5, 3.5], \"type\": \"bar\", \"uid\": \"1f7ae1cf-e2c6-4c77-b464-97c681c9084b\"}, {\"name\": \"G6PDH = 0.60\", \"visible\": false, \"x\": [\"ATP\", \"NADPH\", \"PYR\", \"NADH\", \"C02\", \"H\"], \"y\": [1.8000000000000007, 1.1999999999999997, 1.8000000000000005, 1.8000000000000005, 0.6, 3.0000000000000027], \"type\": \"bar\", \"uid\": \"629ad4fb-2930-4e19-bf8b-7cc826b92a68\"}, {\"name\": \"G6PDH = 0.70\", \"visible\": false, \"x\": [\"ATP\", \"NADPH\", \"PYR\", \"NADH\", \"C02\", \"H\"], \"y\": [1.766666666666667, 1.4, 1.7666666666666666, 1.7666666666666666, 0.7, 2.500000000000001], \"type\": \"bar\", \"uid\": \"3318b8fa-aeef-408f-8c32-828747cdbd5f\"}, {\"name\": \"G6PDH = 0.80\", \"visible\": false, \"x\": [\"ATP\", \"NADPH\", \"PYR\", \"NADH\", \"C02\", \"H\"], \"y\": [1.733333333333333, 1.6, 1.7333333333333334, 1.7333333333333334, 0.8, 1.9999999999999991], \"type\": \"bar\", \"uid\": \"af3a2f44-2d09-4032-8613-a764fc702305\"}, {\"name\": \"G6PDH = 0.90\", \"visible\": false, \"x\": [\"ATP\", \"NADPH\", \"PYR\", \"NADH\", \"C02\", \"H\"], \"y\": [1.700000000000001, 1.8000000000000003, 1.7000000000000002, 1.7000000000000002, 0.9, 1.5000000000000009], \"type\": \"bar\", \"uid\": \"2df64538-f9e9-4f53-8333-f854a714a7d7\"}, {\"name\": \"G6PDH = 1.00\", \"visible\": false, \"x\": [\"ATP\", \"NADPH\", \"PYR\", \"NADH\", \"C02\", \"H\"], \"y\": [1.6666666666666665, 2.000000000000001, 1.6666666666666665, 1.6666666666666665, 1.0, 0.9999999999999982], \"type\": \"bar\", \"uid\": \"a9b6614f-6db4-4e1b-bfc4-13f90df3d5f2\"}], {\"sliders\": [{\"active\": 10, \"currentvalue\": {\"prefix\": \"G6PDH Flux: \"}, \"pad\": {\"t\": 50}, \"steps\": [{\"args\": [\"visible\", [true, false, false, false, false, false, false, false, false, false, false]], \"label\": \"0.0\", \"method\": \"restyle\"}, {\"args\": [\"visible\", [false, true, false, false, false, false, false, false, false, false, false]], \"label\": \"0.1\", \"method\": \"restyle\"}, {\"args\": [\"visible\", [false, false, true, false, false, false, false, false, false, false, false]], \"label\": \"0.2\", \"method\": \"restyle\"}, {\"args\": [\"visible\", [false, false, false, true, false, false, false, false, false, false, false]], \"label\": \"0.3\", \"method\": \"restyle\"}, {\"args\": [\"visible\", [false, false, false, false, true, false, false, false, false, false, false]], \"label\": \"0.4\", \"method\": \"restyle\"}, {\"args\": [\"visible\", [false, false, false, false, false, true, false, false, false, false, false]], \"label\": \"0.5\", \"method\": \"restyle\"}, {\"args\": [\"visible\", [false, false, false, false, false, false, true, false, false, false, false]], \"label\": \"0.6\", \"method\": \"restyle\"}, {\"args\": [\"visible\", [false, false, false, false, false, false, false, true, false, false, false]], \"label\": \"0.7\", \"method\": \"restyle\"}, {\"args\": [\"visible\", [false, false, false, false, false, false, false, false, true, false, false]], \"label\": \"0.8\", \"method\": \"restyle\"}, {\"args\": [\"visible\", [false, false, false, false, false, false, false, false, false, true, false]], \"label\": \"0.9\", \"method\": \"restyle\"}, {\"args\": [\"visible\", [false, false, false, false, false, false, false, false, false, false, true]], \"label\": \"1.0\", \"method\": \"restyle\"}]}], \"yaxis\": {\"range\": [0, 8], \"tickfont\": {\"color\": \"rgb(107, 107, 107)\", \"size\": 14}, \"title\": {\"text\": \"Flux\", \"font\": {\"color\": \"rgb(107, 107, 107)\", \"size\": 16}}}}, {\"showLink\": false, \"linkText\": \"Export to plot.ly\", \"plotlyServerURL\": \"https://plot.ly\"})});</script><script type=\"text/javascript\">window.addEventListener(\"resize\", function(){window._Plotly.Plots.resize(document.getElementById(\"859948aa-10b0-422e-8c12-b6b3710abf9d\"));});</script>"
      ]
     },
     "metadata": {},
     "output_type": "display_data"
    }
   ],
   "source": [
    "\n",
    "init_notebook_mode(connected=True)\n",
    "\n",
    "g6pdh = np.linspace(0, 1, 11)\n",
    "data = []\n",
    "\n",
    "combined = cobra.io.load_json_model('../models/glycolysis_ppp_model.json')\n",
    "combined.reactions.EX_glc__D_c.lower_bound = -1\n",
    "combined.objective = 'ATPM'\n",
    "combined.reactions.pyr_to_ATP.knock_out()\n",
    "combined.reactions.NADH_to_ATP.knock_out()\n",
    "r = cobra.Reaction('NADHM')\n",
    "combined.add_reaction(r)\n",
    "r.build_reaction_from_string('nadh_c -> nad_c + h_c')\n",
    "combined.reactions.EX_lac__L_c.upper_bound = 0\n",
    "\n",
    "steps = []\n",
    "for q, i in enumerate(g6pdh):\n",
    "    i = round(i, 1)\n",
    "    combined.reactions.G6PDH2r.lower_bound = i\n",
    "    combined.reactions.G6PDH2r.upper_bound = i\n",
    "    sol = combined.optimize()\n",
    "    data.append(go.Bar(visible = False,\n",
    "         name = 'G6PDH = %.2f' % i,\n",
    "         x = ['ATP', 'NADPH', 'PYR', 'NADH', 'C02', 'H'],\n",
    "         y = [sol.fluxes['ATPM'], abs(sol.fluxes['GTHOr']), \n",
    "              sol.fluxes['EX_pyr_c'], sol.fluxes['NADHM'],\n",
    "              sol.fluxes['EX_co2_c'], abs(sol.fluxes['EX_h_c'])]))\n",
    "\n",
    "\n",
    "    step = dict(\n",
    "        method = 'restyle',  \n",
    "        label = i,\n",
    "        args = ['visible', [False] * len(g6pdh)],\n",
    "    )\n",
    "    step['args'][1][q] = True # Toggle i'th trace to \"visible\"\n",
    "    steps.append(step)\n",
    "\n",
    "data[0]['visible'] = True\n",
    "\n",
    "sliders = [dict(\n",
    "    active = 10,\n",
    "    currentvalue = {\"prefix\": \"G6PDH Flux: \"},\n",
    "    pad = {\"t\": 50},\n",
    "    steps = steps\n",
    ")]\n",
    "\n",
    "layout = dict(sliders=sliders,\n",
    "              yaxis=dict(\n",
    "                      title='Flux',\n",
    "                titlefont=dict(\n",
    "                    size=16,\n",
    "                    color='rgb(107, 107, 107)'\n",
    "                ),\n",
    "                tickfont=dict(\n",
    "                    size=14,\n",
    "                    color='rgb(107, 107, 107)'\n",
    "                ),\n",
    "                range=[0, 8]\n",
    "            ))\n",
    "\n",
    "fig = dict(data=data, layout=layout)\n",
    "\n",
    "iplot(fig)"
   ]
  }
 ],
 "metadata": {
  "kernelspec": {
   "display_name": "qbio18",
   "language": "python",
   "name": "qbio18"
  },
  "language_info": {
   "codemirror_mode": {
    "name": "ipython",
    "version": 3
   },
   "file_extension": ".py",
   "mimetype": "text/x-python",
   "name": "python",
   "nbconvert_exporter": "python",
   "pygments_lexer": "ipython3",
   "version": "3.6.4"
  }
 },
 "nbformat": 4,
 "nbformat_minor": 2
}
