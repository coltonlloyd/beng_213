{
 "cells": [
  {
   "cell_type": "code",
   "execution_count": 1,
   "metadata": {},
   "outputs": [],
   "source": [
    "from __future__ import print_function\n",
    "import cobra\n",
    "from matplotlib import pyplot as plt\n",
    "\n",
    "import os\n",
    "import pandas as pd\n",
    "import numpy as np\n"
   ]
  },
  {
   "cell_type": "code",
   "execution_count": 2,
   "metadata": {},
   "outputs": [],
   "source": [
    "plt.rcParams['axes.labelsize'] = 'x-large'\n",
    "plt.rcParams['axes.linewidth'] = 1.5\n",
    "plt.rcParams['lines.linewidth'] = 3"
   ]
  },
  {
   "cell_type": "code",
   "execution_count": 3,
   "metadata": {},
   "outputs": [],
   "source": [
    "model_cons = cobra.io.load_json_model('../resources/glycolysis_ppp_tca_etc_model.json')"
   ]
  },
  {
   "cell_type": "markdown",
   "metadata": {},
   "source": [
    "## A) Revisiting old assumptions\n",
    "### 1) Set the objective to ATPM and optimize"
   ]
  },
  {
   "cell_type": "code",
   "execution_count": 4,
   "metadata": {},
   "outputs": [
    {
     "data": {
      "text/html": [
       "<strong><em>Optimal</em> solution with objective value 25.200</strong><br><div>\n",
       "<style scoped>\n",
       "    .dataframe tbody tr th:only-of-type {\n",
       "        vertical-align: middle;\n",
       "    }\n",
       "\n",
       "    .dataframe tbody tr th {\n",
       "        vertical-align: top;\n",
       "    }\n",
       "\n",
       "    .dataframe thead th {\n",
       "        text-align: right;\n",
       "    }\n",
       "</style>\n",
       "<table border=\"1\" class=\"dataframe\">\n",
       "  <thead>\n",
       "    <tr style=\"text-align: right;\">\n",
       "      <th></th>\n",
       "      <th>fluxes</th>\n",
       "      <th>reduced_costs</th>\n",
       "    </tr>\n",
       "  </thead>\n",
       "  <tbody>\n",
       "    <tr>\n",
       "      <td>NADH2_u10mi</td>\n",
       "      <td>1.000000e+01</td>\n",
       "      <td>3.552714e-15</td>\n",
       "    </tr>\n",
       "    <tr>\n",
       "      <td>SUCD1m</td>\n",
       "      <td>2.000000e+00</td>\n",
       "      <td>-4.440892e-15</td>\n",
       "    </tr>\n",
       "    <tr>\n",
       "      <td>FADH2ETC</td>\n",
       "      <td>2.000000e+00</td>\n",
       "      <td>7.993606e-15</td>\n",
       "    </tr>\n",
       "    <tr>\n",
       "      <td>CYOR_u10mi</td>\n",
       "      <td>1.200000e+01</td>\n",
       "      <td>-8.881784e-15</td>\n",
       "    </tr>\n",
       "    <tr>\n",
       "      <td>CYOOm2i</td>\n",
       "      <td>6.000000e+00</td>\n",
       "      <td>-4.440892e-15</td>\n",
       "    </tr>\n",
       "    <tr>\n",
       "      <td>...</td>\n",
       "      <td>...</td>\n",
       "      <td>...</td>\n",
       "    </tr>\n",
       "    <tr>\n",
       "      <td>SPODM</td>\n",
       "      <td>0.000000e+00</td>\n",
       "      <td>0.000000e+00</td>\n",
       "    </tr>\n",
       "    <tr>\n",
       "      <td>GTHPi</td>\n",
       "      <td>0.000000e+00</td>\n",
       "      <td>-4.200000e+00</td>\n",
       "    </tr>\n",
       "    <tr>\n",
       "      <td>GTHOr</td>\n",
       "      <td>0.000000e+00</td>\n",
       "      <td>4.440892e-16</td>\n",
       "    </tr>\n",
       "    <tr>\n",
       "      <td>EX_r5p_c</td>\n",
       "      <td>0.000000e+00</td>\n",
       "      <td>-4.400000e+01</td>\n",
       "    </tr>\n",
       "    <tr>\n",
       "      <td>EX_o2s_c</td>\n",
       "      <td>1.110223e-15</td>\n",
       "      <td>4.440892e-15</td>\n",
       "    </tr>\n",
       "  </tbody>\n",
       "</table>\n",
       "<p>76 rows × 2 columns</p>\n",
       "</div>"
      ],
      "text/plain": [
       "<Solution 25.200 at 0x128a78da0>"
      ]
     },
     "execution_count": 4,
     "metadata": {},
     "output_type": "execute_result"
    }
   ],
   "source": [
    "model_cons.objective = 'ATPM'\n",
    "model_cons.optimize()"
   ]
  },
  {
   "cell_type": "markdown",
   "metadata": {},
   "source": [
    "### 2) Assess the cause of the decrease in ATP yield\n",
    "Using the glycolysis model and the `pyr_to_ATP` and `NADH_to_ATP` pseudo-reactions, the computed yield was 32 ATP per glucose\n",
    "\n",
    "Use the `h_i` metabolite's `summary` method to find the reactions producing and consumine the high energy protons"
   ]
  },
  {
   "cell_type": "code",
   "execution_count": 5,
   "metadata": {},
   "outputs": [
    {
     "data": {
      "text/html": [
       "<div>\n",
       "<style scoped>\n",
       "    .dataframe tbody tr th:only-of-type {\n",
       "        vertical-align: middle;\n",
       "    }\n",
       "\n",
       "    .dataframe tbody tr th {\n",
       "        vertical-align: top;\n",
       "    }\n",
       "\n",
       "    .dataframe thead th {\n",
       "        text-align: right;\n",
       "    }\n",
       "</style>\n",
       "<table border=\"1\" class=\"dataframe\">\n",
       "  <thead>\n",
       "    <tr style=\"text-align: right;\">\n",
       "      <th></th>\n",
       "      <th></th>\n",
       "      <th>PERCENT</th>\n",
       "      <th>FLUX</th>\n",
       "      <th>REACTION_STRING</th>\n",
       "    </tr>\n",
       "    <tr>\n",
       "      <th>RXN_STAT</th>\n",
       "      <th>ID</th>\n",
       "      <th></th>\n",
       "      <th></th>\n",
       "      <th></th>\n",
       "    </tr>\n",
       "  </thead>\n",
       "  <tbody>\n",
       "    <tr>\n",
       "      <td rowspan=\"3\" valign=\"top\">PRODUCING</td>\n",
       "      <td>CYOR_u10mi</td>\n",
       "      <td>42.857143</td>\n",
       "      <td>48.0</td>\n",
       "      <td>2.0 ficytC_m + 2.0 h_m + q10h2_m --&gt; 2.0 focyt...</td>\n",
       "    </tr>\n",
       "    <tr>\n",
       "      <td>NADH2_u10mi</td>\n",
       "      <td>35.714286</td>\n",
       "      <td>40.0</td>\n",
       "      <td>5.0 h_m + nadh_m + q10_m --&gt; 4.0 h_i + nad_m +...</td>\n",
       "    </tr>\n",
       "    <tr>\n",
       "      <td>CYOOm2i</td>\n",
       "      <td>21.428571</td>\n",
       "      <td>24.0</td>\n",
       "      <td>4.0 focytC_m + 8.0 h_m + o2_m --&gt; 4.0 ficytC_m...</td>\n",
       "    </tr>\n",
       "    <tr>\n",
       "      <td rowspan=\"4\" valign=\"top\">CONSUMING</td>\n",
       "      <td>ATPS4mi</td>\n",
       "      <td>75.714286</td>\n",
       "      <td>84.8</td>\n",
       "      <td>adp_m + 4.0 h_i + pi_m --&gt; atp_m + h2o_m + 3.0...</td>\n",
       "    </tr>\n",
       "    <tr>\n",
       "      <td>PItm</td>\n",
       "      <td>20.714286</td>\n",
       "      <td>23.2</td>\n",
       "      <td>h_i + pi_c --&gt; h_m + pi_m</td>\n",
       "    </tr>\n",
       "    <tr>\n",
       "      <td>PYRt2m</td>\n",
       "      <td>1.785714</td>\n",
       "      <td>2.0</td>\n",
       "      <td>h_i + pyr_c --&gt; h_m + pyr_m</td>\n",
       "    </tr>\n",
       "    <tr>\n",
       "      <td>ASPGLUm</td>\n",
       "      <td>1.785714</td>\n",
       "      <td>2.0</td>\n",
       "      <td>asp__L_m + glu__L_c + h_i --&gt; asp__L_c + glu__...</td>\n",
       "    </tr>\n",
       "  </tbody>\n",
       "</table>\n",
       "</div>"
      ],
      "text/plain": [
       "<cobra.core.summary.metabolite_summary.MetaboliteSummary at 0x113278fd0>"
      ]
     },
     "execution_count": 5,
     "metadata": {},
     "output_type": "execute_result"
    }
   ],
   "source": [
    "model_cons.metabolites.h_i.summary()"
   ]
  },
  {
   "cell_type": "markdown",
   "metadata": {},
   "source": [
    "## B) Modeling alternative pathways\n",
    "\n",
    "### 1) Characterize the consequence of using each of the \"extreme\" options\n",
    "\n",
    "Knock out PGI and optimize for ATPM flux. Display the fluxes through the following reactions:\n",
    "\n",
    "| ID      | Interpretation \n",
    "| :-------------: |:-------------:|\n",
    "| ATPM | ATP production potential |\n",
    "| GTHOr | NADPH produced | \n",
    "| EX_h_c | Protons produced    | \n",
    "| EX_co2_c | CO$_2$ produced     | \n",
    "| EX_h2o_c | Water produced     | \n",
    "\n",
    "Repeat analysis with G6PDH2r knocked out"
   ]
  },
  {
   "cell_type": "code",
   "execution_count": 21,
   "metadata": {},
   "outputs": [
    {
     "data": {
      "text/plain": [
       "<matplotlib.axes._subplots.AxesSubplot at 0x12aeac0b8>"
      ]
     },
     "execution_count": 21,
     "metadata": {},
     "output_type": "execute_result"
    },
    {
     "data": {
      "image/png": "[encoded data removed]",
      "text/plain": [
       "<Figure size 432x288 with 1 Axes>"
      ]
     },
     "metadata": {
      "needs_background": "light"
     },
     "output_type": "display_data"
    }
   ],
   "source": [
    "model = model_cons.copy()\n",
    "\n",
    "with model:\n",
    "    model.reactions.PGI.knock_out()\n",
    "    sol=model.optimize()\n",
    "    series1 = sol.fluxes[['ATPM', 'GTHOr', 'EX_h_c', 'EX_co2_c', 'EX_h2o_c']]\n",
    "    series1.name = 'G6PDH(Oxidative PPP)'\n",
    "\n",
    "with model:\n",
    "    model.reactions.G6PDH2r.knock_out()\n",
    "\n",
    "    sol = model.optimize()\n",
    "    series2 = sol.fluxes[['ATPM', 'GTHOr', 'EX_h_c', 'EX_co2_c', 'EX_h2o_c']]\n",
    "    series2.name = 'PGI(Upper Glycolysis)'\n",
    "\n",
    "df = pd.DataFrame([series1, series2])\n",
    "df.columns = ['ATP', 'NADPH', 'H+', 'CO2', 'H2O']\n",
    "df.abs().T.plot(kind='bar')"
   ]
  },
  {
   "cell_type": "markdown",
   "metadata": {},
   "source": [
    "### 2) Characterizing the solution space: Flux variability analysis (FVA)\n",
    "\n",
    "Maximize and minimize the flux through G6PDH2r and PGI for values of ATPM form 0 to the maximum values\n",
    " - **Note** minimization is performed by passing 'minimize' into `optimize` method\n",
    " \n",
    "Use the `plot_fva` to visualize results. Store the outpus in lists corresponding to those in `plot_fva`."
   ]
  },
  {
   "cell_type": "code",
   "execution_count": 18,
   "metadata": {},
   "outputs": [],
   "source": [
    "def plot_fva(atpm_values, max_g6pdh_values, max_pgi_values, min_g6pdh_values, min_pgi_values):\n",
    "    \"\"\"\n",
    "    Parameters\n",
    "    ----------\n",
    "    atpm_values : list\n",
    "        list of ATPM flux values from 0 to max\n",
    "        \n",
    "    max_g6pdh_values : list\n",
    "        list of maximum G6PDH2r flux values at the ATPM fluxes in atpm_values\n",
    "    max_pgi_values : list\n",
    "        list of maximum PGI flux values at the ATPM fluxes in atpm_values\n",
    "\n",
    "    min_g6pdh_values : list \n",
    "        list of minimum G6PDH2r flux values at the ATPM fluxes in atpm_values\n",
    "\n",
    "    min_pgi_values : list\n",
    "        list of minimum PGI flux values at the ATPM fluxes in atpm_values\n",
    "\n",
    "    \"\"\"\n",
    "    plt.fill_between(atpm_values, max_g6pdh_values, min_g6pdh_values, \n",
    "                     label='G6PDH(ppp)', alpha=.7)\n",
    "    plt.fill_between(atpm_values, max_pgi_values, min_pgi_values, \n",
    "                     label='PGI(glycolysis)', alpha=.7)\n",
    "    plt.legend()\n",
    "    plt.xlabel('ATPM flux')\n",
    "    plt.ylabel('Range of possible fluxes')"
   ]
  },
  {
   "cell_type": "code",
   "execution_count": 17,
   "metadata": {},
   "outputs": [
    {
     "data": {
      "image/png": "[encoded data removed]",
      "text/plain": [
       "<Figure size 432x288 with 1 Axes>"
      ]
     },
     "metadata": {
      "needs_background": "light"
     },
     "output_type": "display_data"
    }
   ],
   "source": [
    "combined = model_cons.copy()\n",
    "rxn = 'ATPM'\n",
    "var_rxn = 'G6PDH2r'\n",
    "var_rxn_2 = 'PGI'\n",
    "combined.objective = rxn\n",
    "obj = combined.optimize().objective_value\n",
    "bounds = np.linspace(0, obj, 10)\n",
    "lower = []\n",
    "upper = []\n",
    "lower_2 = []\n",
    "upper_2 = []\n",
    "for bound in bounds:\n",
    "    combined.reactions.get_by_id(rxn).lower_bound = bound\n",
    "    combined.reactions.get_by_id(rxn).upper_bound = bound\n",
    "\n",
    "    combined.objective = var_rxn\n",
    "    lower.append(combined.optimize('minimize').objective_value)\n",
    "    upper.append(combined.optimize().objective_value)\n",
    "    combined.objective = var_rxn_2\n",
    "    upper_2.append(combined.optimize('minimize').objective_value)\n",
    "    lower_2.append(combined.optimize().objective_value)\n",
    "    \n",
    "    combined.reactions.get_by_id(rxn).lower_bound = 0\n",
    "\n",
    "\n",
    "plot_fva(bounds, upper, upper_2, lower, lower_2)"
   ]
  },
  {
   "cell_type": "markdown",
   "metadata": {},
   "source": [
    "### 3) Characterizing solution space (sampling)\n",
    "\n",
    "Use the `cobra.sampling` method to sample the model 1000 times.\n",
    "\n",
    "**Note**: this returns a dataframe. You can view the solutions with "
   ]
  },
  {
   "cell_type": "code",
   "execution_count": 27,
   "metadata": {},
   "outputs": [
    {
     "data": {
      "text/plain": [
       "<module 'cobra.sampling' from '/Users/coltonlloyd/Envs/qbio18/lib/python3.6/site-packages/cobra/sampling/__init__.py'>"
      ]
     },
     "execution_count": 27,
     "metadata": {},
     "output_type": "execute_result"
    }
   ],
   "source": [
    "cobra.sampling"
   ]
  },
  {
   "cell_type": "code",
   "execution_count": 28,
   "metadata": {},
   "outputs": [],
   "source": [
    "combined =model_cons.copy()\n",
    "df = cobra.sampling.sample(combined, 1000)"
   ]
  },
  {
   "cell_type": "code",
   "execution_count": 29,
   "metadata": {},
   "outputs": [
    {
     "data": {
      "text/plain": [
       "array([[<matplotlib.axes._subplots.AxesSubplot object at 0x12bb164a8>,\n",
       "        <matplotlib.axes._subplots.AxesSubplot object at 0x12baee7b8>]],\n",
       "      dtype=object)"
      ]
     },
     "execution_count": 29,
     "metadata": {},
     "output_type": "execute_result"
    },
    {
     "data": {
      "image/png": "[encoded data removed]",
      "text/plain": [
       "<Figure size 432x288 with 2 Axes>"
      ]
     },
     "metadata": {
      "needs_background": "light"
     },
     "output_type": "display_data"
    }
   ],
   "source": [
    "df[['G6PDH2r', 'PGI']].hist()"
   ]
  },
  {
   "cell_type": "code",
   "execution_count": 9,
   "metadata": {},
   "outputs": [
    {
     "data": {
      "text/plain": [
       "Text(0.5,0,'PGI flux')"
      ]
     },
     "execution_count": 9,
     "metadata": {},
     "output_type": "execute_result"
    },
    {
     "data": {
      "image/png": "[encoded data removed]",
      "text/plain": [
       "<Figure size 720x360 with 2 Axes>"
      ]
     },
     "metadata": {
      "needs_background": "light"
     },
     "output_type": "display_data"
    }
   ],
   "source": [
    "fig, axes = plt.subplots(1, 2, figsize=(10, 5), sharey=True)\n",
    "ax = axes[0]\n",
    "df['G6PDH2r'].hist(ax=ax)\n",
    "ax.set_xlabel('G6PDH2r flux')\n",
    "ax.set_ylabel('Number of solutions')\n",
    "\n",
    "ax = axes[1]\n",
    "ax = df['PGI'].hist()\n",
    "ax.set_xlabel('PGI flux')"
   ]
  }
 ],
 "metadata": {
  "kernelspec": {
   "display_name": "qbio18",
   "language": "python",
   "name": "qbio18"
  },
  "language_info": {
   "codemirror_mode": {
    "name": "ipython",
    "version": 3
   },
   "file_extension": ".py",
   "mimetype": "text/x-python",
   "name": "python",
   "nbconvert_exporter": "python",
   "pygments_lexer": "ipython3",
   "version": "3.6.4"
  }
 },
 "nbformat": 4,
 "nbformat_minor": 2
}
