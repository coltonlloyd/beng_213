{
 "cells": [
  {
   "cell_type": "markdown",
   "metadata": {},
   "source": [
    "# Simulate core energy metabolism"
   ]
  },
  {
   "cell_type": "code",
   "execution_count": 1,
   "metadata": {},
   "outputs": [],
   "source": [
    "from __future__ import print_function\n",
    "import cobra\n",
    "from matplotlib import pyplot as plt\n",
    "\n",
    "import os\n",
    "import pandas as pd\n",
    "import numpy as np\n",
    "%matplotlib inline"
   ]
  },
  {
   "cell_type": "code",
   "execution_count": 2,
   "metadata": {},
   "outputs": [],
   "source": [
    "plt.rcParams['axes.labelsize'] = 'x-large'\n",
    "plt.rcParams['axes.linewidth'] = 1.5\n",
    "plt.rcParams['lines.linewidth'] = 3"
   ]
  },
  {
   "cell_type": "code",
   "execution_count": 3,
   "metadata": {},
   "outputs": [],
   "source": [
    "model_cons = cobra.io.load_json_model('../resources/glycolysis_ppp_tca_etc_model.json')\n",
    "model_cons.reactions.NADM_c.knock_out()"
   ]
  },
  {
   "cell_type": "markdown",
   "metadata": {},
   "source": [
    "## A) Revisiting old assumptions\n",
    "### 1) Set the objective to ATPM and optimize"
   ]
  },
  {
   "cell_type": "code",
   "execution_count": 4,
   "metadata": {},
   "outputs": [
    {
     "data": {
      "text/html": [
       "<strong><em>Optimal</em> solution with objective value 25.200</strong><br><div>\n",
       "<style scoped>\n",
       "    .dataframe tbody tr th:only-of-type {\n",
       "        vertical-align: middle;\n",
       "    }\n",
       "\n",
       "    .dataframe tbody tr th {\n",
       "        vertical-align: top;\n",
       "    }\n",
       "\n",
       "    .dataframe thead th {\n",
       "        text-align: right;\n",
       "    }\n",
       "</style>\n",
       "<table border=\"1\" class=\"dataframe\">\n",
       "  <thead>\n",
       "    <tr style=\"text-align: right;\">\n",
       "      <th></th>\n",
       "      <th>fluxes</th>\n",
       "      <th>reduced_costs</th>\n",
       "    </tr>\n",
       "  </thead>\n",
       "  <tbody>\n",
       "    <tr>\n",
       "      <td>NADH2_u10mi</td>\n",
       "      <td>10.0</td>\n",
       "      <td>1.332268e-15</td>\n",
       "    </tr>\n",
       "    <tr>\n",
       "      <td>SUCD1m</td>\n",
       "      <td>2.0</td>\n",
       "      <td>5.329071e-15</td>\n",
       "    </tr>\n",
       "    <tr>\n",
       "      <td>FADH2ETC</td>\n",
       "      <td>2.0</td>\n",
       "      <td>-1.776357e-15</td>\n",
       "    </tr>\n",
       "    <tr>\n",
       "      <td>CYOR_u10mi</td>\n",
       "      <td>12.0</td>\n",
       "      <td>-1.332268e-15</td>\n",
       "    </tr>\n",
       "    <tr>\n",
       "      <td>CYOOm2i</td>\n",
       "      <td>6.0</td>\n",
       "      <td>-2.220446e-15</td>\n",
       "    </tr>\n",
       "    <tr>\n",
       "      <td>...</td>\n",
       "      <td>...</td>\n",
       "      <td>...</td>\n",
       "    </tr>\n",
       "    <tr>\n",
       "      <td>SPODM</td>\n",
       "      <td>0.0</td>\n",
       "      <td>0.000000e+00</td>\n",
       "    </tr>\n",
       "    <tr>\n",
       "      <td>GTHPi</td>\n",
       "      <td>0.0</td>\n",
       "      <td>-4.200000e+00</td>\n",
       "    </tr>\n",
       "    <tr>\n",
       "      <td>GTHOr</td>\n",
       "      <td>0.0</td>\n",
       "      <td>-4.440892e-16</td>\n",
       "    </tr>\n",
       "    <tr>\n",
       "      <td>EX_r5p_c</td>\n",
       "      <td>0.0</td>\n",
       "      <td>-4.400000e+01</td>\n",
       "    </tr>\n",
       "    <tr>\n",
       "      <td>EX_o2s_c</td>\n",
       "      <td>0.0</td>\n",
       "      <td>-7.993606e-15</td>\n",
       "    </tr>\n",
       "  </tbody>\n",
       "</table>\n",
       "<p>77 rows × 2 columns</p>\n",
       "</div>"
      ],
      "text/plain": [
       "<Solution 25.200 at 0x1257e1630>"
      ]
     },
     "execution_count": 4,
     "metadata": {},
     "output_type": "execute_result"
    }
   ],
   "source": [
    "model_cons.objective = 'ATPM'\n",
    "model_cons.optimize()"
   ]
  },
  {
   "cell_type": "markdown",
   "metadata": {},
   "source": [
    "### 2) Assess the cause of the decrease in ATP yield\n",
    "Using the glycolysis model and the `pyr_to_ATP` and `NADH_to_ATP` pseudo-reactions, the computed yield was 32 ATP per glucose\n",
    "\n",
    "Use the `h_i` metabolite's `summary` method to find the reactions producing and consumine the high energy protons"
   ]
  },
  {
   "cell_type": "code",
   "execution_count": 5,
   "metadata": {},
   "outputs": [
    {
     "data": {
      "text/html": [
       "<div>\n",
       "<style scoped>\n",
       "    .dataframe tbody tr th:only-of-type {\n",
       "        vertical-align: middle;\n",
       "    }\n",
       "\n",
       "    .dataframe tbody tr th {\n",
       "        vertical-align: top;\n",
       "    }\n",
       "\n",
       "    .dataframe thead th {\n",
       "        text-align: right;\n",
       "    }\n",
       "</style>\n",
       "<table border=\"1\" class=\"dataframe\">\n",
       "  <thead>\n",
       "    <tr style=\"text-align: right;\">\n",
       "      <th></th>\n",
       "      <th></th>\n",
       "      <th>PERCENT</th>\n",
       "      <th>FLUX</th>\n",
       "      <th>REACTION_STRING</th>\n",
       "    </tr>\n",
       "    <tr>\n",
       "      <th>RXN_STAT</th>\n",
       "      <th>ID</th>\n",
       "      <th></th>\n",
       "      <th></th>\n",
       "      <th></th>\n",
       "    </tr>\n",
       "  </thead>\n",
       "  <tbody>\n",
       "    <tr>\n",
       "      <td rowspan=\"3\" valign=\"top\">PRODUCING</td>\n",
       "      <td>CYOR_u10mi</td>\n",
       "      <td>42.857143</td>\n",
       "      <td>48.0</td>\n",
       "      <td>2.0 ficytC_m + 2.0 h_m + q10h2_m --&gt; 2.0 focyt...</td>\n",
       "    </tr>\n",
       "    <tr>\n",
       "      <td>NADH2_u10mi</td>\n",
       "      <td>35.714286</td>\n",
       "      <td>40.0</td>\n",
       "      <td>5.0 h_m + nadh_m + q10_m --&gt; 4.0 h_i + nad_m +...</td>\n",
       "    </tr>\n",
       "    <tr>\n",
       "      <td>CYOOm2i</td>\n",
       "      <td>21.428571</td>\n",
       "      <td>24.0</td>\n",
       "      <td>4.0 focytC_m + 8.0 h_m + o2_m --&gt; 4.0 ficytC_m...</td>\n",
       "    </tr>\n",
       "    <tr>\n",
       "      <td rowspan=\"4\" valign=\"top\">CONSUMING</td>\n",
       "      <td>ATPS4mi</td>\n",
       "      <td>75.714286</td>\n",
       "      <td>84.8</td>\n",
       "      <td>adp_m + 4.0 h_i + pi_m --&gt; atp_m + h2o_m + 3.0...</td>\n",
       "    </tr>\n",
       "    <tr>\n",
       "      <td>PItm</td>\n",
       "      <td>20.714286</td>\n",
       "      <td>23.2</td>\n",
       "      <td>h_i + pi_c --&gt; h_m + pi_m</td>\n",
       "    </tr>\n",
       "    <tr>\n",
       "      <td>ASPGLUm</td>\n",
       "      <td>1.785714</td>\n",
       "      <td>2.0</td>\n",
       "      <td>asp__L_m + glu__L_c + h_i --&gt; asp__L_c + glu__...</td>\n",
       "    </tr>\n",
       "    <tr>\n",
       "      <td>PYRt2m</td>\n",
       "      <td>1.785714</td>\n",
       "      <td>2.0</td>\n",
       "      <td>h_i + pyr_c --&gt; h_m + pyr_m</td>\n",
       "    </tr>\n",
       "  </tbody>\n",
       "</table>\n",
       "</div>"
      ],
      "text/plain": [
       "<cobra.core.summary.metabolite_summary.MetaboliteSummary at 0x1257e1128>"
      ]
     },
     "execution_count": 5,
     "metadata": {},
     "output_type": "execute_result"
    }
   ],
   "source": [
    "model_cons.metabolites.h_i.summary()"
   ]
  },
  {
   "cell_type": "markdown",
   "metadata": {},
   "source": [
    "## B) Modeling alternative pathways\n",
    "\n",
    "### 1) Characterize the consequence of using each of the \"extreme\" options\n",
    "\n",
    "Knock out PGI and optimize for ATPM flux. Display the fluxes through the following reactions:\n",
    "\n",
    "| ID      | Interpretation \n",
    "| :-------------: |:-------------:|\n",
    "| ATPM | ATP production potential |\n",
    "| GTHOr | NADPH produced | \n",
    "| EX_h_c | Protons produced    | \n",
    "| EX_co2_c | CO$_2$ produced     | \n",
    "| EX_h2o_c | Water produced     | \n",
    "\n",
    "Repeat analysis with G6PDH2r knocked out"
   ]
  },
  {
   "cell_type": "code",
   "execution_count": 6,
   "metadata": {},
   "outputs": [
    {
     "data": {
      "text/plain": [
       "<matplotlib.axes._subplots.AxesSubplot at 0x125a07400>"
      ]
     },
     "execution_count": 6,
     "metadata": {},
     "output_type": "execute_result"
    },
    {
     "data": {
      "image/png": "[encoded data removed]",
      "text/plain": [
       "<Figure size 432x288 with 1 Axes>"
      ]
     },
     "metadata": {
      "needs_background": "light"
     },
     "output_type": "display_data"
    }
   ],
   "source": [
    "model = model_cons.copy()\n",
    "\n",
    "with model:\n",
    "    model.reactions.PGI.knock_out()\n",
    "    sol=model.optimize()\n",
    "    series1 = sol.fluxes[['ATPM', 'GTHOr', 'EX_h_c', 'EX_co2_c', 'EX_h2o_c']]\n",
    "    series1.name = 'G6PDH(Oxidative PPP)'\n",
    "\n",
    "with model:\n",
    "    model.reactions.G6PDH2r.knock_out()\n",
    "\n",
    "    sol = model.optimize()\n",
    "    series2 = sol.fluxes[['ATPM', 'GTHOr', 'EX_h_c', 'EX_co2_c', 'EX_h2o_c']]\n",
    "    series2.name = 'PGI(Upper Glycolysis)'\n",
    "\n",
    "df = pd.DataFrame([series1, series2])\n",
    "df.columns = ['ATP', 'NADPH', 'H+', 'CO2', 'H2O']\n",
    "df.abs().T.plot(kind='bar')"
   ]
  },
  {
   "cell_type": "markdown",
   "metadata": {},
   "source": [
    "### 2) Characterizing the solution space: Flux variability analysis (FVA)\n",
    "\n",
    "Maximize and minimize the flux through G6PDH2r and PGI for values of ATPM form 0 to the maximum values\n",
    " - **Note** minimization is performed by passing 'minimize' into `optimize` method\n",
    " \n",
    "Use the `plot_fva` to visualize results. Store the outpus in lists corresponding to those in `plot_fva`."
   ]
  },
  {
   "cell_type": "code",
   "execution_count": 7,
   "metadata": {},
   "outputs": [],
   "source": [
    "def plot_fva(atpm_values, max_g6pdh_values, max_pgi_values, min_g6pdh_values, min_pgi_values):\n",
    "    \"\"\"\n",
    "    Parameters\n",
    "    ----------\n",
    "    atpm_values : list\n",
    "        list of ATPM flux values from 0 to max\n",
    "        \n",
    "    max_g6pdh_values : list\n",
    "        list of maximum G6PDH2r flux values at the ATPM fluxes in atpm_values\n",
    "    max_pgi_values : list\n",
    "        list of maximum PGI flux values at the ATPM fluxes in atpm_values\n",
    "\n",
    "    min_g6pdh_values : list \n",
    "        list of minimum G6PDH2r flux values at the ATPM fluxes in atpm_values\n",
    "\n",
    "    min_pgi_values : list\n",
    "        list of minimum PGI flux values at the ATPM fluxes in atpm_values\n",
    "\n",
    "    \"\"\"\n",
    "    plt.fill_between(atpm_values, max_g6pdh_values, min_g6pdh_values, \n",
    "                     label='G6PDH(ppp)', alpha=.7)\n",
    "    plt.fill_between(atpm_values, max_pgi_values, min_pgi_values, \n",
    "                     label='PGI(glycolysis)', alpha=.7)\n",
    "    plt.legend()\n",
    "    plt.xlabel('ATPM flux')\n",
    "    plt.ylabel('Range of possible fluxes')"
   ]
  },
  {
   "cell_type": "code",
   "execution_count": 8,
   "metadata": {},
   "outputs": [
    {
     "data": {
      "image/png": "[encoded data removed]",
      "text/plain": [
       "<Figure size 432x288 with 1 Axes>"
      ]
     },
     "metadata": {
      "needs_background": "light"
     },
     "output_type": "display_data"
    }
   ],
   "source": [
    "combined = model_cons.copy()\n",
    "rxn = 'ATPM'\n",
    "var_rxn = 'G6PDH2r'\n",
    "var_rxn_2 = 'PGI'\n",
    "combined.objective = rxn\n",
    "obj = combined.optimize().objective_value\n",
    "bounds = np.linspace(0, obj, 10)\n",
    "lower = []\n",
    "upper = []\n",
    "lower_2 = []\n",
    "upper_2 = []\n",
    "for bound in bounds:\n",
    "    combined.reactions.get_by_id(rxn).lower_bound = bound\n",
    "    combined.reactions.get_by_id(rxn).upper_bound = bound\n",
    "\n",
    "    combined.objective = var_rxn\n",
    "    lower.append(combined.optimize('minimize').objective_value)\n",
    "    upper.append(combined.optimize().objective_value)\n",
    "    combined.objective = var_rxn_2\n",
    "    upper_2.append(combined.optimize('minimize').objective_value)\n",
    "    lower_2.append(combined.optimize().objective_value)\n",
    "    \n",
    "    combined.reactions.get_by_id(rxn).lower_bound = 0\n",
    "\n",
    "\n",
    "plot_fva(bounds, upper, upper_2, lower, lower_2)"
   ]
  },
  {
   "cell_type": "markdown",
   "metadata": {},
   "source": [
    "### 3) Characterizing solution space (sampling)\n",
    "\n",
    "Use the `cobra.sampling` method to sample the model 1000 times.\n",
    "\n",
    "**Note**: this returns a dataframe. You can visualize the solutions with `df[['G6PDH2r', 'PGI']].hist()`"
   ]
  },
  {
   "cell_type": "code",
   "execution_count": 9,
   "metadata": {},
   "outputs": [],
   "source": [
    "combined =model_cons.copy()\n",
    "df = cobra.sampling.sample(combined, 1000)"
   ]
  },
  {
   "cell_type": "code",
   "execution_count": 10,
   "metadata": {},
   "outputs": [
    {
     "data": {
      "text/plain": [
       "Text(0.5,0,'PGI flux')"
      ]
     },
     "execution_count": 10,
     "metadata": {},
     "output_type": "execute_result"
    },
    {
     "data": {
      "image/png": "[encoded data removed]",
      "text/plain": [
       "<Figure size 720x360 with 2 Axes>"
      ]
     },
     "metadata": {
      "needs_background": "light"
     },
     "output_type": "display_data"
    }
   ],
   "source": [
    "fig, axes = plt.subplots(1, 2, figsize=(10, 5), sharey=True)\n",
    "ax = axes[0]\n",
    "df['G6PDH2r'].hist(ax=ax)\n",
    "ax.set_xlabel('G6PDH2r flux')\n",
    "ax.set_ylabel('Number of solutions')\n",
    "\n",
    "ax = axes[1]\n",
    "ax = df['PGI'].hist()\n",
    "ax.set_xlabel('PGI flux')"
   ]
  },
  {
   "cell_type": "markdown",
   "metadata": {},
   "source": [
    "## C) Characteristics of core energy metabolism\n",
    "### 1) Carbon yield of gluconeogenic substrats\n",
    "Assess the carbon yield and gluconeogenesis pathway used to generate g6p from each carbon containing metabolite\n",
    "\n",
    "**Approach**\n",
    "1. Add exchange reaction for g6p_c to use as the objective reaction\n",
    "  - Make sure the lower bound is set to 0 (i.e., g6p_c -> )\n",
    "\n",
    "2. Set glucose uptake to zero\n",
    "\n",
    "3. Iterate through all model metabolites\n",
    " - Skip those with no C molecules in formula\n",
    " - Can check for this using, for example `model.metabolites.co2_c.elements.get('C', 0)`. This will return 0 if the metabolite does not contain any carbons\n",
    " \n",
    "4. Check for an existing exchange reaction for the metabolite. \n",
    " - If it does not not exist, add one\n",
    " - Set the lower bound of the exchange reaction to 1\n",
    "\n",
    "5. Set objective to EX_g6p_c and optimize\n",
    " - Use `cobra.flux_analysis.pfba` for optimization. This will return the most parsimonious solution (i.e., the sum of flux values in the model will be minimized)\n",
    "\n",
    "\n",
    "6. Calculate the carbon yield of g6p per substrate\n",
    " - Can return the number of carbons per mol of substrate using command above (i.e.,\n",
    " `mol_c_substrate = model.metabolites.co2_c.elements.get('C', 0)`)\n",
    " -  `sol.fluxes['EX_g6p_c'] * 6 / mol_c_substrate`\n",
    " \n",
    "7. Compute the absolute value of the flux through two mitochondrial transporters: MALtm and PEPtm\n",
    " \n",
    "7. Save solution in a pandas `DataFrame` structured like below:\n",
    "\n",
    "| Met ID      | g6p yield | MALtm |PEPtm |\n",
    "| :-------------: |:-------------:|:-------------:| :-------------:|\n",
    "| glc__D_c |  | |  |\n",
    "| pep_c |  |   |  |\n",
    "| . |  |   |  |\n",
    "| . |  |   |  |\n",
    "\n",
    "8. Use `plot_carbon_yield` to visualize solution\n",
    "\n",
    "\n",
    "**Note:** make sure to either remove any newly added exchanges (or set the exchange to zero) before computing the yield for the next metabolite. You can also use the model as a context as described in https://cobrapy.readthedocs.io/en/latest/getting_started.html#Making-changes-reversibly-using-models-as-contexts "
   ]
  },
  {
   "cell_type": "code",
   "execution_count": 13,
   "metadata": {},
   "outputs": [],
   "source": [
    "def plot_carbon_yield(input_df):\n",
    "    \n",
    "    fig, ax = plt.subplots(1,1)\n",
    "    input_df = input_df.rename({'g6p yield': r'G6P Yield ($\\mathrm{\\frac{mol\\ C_{G6P}}{mol\\ C_{precursor}}}$)',\n",
    "                                      'MALtm': 'Malate transport flux',\n",
    "                                      'PEPtm': 'PEP transport flux'}, axis=1)\n",
    "    ax = input_df.plot(kind='bar', figsize=(12.5, 5), ax=ax)\n",
    "    ax.legend(fontsize=15)\n",
    "    ax.set_xticklabels(ax.get_xticklabels(), rotation=45, ha='right', fontdict={'size': 14})\n",
    "    ax.tick_params(axis='y', labelsize=15)\n",
    "    ax.set_title('Gluconeogenic compounds in glycolysis, PPP, and TCA', size=15)\n",
    "    fig.tight_layout()"
   ]
  },
  {
   "cell_type": "code",
   "execution_count": 14,
   "metadata": {},
   "outputs": [
    {
     "data": {
      "image/png": "[encoded data removed]",
      "text/plain": [
       "<Figure size 900x360 with 1 Axes>"
      ]
     },
     "metadata": {
      "needs_background": "light"
     },
     "output_type": "display_data"
    }
   ],
   "source": [
    "glc_per_mol = pd.DataFrame()\n",
    "model = model_cons.copy()\n",
    "model.add_boundary(model.metabolites.g6p_c)\n",
    "model.reactions.EX_g6p_c.lower_bound = 0\n",
    "model.reactions.EX_glc__D_c.lower_bound = 0\n",
    "for m in model.metabolites:\n",
    "    if m.elements.get('C', 0) == 0:\n",
    "        continue\n",
    "    with model:\n",
    "\n",
    "        if 'EX_' + m.id in model.reactions:\n",
    "            pass\n",
    "        else:\n",
    "            r = cobra.Reaction('EX_' + m.id)\n",
    "            model.add_reaction(r)\n",
    "            r.build_reaction_from_string(m.id + '->')\n",
    "        model.reactions.get_by_id('EX_' + m.id).lower_bound = -1\n",
    "        model.objective = 'EX_g6p_c'\n",
    "        sol = cobra.flux_analysis.pfba(model)\n",
    "            \n",
    "        if sol.objective_value == 0:\n",
    "            continue\n",
    "        mol_c_substrate = m.elements['C'] \n",
    "        mol_glc_per_mol = sol.fluxes['EX_g6p_c'] * 6 / mol_c_substrate\n",
    "\n",
    "        glc_per_mol.loc[m.id, 'g6p yield'] = mol_glc_per_mol\n",
    "        glc_per_mol.loc[m.id, 'MALtm'] = abs(sol.fluxes['MALtm'])\n",
    "        glc_per_mol.loc[m.id, 'PEP transport flux'] = sol.fluxes['PEPtm']\n",
    "\n",
    "glc_per_mol = glc_per_mol.sort_values(by='g6p yield')\n",
    "\n",
    "plot_carbon_yield(glc_per_mol)"
   ]
  },
  {
   "cell_type": "markdown",
   "metadata": {},
   "source": [
    "### 2) Common pitfalls: neglecting metabolite transport"
   ]
  },
  {
   "cell_type": "code",
   "execution_count": 12,
   "metadata": {},
   "outputs": [],
   "source": [
    "model = model_cons.copy()\n",
    "def mitochondrial_exchange(reaction):\n",
    "    cytosolic = False\n",
    "    mitochondrial = False\n",
    "    for m in reaction.metabolites:\n",
    "        if m.id[-2:] == '_c':\n",
    "            cytosolic = True\n",
    "        if m.id[-2:] == '_m':\n",
    "            mitochondrial = True\n",
    "    # If reaction contains both mitochondrial and\n",
    "    # cytosolic metabolite, return True\n",
    "    if cytosolic and mitochondrial:\n",
    "        return True\n",
    "    else:\n",
    "        return False\n",
    "\n",
    "out = pd.DataFrame()\n",
    "flux = model.optimize().objective_value\n",
    "out.loc['All Transport', 'ATPM'] = flux\n",
    "for r in model.reactions:\n",
    "    with model:\n",
    "        if mitochondrial_exchange(r):\n",
    "            r.knock_out()\n",
    "            flux = model.optimize().objective_value\n",
    "            out.loc[r.id, 'ATPM'] = flux"
   ]
  },
  {
   "cell_type": "code",
   "execution_count": 13,
   "metadata": {
    "scrolled": true
   },
   "outputs": [
    {
     "data": {
      "text/plain": [
       "Text(0.5,0,'Transport reaction knocked out')"
      ]
     },
     "execution_count": 13,
     "metadata": {},
     "output_type": "execute_result"
    },
    {
     "data": {
      "image/png": "[encoded data removed]",
      "text/plain": [
       "<Figure size 432x288 with 1 Axes>"
      ]
     },
     "metadata": {
      "needs_background": "light"
     },
     "output_type": "display_data"
    }
   ],
   "source": [
    "ax = out.sort_values(\"ATPM\").plot(kind='bar')\n",
    "ax.set_ylabel('ATPM flux')\n",
    "ax.set_xlabel('Transport reaction knocked out')"
   ]
  },
  {
   "cell_type": "code",
   "execution_count": null,
   "metadata": {},
   "outputs": [],
   "source": []
  },
  {
   "cell_type": "code",
   "execution_count": 22,
   "metadata": {},
   "outputs": [],
   "source": [
    "model.reactions.EX_lac__L_c.knock_out()"
   ]
  },
  {
   "cell_type": "code",
   "execution_count": 23,
   "metadata": {},
   "outputs": [
    {
     "data": {
      "text/html": [
       "\n",
       "        <table>\n",
       "            <tr>\n",
       "                <td><strong>Reaction identifier</strong></td><td>LDH_L</td>\n",
       "            </tr><tr>\n",
       "                <td><strong>Name</strong></td><td>L-lactate dehydrogenase</td>\n",
       "            </tr><tr>\n",
       "                <td><strong>Memory address</strong></td>\n",
       "                <td>0x0112158208</td>\n",
       "            </tr><tr>\n",
       "                <td><strong>Stoichiometry</strong></td>\n",
       "                <td>\n",
       "                    <p style='text-align:right'>lac__L_c + nad_c <=> h_c + nadh_c + pyr_c</p>\n",
       "                    <p style='text-align:right'>L-Lactate + Nicotinamide adenine dinucleotide <=> H+ + Nicotinamide adenine dinucleotide - reduced + </p>\n",
       "                </td>\n",
       "            </tr><tr>\n",
       "                <td><strong>GPR</strong></td><td>(3945_AT1 and 3939_AT1) or 160287_AT1 or 3948_AT2 or 3939_AT1 or 3948_AT1 or 55293_AT1 or 3945_AT...</td>\n",
       "            </tr><tr>\n",
       "                <td><strong>Lower bound</strong></td><td>-1000.0</td>\n",
       "            </tr><tr>\n",
       "                <td><strong>Upper bound</strong></td><td>1000.0</td>\n",
       "            </tr>\n",
       "        </table>\n",
       "        "
      ],
      "text/plain": [
       "<Reaction LDH_L at 0x112158208>"
      ]
     },
     "execution_count": 23,
     "metadata": {},
     "output_type": "execute_result"
    }
   ],
   "source": [
    "model.reactions.LDH_L"
   ]
  },
  {
   "cell_type": "code",
   "execution_count": 19,
   "metadata": {},
   "outputs": [],
   "source": [
    "df = model.optimize().to_frame()"
   ]
  },
  {
   "cell_type": "code",
   "execution_count": 28,
   "metadata": {},
   "outputs": [
    {
     "data": {
      "text/html": [
       "<div>\n",
       "<style scoped>\n",
       "    .dataframe tbody tr th:only-of-type {\n",
       "        vertical-align: middle;\n",
       "    }\n",
       "\n",
       "    .dataframe tbody tr th {\n",
       "        vertical-align: top;\n",
       "    }\n",
       "\n",
       "    .dataframe thead th {\n",
       "        text-align: right;\n",
       "    }\n",
       "</style>\n",
       "<table border=\"1\" class=\"dataframe\">\n",
       "  <thead>\n",
       "    <tr style=\"text-align: right;\">\n",
       "      <th></th>\n",
       "      <th>fluxes</th>\n",
       "      <th>reduced_costs</th>\n",
       "    </tr>\n",
       "  </thead>\n",
       "  <tbody>\n",
       "    <tr>\n",
       "      <td>NADH2_u10mi</td>\n",
       "      <td>8.0</td>\n",
       "      <td>-2.220446e-16</td>\n",
       "    </tr>\n",
       "    <tr>\n",
       "      <td>SUCD1m</td>\n",
       "      <td>2.0</td>\n",
       "      <td>0.000000e+00</td>\n",
       "    </tr>\n",
       "    <tr>\n",
       "      <td>FADH2ETC</td>\n",
       "      <td>2.0</td>\n",
       "      <td>0.000000e+00</td>\n",
       "    </tr>\n",
       "    <tr>\n",
       "      <td>CYOR_u10mi</td>\n",
       "      <td>10.0</td>\n",
       "      <td>2.220446e-16</td>\n",
       "    </tr>\n",
       "    <tr>\n",
       "      <td>CYOOm2i</td>\n",
       "      <td>5.0</td>\n",
       "      <td>0.000000e+00</td>\n",
       "    </tr>\n",
       "    <tr>\n",
       "      <td>ATPS4mi</td>\n",
       "      <td>17.6</td>\n",
       "      <td>-3.330669e-16</td>\n",
       "    </tr>\n",
       "    <tr>\n",
       "      <td>CSm</td>\n",
       "      <td>2.0</td>\n",
       "      <td>0.000000e+00</td>\n",
       "    </tr>\n",
       "    <tr>\n",
       "      <td>ACONTm</td>\n",
       "      <td>2.0</td>\n",
       "      <td>0.000000e+00</td>\n",
       "    </tr>\n",
       "    <tr>\n",
       "      <td>ICDHxm</td>\n",
       "      <td>2.0</td>\n",
       "      <td>0.000000e+00</td>\n",
       "    </tr>\n",
       "    <tr>\n",
       "      <td>AKGDm</td>\n",
       "      <td>2.0</td>\n",
       "      <td>0.000000e+00</td>\n",
       "    </tr>\n",
       "    <tr>\n",
       "      <td>SUCOASm</td>\n",
       "      <td>-2.0</td>\n",
       "      <td>-0.000000e+00</td>\n",
       "    </tr>\n",
       "    <tr>\n",
       "      <td>FUMm</td>\n",
       "      <td>2.0</td>\n",
       "      <td>0.000000e+00</td>\n",
       "    </tr>\n",
       "    <tr>\n",
       "      <td>MDHm</td>\n",
       "      <td>2.0</td>\n",
       "      <td>3.552714e-15</td>\n",
       "    </tr>\n",
       "    <tr>\n",
       "      <td>PDHm</td>\n",
       "      <td>2.0</td>\n",
       "      <td>0.000000e+00</td>\n",
       "    </tr>\n",
       "    <tr>\n",
       "      <td>ATPtm</td>\n",
       "      <td>19.6</td>\n",
       "      <td>0.000000e+00</td>\n",
       "    </tr>\n",
       "    <tr>\n",
       "      <td>PYRt2m</td>\n",
       "      <td>2.0</td>\n",
       "      <td>0.000000e+00</td>\n",
       "    </tr>\n",
       "    <tr>\n",
       "      <td>Htm</td>\n",
       "      <td>21.6</td>\n",
       "      <td>0.000000e+00</td>\n",
       "    </tr>\n",
       "    <tr>\n",
       "      <td>O2tm</td>\n",
       "      <td>5.0</td>\n",
       "      <td>0.000000e+00</td>\n",
       "    </tr>\n",
       "    <tr>\n",
       "      <td>H2Otm</td>\n",
       "      <td>-23.6</td>\n",
       "      <td>-0.000000e+00</td>\n",
       "    </tr>\n",
       "    <tr>\n",
       "      <td>PItm</td>\n",
       "      <td>19.6</td>\n",
       "      <td>0.000000e+00</td>\n",
       "    </tr>\n",
       "    <tr>\n",
       "      <td>CO2tm</td>\n",
       "      <td>-6.0</td>\n",
       "      <td>-0.000000e+00</td>\n",
       "    </tr>\n",
       "    <tr>\n",
       "      <td>EX_co2_c</td>\n",
       "      <td>6.0</td>\n",
       "      <td>0.000000e+00</td>\n",
       "    </tr>\n",
       "    <tr>\n",
       "      <td>EX_o2_c</td>\n",
       "      <td>-5.0</td>\n",
       "      <td>0.000000e+00</td>\n",
       "    </tr>\n",
       "    <tr>\n",
       "      <td>EX_h_c</td>\n",
       "      <td>4.0</td>\n",
       "      <td>-2.775558e-16</td>\n",
       "    </tr>\n",
       "    <tr>\n",
       "      <td>EX_h2o_c</td>\n",
       "      <td>4.0</td>\n",
       "      <td>0.000000e+00</td>\n",
       "    </tr>\n",
       "    <tr>\n",
       "      <td>NADM_c</td>\n",
       "      <td>2.0</td>\n",
       "      <td>0.000000e+00</td>\n",
       "    </tr>\n",
       "    <tr>\n",
       "      <td>HEX1</td>\n",
       "      <td>1.0</td>\n",
       "      <td>0.000000e+00</td>\n",
       "    </tr>\n",
       "    <tr>\n",
       "      <td>PGI</td>\n",
       "      <td>1.0</td>\n",
       "      <td>0.000000e+00</td>\n",
       "    </tr>\n",
       "    <tr>\n",
       "      <td>PFK</td>\n",
       "      <td>1.0</td>\n",
       "      <td>0.000000e+00</td>\n",
       "    </tr>\n",
       "    <tr>\n",
       "      <td>FBA</td>\n",
       "      <td>1.0</td>\n",
       "      <td>0.000000e+00</td>\n",
       "    </tr>\n",
       "    <tr>\n",
       "      <td>TPI</td>\n",
       "      <td>1.0</td>\n",
       "      <td>0.000000e+00</td>\n",
       "    </tr>\n",
       "    <tr>\n",
       "      <td>GAPD</td>\n",
       "      <td>2.0</td>\n",
       "      <td>0.000000e+00</td>\n",
       "    </tr>\n",
       "    <tr>\n",
       "      <td>PGK</td>\n",
       "      <td>-2.0</td>\n",
       "      <td>-0.000000e+00</td>\n",
       "    </tr>\n",
       "    <tr>\n",
       "      <td>PGM</td>\n",
       "      <td>-2.0</td>\n",
       "      <td>-0.000000e+00</td>\n",
       "    </tr>\n",
       "    <tr>\n",
       "      <td>ENO</td>\n",
       "      <td>2.0</td>\n",
       "      <td>0.000000e+00</td>\n",
       "    </tr>\n",
       "    <tr>\n",
       "      <td>PYK</td>\n",
       "      <td>2.0</td>\n",
       "      <td>0.000000e+00</td>\n",
       "    </tr>\n",
       "    <tr>\n",
       "      <td>ATPM</td>\n",
       "      <td>21.6</td>\n",
       "      <td>0.000000e+00</td>\n",
       "    </tr>\n",
       "    <tr>\n",
       "      <td>EX_glc__D_c</td>\n",
       "      <td>-1.0</td>\n",
       "      <td>-4.320000e+01</td>\n",
       "    </tr>\n",
       "  </tbody>\n",
       "</table>\n",
       "</div>"
      ],
      "text/plain": [
       "             fluxes  reduced_costs\n",
       "NADH2_u10mi     8.0  -2.220446e-16\n",
       "SUCD1m          2.0   0.000000e+00\n",
       "FADH2ETC        2.0   0.000000e+00\n",
       "CYOR_u10mi     10.0   2.220446e-16\n",
       "CYOOm2i         5.0   0.000000e+00\n",
       "ATPS4mi        17.6  -3.330669e-16\n",
       "CSm             2.0   0.000000e+00\n",
       "ACONTm          2.0   0.000000e+00\n",
       "ICDHxm          2.0   0.000000e+00\n",
       "AKGDm           2.0   0.000000e+00\n",
       "SUCOASm        -2.0  -0.000000e+00\n",
       "FUMm            2.0   0.000000e+00\n",
       "MDHm            2.0   3.552714e-15\n",
       "PDHm            2.0   0.000000e+00\n",
       "ATPtm          19.6   0.000000e+00\n",
       "PYRt2m          2.0   0.000000e+00\n",
       "Htm            21.6   0.000000e+00\n",
       "O2tm            5.0   0.000000e+00\n",
       "H2Otm         -23.6  -0.000000e+00\n",
       "PItm           19.6   0.000000e+00\n",
       "CO2tm          -6.0  -0.000000e+00\n",
       "EX_co2_c        6.0   0.000000e+00\n",
       "EX_o2_c        -5.0   0.000000e+00\n",
       "EX_h_c          4.0  -2.775558e-16\n",
       "EX_h2o_c        4.0   0.000000e+00\n",
       "NADM_c          2.0   0.000000e+00\n",
       "HEX1            1.0   0.000000e+00\n",
       "PGI             1.0   0.000000e+00\n",
       "PFK             1.0   0.000000e+00\n",
       "FBA             1.0   0.000000e+00\n",
       "TPI             1.0   0.000000e+00\n",
       "GAPD            2.0   0.000000e+00\n",
       "PGK            -2.0  -0.000000e+00\n",
       "PGM            -2.0  -0.000000e+00\n",
       "ENO             2.0   0.000000e+00\n",
       "PYK             2.0   0.000000e+00\n",
       "ATPM           21.6   0.000000e+00\n",
       "EX_glc__D_c    -1.0  -4.320000e+01"
      ]
     },
     "execution_count": 28,
     "metadata": {},
     "output_type": "execute_result"
    }
   ],
   "source": [
    "df[df['fluxes'].abs() > .001]"
   ]
  },
  {
   "cell_type": "code",
   "execution_count": 29,
   "metadata": {},
   "outputs": [
    {
     "data": {
      "text/html": [
       "<div>\n",
       "<style scoped>\n",
       "    .dataframe tbody tr th:only-of-type {\n",
       "        vertical-align: middle;\n",
       "    }\n",
       "\n",
       "    .dataframe tbody tr th {\n",
       "        vertical-align: top;\n",
       "    }\n",
       "\n",
       "    .dataframe thead th {\n",
       "        text-align: right;\n",
       "    }\n",
       "</style>\n",
       "<table border=\"1\" class=\"dataframe\">\n",
       "  <thead>\n",
       "    <tr style=\"text-align: right;\">\n",
       "      <th></th>\n",
       "      <th></th>\n",
       "      <th>PERCENT</th>\n",
       "      <th>FLUX</th>\n",
       "      <th>REACTION_STRING</th>\n",
       "    </tr>\n",
       "    <tr>\n",
       "      <th>RXN_STAT</th>\n",
       "      <th>ID</th>\n",
       "      <th></th>\n",
       "      <th></th>\n",
       "      <th></th>\n",
       "    </tr>\n",
       "  </thead>\n",
       "  <tbody>\n",
       "    <tr>\n",
       "      <td>PRODUCING</td>\n",
       "      <td>GAPD</td>\n",
       "      <td>100.0</td>\n",
       "      <td>2.0</td>\n",
       "      <td>g3p_c + nad_c + pi_c &lt;=&gt; 13dpg_c + h_c + nadh_c</td>\n",
       "    </tr>\n",
       "    <tr>\n",
       "      <td>CONSUMING</td>\n",
       "      <td>MDH</td>\n",
       "      <td>100.0</td>\n",
       "      <td>2.0</td>\n",
       "      <td>mal__L_c + nad_c &lt;=&gt; h_c + nadh_c + oaa_c</td>\n",
       "    </tr>\n",
       "  </tbody>\n",
       "</table>\n",
       "</div>"
      ],
      "text/plain": [
       "<cobra.core.summary.metabolite_summary.MetaboliteSummary at 0x12aecdb70>"
      ]
     },
     "execution_count": 29,
     "metadata": {},
     "output_type": "execute_result"
    }
   ],
   "source": [
    "model.metabolites.nadh_c.summary()"
   ]
  },
  {
   "cell_type": "code",
   "execution_count": null,
   "metadata": {},
   "outputs": [],
   "source": []
  }
 ],
 "metadata": {
  "kernelspec": {
   "display_name": "qbio18",
   "language": "python",
   "name": "qbio18"
  },
  "language_info": {
   "codemirror_mode": {
    "name": "ipython",
    "version": 3
   },
   "file_extension": ".py",
   "mimetype": "text/x-python",
   "name": "python",
   "nbconvert_exporter": "python",
   "pygments_lexer": "ipython3",
   "version": "3.6.4"
  }
 },
 "nbformat": 4,
 "nbformat_minor": 2
}
