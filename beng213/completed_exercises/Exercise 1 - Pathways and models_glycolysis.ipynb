{
 "cells": [
  {
   "cell_type": "markdown",
   "metadata": {},
   "source": [
    "# Modeling anabolic pathways\n",
    "\n",
    "Building and simulation pathways using COBRApy. \n"
   ]
  },
  {
   "cell_type": "code",
   "execution_count": 1,
   "metadata": {
    "scrolled": true
   },
   "outputs": [],
   "source": [
    "import cobra\n",
    "import escher\n",
    "from beng213.resources.glycolysis_pathway import metabolites_and_info, reactions_and_info"
   ]
  },
  {
   "cell_type": "code",
   "execution_count": 2,
   "metadata": {},
   "outputs": [
    {
     "data": {
      "application/vnd.jupyter.widget-view+json": {
       "model_id": "3768f209e40e432b891a8ab50b94cd6e",
       "version_major": 2,
       "version_minor": 0
      },
      "text/plain": [
       "Builder()"
      ]
     },
     "metadata": {},
     "output_type": "display_data"
    }
   ],
   "source": [
    "# The reactions and metabolites to be added in this exercise\n",
    "builder = escher.Builder(map_json='../resources/glycolysis_map.json')\n",
    "builder"
   ]
  },
  {
   "cell_type": "markdown",
   "metadata": {},
   "source": [
    "---------\n",
    "## A) Add the pathway metabolites and their information to a new model\n",
    "\n",
    "The goal of this exercise will be to build a simulate the histidine synthesis pathway shown above. \n",
    "\n",
    "This section will introduce the first steps of adding the pathway to model.\n",
    "\n",
    "### 1) Initialize an empty COBRApy model"
   ]
  },
  {
   "cell_type": "code",
   "execution_count": 3,
   "metadata": {},
   "outputs": [
    {
     "name": "stdout",
     "output_type": "stream",
     "text": [
      "Number of reactions: 0\n",
      "Number of metabolites: 0\n"
     ]
    }
   ],
   "source": [
    "# Initiate empty model\n",
    "model = cobra.Model()\n",
    "\n",
    "# with no reactions\n",
    "print('Number of reactions: ' + str(len(model.reactions)))\n",
    "print('Number of metabolites: ' + str(len(model.metabolites)))"
   ]
  },
  {
   "cell_type": "markdown",
   "metadata": {},
   "source": [
    "### 2) Add metabolites and info to the model\n",
    "\n",
    "**Hints:**\n",
    "\n",
    "1) The information regarding the reactions and metabolites involved in this pathway can be found in `reactions_and_info` and `metabolites_and_info`, respectively. These are imported above.\n",
    "  - These are imported in the form of a **dictionary**"
   ]
  },
  {
   "cell_type": "code",
   "execution_count": 4,
   "metadata": {},
   "outputs": [
    {
     "name": "stdout",
     "output_type": "stream",
     "text": [
      "{'atp_c': {'name': 'ATP C10H12N5O13P3', 'formula': 'C10H12N5O13P3', 'charge': -4, 'compartment': 'c'}, 'glc__D_c': {'name': 'D-Glucose', 'formula': 'C6H12O6', 'charge': 0, 'compartment': 'c'}, 'adp_c': {'name': 'ADP C10H12N5O10P2', 'formula': 'C10H12N5O10P2', 'charge': -3, 'compartment': 'c'}, 'g6p_c': {'name': 'D-Glucose 6-phosphate', 'formula': 'C6H11O9P', 'charge': -2, 'compartment': 'c'}, 'h_c': {'name': 'H+', 'formula': 'H', 'charge': 1, 'compartment': 'c'}, 'f6p_c': {'name': 'D-Fructose 6-phosphate', 'formula': 'C6H11O9P', 'charge': -2, 'compartment': 'c'}, 'fdp_c': {'name': 'D-Fructose 1,6-bisphosphate', 'formula': 'C6H10O12P2', 'charge': -4, 'compartment': 'c'}, 'dhap_c': {'name': 'Dihydroxyacetone phosphate', 'formula': 'C3H5O6P', 'charge': -2, 'compartment': 'c'}, 'g3p_c': {'name': 'Glyceraldehyde 3-phosphate', 'formula': 'C3H5O6P', 'charge': -2, 'compartment': 'c'}, 'nad_c': {'name': 'Nicotinamide adenine dinucleotide', 'formula': 'C21H26N7O14P2', 'charge': -1, 'compartment': 'c'}, 'pi_c': {'name': 'Phosphate', 'formula': 'HO4P', 'charge': -2, 'compartment': 'c'}, '13dpg_c': {'name': '3-Phospho-D-glyceroyl phosphate', 'formula': 'C3H4O10P2', 'charge': -4, 'compartment': 'c'}, 'nadh_c': {'name': 'Nicotinamide adenine dinucleotide - reduced', 'formula': 'C21H27N7O14P2', 'charge': -2, 'compartment': 'c'}, '3pg_c': {'name': '3-Phospho-D-glycerate', 'formula': 'C3H4O7P', 'charge': -3, 'compartment': 'c'}, '2pg_c': {'name': 'D-Glycerate 2-phosphate', 'formula': 'C3H4O7P', 'charge': -3, 'compartment': 'c'}, 'h2o_c': {'name': 'H2O H2O', 'formula': 'H2O', 'charge': 0, 'compartment': 'c'}, 'pep_c': {'name': 'Phosphoenolpyruvate', 'formula': 'C3H2O6P', 'charge': -3, 'compartment': 'c'}, 'pyr_c': {'name': 'Pyruvate', 'formula': 'C3H3O3', 'charge': -1, 'compartment': 'c'}}\n"
     ]
    }
   ],
   "source": [
    "print(metabolites_and_info)"
   ]
  },
  {
   "cell_type": "markdown",
   "metadata": {},
   "source": [
    "----\n",
    "\n",
    "- A dictionary is a Python data structure that consists of both `keys` and `values`. This allows you to look up quantities based on the `key` you are interested in. An example of this is shown below for the histidine metabolite\n",
    "\n",
    "----"
   ]
  },
  {
   "cell_type": "code",
   "execution_count": 5,
   "metadata": {
    "scrolled": false
   },
   "outputs": [
    {
     "name": "stdout",
     "output_type": "stream",
     "text": [
      "Values associated with atp_c =  {'name': 'ATP C10H12N5O13P3', 'formula': 'C10H12N5O13P3', 'charge': -4, 'compartment': 'c'}\n",
      "Formula =  C10H12N5O13P3\n"
     ]
    }
   ],
   "source": [
    "# Look up the information assocated with the histidine metabolite (his__L_c)\n",
    "print('Values associated with atp_c = ', metabolites_and_info['atp_c'])\n",
    "# This returns another dictionary where the formula, etc. can be looked up with:\n",
    "print('Formula = ', metabolites_and_info['atp_c']['formula'])"
   ]
  },
  {
   "cell_type": "markdown",
   "metadata": {},
   "source": [
    "2) To leverage dictionary properties to add the metabolites to model more efficiently, you can iterate through all of the dictionary entries (items), like below"
   ]
  },
  {
   "cell_type": "code",
   "execution_count": 6,
   "metadata": {},
   "outputs": [
    {
     "name": "stdout",
     "output_type": "stream",
     "text": [
      "atp_c {'name': 'ATP C10H12N5O13P3', 'formula': 'C10H12N5O13P3', 'charge': -4, 'compartment': 'c'}\n",
      "glc__D_c {'name': 'D-Glucose', 'formula': 'C6H12O6', 'charge': 0, 'compartment': 'c'}\n",
      "adp_c {'name': 'ADP C10H12N5O10P2', 'formula': 'C10H12N5O10P2', 'charge': -3, 'compartment': 'c'}\n",
      "g6p_c {'name': 'D-Glucose 6-phosphate', 'formula': 'C6H11O9P', 'charge': -2, 'compartment': 'c'}\n",
      "h_c {'name': 'H+', 'formula': 'H', 'charge': 1, 'compartment': 'c'}\n",
      "f6p_c {'name': 'D-Fructose 6-phosphate', 'formula': 'C6H11O9P', 'charge': -2, 'compartment': 'c'}\n",
      "fdp_c {'name': 'D-Fructose 1,6-bisphosphate', 'formula': 'C6H10O12P2', 'charge': -4, 'compartment': 'c'}\n",
      "dhap_c {'name': 'Dihydroxyacetone phosphate', 'formula': 'C3H5O6P', 'charge': -2, 'compartment': 'c'}\n",
      "g3p_c {'name': 'Glyceraldehyde 3-phosphate', 'formula': 'C3H5O6P', 'charge': -2, 'compartment': 'c'}\n",
      "nad_c {'name': 'Nicotinamide adenine dinucleotide', 'formula': 'C21H26N7O14P2', 'charge': -1, 'compartment': 'c'}\n",
      "pi_c {'name': 'Phosphate', 'formula': 'HO4P', 'charge': -2, 'compartment': 'c'}\n",
      "13dpg_c {'name': '3-Phospho-D-glyceroyl phosphate', 'formula': 'C3H4O10P2', 'charge': -4, 'compartment': 'c'}\n",
      "nadh_c {'name': 'Nicotinamide adenine dinucleotide - reduced', 'formula': 'C21H27N7O14P2', 'charge': -2, 'compartment': 'c'}\n",
      "3pg_c {'name': '3-Phospho-D-glycerate', 'formula': 'C3H4O7P', 'charge': -3, 'compartment': 'c'}\n",
      "2pg_c {'name': 'D-Glycerate 2-phosphate', 'formula': 'C3H4O7P', 'charge': -3, 'compartment': 'c'}\n",
      "h2o_c {'name': 'H2O H2O', 'formula': 'H2O', 'charge': 0, 'compartment': 'c'}\n",
      "pep_c {'name': 'Phosphoenolpyruvate', 'formula': 'C3H2O6P', 'charge': -3, 'compartment': 'c'}\n",
      "pyr_c {'name': 'Pyruvate', 'formula': 'C3H3O3', 'charge': -1, 'compartment': 'c'}\n"
     ]
    }
   ],
   "source": [
    "for key, value in metabolites_and_info.items():\n",
    "    print(key, value)"
   ]
  },
  {
   "cell_type": "code",
   "execution_count": 7,
   "metadata": {},
   "outputs": [],
   "source": [
    "# Add all the remaining metabolites involved in the pathway\n",
    "for met_id, info in metabolites_and_info.items():\n",
    "    met = cobra.Metabolite(met_id, name=info['name'], formula=info['formula'], \n",
    "                           charge=info['charge'], compartment=info['compartment'])\n",
    "    model.add_metabolites(met)"
   ]
  },
  {
   "cell_type": "code",
   "execution_count": 8,
   "metadata": {},
   "outputs": [
    {
     "name": "stdout",
     "output_type": "stream",
     "text": [
      "Number of metabolites: 18\n"
     ]
    }
   ],
   "source": [
    "print('Number of metabolites: ' + str(len(model.metabolites)))"
   ]
  },
  {
   "cell_type": "markdown",
   "metadata": {},
   "source": [
    "-------\n",
    "## B) Add reactions to model and simulate\n",
    "\n",
    "### 1) Like above, add the reaction info found in `reactions_and_info` to the model\n",
    " "
   ]
  },
  {
   "cell_type": "code",
   "execution_count": 9,
   "metadata": {},
   "outputs": [],
   "source": [
    "for reaction, info in reactions_and_info.items():\n",
    "    reaction_obj = cobra.Reaction(reaction)\n",
    "    reaction_obj.lower_bound = info['lower_bound']\n",
    "    reaction_obj.upper_bound = info['upper_bound']\n",
    "    reaction_obj.name = info['name']\n",
    "    model.add_reaction(reaction_obj)\n",
    "    reaction_obj.add_metabolites(info['stoichiometry'])\n",
    "    reaction_obj.gene_reaction_rule = info['gene_reaction_rule']"
   ]
  },
  {
   "cell_type": "markdown",
   "metadata": {},
   "source": [
    "### 2)  Mass balance check each reaction added to the pathway using `reaction.check_mass_balance()` method\n",
    "\n",
    "This is an important step in quality controlling any metabolic model. Failing to do so could result in incorrect reactions and incorrect predictions\n",
    "\n",
    "**Hints:** \n",
    "\n",
    "1) An example of using this function can be found below\n"
   ]
  },
  {
   "cell_type": "code",
   "execution_count": 10,
   "metadata": {},
   "outputs": [
    {
     "data": {
      "text/plain": [
       "{}"
      ]
     },
     "execution_count": 10,
     "metadata": {},
     "output_type": "execute_result"
    }
   ],
   "source": [
    "# Returning an empty dictionary means the reaction is mass balanced\n",
    "model.reactions.GAPD.check_mass_balance()"
   ]
  },
  {
   "cell_type": "markdown",
   "metadata": {},
   "source": [
    "2) You can iterate through all reactions in a model with the following"
   ]
  },
  {
   "cell_type": "code",
   "execution_count": 11,
   "metadata": {},
   "outputs": [
    {
     "name": "stdout",
     "output_type": "stream",
     "text": [
      "HEX1 atp_c + glc__D_c --> adp_c + g6p_c + h_c\n",
      "PGI g6p_c <=> f6p_c\n",
      "PFK atp_c + f6p_c --> adp_c + fdp_c + h_c\n",
      "TPI dhap_c <=> g3p_c\n",
      "FBA fdp_c <=> g3p_c\n",
      "GAPD g3p_c + nad_c + pi_c <=> 13dpg_c + h_c + nadh_c\n",
      "PGK 3pg_c + atp_c <=> 13dpg_c + adp_c\n",
      "PGM 2pg_c <=> 3pg_c\n",
      "ENO 2pg_c <=> h2o_c + pep_c\n",
      "PYK adp_c + h_c + pep_c --> atp_c + pyr_c\n"
     ]
    }
   ],
   "source": [
    "for r in model.reactions:\n",
    "    print(r.id, r.reaction)"
   ]
  },
  {
   "cell_type": "code",
   "execution_count": 12,
   "metadata": {
    "scrolled": true
   },
   "outputs": [
    {
     "name": "stdout",
     "output_type": "stream",
     "text": [
      "HEX1 {}\n",
      "PGI {}\n",
      "PFK {}\n",
      "TPI {}\n",
      "FBA {'charge': 2.0, 'C': -3.0, 'H': -5.0, 'O': -6.0, 'P': -1.0}\n",
      "GAPD {}\n",
      "PGK {}\n",
      "PGM {}\n",
      "ENO {}\n",
      "PYK {}\n"
     ]
    }
   ],
   "source": [
    "for r in model.reactions:\n",
    "    print(r.id,  r.check_mass_balance())"
   ]
  },
  {
   "cell_type": "markdown",
   "metadata": {},
   "source": [
    "### 3) If a reaction is not mass balanced, correct it with `reaction.add_metabolites()` and confirm it is now mass balance\n",
    "The proper stoichiometry for the reaction can be found at [ecocyc](http://www.ecocyc.com) or [bigg](http://bigg.ucsd.edu). Databases like these are useful references for metabolic reconstructions and understanding models.\n",
    "\n",
    "**Hint:**\n",
    "1) Metabolites can be add and removed from reactions using `add_metabolites` on an existing reaction like below"
   ]
  },
  {
   "cell_type": "code",
   "execution_count": 13,
   "metadata": {},
   "outputs": [
    {
     "name": "stdout",
     "output_type": "stream",
     "text": [
      "With atp:  g3p_c + nad_c + pi_c <=> 13dpg_c + atp_c + h_c + nadh_c\n",
      "Back to original reaction:  g3p_c + nad_c + pi_c <=> 13dpg_c + h_c + nadh_c\n"
     ]
    }
   ],
   "source": [
    "model.reactions.GAPD.add_metabolites({'atp_c': 1.0}, combine=False)\n",
    "print('With atp: ', model.reactions.GAPD.reaction)\n",
    "model.reactions.GAPD.add_metabolites({'atp_c': 0}, combine=False)\n",
    "print('Back to original reaction: ', model.reactions.GAPD.reaction)"
   ]
  },
  {
   "cell_type": "code",
   "execution_count": 14,
   "metadata": {},
   "outputs": [
    {
     "name": "stdout",
     "output_type": "stream",
     "text": [
      "{}\n"
     ]
    }
   ],
   "source": [
    "model.reactions.FBA.add_metabolites({'dhap_c': 1.0})\n",
    "print(model.reactions.FBA.check_mass_balance())"
   ]
  },
  {
   "cell_type": "markdown",
   "metadata": {},
   "source": [
    "### 4) Add boundary reactions to act as source and sink for glucose and pyruvate\n",
    "\n",
    "Models require inputs and outputs in order to simulate. In other words, flux going into a metabolite must ultimately go somewhere.\n",
    "\n",
    "The reactions should have the following info:\n",
    "\n",
    "| ID      | Reaction       |   Lower Bound | Upper Bound \n",
    "| :-------------: |:-------------:|:-------------:|:-------------:|\n",
    "| EX_glc__D_c | glc__D_c <=>     | -1 | 1000 |\n",
    "| EX_pyr_c | pyr_c -->     | 0 | 1000 |\n",
    "| EX_h2o_c | h2o_c <=>     | -1000 | 1000 |\n",
    "| EX_h_c | h_c <=>     | -1000 | 1000 |\n",
    "| EX_pi_c | pi_c <=>     | -1000 | 1000 |\n",
    "\n",
    "These reactions are called **Exchange Reactions** and by convention begin with 'EX_'. Further, by convention a negative lower bound/flux corresponds to a model input (or metabolite uptake from the growth media/growth condition). Therefore, a lower bound of 1 means that the model can take up, at most, 1 $\\frac{mmol}{gDW \\cdot hr}$ of glucose"
   ]
  },
  {
   "cell_type": "code",
   "execution_count": 15,
   "metadata": {},
   "outputs": [],
   "source": [
    "for met in ['glc__D_c', 'pyr_c', 'h2o_c', 'h_c', 'pi_c']:\n",
    "    rxn = cobra.Reaction('EX_%s' % met)\n",
    "    model.add_reaction(rxn)\n",
    "    rxn.add_metabolites({met: -1})\n",
    "    if met == 'glc__D_c':\n",
    "        rxn.lower_bound = -1 # by convention negative exchange flux = uptake\n",
    "    elif met == 'pyr_c':\n",
    "        rxn.lower_bound = 0\n",
    "    else:\n",
    "        rxn.lower_bound = -1000\n",
    "        \n"
   ]
  },
  {
   "cell_type": "markdown",
   "metadata": {},
   "source": [
    "### 5) View the growth media of the model based on the exchange reactions using `model.medium`"
   ]
  },
  {
   "cell_type": "code",
   "execution_count": 16,
   "metadata": {},
   "outputs": [
    {
     "data": {
      "text/plain": [
       "{'EX_glc__D_c': 1, 'EX_h2o_c': 1000, 'EX_h_c': 1000, 'EX_pi_c': 1000}"
      ]
     },
     "execution_count": 16,
     "metadata": {},
     "output_type": "execute_result"
    }
   ],
   "source": [
    "model.medium"
   ]
  },
  {
   "cell_type": "markdown",
   "metadata": {},
   "source": [
    "### 6) Set the model objective to histidine production ('EX_pyr_e') and optimize\n",
    "\n",
    "**Hint:** The objective corresponds to the reaction flux that the optimization will either maximize or minimize (by default maximize). It can be changed with the following:"
   ]
  },
  {
   "cell_type": "code",
   "execution_count": 17,
   "metadata": {},
   "outputs": [
    {
     "name": "stdout",
     "output_type": "stream",
     "text": [
      "Maximize\n",
      "1.0*EX_pyr_c - 1.0*EX_pyr_c_reverse_5a272\n"
     ]
    }
   ],
   "source": [
    "model.objective = 'EX_pyr_c'\n",
    "print(model.objective)"
   ]
  },
  {
   "cell_type": "code",
   "execution_count": 18,
   "metadata": {},
   "outputs": [
    {
     "data": {
      "text/html": [
       "<strong><em>Optimal</em> solution with objective value 0.000</strong><br><div>\n",
       "<style scoped>\n",
       "    .dataframe tbody tr th:only-of-type {\n",
       "        vertical-align: middle;\n",
       "    }\n",
       "\n",
       "    .dataframe tbody tr th {\n",
       "        vertical-align: top;\n",
       "    }\n",
       "\n",
       "    .dataframe thead th {\n",
       "        text-align: right;\n",
       "    }\n",
       "</style>\n",
       "<table border=\"1\" class=\"dataframe\">\n",
       "  <thead>\n",
       "    <tr style=\"text-align: right;\">\n",
       "      <th></th>\n",
       "      <th>fluxes</th>\n",
       "      <th>reduced_costs</th>\n",
       "    </tr>\n",
       "  </thead>\n",
       "  <tbody>\n",
       "    <tr>\n",
       "      <td>HEX1</td>\n",
       "      <td>0.0</td>\n",
       "      <td>0.0</td>\n",
       "    </tr>\n",
       "    <tr>\n",
       "      <td>PGI</td>\n",
       "      <td>0.0</td>\n",
       "      <td>0.0</td>\n",
       "    </tr>\n",
       "    <tr>\n",
       "      <td>PFK</td>\n",
       "      <td>0.0</td>\n",
       "      <td>0.0</td>\n",
       "    </tr>\n",
       "    <tr>\n",
       "      <td>TPI</td>\n",
       "      <td>0.0</td>\n",
       "      <td>0.0</td>\n",
       "    </tr>\n",
       "    <tr>\n",
       "      <td>FBA</td>\n",
       "      <td>0.0</td>\n",
       "      <td>0.0</td>\n",
       "    </tr>\n",
       "    <tr>\n",
       "      <td>...</td>\n",
       "      <td>...</td>\n",
       "      <td>...</td>\n",
       "    </tr>\n",
       "    <tr>\n",
       "      <td>EX_glc__D_c</td>\n",
       "      <td>0.0</td>\n",
       "      <td>0.0</td>\n",
       "    </tr>\n",
       "    <tr>\n",
       "      <td>EX_pyr_c</td>\n",
       "      <td>0.0</td>\n",
       "      <td>0.0</td>\n",
       "    </tr>\n",
       "    <tr>\n",
       "      <td>EX_h2o_c</td>\n",
       "      <td>0.0</td>\n",
       "      <td>0.0</td>\n",
       "    </tr>\n",
       "    <tr>\n",
       "      <td>EX_h_c</td>\n",
       "      <td>0.0</td>\n",
       "      <td>0.0</td>\n",
       "    </tr>\n",
       "    <tr>\n",
       "      <td>EX_pi_c</td>\n",
       "      <td>0.0</td>\n",
       "      <td>0.0</td>\n",
       "    </tr>\n",
       "  </tbody>\n",
       "</table>\n",
       "<p>15 rows × 2 columns</p>\n",
       "</div>"
      ],
      "text/plain": [
       "<Solution 0.000 at 0x118ee7dd8>"
      ]
     },
     "execution_count": 18,
     "metadata": {},
     "output_type": "execute_result"
    }
   ],
   "source": [
    "model.objective = 'EX_pyr_c'\n",
    "model.optimize()"
   ]
  },
  {
   "cell_type": "markdown",
   "metadata": {},
   "source": [
    "**Still no flux through the reaction?  Why?**\n",
    "\n",
    "Flux balance analysis assumes that the system is opperating at steady state (meaning the concentration of the metabolites in the system do not increase or decrease over time). As a consequence of this, each metabolite that participates in the pathway must be created and consumed at the same rate. \n",
    "- ATP and NADH are generated in glycolysis but not used\n",
    "\n",
    "- ADD ATPM and DM_nadh reactions from bigg"
   ]
  },
  {
   "cell_type": "code",
   "execution_count": 19,
   "metadata": {},
   "outputs": [],
   "source": [
    "# add ATPM and NADHM\n",
    "atpm = {'atp_c': -1, 'h2o_c': -1, 'adp_c': 1, 'h_c': 1, 'pi_c': 1}\n",
    "rxn = cobra.Reaction('ATPM')\n",
    "model.add_reaction(rxn)\n",
    "rxn.add_metabolites(atpm)\n",
    "\n",
    "nadhm = {'nadh_c': -1, 'h_c': 1, 'nad_c': 1}\n",
    "rxn = cobra.Reaction('NADHM')\n",
    "model.add_reaction(rxn)\n",
    "rxn.add_metabolites(nadhm)"
   ]
  },
  {
   "cell_type": "code",
   "execution_count": 20,
   "metadata": {},
   "outputs": [
    {
     "data": {
      "text/html": [
       "<strong><em>Optimal</em> solution with objective value 2.000</strong><br><div>\n",
       "<style scoped>\n",
       "    .dataframe tbody tr th:only-of-type {\n",
       "        vertical-align: middle;\n",
       "    }\n",
       "\n",
       "    .dataframe tbody tr th {\n",
       "        vertical-align: top;\n",
       "    }\n",
       "\n",
       "    .dataframe thead th {\n",
       "        text-align: right;\n",
       "    }\n",
       "</style>\n",
       "<table border=\"1\" class=\"dataframe\">\n",
       "  <thead>\n",
       "    <tr style=\"text-align: right;\">\n",
       "      <th></th>\n",
       "      <th>fluxes</th>\n",
       "      <th>reduced_costs</th>\n",
       "    </tr>\n",
       "  </thead>\n",
       "  <tbody>\n",
       "    <tr>\n",
       "      <td>HEX1</td>\n",
       "      <td>1.0</td>\n",
       "      <td>0.0</td>\n",
       "    </tr>\n",
       "    <tr>\n",
       "      <td>PGI</td>\n",
       "      <td>1.0</td>\n",
       "      <td>0.0</td>\n",
       "    </tr>\n",
       "    <tr>\n",
       "      <td>PFK</td>\n",
       "      <td>1.0</td>\n",
       "      <td>0.0</td>\n",
       "    </tr>\n",
       "    <tr>\n",
       "      <td>TPI</td>\n",
       "      <td>1.0</td>\n",
       "      <td>0.0</td>\n",
       "    </tr>\n",
       "    <tr>\n",
       "      <td>FBA</td>\n",
       "      <td>1.0</td>\n",
       "      <td>0.0</td>\n",
       "    </tr>\n",
       "    <tr>\n",
       "      <td>...</td>\n",
       "      <td>...</td>\n",
       "      <td>...</td>\n",
       "    </tr>\n",
       "    <tr>\n",
       "      <td>EX_h2o_c</td>\n",
       "      <td>0.0</td>\n",
       "      <td>0.0</td>\n",
       "    </tr>\n",
       "    <tr>\n",
       "      <td>EX_h_c</td>\n",
       "      <td>6.0</td>\n",
       "      <td>0.0</td>\n",
       "    </tr>\n",
       "    <tr>\n",
       "      <td>EX_pi_c</td>\n",
       "      <td>0.0</td>\n",
       "      <td>0.0</td>\n",
       "    </tr>\n",
       "    <tr>\n",
       "      <td>ATPM</td>\n",
       "      <td>2.0</td>\n",
       "      <td>0.0</td>\n",
       "    </tr>\n",
       "    <tr>\n",
       "      <td>NADHM</td>\n",
       "      <td>2.0</td>\n",
       "      <td>0.0</td>\n",
       "    </tr>\n",
       "  </tbody>\n",
       "</table>\n",
       "<p>17 rows × 2 columns</p>\n",
       "</div>"
      ],
      "text/plain": [
       "<Solution 2.000 at 0x118f4bba8>"
      ]
     },
     "execution_count": 20,
     "metadata": {},
     "output_type": "execute_result"
    }
   ],
   "source": [
    "model.optimize()"
   ]
  },
  {
   "cell_type": "markdown",
   "metadata": {},
   "source": [
    "### 7) Summarzing the metabolic fate of pyruvate / NADH\n",
    "Pyruvate and NADH facillitate metabolic processes in pathways we will model later.\n",
    "\n",
    "For now, summarize the metabolic fates of these two metabolites with the following reactions:\n",
    "\n",
    "- **NADH_to_ATP**: nadh_c+ .5 o2_c + 3.5 h_c + 2.5 pi_c + 2.5 adp_c -> nad_c + 3.5 h2o_c + 2.5 atp_c\n",
    "  - 2.5 ATP per NADH (electron transport chain)\n",
    "- **pyr_to_ATP**: pyr_c + 3 h2o_c + 12.5 h_c + 12.5 pi_c + 12.5 adp_c -> 3 co2_c + 12.5 h2o_c + 12.5 atp_c + 9 h_c\n",
    "  - 15 ATP per pyruvate (TCA cycle + electron transport chain)\n",
    "  \n",
    "  \n",
    "**Note**: also need to remove the NADHM reaction\n",
    "- Can use reaction's `remove_from_model` method "
   ]
  },
  {
   "cell_type": "code",
   "execution_count": 21,
   "metadata": {},
   "outputs": [
    {
     "name": "stdout",
     "output_type": "stream",
     "text": [
      "unknown metabolite 'o2_c' created\n",
      "unknown metabolite 'co2_c' created\n"
     ]
    }
   ],
   "source": [
    "r = cobra.Reaction('NADH_to_ATP')\n",
    "model.add_reaction(r)\n",
    "r.build_reaction_from_string('nadh_c+ .5 o2_c + 3.5 h_c + 2.5 pi_c + 2.5 adp_c -> nad_c + 3.5 h2o_c + 2.5 atp_c')\n",
    "\n",
    "r = cobra.Reaction('pyr_to_ATP')\n",
    "model.add_reaction(r)\n",
    "r.build_reaction_from_string('pyr_c + 3 h2o_c + 12.5 h_c + 12.5 pi_c + 12.5 adp_c -> 3 co2_c + 12.5 h2o_c + 12.5 atp_c + 9 h_c')\n",
    "\n",
    "\n",
    "model.reactions.NADHM.remove_from_model()"
   ]
  },
  {
   "cell_type": "markdown",
   "metadata": {},
   "source": [
    "#### Note that you need to add `o2_c` and `co2_c` metabolites into the model\n",
    "These therefore need exchange reactions into and out of the system\n",
    "- Use upper and lower bound of 1000 and -1000, respectively"
   ]
  },
  {
   "cell_type": "code",
   "execution_count": 22,
   "metadata": {},
   "outputs": [],
   "source": [
    "for met in ['o2_c', 'co2_c']:\n",
    "    rxn = cobra.Reaction('EX_%s' % met)\n",
    "    model.add_reaction(rxn)\n",
    "    rxn.add_metabolites({met: -1})\n",
    "    rxn.lower_bound = -1000"
   ]
  },
  {
   "cell_type": "markdown",
   "metadata": {},
   "source": [
    "#### Set objective to `ATPM` and optimize"
   ]
  },
  {
   "cell_type": "code",
   "execution_count": 23,
   "metadata": {},
   "outputs": [
    {
     "data": {
      "text/html": [
       "<div>\n",
       "<style scoped>\n",
       "    .dataframe tbody tr th:only-of-type {\n",
       "        vertical-align: middle;\n",
       "    }\n",
       "\n",
       "    .dataframe tbody tr th {\n",
       "        vertical-align: top;\n",
       "    }\n",
       "\n",
       "    .dataframe thead th {\n",
       "        text-align: right;\n",
       "    }\n",
       "</style>\n",
       "<table border=\"1\" class=\"dataframe\">\n",
       "  <thead>\n",
       "    <tr style=\"text-align: right;\">\n",
       "      <th></th>\n",
       "      <th>fluxes</th>\n",
       "      <th>reduced_costs</th>\n",
       "    </tr>\n",
       "  </thead>\n",
       "  <tbody>\n",
       "    <tr>\n",
       "      <td>HEX1</td>\n",
       "      <td>1.0</td>\n",
       "      <td>0.000000e+00</td>\n",
       "    </tr>\n",
       "    <tr>\n",
       "      <td>PGI</td>\n",
       "      <td>1.0</td>\n",
       "      <td>0.000000e+00</td>\n",
       "    </tr>\n",
       "    <tr>\n",
       "      <td>PFK</td>\n",
       "      <td>1.0</td>\n",
       "      <td>0.000000e+00</td>\n",
       "    </tr>\n",
       "    <tr>\n",
       "      <td>TPI</td>\n",
       "      <td>1.0</td>\n",
       "      <td>0.000000e+00</td>\n",
       "    </tr>\n",
       "    <tr>\n",
       "      <td>FBA</td>\n",
       "      <td>1.0</td>\n",
       "      <td>0.000000e+00</td>\n",
       "    </tr>\n",
       "    <tr>\n",
       "      <td>GAPD</td>\n",
       "      <td>2.0</td>\n",
       "      <td>0.000000e+00</td>\n",
       "    </tr>\n",
       "    <tr>\n",
       "      <td>PGK</td>\n",
       "      <td>-2.0</td>\n",
       "      <td>-0.000000e+00</td>\n",
       "    </tr>\n",
       "    <tr>\n",
       "      <td>PGM</td>\n",
       "      <td>-2.0</td>\n",
       "      <td>-0.000000e+00</td>\n",
       "    </tr>\n",
       "    <tr>\n",
       "      <td>ENO</td>\n",
       "      <td>2.0</td>\n",
       "      <td>0.000000e+00</td>\n",
       "    </tr>\n",
       "    <tr>\n",
       "      <td>PYK</td>\n",
       "      <td>2.0</td>\n",
       "      <td>0.000000e+00</td>\n",
       "    </tr>\n",
       "    <tr>\n",
       "      <td>EX_glc__D_c</td>\n",
       "      <td>-1.0</td>\n",
       "      <td>-6.400000e+01</td>\n",
       "    </tr>\n",
       "    <tr>\n",
       "      <td>EX_pyr_c</td>\n",
       "      <td>0.0</td>\n",
       "      <td>-2.500000e+01</td>\n",
       "    </tr>\n",
       "    <tr>\n",
       "      <td>EX_h2o_c</td>\n",
       "      <td>-4.0</td>\n",
       "      <td>0.000000e+00</td>\n",
       "    </tr>\n",
       "    <tr>\n",
       "      <td>EX_h_c</td>\n",
       "      <td>20.0</td>\n",
       "      <td>-1.480297e-16</td>\n",
       "    </tr>\n",
       "    <tr>\n",
       "      <td>EX_pi_c</td>\n",
       "      <td>0.0</td>\n",
       "      <td>0.000000e+00</td>\n",
       "    </tr>\n",
       "    <tr>\n",
       "      <td>ATPM</td>\n",
       "      <td>32.0</td>\n",
       "      <td>1.480297e-16</td>\n",
       "    </tr>\n",
       "    <tr>\n",
       "      <td>NADH_to_ATP</td>\n",
       "      <td>2.0</td>\n",
       "      <td>-4.440892e-16</td>\n",
       "    </tr>\n",
       "    <tr>\n",
       "      <td>pyr_to_ATP</td>\n",
       "      <td>2.0</td>\n",
       "      <td>0.000000e+00</td>\n",
       "    </tr>\n",
       "    <tr>\n",
       "      <td>EX_o2_c</td>\n",
       "      <td>-1.0</td>\n",
       "      <td>0.000000e+00</td>\n",
       "    </tr>\n",
       "    <tr>\n",
       "      <td>EX_co2_c</td>\n",
       "      <td>6.0</td>\n",
       "      <td>-8.881784e-16</td>\n",
       "    </tr>\n",
       "  </tbody>\n",
       "</table>\n",
       "</div>"
      ],
      "text/plain": [
       "             fluxes  reduced_costs\n",
       "HEX1            1.0   0.000000e+00\n",
       "PGI             1.0   0.000000e+00\n",
       "PFK             1.0   0.000000e+00\n",
       "TPI             1.0   0.000000e+00\n",
       "FBA             1.0   0.000000e+00\n",
       "GAPD            2.0   0.000000e+00\n",
       "PGK            -2.0  -0.000000e+00\n",
       "PGM            -2.0  -0.000000e+00\n",
       "ENO             2.0   0.000000e+00\n",
       "PYK             2.0   0.000000e+00\n",
       "EX_glc__D_c    -1.0  -6.400000e+01\n",
       "EX_pyr_c        0.0  -2.500000e+01\n",
       "EX_h2o_c       -4.0   0.000000e+00\n",
       "EX_h_c         20.0  -1.480297e-16\n",
       "EX_pi_c         0.0   0.000000e+00\n",
       "ATPM           32.0   1.480297e-16\n",
       "NADH_to_ATP     2.0  -4.440892e-16\n",
       "pyr_to_ATP      2.0   0.000000e+00\n",
       "EX_o2_c        -1.0   0.000000e+00\n",
       "EX_co2_c        6.0  -8.881784e-16"
      ]
     },
     "execution_count": 23,
     "metadata": {},
     "output_type": "execute_result"
    }
   ],
   "source": [
    "model.objective = 'ATPM'\n",
    "model.optimize().to_frame()"
   ]
  },
  {
   "cell_type": "markdown",
   "metadata": {},
   "source": [
    "### 8) Modeling the oxygen dependance of ATP production\n",
    "\n",
    "1) Set objective to ATPM\n",
    "2) Set the lower bound of `EX_o2_c` to 50 values ranging from -2 to 0\n",
    "  - Can use numpy's `linspace` method\n",
    "3) Optimize and print the ATPM values"
   ]
  },
  {
   "cell_type": "code",
   "execution_count": 24,
   "metadata": {},
   "outputs": [
    {
     "name": "stdout",
     "output_type": "stream",
     "text": [
      "32.000000000000014\n",
      "32.000000000000014\n",
      "32.000000000000014\n",
      "32.000000000000014\n",
      "32.000000000000014\n",
      "32.000000000000014\n",
      "32.000000000000014\n",
      "32.000000000000014\n",
      "32.000000000000014\n",
      "32.000000000000014\n",
      "32.000000000000014\n",
      "32.000000000000014\n",
      "32.000000000000014\n",
      "32.000000000000014\n",
      "32.000000000000014\n",
      "32.000000000000014\n",
      "32.000000000000014\n",
      "32.000000000000014\n",
      "32.000000000000014\n",
      "32.000000000000014\n",
      "32.000000000000014\n",
      "32.000000000000014\n",
      "32.000000000000014\n",
      "32.000000000000014\n",
      "32.000000000000014\n",
      "31.346938775510214\n",
      "30.04081632653062\n",
      "28.73469387755103\n",
      "27.42857142857143\n",
      "26.122448979591844\n",
      "24.816326530612255\n",
      "23.510204081632658\n",
      "22.20408163265307\n",
      "20.89795918367348\n",
      "19.59183673469388\n",
      "18.285714285714295\n",
      "16.979591836734702\n",
      "15.673469387755107\n",
      "14.367346938775515\n",
      "13.06122448979593\n",
      "11.755102040816334\n",
      "10.448979591836741\n",
      "9.142857142857148\n",
      "7.8367346938775535\n",
      "6.53061224489797\n",
      "5.224489795918375\n",
      "3.9183673469387816\n",
      "2.6122448979591875\n",
      "1.3061224489795937\n",
      "0.0\n"
     ]
    }
   ],
   "source": [
    "import numpy as np\n",
    "for lb in np.linspace(-2, 0, 50):\n",
    "    model.reactions.EX_o2_c.lower_bound = lb\n",
    "    print(model.optimize().objective_value)"
   ]
  },
  {
   "cell_type": "code",
   "execution_count": null,
   "metadata": {},
   "outputs": [],
   "source": []
  }
 ],
 "metadata": {
  "kernelspec": {
   "display_name": "qbio18",
   "language": "python",
   "name": "qbio18"
  },
  "language_info": {
   "codemirror_mode": {
    "name": "ipython",
    "version": 3
   },
   "file_extension": ".py",
   "mimetype": "text/x-python",
   "name": "python",
   "nbconvert_exporter": "python",
   "pygments_lexer": "ipython3",
   "version": "3.6.4"
  }
 },
 "nbformat": 4,
 "nbformat_minor": 2
}
