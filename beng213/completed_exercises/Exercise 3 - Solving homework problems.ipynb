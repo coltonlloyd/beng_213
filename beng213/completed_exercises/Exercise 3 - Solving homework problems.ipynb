{
 "cells": [
  {
   "cell_type": "code",
   "execution_count": 1,
   "metadata": {},
   "outputs": [],
   "source": [
    "import cobra\n",
    "import pandas as pd\n",
    "from matplotlib import pyplot as plt\n",
    "import numpy as np\n",
    "\n",
    "%matplotlib inline"
   ]
  },
  {
   "cell_type": "markdown",
   "metadata": {},
   "source": [
    "## Chapter 14 problem 8\n",
    "\n",
    "**Fermentation to Produce Soy Sauce**: Soy sauce is prepared by fermenting a salted mixture of soybeans and wheat with several microorganisms, including yeast, over a period of 8 to 12 months. The resulting sauce (after solids are removed) is rich in lactate and ethanol.\n",
    "\n",
    "To prevent the soy sauce from having a strong vinegar taste (vinegar is dilute acetic acid), oxygen must be kept out of the fermentation tank. Why?\n",
    "\n",
    "**Approach**\n",
    "1. Add fermentation reactions to glycolysis model (from pyruvate)\n",
    " - Ethanol: ALCD2x\n",
    " - Acetate: PDH, PTAr, ACKr\n",
    "2. Knock out pyr_to_ATP reaction\n",
    "3. Fermentation is an adaptive mechanism to increase ATP yield. Restrict to one fermentation product and optimize for ATP\n",
    " - In aerobic and anaerobic conditions\n",
    "4. Which fermentation byproduct results in the highest ATP yield in aerobic/anaerobic conditions?\n"
   ]
  },
  {
   "cell_type": "code",
   "execution_count": 2,
   "metadata": {},
   "outputs": [],
   "source": [
    "import cobra\n",
    "glycolysis = cobra.io.load_json_model('../resources/glycolysis_model.json')\n",
    "ecoli = cobra.io.load_json_model('../resources/iML1515.json')\n",
    "\n",
    "glycolysis.reactions.EX_glc__D_c.lower_bound = -1\n",
    "glycolysis.reactions.EX_o2_c.lower_bound = -1000\n",
    "glycolysis.reactions.pyr_to_ATP.knock_out()\n",
    "\n",
    "# add ethanol fermentation\n",
    "glycolysis.add_reaction(ecoli.reactions.ALCD2x)\n",
    "\n",
    "# add acetate fermentation\n",
    "glycolysis.add_reaction(ecoli.reactions.PDH)\n",
    "glycolysis.add_reaction(ecoli.reactions.PTAr)\n",
    "glycolysis.add_reaction(ecoli.reactions.ACKr)\n",
    "\n",
    "# add outlet for ethanol + acetate\n",
    "for r_id, r in {'EX_ac_c': 'ac_c -> ', 'EX_etoh_c': 'etoh_c -> ', 'PYRDC': 'h_c + pyr_c -> acald_c + co2_c'}.items():\n",
    "    r_obj = cobra.Reaction(r_id)\n",
    "    glycolysis.add_reaction(r_obj)\n",
    "    r_obj.build_reaction_from_string(r)"
   ]
  },
  {
   "cell_type": "code",
   "execution_count": 3,
   "metadata": {},
   "outputs": [
    {
     "data": {
      "text/html": [
       "<div>\n",
       "<style scoped>\n",
       "    .dataframe tbody tr th:only-of-type {\n",
       "        vertical-align: middle;\n",
       "    }\n",
       "\n",
       "    .dataframe tbody tr th {\n",
       "        vertical-align: top;\n",
       "    }\n",
       "\n",
       "    .dataframe thead th {\n",
       "        text-align: right;\n",
       "    }\n",
       "</style>\n",
       "<table border=\"1\" class=\"dataframe\">\n",
       "  <thead>\n",
       "    <tr style=\"text-align: right;\">\n",
       "      <th></th>\n",
       "      <th>Aerobic ATP</th>\n",
       "      <th>Anaerobic ATP</th>\n",
       "    </tr>\n",
       "  </thead>\n",
       "  <tbody>\n",
       "    <tr>\n",
       "      <td>EX_ac_c</td>\n",
       "      <td>14.0</td>\n",
       "      <td>0.0</td>\n",
       "    </tr>\n",
       "    <tr>\n",
       "      <td>EX_etoh_c</td>\n",
       "      <td>7.0</td>\n",
       "      <td>2.0</td>\n",
       "    </tr>\n",
       "    <tr>\n",
       "      <td>EX_lac__L_c</td>\n",
       "      <td>7.0</td>\n",
       "      <td>2.0</td>\n",
       "    </tr>\n",
       "  </tbody>\n",
       "</table>\n",
       "</div>"
      ],
      "text/plain": [
       "             Aerobic ATP  Anaerobic ATP\n",
       "EX_ac_c             14.0            0.0\n",
       "EX_etoh_c            7.0            2.0\n",
       "EX_lac__L_c          7.0            2.0"
      ]
     },
     "execution_count": 3,
     "metadata": {},
     "output_type": "execute_result"
    }
   ],
   "source": [
    "import pandas as pd\n",
    "df = pd.DataFrame()\n",
    "glycolysis.reactions.EX_ac_c.knock_out()\n",
    "glycolysis.reactions.EX_lac__L_c.knock_out()\n",
    "glycolysis.reactions.EX_etoh_c.knock_out()\n",
    "for ferm in ['EX_ac_c', 'EX_etoh_c', 'EX_lac__L_c']:\n",
    "    glycolysis.reactions.get_by_id(ferm).upper_bound = 1000\n",
    "    \n",
    "    glycolysis.objective = 'ATPM'\n",
    "    df.loc[ferm, 'Aerobic ATP'] = glycolysis.optimize().objective_value\n",
    "    \n",
    "    glycolysis.reactions.EX_o2_c.lower_bound = 0\n",
    "    df.loc[ferm, 'Anaerobic ATP'] = glycolysis.optimize().objective_value\n",
    "    glycolysis.reactions.EX_o2_c.lower_bound = -1000\n",
    "    glycolysis.reactions.get_by_id(ferm).upper_bound = 0\n",
    "df"
   ]
  },
  {
   "cell_type": "markdown",
   "metadata": {},
   "source": [
    "## Chapter 14 problem 10\n",
    "**Glycolysis Shortcut:** Suppose you discovered a mutant yeast whose glycolytic pathway was shorter because of the presence of a new enzyme catalyzing the reaction:\n",
    "\n",
    "w/ metabolite names: `glyceraldehyde 3 phosphate + h2o + nad -> nadh + h + 2-phosphoglycerate`\n",
    "\n",
    "w/ bigg ids: `g3p_c + h2o_c + nad_c -> nadh_c + h_c + 2pg_c`\n",
    "\n",
    "**Approach**\n",
    "1. Add reaction to core model\n",
    "2. Assess ATP production potential vs reaction activity\n"
   ]
  },
  {
   "cell_type": "code",
   "execution_count": 4,
   "metadata": {},
   "outputs": [
    {
     "data": {
      "text/plain": [
       "Text(0.5,0,'Shortcut flux')"
      ]
     },
     "execution_count": 4,
     "metadata": {},
     "output_type": "execute_result"
    },
    {
     "data": {
      "image/png": "[encoded data removed]",
      "text/plain": [
       "<Figure size 432x288 with 1 Axes>"
      ]
     },
     "metadata": {
      "needs_background": "light"
     },
     "output_type": "display_data"
    }
   ],
   "source": [
    "# Load Model\n",
    "model = cobra.io.load_json_model('../resources/core_model.json')\n",
    "\n",
    "# Add shortcut reaction\n",
    "model.add_reaction(cobra.Reaction('shortcut'))\n",
    "model.reactions.shortcut.build_reaction_from_string('g3p_c + h2o_c + nad_c -> nadh_c + h_c + 2pg_c')\n",
    "\n",
    "# Assess ATP production ability\n",
    "x = []\n",
    "y = []\n",
    "model.objective = 'shortcut'\n",
    "for i in np.linspace(0, 2, 20): # Max flux through reaction is 2\n",
    "    model.reactions.shortcut.lower_bound = i\n",
    "    model.objective = 'ATPM'\n",
    "    sol = model.optimize()\n",
    "    x.append(i)\n",
    "    y.append(sol.objective_value)\n",
    "plt.plot(x, y)\n",
    "plt.ylabel('ATP yield', size=15)\n",
    "plt.xlabel('Shortcut flux', size=15)"
   ]
  },
  {
   "cell_type": "markdown",
   "metadata": {},
   "source": [
    "## Chapter 16 problem 23\n",
    "**Synthesis of L-Malate in Wine Making:** The tartness of some wines is due to high concentrations of L-malate. Write a sequence of reactions showing how yeast cells synthesize L-malate from glucose under anaerobic conditions in the presence of dissolved CO2 (HCO3 ). Note that the overall reaction for this fermentation cannot involve the consumption of nicotinamide coenzymes or citric acid cycle intermediates.\n",
    "\n",
    "**Approach**\n",
    "1. Ensure that all biosynthetic intermediates of malate can be synthesized in the cytosol\n",
    " - If not use bigg to find a reaction in yeast that can fulfill role\n",
    "2. Optimize anaerobically to get net equation\n"
   ]
  },
  {
   "cell_type": "code",
   "execution_count": 6,
   "metadata": {
    "scrolled": true
   },
   "outputs": [
    {
     "name": "stdout",
     "output_type": "stream",
     "text": [
      "HEX1: atp_c + glc__D_c --> adp_c + g6p_c + h_c 1.0\n",
      "PGI: g6p_c <=> f6p_c 1.0\n",
      "PFK: atp_c + f6p_c --> adp_c + fdp_c + h_c 1.0\n",
      "FBA: fdp_c <=> dhap_c + g3p_c 1.0\n",
      "TPI: dhap_c <=> g3p_c 1.0\n",
      "GAPD: g3p_c + nad_c + pi_c <=> 13dpg_c + h_c + nadh_c 2.0\n",
      "PGK: 3pg_c + atp_c <=> 13dpg_c + adp_c -2.0\n",
      "PGM: 2pg_c <=> 3pg_c -2.0\n",
      "ENO: 2pg_c <=> h2o_c + pep_c 2.0\n",
      "PYK: adp_c + h_c + pep_c --> atp_c + pyr_c 2.0\n",
      "MDH: mal__L_c + nad_c <=> h_c + nadh_c + oaa_c -2.0\n",
      "HCO3E: co2_c + h2o_c <=> h_c + hco3_c 2.0\n",
      "EX_h_c: 4.0\n",
      "EX_glc__D_c: -1.0\n",
      "EX_co2_c: -2.0\n",
      "PC: atp_c + hco3_c + pyr_c --> adp_c + h_c + oaa_c + pi_c 2.0\n",
      "EX_mal__L_c: 2.0\n"
     ]
    }
   ],
   "source": [
    "model = cobra.io.load_json_model('../resources/core_model.json')\n",
    "model.add_reaction(cobra.Reaction(\"PC\"))\n",
    "model.reactions.PC.build_reaction_from_string('atp_c + hco3_c + pyr_c -> adp_c + h_c + oaa_c + pi_c')\n",
    "model.add_boundary(model.metabolites.mal__L_c)\n",
    "model.reactions.EX_glc__D_c.lower_bound =-1\n",
    "model.reactions.EX_o2_c.lower_bound = 0\n",
    "model.reactions.EX_co2_c.lower_bound = -100\n",
    "model.objective = 'EX_mal__L_c'\n",
    "sol = model.optimize()\n",
    "\n",
    "df = pd.DataFrame()\n",
    "for r in model.reactions:\n",
    "    if 'EX_' in r.id and abs(r.flux) > .01:\n",
    "        df.loc[r.id, 'Exchange'] = r.flux\n",
    "        print(r.id + ':', r.flux)\n",
    "    elif abs(r.flux) > .01:\n",
    "        print(r, r.flux)"
   ]
  },
  {
   "cell_type": "markdown",
   "metadata": {},
   "source": [
    "## Chapter 19 problem 6 \n",
    "\n",
    "**Uncouplers of ETC:** In normal mitochondria the rate of electron transfer is tightly coupled to the demand for ATP. When the rate of use of ATP is relatively low, the rate of electron transfer is low; when demand for ATP increases, electron-transfer rate increases. Under these conditions of tight coupling, the number of ATP molecules produced per atom of oxygen consumed when NADH is the electron donor—the P/O ratio—is about 2.5.\n",
    "\n",
    "(a) Predict the effect of a relatively low and a relatively high concentration of uncoupling agent on the rate of electron transfer and the P/O ratio.\n",
    "\n",
    "(b) Ingestion of uncouplers causes profuse sweating and an increase in body temperature. Explain this phenomenon in molecular terms. What happens to the P/O ratio in the presence of uncouplers?\n",
    "\n",
    "(c) The uncoupler 2,4-dinitrophenol was once prescribed as a weight-reducing drug. How could this agent, in principle, serve as a weight-reducing aid? Uncoupling agents are no longer prescribed, because some deaths occurred following their use. Why might the ingestion of uncouplers lead to death?\n",
    "\n",
    "**Approach**\n",
    "1. Use Htmi reaction to uncouple electron transport chain\n",
    "2. P/O ratio can be computed as `flux_ATPS4mi / (flux_EX_o2_c * 2)`\n",
    "3. Rate of electron transfer can be computed as `(flux_NADH2_u10mi + flux_FADH2ETC) / flux_ATPS4mi`\n"
   ]
  },
  {
   "cell_type": "code",
   "execution_count": 24,
   "metadata": {},
   "outputs": [
    {
     "data": {
      "image/png": "[encoded data removed]",
      "text/plain": [
       "<Figure size 432x288 with 2 Axes>"
      ]
     },
     "metadata": {
      "needs_background": "light"
     },
     "output_type": "display_data"
    },
    {
     "data": {
      "text/plain": [
       "Text(0,0.5,'Glucose Uptake')"
      ]
     },
     "execution_count": 24,
     "metadata": {},
     "output_type": "execute_result"
    },
    {
     "data": {
      "image/png": "[encoded data removed]",
      "text/plain": [
       "<Figure size 432x288 with 2 Axes>"
      ]
     },
     "metadata": {
      "needs_background": "light"
     },
     "output_type": "display_data"
    }
   ],
   "source": [
    "\n",
    "model = cobra.io.load_json_model('../resources/core_model.json')\n",
    "\n",
    "\n",
    "x = []\n",
    "y = []\n",
    "y2=[]\n",
    "\n",
    "# Find maximum uncoupling value possible\n",
    "model.objective = 'Htmi'\n",
    "sol = model.optimize()\n",
    "for i in np.linspace(0, .95, 20):\n",
    "    model.reactions.Htmi.lower_bound = i * sol.objective_value\n",
    "    model.objective = 'ATPM'\n",
    "    model.optimize()\n",
    "    y.append(model.reactions.ATPS4mi.flux / abs((model.reactions.EX_o2_c.flux * 2)))\n",
    "    y2.append((model.reactions.NADH2_u10mi.flux + model.reactions.FADH2ETC.flux) / model.reactions.ATPS4mi.flux)\n",
    "    x.append(i)\n",
    "plt.plot(x, y, 'k')\n",
    "plt.ylabel('P/O Ratio', fontdict={'color':'k', 'size': 15})\n",
    "plt.xlabel('% uncoupling', size=15)\n",
    "ax2 = plt.twinx()\n",
    "ax2.plot(x, y2, c='r')\n",
    "\n",
    "ax2.set_ylabel('Electron transfer per ATP', fontdict={'color':'r',\n",
    "                                                     'size': 15}, rotation=-90, labelpad=20)\n",
    "plt.show()\n",
    "plt.close()\n",
    "\n",
    "\n",
    "model = cobra.io.load_json_model('../resources/core_model.json')\n",
    "sol_1 = model.optimize()\n",
    "\n",
    "model.objective = 'Htmi'\n",
    "x = []\n",
    "y = []\n",
    "y2=[]\n",
    "sol = model.optimize()\n",
    "\n",
    "model.reactions.ATPM.lower_bound = sol_1.fluxes['ATPM']\n",
    "model.reactions.EX_glc__D_c.lower_bound = -10\n",
    "for i in np.linspace(0, .95, 20):\n",
    "    model.reactions.Htmi.lower_bound = i * sol.objective_value\n",
    "    \n",
    "    model.objective = 'EX_glc__D_c'\n",
    "    q = model.optimize()\n",
    "    y.append(model.reactions.ATPS4mi.flux / abs((model.reactions.EX_o2_c.flux * 2)))\n",
    "    y2.append(abs(model.reactions.EX_glc__D_c.flux))\n",
    "    x.append(i)\n",
    "plt.plot(x, y, 'k')\n",
    "plt.ylabel('P/O Ratio', fontdict={'color':'k', 'size': 15})\n",
    "plt.xlabel('% uncoupling', size=15)\n",
    "ax2 = plt.twinx()\n",
    "ax2.plot(x, y2, c='r')\n",
    "\n",
    "ax2.set_ylabel('Glucose Uptake', fontdict={'color':'r',\n",
    "                                                     'size': 15}, rotation=-90, labelpad=20)\n"
   ]
  },
  {
   "cell_type": "markdown",
   "metadata": {},
   "source": [
    "## Trying chapter 19 problem 17\n",
    "Effectof AKGMAL transporter KO on "
   ]
  },
  {
   "cell_type": "code",
   "execution_count": null,
   "metadata": {},
   "outputs": [],
   "source": []
  },
  {
   "cell_type": "code",
   "execution_count": 26,
   "metadata": {},
   "outputs": [],
   "source": [
    "model = cobra.io.load_json_model('../resources/core_model.json')"
   ]
  },
  {
   "cell_type": "code",
   "execution_count": 27,
   "metadata": {
    "scrolled": true
   },
   "outputs": [
    {
     "data": {
      "text/html": [
       "<strong><em>Optimal</em> solution with objective value 25.200</strong><br><div>\n",
       "<style scoped>\n",
       "    .dataframe tbody tr th:only-of-type {\n",
       "        vertical-align: middle;\n",
       "    }\n",
       "\n",
       "    .dataframe tbody tr th {\n",
       "        vertical-align: top;\n",
       "    }\n",
       "\n",
       "    .dataframe thead th {\n",
       "        text-align: right;\n",
       "    }\n",
       "</style>\n",
       "<table border=\"1\" class=\"dataframe\">\n",
       "  <thead>\n",
       "    <tr style=\"text-align: right;\">\n",
       "      <th></th>\n",
       "      <th>fluxes</th>\n",
       "      <th>reduced_costs</th>\n",
       "    </tr>\n",
       "  </thead>\n",
       "  <tbody>\n",
       "    <tr>\n",
       "      <td>CSm</td>\n",
       "      <td>2.0</td>\n",
       "      <td>-5.329071e-15</td>\n",
       "    </tr>\n",
       "    <tr>\n",
       "      <td>ACONTm</td>\n",
       "      <td>2.0</td>\n",
       "      <td>7.105427e-15</td>\n",
       "    </tr>\n",
       "    <tr>\n",
       "      <td>ICDHxm</td>\n",
       "      <td>2.0</td>\n",
       "      <td>-7.105427e-15</td>\n",
       "    </tr>\n",
       "    <tr>\n",
       "      <td>AKGDm</td>\n",
       "      <td>2.0</td>\n",
       "      <td>7.105427e-15</td>\n",
       "    </tr>\n",
       "    <tr>\n",
       "      <td>SUCOASm</td>\n",
       "      <td>-2.0</td>\n",
       "      <td>-0.000000e+00</td>\n",
       "    </tr>\n",
       "    <tr>\n",
       "      <td>...</td>\n",
       "      <td>...</td>\n",
       "      <td>...</td>\n",
       "    </tr>\n",
       "    <tr>\n",
       "      <td>EX_octa_c</td>\n",
       "      <td>0.0</td>\n",
       "      <td>-7.920000e+01</td>\n",
       "    </tr>\n",
       "    <tr>\n",
       "      <td>EX_acetone_m</td>\n",
       "      <td>0.0</td>\n",
       "      <td>0.000000e+00</td>\n",
       "    </tr>\n",
       "    <tr>\n",
       "      <td>EX_bhb_m</td>\n",
       "      <td>0.0</td>\n",
       "      <td>-3.600000e+01</td>\n",
       "    </tr>\n",
       "    <tr>\n",
       "      <td>EX_glygn2_c</td>\n",
       "      <td>0.0</td>\n",
       "      <td>-5.604000e+02</td>\n",
       "    </tr>\n",
       "    <tr>\n",
       "      <td>EX_Tyr_ggn_c</td>\n",
       "      <td>0.0</td>\n",
       "      <td>0.000000e+00</td>\n",
       "    </tr>\n",
       "  </tbody>\n",
       "</table>\n",
       "<p>132 rows × 2 columns</p>\n",
       "</div>"
      ],
      "text/plain": [
       "<Solution 25.200 at 0x11986e828>"
      ]
     },
     "execution_count": 27,
     "metadata": {},
     "output_type": "execute_result"
    }
   ],
   "source": [
    "model.optimize()"
   ]
  },
  {
   "cell_type": "code",
   "execution_count": 28,
   "metadata": {},
   "outputs": [
    {
     "data": {
      "text/html": [
       "<strong><em>Optimal</em> solution with objective value 21.600</strong><br><div>\n",
       "<style scoped>\n",
       "    .dataframe tbody tr th:only-of-type {\n",
       "        vertical-align: middle;\n",
       "    }\n",
       "\n",
       "    .dataframe tbody tr th {\n",
       "        vertical-align: top;\n",
       "    }\n",
       "\n",
       "    .dataframe thead th {\n",
       "        text-align: right;\n",
       "    }\n",
       "</style>\n",
       "<table border=\"1\" class=\"dataframe\">\n",
       "  <thead>\n",
       "    <tr style=\"text-align: right;\">\n",
       "      <th></th>\n",
       "      <th>fluxes</th>\n",
       "      <th>reduced_costs</th>\n",
       "    </tr>\n",
       "  </thead>\n",
       "  <tbody>\n",
       "    <tr>\n",
       "      <td>CSm</td>\n",
       "      <td>2.0</td>\n",
       "      <td>0.000000e+00</td>\n",
       "    </tr>\n",
       "    <tr>\n",
       "      <td>ACONTm</td>\n",
       "      <td>2.0</td>\n",
       "      <td>-7.105427e-15</td>\n",
       "    </tr>\n",
       "    <tr>\n",
       "      <td>ICDHxm</td>\n",
       "      <td>2.0</td>\n",
       "      <td>-3.552714e-15</td>\n",
       "    </tr>\n",
       "    <tr>\n",
       "      <td>AKGDm</td>\n",
       "      <td>2.0</td>\n",
       "      <td>0.000000e+00</td>\n",
       "    </tr>\n",
       "    <tr>\n",
       "      <td>SUCOASm</td>\n",
       "      <td>-2.0</td>\n",
       "      <td>-0.000000e+00</td>\n",
       "    </tr>\n",
       "    <tr>\n",
       "      <td>...</td>\n",
       "      <td>...</td>\n",
       "      <td>...</td>\n",
       "    </tr>\n",
       "    <tr>\n",
       "      <td>EX_octa_c</td>\n",
       "      <td>0.0</td>\n",
       "      <td>-8.168000e+01</td>\n",
       "    </tr>\n",
       "    <tr>\n",
       "      <td>EX_acetone_m</td>\n",
       "      <td>0.0</td>\n",
       "      <td>0.000000e+00</td>\n",
       "    </tr>\n",
       "    <tr>\n",
       "      <td>EX_bhb_m</td>\n",
       "      <td>0.0</td>\n",
       "      <td>-3.600000e+01</td>\n",
       "    </tr>\n",
       "    <tr>\n",
       "      <td>EX_glygn2_c</td>\n",
       "      <td>0.0</td>\n",
       "      <td>-4.812000e+02</td>\n",
       "    </tr>\n",
       "    <tr>\n",
       "      <td>EX_Tyr_ggn_c</td>\n",
       "      <td>0.0</td>\n",
       "      <td>0.000000e+00</td>\n",
       "    </tr>\n",
       "  </tbody>\n",
       "</table>\n",
       "<p>132 rows × 2 columns</p>\n",
       "</div>"
      ],
      "text/plain": [
       "<Solution 21.600 at 0x119b2c518>"
      ]
     },
     "execution_count": 28,
     "metadata": {},
     "output_type": "execute_result"
    }
   ],
   "source": [
    "model.reactions.AKGMALtm.knock_out()\n",
    "model.optimize()"
   ]
  },
  {
   "cell_type": "markdown",
   "metadata": {},
   "source": [
    "### Trying problem 15, chapter 14"
   ]
  },
  {
   "cell_type": "code",
   "execution_count": 91,
   "metadata": {},
   "outputs": [],
   "source": [
    "model = cobra.io.load_json_model('../models/core_model.json')\n",
    "model.reactions.EX_o2_c.lower_bound = 0\n",
    "model.add_boundary(model.metabolites.akg_m)\n",
    "model.reactions.EX_akg_m.lower_bound = 0\n",
    "model.objective = 'ATPM'\n",
    "model.reactions.ATPM.add_metabolites({'pi_c': .5}, combine=False)\n",
    "\n",
    "sol = model.optimize()"
   ]
  },
  {
   "cell_type": "code",
   "execution_count": 92,
   "metadata": {
    "scrolled": true
   },
   "outputs": [
    {
     "data": {
      "text/plain": [
       "1.9999999999999991"
      ]
     },
     "execution_count": 92,
     "metadata": {},
     "output_type": "execute_result"
    }
   ],
   "source": [
    "sol.f"
   ]
  },
  {
   "cell_type": "code",
   "execution_count": 93,
   "metadata": {},
   "outputs": [
    {
     "name": "stdout",
     "output_type": "stream",
     "text": [
      "EX_h_c 2.0000000000000004\n",
      "EX_pyr_c 0.0\n",
      "EX_h2o_c 7.200589331140302e-16\n",
      "EX_pi_c -1.0000000000000002\n",
      "EX_glc__D_c -1.0\n",
      "EX_lac__L_c 1.9999999999999996\n",
      "EX_co2_c -5.114956077737329e-16\n",
      "EX_o2_c 0.0\n",
      "EX_octa_c 0.0\n",
      "EX_acetone_m 0.0\n",
      "EX_bhb_m 0.0\n",
      "EX_glygn2_c 0.0\n",
      "EX_Tyr_ggn_c 0.0\n",
      "EX_akg_m 0.0\n"
     ]
    }
   ],
   "source": [
    "for r in model.reactions.query('EX_'):\n",
    "    print(r.id, r.flux)"
   ]
  },
  {
   "cell_type": "code",
   "execution_count": 84,
   "metadata": {},
   "outputs": [
    {
     "data": {
      "text/plain": [
       "1.9999999999999996"
      ]
     },
     "execution_count": 84,
     "metadata": {},
     "output_type": "execute_result"
    }
   ],
   "source": [
    "model.reactions.EX_lac__L_c.flux"
   ]
  },
  {
   "cell_type": "code",
   "execution_count": 85,
   "metadata": {},
   "outputs": [
    {
     "data": {
      "text/plain": [
       "-1.0000000000000002"
      ]
     },
     "execution_count": 85,
     "metadata": {},
     "output_type": "execute_result"
    }
   ],
   "source": [
    "model.reactions.EX_pi_c.flux"
   ]
  },
  {
   "cell_type": "code",
   "execution_count": 96,
   "metadata": {},
   "outputs": [],
   "source": [
    "model.reactions.EX_pi_c.lower_bound = -.1\n",
    "sol = model.optimize()"
   ]
  },
  {
   "cell_type": "code",
   "execution_count": 97,
   "metadata": {
    "scrolled": true
   },
   "outputs": [
    {
     "data": {
      "text/plain": [
       "0.19999999999999585"
      ]
     },
     "execution_count": 97,
     "metadata": {},
     "output_type": "execute_result"
    }
   ],
   "source": [
    "sol.f"
   ]
  },
  {
   "cell_type": "code",
   "execution_count": 98,
   "metadata": {},
   "outputs": [
    {
     "name": "stdout",
     "output_type": "stream",
     "text": [
      "EX_h_c 1.9999999999999998\n",
      "EX_pyr_c 0.0\n",
      "EX_h2o_c 0.0\n",
      "EX_pi_c -0.1\n",
      "EX_glc__D_c -1.0\n",
      "EX_lac__L_c 1.999999999999998\n",
      "EX_co2_c -3.0873829569997055e-16\n",
      "EX_o2_c 5.947623346206209e-18\n",
      "EX_octa_c 0.0\n",
      "EX_acetone_m 0.0\n",
      "EX_bhb_m 0.0\n",
      "EX_glygn2_c 1.5734754434704247e-18\n",
      "EX_Tyr_ggn_c 0.0\n",
      "EX_akg_m 0.0\n"
     ]
    }
   ],
   "source": [
    "for r in model.reactions.query('EX_'):\n",
    "    print(r.id, r.flux)"
   ]
  },
  {
   "cell_type": "markdown",
   "metadata": {},
   "source": [
    "### Problem 29, chapter 14"
   ]
  },
  {
   "cell_type": "code",
   "execution_count": 99,
   "metadata": {},
   "outputs": [],
   "source": [
    "model = cobra.io.load_json_model('../models/core_model.json')"
   ]
  },
  {
   "cell_type": "code",
   "execution_count": 100,
   "metadata": {},
   "outputs": [],
   "source": [
    "model.reactions.EX_lac__L_c.lower_bound = -1\n",
    "model.objective = 'EX_glc__D_c'"
   ]
  },
  {
   "cell_type": "code",
   "execution_count": 101,
   "metadata": {},
   "outputs": [
    {
     "data": {
      "text/html": [
       "<strong><em>Optimal</em> solution with objective value 0.403</strong><br><div>\n",
       "<style scoped>\n",
       "    .dataframe tbody tr th:only-of-type {\n",
       "        vertical-align: middle;\n",
       "    }\n",
       "\n",
       "    .dataframe tbody tr th {\n",
       "        vertical-align: top;\n",
       "    }\n",
       "\n",
       "    .dataframe thead th {\n",
       "        text-align: right;\n",
       "    }\n",
       "</style>\n",
       "<table border=\"1\" class=\"dataframe\">\n",
       "  <thead>\n",
       "    <tr style=\"text-align: right;\">\n",
       "      <th></th>\n",
       "      <th>fluxes</th>\n",
       "      <th>reduced_costs</th>\n",
       "    </tr>\n",
       "  </thead>\n",
       "  <tbody>\n",
       "    <tr>\n",
       "      <th>CSm</th>\n",
       "      <td>0.194444</td>\n",
       "      <td>2.220446e-16</td>\n",
       "    </tr>\n",
       "    <tr>\n",
       "      <th>ACONTm</th>\n",
       "      <td>0.194444</td>\n",
       "      <td>0.000000e+00</td>\n",
       "    </tr>\n",
       "    <tr>\n",
       "      <th>ICDHxm</th>\n",
       "      <td>0.194444</td>\n",
       "      <td>1.443290e-15</td>\n",
       "    </tr>\n",
       "    <tr>\n",
       "      <th>AKGDm</th>\n",
       "      <td>0.194444</td>\n",
       "      <td>-1.554312e-15</td>\n",
       "    </tr>\n",
       "    <tr>\n",
       "      <th>SUCOAS1m</th>\n",
       "      <td>-0.194444</td>\n",
       "      <td>1.554312e-15</td>\n",
       "    </tr>\n",
       "    <tr>\n",
       "      <th>...</th>\n",
       "      <td>...</td>\n",
       "      <td>...</td>\n",
       "    </tr>\n",
       "    <tr>\n",
       "      <th>EX_octa_c</th>\n",
       "      <td>0.000000</td>\n",
       "      <td>-2.750000e+00</td>\n",
       "    </tr>\n",
       "    <tr>\n",
       "      <th>EX_acetone_m</th>\n",
       "      <td>0.000000</td>\n",
       "      <td>0.000000e+00</td>\n",
       "    </tr>\n",
       "    <tr>\n",
       "      <th>EX_bhb_m</th>\n",
       "      <td>0.000000</td>\n",
       "      <td>-1.194444e+00</td>\n",
       "    </tr>\n",
       "    <tr>\n",
       "      <th>EX_glygn2_c</th>\n",
       "      <td>0.000000</td>\n",
       "      <td>-2.200000e+01</td>\n",
       "    </tr>\n",
       "    <tr>\n",
       "      <th>EX_Tyr_ggn_c</th>\n",
       "      <td>0.000000</td>\n",
       "      <td>-6.217249e-15</td>\n",
       "    </tr>\n",
       "  </tbody>\n",
       "</table>\n",
       "<p>133 rows × 2 columns</p>\n",
       "</div>"
      ],
      "text/plain": [
       "<Solution 0.403 at 0x11221e6a0>"
      ]
     },
     "execution_count": 101,
     "metadata": {},
     "output_type": "execute_result"
    }
   ],
   "source": [
    "model.optimize()"
   ]
  },
  {
   "cell_type": "code",
   "execution_count": 102,
   "metadata": {},
   "outputs": [
    {
     "data": {
      "text/plain": [
       "-0.583333333333337"
      ]
     },
     "execution_count": 102,
     "metadata": {},
     "output_type": "execute_result"
    }
   ],
   "source": [
    "model.reactions.EX_o2_c.flux"
   ]
  },
  {
   "cell_type": "code",
   "execution_count": 103,
   "metadata": {},
   "outputs": [
    {
     "name": "stdout",
     "output_type": "stream",
     "text": [
      "PRODUCING REACTIONS -- ATP C10H12N5O13P3 (atp_c)\n",
      "------------------------------------------------\n",
      "%       FLUX  RXN ID    REACTION\n",
      "----  ------  --------  ---------------------------------\n",
      "100%   0.806  ATPtm     adp_c + atp_m --> adp_m + atp_c\n",
      "\n",
      "CONSUMING REACTIONS -- ATP C10H12N5O13P3 (atp_c)\n",
      "------------------------------------------------\n",
      "%       FLUX  RXN ID    REACTION\n",
      "----  ------  --------  ---------------------------------\n",
      "100%   0.806  PGK       3pg_c + atp_c <=> 13dpg_c + adp_c\n"
     ]
    }
   ],
   "source": [
    "model.metabolites.atp_c.summary()"
   ]
  },
  {
   "cell_type": "markdown",
   "metadata": {},
   "source": [
    "### Problem 29, chapter 14"
   ]
  },
  {
   "cell_type": "code",
   "execution_count": 126,
   "metadata": {},
   "outputs": [],
   "source": [
    "model = cobra.io.load_json_model('../models/core_model.json')\n",
    "model.objective = 'ATPM'\n",
    "sol1 = model.optimize()\n",
    "model.add_boundary(model.metabolites.oaa_c)\n",
    "model.objective = 'EX_oaa_c'\n",
    "model.reactions.PCm.knock_out()\n",
    "sol2 = model.optimize()"
   ]
  },
  {
   "cell_type": "code",
   "execution_count": 127,
   "metadata": {},
   "outputs": [
    {
     "data": {
      "text/plain": [
       "25.19999999999994"
      ]
     },
     "execution_count": 127,
     "metadata": {},
     "output_type": "execute_result"
    }
   ],
   "source": [
    "sol1.f"
   ]
  },
  {
   "cell_type": "code",
   "execution_count": 128,
   "metadata": {},
   "outputs": [
    {
     "data": {
      "text/plain": [
       "0.0"
      ]
     },
     "execution_count": 128,
     "metadata": {},
     "output_type": "execute_result"
    }
   ],
   "source": [
    "sol2.f"
   ]
  },
  {
   "cell_type": "code",
   "execution_count": 119,
   "metadata": {},
   "outputs": [],
   "source": [
    "df = (sol2.fluxes + 1) / (sol1.fluxes + 1)"
   ]
  },
  {
   "cell_type": "code",
   "execution_count": 158,
   "metadata": {},
   "outputs": [],
   "source": []
  },
  {
   "cell_type": "code",
   "execution_count": 167,
   "metadata": {
    "scrolled": true
   },
   "outputs": [
    {
     "name": "stdout",
     "output_type": "stream",
     "text": [
      "9.2\n",
      "2.0\n",
      "2.036062378167643\n",
      "2.61052631578947\n",
      "2.484210526315792\n",
      "3.221052631578941\n",
      "3.0947368421052506\n",
      "3.8315789473683877\n",
      "3.705263157894726\n",
      "4.442105263157842\n",
      "4.315789473684192\n",
      "5.052631578947308\n",
      "4.926315789473658\n",
      "5.663157894736759\n",
      "5.536842105263107\n",
      "6.273684210526182\n",
      "6.14736842105267\n",
      "6.8842105263157585\n",
      "6.757894736841999\n",
      "7.49473684210513\n",
      "7.368421052631394\n",
      "8.105263157894703\n",
      "7.978947368421069\n",
      "8.715789473684065\n",
      "8.589473684210393\n",
      "9.326315789473671\n",
      "9.19999999999987\n",
      "9.936842105263072\n",
      "9.810526315789437\n",
      "10.547368421052479\n",
      "10.421052631578835\n",
      "11.157894736841953\n",
      "11.03157894736832\n",
      "11.768421052631389\n",
      "11.642105263157802\n",
      "12.378947368420853\n",
      "12.252631578947284\n",
      "12.989473684210465\n",
      "12.863157894736695\n",
      "13.599999999999913\n"
     ]
    },
    {
     "name": "stderr",
     "output_type": "stream",
     "text": [
      "cobra/util/solver.py:408 \u001b[1;31mUserWarning\u001b[0m: solver status is 'infeasible'\n"
     ]
    }
   ],
   "source": [
    "model = cobra.io.load_json_model('../models/core_model.json')\n",
    "model.add_boundary(model.metabolites.cit_m)\n",
    "model.reactions.EX_cit_m.lower_bound = 0\n",
    "model.reactions.NADM.knock_out()\n",
    "sol = model.optimize()\n",
    "\n",
    "df = pd.DataFrame()\n",
    "x = []\n",
    "y = []\n",
    "for i in np.linspace(0, .5, 20):\n",
    "    for r in ['ACONTm', 'NADH2_u10mi']:\n",
    "        model.reactions.get_by_id(r).lower_bound = i * sol.fluxes[r]\n",
    "        model.reactions.get_by_id(r).upper_bound = i * sol.fluxes[r]\n",
    "        sol2 = model.optimize()\n",
    "        print(sol2.f)\n",
    "        df.loc[str(i), 'cit'] = sol2.fluxes['EX_cit_m']"
   ]
  },
  {
   "cell_type": "code",
   "execution_count": 332,
   "metadata": {},
   "outputs": [
    {
     "data": {
      "text/html": [
       "<div>\n",
       "<style scoped>\n",
       "    .dataframe tbody tr th:only-of-type {\n",
       "        vertical-align: middle;\n",
       "    }\n",
       "\n",
       "    .dataframe tbody tr th {\n",
       "        vertical-align: top;\n",
       "    }\n",
       "\n",
       "    .dataframe thead th {\n",
       "        text-align: right;\n",
       "    }\n",
       "</style>\n",
       "<table border=\"1\" class=\"dataframe\">\n",
       "  <thead>\n",
       "    <tr style=\"text-align: right;\">\n",
       "      <th></th>\n",
       "      <th>Exchange</th>\n",
       "    </tr>\n",
       "  </thead>\n",
       "  <tbody>\n",
       "    <tr>\n",
       "      <th>EX_h_c</th>\n",
       "      <td>3.333333e-01</td>\n",
       "    </tr>\n",
       "    <tr>\n",
       "      <th>EX_pyr_c</th>\n",
       "      <td>1.657374e-14</td>\n",
       "    </tr>\n",
       "    <tr>\n",
       "      <th>EX_h2o_c</th>\n",
       "      <td>2.666667e+00</td>\n",
       "    </tr>\n",
       "    <tr>\n",
       "      <th>EX_pi_c</th>\n",
       "      <td>-4.817403e-15</td>\n",
       "    </tr>\n",
       "    <tr>\n",
       "      <th>EX_lac__L_c</th>\n",
       "      <td>-5.033011e-15</td>\n",
       "    </tr>\n",
       "    <tr>\n",
       "      <th>EX_co2_c</th>\n",
       "      <td>2.666667e+00</td>\n",
       "    </tr>\n",
       "    <tr>\n",
       "      <th>EX_o2_c</th>\n",
       "      <td>-5.000000e+00</td>\n",
       "    </tr>\n",
       "    <tr>\n",
       "      <th>EX_octa_c</th>\n",
       "      <td>-1.000000e+00</td>\n",
       "    </tr>\n",
       "    <tr>\n",
       "      <th>EX_bhb_m</th>\n",
       "      <td>1.333333e+00</td>\n",
       "    </tr>\n",
       "  </tbody>\n",
       "</table>\n",
       "</div>"
      ],
      "text/plain": [
       "                 Exchange\n",
       "EX_h_c       3.333333e-01\n",
       "EX_pyr_c     1.657374e-14\n",
       "EX_h2o_c     2.666667e+00\n",
       "EX_pi_c     -4.817403e-15\n",
       "EX_lac__L_c -5.033011e-15\n",
       "EX_co2_c     2.666667e+00\n",
       "EX_o2_c     -5.000000e+00\n",
       "EX_octa_c   -1.000000e+00\n",
       "EX_bhb_m     1.333333e+00"
      ]
     },
     "execution_count": 332,
     "metadata": {},
     "output_type": "execute_result"
    }
   ],
   "source": [
    "df"
   ]
  },
  {
   "cell_type": "code",
   "execution_count": 130,
   "metadata": {},
   "outputs": [],
   "source": [
    "a = cobra.flux_analysis.sample(model, 1000)"
   ]
  },
  {
   "cell_type": "code",
   "execution_count": 160,
   "metadata": {},
   "outputs": [
    {
     "data": {
      "text/plain": [
       "0.7826047902300649"
      ]
     },
     "execution_count": 160,
     "metadata": {},
     "output_type": "execute_result"
    }
   ],
   "source": [
    "a.corr().loc['ACONTm', 'NADH2_u10mi']"
   ]
  },
  {
   "cell_type": "code",
   "execution_count": 157,
   "metadata": {},
   "outputs": [
    {
     "data": {
      "text/html": [
       "<div>\n",
       "<style scoped>\n",
       "    .dataframe tbody tr th:only-of-type {\n",
       "        vertical-align: middle;\n",
       "    }\n",
       "\n",
       "    .dataframe tbody tr th {\n",
       "        vertical-align: top;\n",
       "    }\n",
       "\n",
       "    .dataframe thead th {\n",
       "        text-align: right;\n",
       "    }\n",
       "</style>\n",
       "<table border=\"1\" class=\"dataframe\">\n",
       "  <thead>\n",
       "    <tr style=\"text-align: right;\">\n",
       "      <th></th>\n",
       "      <th>Exchange</th>\n",
       "    </tr>\n",
       "  </thead>\n",
       "  <tbody>\n",
       "    <tr>\n",
       "      <th>EX_h_c</th>\n",
       "      <td>4.0</td>\n",
       "    </tr>\n",
       "    <tr>\n",
       "      <th>EX_glc__D_c</th>\n",
       "      <td>-1.0</td>\n",
       "    </tr>\n",
       "    <tr>\n",
       "      <th>EX_co2_c</th>\n",
       "      <td>-2.0</td>\n",
       "    </tr>\n",
       "    <tr>\n",
       "      <th>EX_mal__L_c</th>\n",
       "      <td>2.0</td>\n",
       "    </tr>\n",
       "  </tbody>\n",
       "</table>\n",
       "</div>"
      ],
      "text/plain": [
       "             Exchange\n",
       "EX_h_c            4.0\n",
       "EX_glc__D_c      -1.0\n",
       "EX_co2_c         -2.0\n",
       "EX_mal__L_c       2.0"
      ]
     },
     "execution_count": 157,
     "metadata": {},
     "output_type": "execute_result"
    }
   ],
   "source": [
    "df"
   ]
  },
  {
   "cell_type": "code",
   "execution_count": 19,
   "metadata": {},
   "outputs": [
    {
     "name": "stdout",
     "output_type": "stream",
     "text": [
      "<Solution 2.000 at 0x1198c7240>\n"
     ]
    }
   ],
   "source": [
    "with model:\n",
    "    model.reactions.NADH2_u10mi.knock_out()\n",
    "    print(model.optimize())\n",
    "    \n",
    "    model.reactions.CY.knock_out()\n",
    "    print(model.optimize())"
   ]
  },
  {
   "cell_type": "code",
   "execution_count": null,
   "metadata": {},
   "outputs": [],
   "source": []
  },
  {
   "cell_type": "code",
   "execution_count": 21,
   "metadata": {},
   "outputs": [
    {
     "data": {
      "text/html": [
       "\n",
       "        <table>\n",
       "            <tr>\n",
       "                <td><strong>Reaction identifier</strong></td><td>CYOR_u10mi</td>\n",
       "            </tr><tr>\n",
       "                <td><strong>Name</strong></td><td>CYOR u10mi</td>\n",
       "            </tr><tr>\n",
       "                <td><strong>Memory address</strong></td>\n",
       "                <td>0x01191ea320</td>\n",
       "            </tr><tr>\n",
       "                <td><strong>Stoichiometry</strong></td>\n",
       "                <td>\n",
       "                    <p style='text-align:right'>2.0 ficytC_m + 2.0 h_m + q10h2_m --> 2.0 focytC_m + 4.0 h_i + q10_m</p>\n",
       "                    <p style='text-align:right'>2.0 Ferricytochrome c + 2.0 H+ + Ubiquinol-10 --> 2.0 Ferrocytochrome C + 4.0 H+ + Ubiquinone-10</p>\n",
       "                </td>\n",
       "            </tr><tr>\n",
       "                <td><strong>GPR</strong></td><td>(7384_AT1 and 7388_AT1 and 4519_AT1 and 29796_AT2 and 10975_AT1 and 7385_AT1 and 7386_AT1 and 153...</td>\n",
       "            </tr><tr>\n",
       "                <td><strong>Lower bound</strong></td><td>0.0</td>\n",
       "            </tr><tr>\n",
       "                <td><strong>Upper bound</strong></td><td>1000.0</td>\n",
       "            </tr>\n",
       "        </table>\n",
       "        "
      ],
      "text/plain": [
       "<Reaction CYOR_u10mi at 0x1191ea320>"
      ]
     },
     "execution_count": 21,
     "metadata": {},
     "output_type": "execute_result"
    }
   ],
   "source": [
    "model.reactions."
   ]
  },
  {
   "cell_type": "code",
   "execution_count": 17,
   "metadata": {},
   "outputs": [
    {
     "data": {
      "text/plain": [
       "[<Reaction CSm at 0x1191dfb00>,\n",
       " <Reaction ACONTm at 0x1191dff28>,\n",
       " <Reaction ICDHxm at 0x1191e3160>,\n",
       " <Reaction AKGDm at 0x1191e35c0>,\n",
       " <Reaction SUCOASm at 0x1191e35f8>,\n",
       " <Reaction SUCD1m at 0x1191e3710>,\n",
       " <Reaction FUMm at 0x12265aa58>,\n",
       " <Reaction MDHm at 0x1191e3cc0>,\n",
       " <Reaction NADH2_u10mi at 0x1191e3d30>,\n",
       " <Reaction FADH2ETC at 0x1191e3fd0>,\n",
       " <Reaction CYOR_u10mi at 0x1191ea320>,\n",
       " <Reaction CYOOm2i at 0x1191ea208>,\n",
       " <Reaction ATPS4mi at 0x1191ea4a8>,\n",
       " <Reaction Htmi at 0x1227b7128>,\n",
       " <Reaction HEX1 at 0x1227b7208>,\n",
       " <Reaction PGI at 0x1191fd438>,\n",
       " <Reaction PFK at 0x1228e8518>,\n",
       " <Reaction FBA at 0x1191fb668>,\n",
       " <Reaction TPI at 0x1191fb898>,\n",
       " <Reaction GAPD at 0x1191fbd30>,\n",
       " <Reaction PGK at 0x12270ecf8>,\n",
       " <Reaction PGM at 0x12270ebe0>,\n",
       " <Reaction ENO at 0x12270e400>,\n",
       " <Reaction PYK at 0x122715278>,\n",
       " <Reaction ADK1 at 0x122706908>,\n",
       " <Reaction PDHm at 0x1226fdcc0>,\n",
       " <Reaction LDH_L at 0x1226fd5c0>,\n",
       " <Reaction G6PDH2r at 0x12270be48>,\n",
       " <Reaction PGL at 0x1227cf390>,\n",
       " <Reaction GND at 0x1227cfb00>,\n",
       " <Reaction RPI at 0x1227cf6d8>,\n",
       " <Reaction RPE at 0x1227cf668>,\n",
       " <Reaction TKT1 at 0x11e381ba8>,\n",
       " <Reaction TKT2 at 0x11e8390b8>,\n",
       " <Reaction TALA at 0x1227e4a20>,\n",
       " <Reaction PCm at 0x1227e4550>,\n",
       " <Reaction PEPCKm at 0x122713ef0>,\n",
       " <Reaction FBP at 0x122800b00>,\n",
       " <Reaction G6PPer at 0x122800eb8>,\n",
       " <Reaction G6Pter at 0x122800470>,\n",
       " <Reaction GLCter at 0x1224253c8>,\n",
       " <Reaction MALtm at 0x122425b00>,\n",
       " <Reaction MDH at 0x122425d30>,\n",
       " <Reaction PEPCK_re at 0x1224d9198>,\n",
       " <Reaction PGMT at 0x122734eb8>,\n",
       " <Reaction GALUi at 0x1225d6748>,\n",
       " <Reaction GLGNS1 at 0x1225d6128>,\n",
       " <Reaction GLBRAN at 0x1225e2518>,\n",
       " <Reaction GLPASE1 at 0x1225e2908>,\n",
       " <Reaction GLDBRAN at 0x1225e2978>,\n",
       " <Reaction GLPASE2 at 0x122445e48>,\n",
       " <Reaction GGNG at 0x1227bb710>,\n",
       " <Reaction ACACT1m at 0x1227bb438>,\n",
       " <Reaction HMGCOASm at 0x1227bb4e0>,\n",
       " <Reaction HMGLm at 0x11e3320f0>,\n",
       " <Reaction ADCim at 0x1227a9ef0>,\n",
       " <Reaction BDHm at 0x1227a97f0>,\n",
       " <Reaction OCOAT1m at 0x1227a9cc0>,\n",
       " <Reaction NDPK1 at 0x1227a95c0>,\n",
       " <Reaction NDPK1m at 0x122804518>,\n",
       " <Reaction NDPK2 at 0x122804128>,\n",
       " <Reaction HCO3Em at 0x122804710>,\n",
       " <Reaction ATPtm at 0x122805630>,\n",
       " <Reaction AKGMALtm at 0x122805588>,\n",
       " <Reaction ASPTA at 0x122805748>,\n",
       " <Reaction ASPTAm at 0x122806d30>,\n",
       " <Reaction CITtam at 0x122806f60>,\n",
       " <Reaction CITL at 0x122806400>,\n",
       " <Reaction ME2 at 0x1228065f8>,\n",
       " <Reaction ACS at 0x122806470>,\n",
       " <Reaction Htm at 0x11d9b5048>,\n",
       " <Reaction O2tm at 0x11e8463c8>,\n",
       " <Reaction H2Otr at 0x11e0f5e10>,\n",
       " <Reaction H2Otm at 0x122801898>,\n",
       " <Reaction PItm at 0x1228014a8>,\n",
       " <Reaction PItr at 0x122801710>,\n",
       " <Reaction CO2tm at 0x1228015c0>,\n",
       " <Reaction PPA at 0x122801208>,\n",
       " <Reaction HCO3E at 0x119064320>,\n",
       " <Reaction PEPtm at 0x119064a58>,\n",
       " <Reaction PYRt2m at 0x119064da0>,\n",
       " <Reaction ASPGLUm at 0x1191dff60>,\n",
       " <Reaction ACCOAC at 0x1191ea9b0>,\n",
       " <Reaction MCOATA at 0x1190682b0>,\n",
       " <Reaction ACOATA at 0x122b06940>,\n",
       " <Reaction KAS14 at 0x122b03fd0>,\n",
       " <Reaction 30AR40 at 0x1190cf390>,\n",
       " <Reaction 3HAD40 at 0x1190abba8>,\n",
       " <Reaction EAR40y at 0x122673828>,\n",
       " <Reaction 30AS60 at 0x122828080>,\n",
       " <Reaction 30AR60 at 0x122828198>,\n",
       " <Reaction 3HAD60 at 0x122828cc0>,\n",
       " <Reaction EAR60y at 0x1228c4c88>,\n",
       " <Reaction 30AS80 at 0x12265a048>,\n",
       " <Reaction 30AR80 at 0x12265a8d0>,\n",
       " <Reaction 3HAD80 at 0x122668908>,\n",
       " <Reaction EAR80y at 0x122668dd8>,\n",
       " <Reaction FA80ACPHi at 0x1226682b0>,\n",
       " <Reaction FACOAL80 at 0x122640c18>,\n",
       " <Reaction C80CPT1 at 0x122640c50>,\n",
       " <Reaction r2434 at 0x122640898>,\n",
       " <Reaction CRNtim at 0x1227d2438>,\n",
       " <Reaction r0636 at 0x1227d2c88>,\n",
       " <Reaction COAtim at 0x1227d28d0>,\n",
       " <Reaction ACOAD3fm at 0x1227d25f8>,\n",
       " <Reaction ECOAH3m at 0x1227d2eb8>,\n",
       " <Reaction HACD3m at 0x1227d2668>,\n",
       " <Reaction ACACT3rm at 0x1228bc6d8>,\n",
       " <Reaction ACOAD2fm at 0x1228c0860>,\n",
       " <Reaction ECOAH2m at 0x12263d0f0>,\n",
       " <Reaction HACD2m at 0x12263d908>,\n",
       " <Reaction ACACT2rm at 0x12263d3c8>,\n",
       " <Reaction ACOAD1fm at 0x12263d080>,\n",
       " <Reaction ECOAH1m at 0x1190ad518>,\n",
       " <Reaction HACD1m at 0x1228df438>,\n",
       " <Reaction ACACT1rm at 0x1228d0d30>,\n",
       " <Reaction NADM at 0x1228d09b0>,\n",
       " <Reaction NADPM at 0x1227d4208>,\n",
       " <Reaction ATPM at 0x1227d4ef0>,\n",
       " <Reaction EX_h_c at 0x1227d4278>,\n",
       " <Reaction EX_pyr_c at 0x1227d4f28>,\n",
       " <Reaction EX_h2o_c at 0x1227d4be0>,\n",
       " <Reaction EX_pi_c at 0x1227d4240>,\n",
       " <Reaction EX_glc__D_c at 0x1227d4c88>,\n",
       " <Reaction EX_lac__L_c at 0x1227d4940>,\n",
       " <Reaction EX_co2_c at 0x1227d45f8>,\n",
       " <Reaction EX_o2_c at 0x1227d42e8>,\n",
       " <Reaction EX_octa_c at 0x1227d4080>,\n",
       " <Reaction EX_acetone_m at 0x12265bb70>,\n",
       " <Reaction EX_bhb_m at 0x12265b978>,\n",
       " <Reaction EX_glygn2_c at 0x12265b898>,\n",
       " <Reaction EX_Tyr_ggn_c at 0x12265b7b8>]"
      ]
     },
     "execution_count": 17,
     "metadata": {},
     "output_type": "execute_result"
    }
   ],
   "source": [
    "model = cobra.io.load_json_model('../resources//core_model.json')\n"
   ]
  },
  {
   "cell_type": "code",
   "execution_count": 193,
   "metadata": {},
   "outputs": [],
   "source": [
    "# Chapter 17, problem 13 how much water from kilogram of fat\n",
    "\n",
    "model = cobra.io.load_json_model('../models/core_model.json')\n",
    "model.add_boundary(model.metabolites.coa_m)\n",
    "model.reactions.EX_co2_c.lower_bound = -100\n",
    "model.reactions.EX_glc__D_c.lower_bound = 0\n",
    "model.reactions.EX_octa_c.lower_bound = -1\n",
    "model.add_boundary(model.metabolites.accoa_m)\n",
    "model.objective = 'EX_accoa_m'\n",
    "sol = model.optimize()\n",
    "\n",
    "df = pd.DataFrame()\n",
    "for r in model.reactions:\n",
    "    if 'EX_' in r.id and r.x != 0:\n",
    "        df.loc[r.id, 'Exchange'] = r.x\n",
    "        print(r.id + ':', r.x)"
   ]
  },
  {
   "cell_type": "code",
   "execution_count": 220,
   "metadata": {},
   "outputs": [
    {
     "name": "stdout",
     "output_type": "stream",
     "text": [
      "EX_h_c: 0.3333333333334264\n",
      "EX_pyr_c: 1.6573744473272203e-14\n",
      "EX_h2o_c: 2.6666666666665657\n",
      "EX_pi_c: -4.817402515547371e-15\n",
      "EX_lac__L_c: -5.033011044967297e-15\n",
      "EX_co2_c: 2.6666666666665746\n",
      "EX_o2_c: -5.0\n",
      "EX_octa_c: -1.0\n",
      "EX_bhb_m: 1.3333333333334985\n"
     ]
    },
    {
     "data": {
      "text/html": [
       "<strong><em>Optimal</em> solution with objective value 15.600</strong><br><div>\n",
       "<style scoped>\n",
       "    .dataframe tbody tr th:only-of-type {\n",
       "        vertical-align: middle;\n",
       "    }\n",
       "\n",
       "    .dataframe tbody tr th {\n",
       "        vertical-align: top;\n",
       "    }\n",
       "\n",
       "    .dataframe thead th {\n",
       "        text-align: right;\n",
       "    }\n",
       "</style>\n",
       "<table border=\"1\" class=\"dataframe\">\n",
       "  <thead>\n",
       "    <tr style=\"text-align: right;\">\n",
       "      <th></th>\n",
       "      <th>fluxes</th>\n",
       "      <th>reduced_costs</th>\n",
       "    </tr>\n",
       "  </thead>\n",
       "  <tbody>\n",
       "    <tr>\n",
       "      <th>CSm</th>\n",
       "      <td>1.0</td>\n",
       "      <td>-5.551115e-17</td>\n",
       "    </tr>\n",
       "    <tr>\n",
       "      <th>ACONTm</th>\n",
       "      <td>1.0</td>\n",
       "      <td>0.000000e+00</td>\n",
       "    </tr>\n",
       "    <tr>\n",
       "      <th>ICDHxm</th>\n",
       "      <td>1.0</td>\n",
       "      <td>0.000000e+00</td>\n",
       "    </tr>\n",
       "    <tr>\n",
       "      <th>AKGDm</th>\n",
       "      <td>1.0</td>\n",
       "      <td>0.000000e+00</td>\n",
       "    </tr>\n",
       "    <tr>\n",
       "      <th>SUCOAS1m</th>\n",
       "      <td>0.0</td>\n",
       "      <td>0.000000e+00</td>\n",
       "    </tr>\n",
       "    <tr>\n",
       "      <th>...</th>\n",
       "      <td>...</td>\n",
       "      <td>...</td>\n",
       "    </tr>\n",
       "    <tr>\n",
       "      <th>EX_acetone_m</th>\n",
       "      <td>0.0</td>\n",
       "      <td>3.122502e-17</td>\n",
       "    </tr>\n",
       "    <tr>\n",
       "      <th>EX_bhb_m</th>\n",
       "      <td>0.0</td>\n",
       "      <td>0.000000e+00</td>\n",
       "    </tr>\n",
       "    <tr>\n",
       "      <th>EX_glygn2_c</th>\n",
       "      <td>0.0</td>\n",
       "      <td>-5.000000e+01</td>\n",
       "    </tr>\n",
       "    <tr>\n",
       "      <th>EX_Tyr_ggn_c</th>\n",
       "      <td>0.0</td>\n",
       "      <td>0.000000e+00</td>\n",
       "    </tr>\n",
       "    <tr>\n",
       "      <th>accoa_to_coa</th>\n",
       "      <td>3.0</td>\n",
       "      <td>0.000000e+00</td>\n",
       "    </tr>\n",
       "  </tbody>\n",
       "</table>\n",
       "<p>134 rows × 2 columns</p>\n",
       "</div>"
      ],
      "text/plain": [
       "<Solution 15.600 at 0x11408f438>"
      ]
     },
     "execution_count": 220,
     "metadata": {},
     "output_type": "execute_result"
    }
   ],
   "source": [
    "# Chapter 17, problem 16 ketone bodies in diabetes\n",
    "\n",
    "model = cobra.io.load_json_model('../models/core_model.json')\n",
    "model.reactions.EX_glc__D_c.lower_bound = 0\n",
    "model.reactions.EX_co2_c.lower_bound = -100\n",
    "model.reactions.EX_octa_c.lower_bound = -1\n",
    "model.reactions.EX_octa_c.upper_bound = -1\n",
    "model.reactions.EX_o2_c.lower_bound = -5 # half of the full activity\n",
    "sol = model.optimize()\n",
    "\n",
    "df = pd.DataFrame()\n",
    "for r in model.reactions:\n",
    "    if 'EX_' in r.id and r.x != 0:\n",
    "        df.loc[r.id, 'Exchange'] = r.x\n",
    "        print(r.id + ':', r.x)\n",
    "        \n",
    "model.reactions.EX_bhb_m.knock_out()\n",
    "model.reactions.EX_acetone_m.knock_out()\n",
    "#model.add_boundary(model.metabolites.accoa_c)\n",
    "#model.reactions.EX_accoa_c.upper_bound= 100\n",
    "model.add_reaction(cobra.Reaction('accoa_to_coa'))\n",
    "model.reactions.accoa_to_coa.build_reaction_from_string('accoa_m -> coa_m')\n",
    "\n",
    "model.optimize()"
   ]
  },
  {
   "cell_type": "code",
   "execution_count": 216,
   "metadata": {},
   "outputs": [
    {
     "name": "stderr",
     "output_type": "stream",
     "text": [
      "cobra/util/solver.py:408 \u001b[1;31mUserWarning\u001b[0m: solver status is 'infeasible'\n"
     ]
    },
    {
     "name": "stdout",
     "output_type": "stream",
     "text": [
      "Before adding sinks:  <Solution infeasible at 0x1146cc9b0>\n",
      "Maximize\n",
      "1.0*ATPM - 1.0*ATPM_reverse_5b752\n",
      "After adding sinks:  <Solution 1000.000 at 0x1147fd748>\n",
      "250\n",
      "Keeping 3hocoa_m_sink 0.1384083044981559 1.0\n",
      "3ooctACP_c_source -1.161432061635992e-13\n",
      "malACP_c_source 1.5158245029548803e-13\n",
      "fad_m_sink -1.7763568394002505e-15\n",
      "amp_c_source -2.220446049250313e-16\n",
      "nadh_m_sink -8.881784197001252e-16\n"
     ]
    },
    {
     "data": {
      "text/html": [
       "\n",
       "        <table>\n",
       "            <tr>\n",
       "                <td><strong>Name</strong></td>\n",
       "                <td>None</td>\n",
       "            </tr><tr>\n",
       "                <td><strong>Memory address</strong></td>\n",
       "                <td>0x01148ebef0</td>\n",
       "            </tr><tr>\n",
       "                <td><strong>Number of metabolites</strong></td>\n",
       "                <td>129</td>\n",
       "            </tr><tr>\n",
       "                <td><strong>Number of reactions</strong></td>\n",
       "                <td>135</td>\n",
       "            </tr><tr>\n",
       "                <td><strong>Objective expression</strong></td>\n",
       "                <td>0</td>\n",
       "            </tr><tr>\n",
       "                <td><strong>Compartments</strong></td>\n",
       "                <td>m, i, c, r, </td>\n",
       "            </tr>\n",
       "          </table>"
      ],
      "text/plain": [
       "<Model None at 0x1148ebef0>"
      ]
     },
     "execution_count": 216,
     "metadata": {},
     "output_type": "execute_result"
    }
   ],
   "source": [
    "find_sinks_sources(model, mets_to_skip=['octa_c', 'ac_c', 'occoa_c', 'occoa_m'])"
   ]
  },
  {
   "cell_type": "code",
   "execution_count": 182,
   "metadata": {},
   "outputs": [
    {
     "name": "stdout",
     "output_type": "stream",
     "text": [
      "Before adding sinks:  <Solution 0.000 at 0x1133a1240>\n",
      "Maximize\n",
      "1.0*EX_accoa_m - 1.0*EX_accoa_m_reverse_188b5\n",
      "After adding sinks:  <Solution 1000.000 at 0x113a9ed68>\n",
      "196\n"
     ]
    },
    {
     "data": {
      "text/html": [
       "\n",
       "        <table>\n",
       "            <tr>\n",
       "                <td><strong>Name</strong></td>\n",
       "                <td>None</td>\n",
       "            </tr><tr>\n",
       "                <td><strong>Memory address</strong></td>\n",
       "                <td>0x0113e42e80</td>\n",
       "            </tr><tr>\n",
       "                <td><strong>Number of metabolites</strong></td>\n",
       "                <td>129</td>\n",
       "            </tr><tr>\n",
       "                <td><strong>Number of reactions</strong></td>\n",
       "                <td>134</td>\n",
       "            </tr><tr>\n",
       "                <td><strong>Objective expression</strong></td>\n",
       "                <td>0</td>\n",
       "            </tr><tr>\n",
       "                <td><strong>Compartments</strong></td>\n",
       "                <td>m, i, c, r, </td>\n",
       "            </tr>\n",
       "          </table>"
      ],
      "text/plain": [
       "<Model None at 0x113e42e80>"
      ]
     },
     "execution_count": 182,
     "metadata": {},
     "output_type": "execute_result"
    }
   ],
   "source": [
    "from fba4l.helper_functions.node_relaxing import find_sinks_sources\n",
    "find_sinks_sources(model, mets_to_skip = ['glygn2_c', 'glygn1_c', 'ggn_c', 'udpg_c', 'dxtrn_c',\n",
    "                                       '2pg_c', '3pg_c', 'e4p_c', 'mal__L_c', 'xu5p__D_c',\n",
    "                                       'ru5p__D_c', 'dhap_c', 'g3p_c', 'r5p_c',\n",
    "                                       'lac__L_c', 'glygn3_c', 's7p_c', 'g1p_c', 'g6p_c',\n",
    "                                        'glc__D_c', 'glc__D_r', 'f6p_c', 'g6p_r', 'fdp_c',\n",
    "                                        '6pgl_c', 'oaa_c', 'pep_m', 'pep_c', '13dpg_c',\n",
    "                                        '6pgc_c', 'octa_c'])"
   ]
  },
  {
   "cell_type": "code",
   "execution_count": 228,
   "metadata": {},
   "outputs": [
    {
     "name": "stdout",
     "output_type": "stream",
     "text": [
      "2.0202020202020154\n",
      "0.0\n"
     ]
    }
   ],
   "source": [
    "# Chapter 17, problem 17 consequences of a high fat diet\n",
    "\n",
    "model = cobra.io.load_json_model('../models/core_model.json')\n",
    "model.reactions.CSm.add_metabolites({'oaa_c': -.99}, # need to force activity of anaplerotic\n",
    "                                    combine=False)\n",
    "model.reactions.EX_co2_c.lower_bound = -100\n",
    "model.reactions.EX_octa_c.lower_bound = -1\n",
    "model.reactions.EX_octa_c.upper_bound = -1\n",
    "model.reactions.EX_o2_c.lower_bound = -100\n",
    "\n",
    "sol = model.optimize()\n",
    "print(sol.fluxes['CSm'])\n",
    "model.reactions.EX_glc__D_c.lower_bound = 0\n",
    "sol = model.optimize()\n",
    "print(sol.fluxes['CSm'])"
   ]
  },
  {
   "cell_type": "code",
   "execution_count": 278,
   "metadata": {},
   "outputs": [],
   "source": []
  },
  {
   "cell_type": "code",
   "execution_count": 328,
   "metadata": {},
   "outputs": [
    {
     "data": {
      "text/plain": [
       "0.0"
      ]
     },
     "execution_count": 328,
     "metadata": {},
     "output_type": "execute_result"
    }
   ],
   "source": [
    "model.reactions.ATPM.lower_bound"
   ]
  },
  {
   "cell_type": "code",
   "execution_count": 326,
   "metadata": {},
   "outputs": [
    {
     "data": {
      "text/plain": [
       "0.0"
      ]
     },
     "execution_count": 326,
     "metadata": {},
     "output_type": "execute_result"
    }
   ],
   "source": [
    "q.fluxes.ATPM"
   ]
  },
  {
   "cell_type": "code",
   "execution_count": null,
   "metadata": {},
   "outputs": [],
   "source": []
  }
 ],
 "metadata": {
  "kernelspec": {
   "display_name": "qbio18",
   "language": "python",
   "name": "qbio18"
  },
  "language_info": {
   "codemirror_mode": {
    "name": "ipython",
    "version": 3
   },
   "file_extension": ".py",
   "mimetype": "text/x-python",
   "name": "python",
   "nbconvert_exporter": "python",
   "pygments_lexer": "ipython3",
   "version": "3.6.4"
  }
 },
 "nbformat": 4,
 "nbformat_minor": 2
}
