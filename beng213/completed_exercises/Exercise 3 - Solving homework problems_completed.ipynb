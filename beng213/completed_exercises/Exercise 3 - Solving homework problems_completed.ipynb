{
 "cells": [
  {
   "cell_type": "code",
   "execution_count": 2,
   "metadata": {},
   "outputs": [],
   "source": [
    "import cobra\n",
    "import pandas as pd\n",
    "from matplotlib import pyplot as plt\n",
    "import numpy as np\n",
    "from beng213 import resources\n",
    "from os.path import dirname, abspath\n",
    "import escher\n",
    "\n",
    "resource_dir = dirname(abspath(resources.__file__))\n",
    "map_loc = '%s/core_map_v7.json' % resource_dir\n",
    "%matplotlib inline"
   ]
  },
  {
   "cell_type": "markdown",
   "metadata": {},
   "source": [
    "# Solving book problems from Lehninger"
   ]
  },
  {
   "cell_type": "code",
   "execution_count": 3,
   "metadata": {},
   "outputs": [
    {
     "data": {
      "application/vnd.jupyter.widget-view+json": {
       "model_id": "db4e6cdbfc1e4bc0aa237d22da1f71a0",
       "version_major": 2,
       "version_minor": 0
      },
      "text/plain": [
       "Builder()"
      ]
     },
     "metadata": {},
     "output_type": "display_data"
    }
   ],
   "source": [
    "builder = escher.Builder(map_json=map_loc)\n",
    "builder"
   ]
  },
  {
   "cell_type": "markdown",
   "metadata": {},
   "source": [
    "## Chapter 14 problem 10\n",
    "**Glycolysis Shortcut:** Suppose you discovered a mutant yeast whose glycolytic pathway was shorter because of the presence of a new enzyme catalyzing the reaction:\n",
    "\n",
    "w/ metabolite names: `glyceraldehyde 3 phosphate + h2o + nad -> nadh + h + 2-phosphoglycerate`\n",
    "\n",
    "w/ bigg ids: `g3p_c + h2o_c + nad_c -> nadh_c + h_c + 2pg_c`\n",
    "\n",
    "**Approach**\n",
    "1. Add reaction to core model\n",
    "2. Plot maximum ATP production as a function of shortcut reaction activity\n"
   ]
  },
  {
   "cell_type": "code",
   "execution_count": 4,
   "metadata": {},
   "outputs": [
    {
     "data": {
      "text/plain": [
       "Text(0.5,0,'Shortcut flux')"
      ]
     },
     "execution_count": 4,
     "metadata": {},
     "output_type": "execute_result"
    },
    {
     "data": {
      "image/png": "[encoded data removed]",
      "text/plain": [
       "<Figure size 432x288 with 1 Axes>"
      ]
     },
     "metadata": {
      "needs_background": "light"
     },
     "output_type": "display_data"
    }
   ],
   "source": [
    "# Load Model\n",
    "model = cobra.io.load_json_model('%s/core_model.json' % resource_dir)\n",
    "\n",
    "# Add shortcut reaction\n",
    "model.add_reaction(cobra.Reaction('shortcut'))\n",
    "model.reactions.shortcut.build_reaction_from_string('g3p_c + h2o_c + nad_c -> nadh_c + h_c + 2pg_c')\n",
    "\n",
    "# Assess ATP production ability\n",
    "x = []\n",
    "y = []\n",
    "model.objective = 'ATPM'\n",
    "for i in np.linspace(0, 2, 20): # Max flux through reaction is 2\n",
    "    model.reactions.shortcut.lower_bound = i\n",
    "    model.objective = 'ATPM'\n",
    "    sol = model.optimize()\n",
    "    x.append(i)\n",
    "    y.append(sol.objective_value)\n",
    "plt.plot(x, y)\n",
    "plt.ylabel('ATP yield', size=15)\n",
    "plt.xlabel('Shortcut flux', size=15)"
   ]
  },
  {
   "cell_type": "markdown",
   "metadata": {},
   "source": [
    "## Chapter 16 problem 24\n",
    "\n",
    "**Net Synthesis of $\\alpha$-Ketoglutarate:** $\\alpha$-Ketoglutarate plays a central role in the biosynthesis of several amino acids. Write a sequence of enzymatic reactions that could result in the net synthesis of $\\alpha$-ketoglutarate from pyruvate. Your proposed sequence must not involve the net consumption of other citric acid cycle intermediates. \n",
    "\n",
    "**Approach**\n",
    "1. Simulate the synthesis of $\\alpha$-ketoglutarate from pyruvate and display the solutions on a flux map\n",
    " - Use `cobra.flux_analysis.pfba` to ensure a parsimonious flux state"
   ]
  },
  {
   "cell_type": "code",
   "execution_count": 4,
   "metadata": {},
   "outputs": [
    {
     "name": "stdout",
     "output_type": "stream",
     "text": [
      "CSm: accoa_m + h2o_m + oaa_m --> cit_m + coa_m + h_m\n",
      "ACONTm: cit_m <=> icit_m\n",
      "ICDHxm: icit_m + nad_m --> akg_m + co2_m + nadh_m\n",
      "NADH2_u10mi: 5.0 h_m + nadh_m + q10_m --> 4.0 h_i + nad_m + q10h2_m\n",
      "CYOR_u10mi: 2.0 ficytC_m + 2.0 h_m + q10h2_m --> 2.0 focytC_m + 4.0 h_i + q10_m\n",
      "CYOOm2i: 4.0 focytC_m + 8.0 h_m + o2_m --> 4.0 ficytC_m + 2.0 h2o_m + 4.0 h_i\n",
      "ATPS4mi: adp_m + 4.0 h_i + pi_m --> atp_m + h2o_m + 3.0 h_m\n",
      "Htmi: h_i --> h_m\n",
      "PDHm: coa_m + nad_m + pyr_m --> accoa_m + co2_m + nadh_m\n",
      "PCm: atp_m + hco3_m + pyr_m --> adp_m + h_m + oaa_m + pi_m\n",
      "HCO3Em: co2_m + h2o_m --> h_m + hco3_m\n",
      "O2tm: o2_c <=> o2_m\n",
      "H2Otm: h2o_c <=> h2o_m\n",
      "CO2tm: co2_c <=> co2_m\n",
      "PYRt2m: h_i + pyr_c --> h_m + pyr_m\n"
     ]
    }
   ],
   "source": [
    "# load model\n",
    "model = cobra.io.load_json_model('%s/core_model.json' % resource_dir)\n",
    "\n",
    "# add reaction for optimization\n",
    "new_rxn = cobra.Reaction('DM_akg_m')\n",
    "model.add_reaction(new_rxn)\n",
    "new_rxn.add_metabolites({'akg_m': -1}) \n",
    "\n",
    "# set growth media\n",
    "model.reactions.EX_pyr_c.lower_bound = -1\n",
    "model.reactions.EX_glc__D_c.lower_bound = 0\n",
    "\n",
    "# set objective and solve\n",
    "model.objective = 'DM_akg_m'\n",
    "sol = cobra.flux_analysis.pfba(model)\n",
    "\n",
    "# display active reactions\n",
    "filt = sol.to_frame()['fluxes'][abs(sol.to_frame()['fluxes']) > .1]\n",
    "filt = filt.loc[[i for i in filt.index if  i[:3] not in ['DM_', 'EX_']]]\n",
    "for i in filt.index:\n",
    "    print(model.reactions.get_by_id(i))"
   ]
  },
  {
   "cell_type": "code",
   "execution_count": 5,
   "metadata": {},
   "outputs": [
    {
     "data": {
      "application/vnd.jupyter.widget-view+json": {
       "model_id": "6b704a931ee743f6b42dd5fd2d0473e4",
       "version_major": 2,
       "version_minor": 0
      },
      "text/plain": [
       "Builder(reaction_data={'CSm': 0.4999999999999954, 'ACONTm': 0.49999999999999545, 'ICDHxm': 0.49999999999999545…"
      ]
     },
     "metadata": {},
     "output_type": "display_data"
    }
   ],
   "source": [
    "builder = escher.Builder(map_json=map_loc, reaction_data=sol.to_frame()['fluxes'])\n",
    "builder"
   ]
  },
  {
   "cell_type": "markdown",
   "metadata": {},
   "source": [
    "## Chapter 14 problem 8\n",
    "\n",
    "**Fermentation to Produce Soy Sauce**: Soy sauce is prepared by fermenting a salted mixture of soybeans and wheat with several microorganisms, including yeast, over a period of 8 to 12 months. The resulting sauce (after solids are removed) is rich in lactate and ethanol.\n",
    "\n",
    "To prevent the soy sauce from having a strong vinegar taste (vinegar is dilute acetic acid), oxygen must be kept out of the fermentation tank. Why?\n",
    "\n",
    "**Approach**\n",
    "1. Add fermentation reactions to glycolysis model (from pyruvate)\n",
    " - Ethanol: PYRDC, ALCD2ir -- yeast reactions\n",
    " - Acetate: PDH, PTAr, ACKr -- e coli reactions\n",
    "2. Knock out pyr_to_ATP reaction \n",
    "3. Fermentation is an adaptive mechanism to increase ATP yield. Restrict to one fermentation product and optimize for ATP\n",
    " - In aerobic and anaerobic conditions\n",
    "4. Which fermentation byproduct results in the highest ATP yield in aerobic/anaerobic conditions?\n"
   ]
  },
  {
   "cell_type": "code",
   "execution_count": 6,
   "metadata": {},
   "outputs": [],
   "source": [
    "# use the glycolysis model (it is well conserved)\n",
    "glycolysis = cobra.io.load_json_model('%s/glycolysis_model.json' % resource_dir)\n",
    "# can add the ethanol and acetate synthesis reactions from the yeast and e coli model\n",
    "ecoli = cobra.io.load_json_model('%s/iML1515.json'  % resource_dir)\n",
    "yeast = cobra.io.load_json_model('%s/iMM904.json'  % resource_dir)\n"
   ]
  },
  {
   "cell_type": "code",
   "execution_count": 7,
   "metadata": {},
   "outputs": [
    {
     "data": {
      "text/html": [
       "<div>\n",
       "<style scoped>\n",
       "    .dataframe tbody tr th:only-of-type {\n",
       "        vertical-align: middle;\n",
       "    }\n",
       "\n",
       "    .dataframe tbody tr th {\n",
       "        vertical-align: top;\n",
       "    }\n",
       "\n",
       "    .dataframe thead th {\n",
       "        text-align: right;\n",
       "    }\n",
       "</style>\n",
       "<table border=\"1\" class=\"dataframe\">\n",
       "  <thead>\n",
       "    <tr style=\"text-align: right;\">\n",
       "      <th></th>\n",
       "      <th>Aerobic ATP</th>\n",
       "      <th>Anaerobic ATP</th>\n",
       "    </tr>\n",
       "  </thead>\n",
       "  <tbody>\n",
       "    <tr>\n",
       "      <td>EX_ac_c</td>\n",
       "      <td>14.0</td>\n",
       "      <td>0.0</td>\n",
       "    </tr>\n",
       "    <tr>\n",
       "      <td>EX_etoh_c</td>\n",
       "      <td>7.0</td>\n",
       "      <td>2.0</td>\n",
       "    </tr>\n",
       "    <tr>\n",
       "      <td>EX_lac__L_c</td>\n",
       "      <td>7.0</td>\n",
       "      <td>2.0</td>\n",
       "    </tr>\n",
       "  </tbody>\n",
       "</table>\n",
       "</div>"
      ],
      "text/plain": [
       "             Aerobic ATP  Anaerobic ATP\n",
       "EX_ac_c             14.0            0.0\n",
       "EX_etoh_c            7.0            2.0\n",
       "EX_lac__L_c          7.0            2.0"
      ]
     },
     "execution_count": 7,
     "metadata": {},
     "output_type": "execute_result"
    }
   ],
   "source": [
    "glycolysis.reactions.EX_glc__D_c.lower_bound = -1\n",
    "glycolysis.reactions.EX_o2_c.lower_bound = -1000\n",
    "glycolysis.reactions.pyr_to_ATP.knock_out()\n",
    "\n",
    "# add ethanol fermentation\n",
    "glycolysis.add_reaction(yeast.reactions.ALCD2ir)\n",
    "glycolysis.add_reaction(yeast.reactions.PYRDC)\n",
    "\n",
    "# add acetate fermentation\n",
    "glycolysis.add_reaction(ecoli.reactions.PDH)\n",
    "glycolysis.add_reaction(ecoli.reactions.PTAr)\n",
    "glycolysis.add_reaction(ecoli.reactions.ACKr)\n",
    "\n",
    "# add outlet for ethanol + acetate\n",
    "for r_id, r in {'EX_ac_c': 'ac_c -> ', 'EX_etoh_c': 'etoh_c -> '}.items():\n",
    "    r_obj = cobra.Reaction(r_id)\n",
    "    glycolysis.add_reaction(r_obj)\n",
    "    r_obj.build_reaction_from_string(r)\n",
    "    \n",
    "\n",
    "out_df = pd.DataFrame()\n",
    "glycolysis.reactions.EX_ac_c.knock_out()\n",
    "glycolysis.reactions.EX_lac__L_c.knock_out()\n",
    "glycolysis.reactions.EX_etoh_c.knock_out()\n",
    "glycolysis.objective = 'ATPM'\n",
    "for ferm in ['EX_ac_c', 'EX_etoh_c', 'EX_lac__L_c']:\n",
    "    with glycolysis:\n",
    "        glycolysis.reactions.get_by_id(ferm).upper_bound = 1000\n",
    "\n",
    "        out_df.loc[ferm, 'Aerobic ATP'] = glycolysis.optimize().objective_value\n",
    "\n",
    "        glycolysis.reactions.EX_o2_c.lower_bound = 0\n",
    "        out_df.loc[ferm, 'Anaerobic ATP'] = glycolysis.optimize().objective_value\n",
    "\n",
    "out_df"
   ]
  },
  {
   "cell_type": "markdown",
   "metadata": {},
   "source": [
    "## Chapter 16 problem 30\n",
    "Although oxygen does not participate directly\n",
    "in the citric acid cycle, the cycle operates only when O2 is\n",
    "present. Why?"
   ]
  },
  {
   "cell_type": "code",
   "execution_count": 8,
   "metadata": {},
   "outputs": [
    {
     "data": {
      "text/plain": [
       "Text(0,0.5,'TCA activity (Citrate synthase)')"
      ]
     },
     "execution_count": 8,
     "metadata": {},
     "output_type": "execute_result"
    },
    {
     "data": {
      "image/png": "[encoded data removed]",
      "text/plain": [
       "<Figure size 432x288 with 1 Axes>"
      ]
     },
     "metadata": {
      "needs_background": "light"
     },
     "output_type": "display_data"
    }
   ],
   "source": [
    "model = cobra.io.load_json_model('%s/core_model.json' % resource_dir)\n",
    "tca = []\n",
    "oxygen = np.linspace(-10, 0)\n",
    "for lb in oxygen:\n",
    "    model.reactions.EX_o2_c.lower_bound = lb\n",
    "    sol = model.optimize()\n",
    "    tca.append(sol.fluxes['CSm'])\n",
    "    \n",
    "plt.plot(oxygen, tca)\n",
    "plt.xlabel('Oxygen uptake')\n",
    "plt.ylabel('TCA activity (Citrate synthase)')"
   ]
  },
  {
   "cell_type": "markdown",
   "metadata": {},
   "source": [
    "## Chapter 16 problem 23\n",
    "**Synthesis of L-Malate in Wine Making:** The tartness of some wines is due to high concentrations of L-malate. Write a sequence of reactions showing how yeast cells synthesize L-malate from glucose under anaerobic conditions in the presence of dissolved CO2 (HCO3 ). Note that the overall reaction for this fermentation cannot involve the consumption of nicotinamide coenzymes or citric acid cycle intermediates.\n",
    "\n",
    "**Approach**\n",
    "1. Ensure that all biosynthetic intermediates of malate can be synthesized in the cytosol\n",
    " - If not use bigg to find a reaction in yeast that can fulfill role\n",
    "2. Optimize anaerobically to get net equation\n"
   ]
  },
  {
   "cell_type": "code",
   "execution_count": 9,
   "metadata": {
    "scrolled": true
   },
   "outputs": [
    {
     "name": "stdout",
     "output_type": "stream",
     "text": [
      "HEX1: atp_c + glc__D_c --> adp_c + g6p_c + h_c 1.0\n",
      "PGI: g6p_c <=> f6p_c 1.0\n",
      "PFK: atp_c + f6p_c --> adp_c + fdp_c + h_c 1.0\n",
      "FBA: fdp_c <=> dhap_c + g3p_c 1.0\n",
      "TPI: dhap_c <=> g3p_c 1.0\n",
      "GAPD: g3p_c + nad_c + pi_c <=> 13dpg_c + h_c + nadh_c 2.0\n",
      "PGK: 3pg_c + atp_c <=> 13dpg_c + adp_c -2.0\n",
      "PGM: 2pg_c <=> 3pg_c -2.0\n",
      "ENO: 2pg_c <=> h2o_c + pep_c 2.0\n",
      "PYK: adp_c + h_c + pep_c --> atp_c + pyr_c 2.0\n",
      "MDH: mal__L_c + nad_c <=> h_c + nadh_c + oaa_c -2.0\n",
      "HCO3E: co2_c + h2o_c <=> h_c + hco3_c 2.0\n",
      "EX_h_c: 4.0\n",
      "EX_glc__D_c: -1.0\n",
      "EX_co2_c: -2.0\n",
      "PC: atp_c + hco3_c + pyr_c --> adp_c + h_c + oaa_c + pi_c 2.0\n",
      "EX_mal__L_c: 2.0\n"
     ]
    }
   ],
   "source": [
    "model = cobra.io.load_json_model('%s/core_model.json' % resource_dir)\n",
    "model.add_reaction(cobra.Reaction(\"PC\"))\n",
    "model.reactions.PC.build_reaction_from_string('atp_c + hco3_c + pyr_c -> adp_c + h_c + oaa_c + pi_c')\n",
    "model.add_boundary(model.metabolites.mal__L_c)\n",
    "model.reactions.EX_glc__D_c.lower_bound =-1\n",
    "model.reactions.EX_o2_c.lower_bound = 0\n",
    "model.reactions.EX_co2_c.lower_bound = -100\n",
    "model.objective = 'EX_mal__L_c'\n",
    "sol = model.optimize()\n",
    "\n",
    "df = pd.DataFrame()\n",
    "for r in model.reactions:\n",
    "    if 'EX_' in r.id and abs(r.flux) > .01:\n",
    "        df.loc[r.id, 'Exchange'] = r.flux\n",
    "        print(r.id + ':', r.flux)\n",
    "    elif abs(r.flux) > .01:\n",
    "        print(r, r.flux)"
   ]
  },
  {
   "cell_type": "markdown",
   "metadata": {},
   "source": [
    "### Chapter 17 problem 23 (modified)\n",
    "\n",
    "**$\\beta$ Oxidation of Caprylic acid:** How many turns of the TCA cycle are required to fully oxidize the acetyl-CoA generated in $\\beta$ oxidation of 1 mol of Carpyilic acid? How many ATP can be generated from 1 mol of Carpylic acid"
   ]
  },
  {
   "cell_type": "code",
   "execution_count": 10,
   "metadata": {},
   "outputs": [
    {
     "name": "stdout",
     "output_type": "stream",
     "text": [
      "4.0\n"
     ]
    }
   ],
   "source": [
    "model = cobra.io.load_json_model('%s/core_model.json' % resource_dir)\n",
    "model.reactions.EX_octa_c.lower_bound = -1\n",
    "model.reactions.EX_glc__D_c.lower_bound = 0\n",
    "sol = model.optimize()\n",
    "print(round(sol.fluxes['CSm'], 2))"
   ]
  }
 ],
 "metadata": {
  "kernelspec": {
   "display_name": "qbio18",
   "language": "python",
   "name": "qbio18"
  },
  "language_info": {
   "codemirror_mode": {
    "name": "ipython",
    "version": 3
   },
   "file_extension": ".py",
   "mimetype": "text/x-python",
   "name": "python",
   "nbconvert_exporter": "python",
   "pygments_lexer": "ipython3",
   "version": "3.6.4"
  }
 },
 "nbformat": 4,
 "nbformat_minor": 2
}
