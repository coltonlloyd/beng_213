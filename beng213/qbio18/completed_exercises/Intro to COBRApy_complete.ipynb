{
 "cells": [
  {
   "cell_type": "markdown",
   "metadata": {},
   "source": [
    "# COBRApy Tutorial\n",
    "The purpose of this workflow is to describe the basic functions and methods of COBRApy by creating a simple model containing 1 reaction (Glucose-6-phosphate Isomerase).\n",
    "\n",
    "COBRApy is a Python module that can be imported similar to any other python module"
   ]
  },
  {
   "cell_type": "code",
   "execution_count": 1,
   "metadata": {},
   "outputs": [],
   "source": [
    "import cobra"
   ]
  },
  {
   "cell_type": "markdown",
   "metadata": {},
   "source": [
    "Use tab complete to show basic classes that can be accessed through the module. By convention classes are capitalized. "
   ]
  },
  {
   "cell_type": "code",
   "execution_count": 2,
   "metadata": {},
   "outputs": [
    {
     "ename": "SyntaxError",
     "evalue": "invalid syntax (<ipython-input-2-8c8d472e3672>, line 1)",
     "output_type": "error",
     "traceback": [
      "\u001b[0;36m  File \u001b[0;32m\"<ipython-input-2-8c8d472e3672>\"\u001b[0;36m, line \u001b[0;32m1\u001b[0m\n\u001b[0;31m    cobra.\u001b[0m\n\u001b[0m          ^\u001b[0m\n\u001b[0;31mSyntaxError\u001b[0m\u001b[0;31m:\u001b[0m invalid syntax\n"
     ]
    }
   ],
   "source": [
    "cobra."
   ]
  },
  {
   "cell_type": "markdown",
   "metadata": {},
   "source": [
    "Thee main classes include:\n",
    "1. `cobra.Reaction`\n",
    "2. `cobra.Metabolite`\n",
    "3. `cobra.Model`\n",
    "4. `cobra.Gene`"
   ]
  },
  {
   "cell_type": "markdown",
   "metadata": {},
   "source": [
    "-----\n",
    "## A) Create an empty model\n",
    "\n",
    "#### 1) Instantiate a new model by calling Model  using \"`test_model`\" as the model id. \n",
    "\n",
    "You can view the documentation using the following:"
   ]
  },
  {
   "cell_type": "code",
   "execution_count": 8,
   "metadata": {},
   "outputs": [
    {
     "name": "stdout",
     "output_type": "stream",
     "text": [
      "Class representation for a cobra model\n",
      "\n",
      "    Parameters\n",
      "    ----------\n",
      "    id_or_model : Model, string\n",
      "        Either an existing Model object in which case a new model object is\n",
      "        instantiated with the same properties as the original model,\n",
      "        or an identifier to associate with the model as a string.\n",
      "    name : string\n",
      "        Human readable name for the model\n",
      "\n",
      "    Attributes\n",
      "    ----------\n",
      "    reactions : DictList\n",
      "        A DictList where the key is the reaction identifier and the value a\n",
      "        Reaction\n",
      "    metabolites : DictList\n",
      "        A DictList where the key is the metabolite identifier and the value a\n",
      "        Metabolite\n",
      "    genes : DictList\n",
      "        A DictList where the key is the gene identifier and the value a\n",
      "        Gene\n",
      "    groups : DictList\n",
      "        A DictList where the key is the group identifier and the value a\n",
      "        Group\n",
      "    solution : Solution\n",
      "        The last obtained solution from optimizing the model.\n",
      "\n",
      "    \n"
     ]
    }
   ],
   "source": [
    "print(cobra.Model.__doc__)"
   ]
  },
  {
   "cell_type": "markdown",
   "metadata": {},
   "source": [
    "or"
   ]
  },
  {
   "cell_type": "code",
   "execution_count": 9,
   "metadata": {},
   "outputs": [
    {
     "data": {
      "text/plain": [
       "\u001b[0;31mInit signature:\u001b[0m \u001b[0mcobra\u001b[0m\u001b[0;34m.\u001b[0m\u001b[0mModel\u001b[0m\u001b[0;34m(\u001b[0m\u001b[0mid_or_model\u001b[0m\u001b[0;34m=\u001b[0m\u001b[0;32mNone\u001b[0m\u001b[0;34m,\u001b[0m \u001b[0mname\u001b[0m\u001b[0;34m=\u001b[0m\u001b[0;32mNone\u001b[0m\u001b[0;34m)\u001b[0m\u001b[0;34m\u001b[0m\u001b[0;34m\u001b[0m\u001b[0m\n",
       "\u001b[0;31mDocstring:\u001b[0m     \n",
       "Class representation for a cobra model\n",
       "\n",
       "Parameters\n",
       "----------\n",
       "id_or_model : Model, string\n",
       "    Either an existing Model object in which case a new model object is\n",
       "    instantiated with the same properties as the original model,\n",
       "    or an identifier to associate with the model as a string.\n",
       "name : string\n",
       "    Human readable name for the model\n",
       "\n",
       "Attributes\n",
       "----------\n",
       "reactions : DictList\n",
       "    A DictList where the key is the reaction identifier and the value a\n",
       "    Reaction\n",
       "metabolites : DictList\n",
       "    A DictList where the key is the metabolite identifier and the value a\n",
       "    Metabolite\n",
       "genes : DictList\n",
       "    A DictList where the key is the gene identifier and the value a\n",
       "    Gene\n",
       "groups : DictList\n",
       "    A DictList where the key is the group identifier and the value a\n",
       "    Group\n",
       "solution : Solution\n",
       "    The last obtained solution from optimizing the model.\n",
       "\u001b[0;31mInit docstring:\u001b[0m\n",
       "A simple object with an identifier\n",
       "\n",
       "Parameters\n",
       "----------\n",
       "id: None or a string\n",
       "    the identifier to associate with the object\n",
       "\u001b[0;31mFile:\u001b[0m           ~/.virtualenvs/everything/lib/python3.9/site-packages/cobra/core/model.py\n",
       "\u001b[0;31mType:\u001b[0m           type\n",
       "\u001b[0;31mSubclasses:\u001b[0m     \n"
      ]
     },
     "metadata": {},
     "output_type": "display_data"
    }
   ],
   "source": [
    "cobra.Model?"
   ]
  },
  {
   "cell_type": "code",
   "execution_count": 10,
   "metadata": {},
   "outputs": [],
   "source": [
    "model = cobra.Model('test_model')"
   ]
  },
  {
   "cell_type": "markdown",
   "metadata": {},
   "source": [
    "#### 2) See the contents of the model by excuting the model instance"
   ]
  },
  {
   "cell_type": "code",
   "execution_count": 11,
   "metadata": {},
   "outputs": [
    {
     "data": {
      "text/html": [
       "\n",
       "        <table>\n",
       "            <tr>\n",
       "                <td><strong>Name</strong></td>\n",
       "                <td>test_model</td>\n",
       "            </tr><tr>\n",
       "                <td><strong>Memory address</strong></td>\n",
       "                <td>0x01440186a0</td>\n",
       "            </tr><tr>\n",
       "                <td><strong>Number of metabolites</strong></td>\n",
       "                <td>0</td>\n",
       "            </tr><tr>\n",
       "                <td><strong>Number of reactions</strong></td>\n",
       "                <td>0</td>\n",
       "            </tr><tr>\n",
       "                <td><strong>Number of groups</strong></td>\n",
       "                <td>0</td>\n",
       "            </tr><tr>\n",
       "                <td><strong>Objective expression</strong></td>\n",
       "                <td>0</td>\n",
       "            </tr><tr>\n",
       "                <td><strong>Compartments</strong></td>\n",
       "                <td></td>\n",
       "            </tr>\n",
       "          </table>"
      ],
      "text/plain": [
       "<Model test_model at 0x1440186a0>"
      ]
     },
     "execution_count": 11,
     "metadata": {},
     "output_type": "execute_result"
    }
   ],
   "source": [
    "model"
   ]
  },
  {
   "cell_type": "markdown",
   "metadata": {},
   "source": [
    "-----\n",
    "## B) Create and add metabolites to model\n",
    "\n",
    "#### 1) Like above, instantiate a new Metabolite object with ID '`f6p_c`'\n",
    "\n",
    " - By convention `_c` refers to the metabolite's cellular compartment, in this case the cytosol "
   ]
  },
  {
   "cell_type": "code",
   "execution_count": 12,
   "metadata": {},
   "outputs": [
    {
     "name": "stdout",
     "output_type": "stream",
     "text": [
      "Metabolite is a class for holding information regarding\n",
      "    a metabolite in a cobra.Reaction object.\n",
      "\n",
      "    Parameters\n",
      "    ----------\n",
      "    id : str\n",
      "        the identifier to associate with the metabolite\n",
      "    formula : str\n",
      "        Chemical formula (e.g. H2O)\n",
      "    name : str\n",
      "        A human readable name.\n",
      "    charge : float\n",
      "       The charge number of the metabolite\n",
      "    compartment: str or None\n",
      "       Compartment of the metabolite.\n",
      "    \n"
     ]
    }
   ],
   "source": [
    "print(cobra.Metabolite.__doc__)"
   ]
  },
  {
   "cell_type": "code",
   "execution_count": 13,
   "metadata": {},
   "outputs": [],
   "source": [
    "metabolite_1 = cobra.Metabolite('f6p_c')"
   ]
  },
  {
   "cell_type": "code",
   "execution_count": 14,
   "metadata": {
    "scrolled": true
   },
   "outputs": [
    {
     "data": {
      "text/html": [
       "\n",
       "        <table>\n",
       "            <tr>\n",
       "                <td><strong>Metabolite identifier</strong></td><td>f6p_c</td>\n",
       "            </tr><tr>\n",
       "                <td><strong>Name</strong></td><td></td>\n",
       "            </tr><tr>\n",
       "                <td><strong>Memory address</strong></td>\n",
       "                <td>0x0144018340</td>\n",
       "            </tr><tr>\n",
       "                <td><strong>Formula</strong></td><td>None</td>\n",
       "            </tr><tr>\n",
       "                <td><strong>Compartment</strong></td><td>None</td>\n",
       "            </tr><tr>\n",
       "                <td><strong>In 0 reaction(s)</strong></td><td>\n",
       "                    </td>\n",
       "            </tr>\n",
       "        </table>"
      ],
      "text/plain": [
       "<Metabolite f6p_c at 0x144018340>"
      ]
     },
     "execution_count": 14,
     "metadata": {},
     "output_type": "execute_result"
    }
   ],
   "source": [
    "metabolite_1"
   ]
  },
  {
   "cell_type": "markdown",
   "metadata": {},
   "source": [
    "#### 2) Fill in the missing attributes with the following information\n",
    "\n",
    "| Attribute       | Value       |    \n",
    "| :-------------: |:-------------:|\n",
    "| name | D-Fructose 6-phosphate     |\n",
    "| compartment | Cytosol     |\n",
    "| formula     | C6H11O9P |\n",
    "| charge      | -2      | "
   ]
  },
  {
   "cell_type": "code",
   "execution_count": 15,
   "metadata": {},
   "outputs": [],
   "source": [
    "metabolite_1.name = 'D-Fructose 6-phosphate'\n",
    "metabolite_1.compartment = 'Cytosol'\n",
    "metabolite_1.formula = 'C6H11O9P'\n",
    "metabolite_1.charge = -2"
   ]
  },
  {
   "cell_type": "markdown",
   "metadata": {},
   "source": [
    "#### 3) See the contents of the metabolite by excuting the metabolite instance"
   ]
  },
  {
   "cell_type": "code",
   "execution_count": 16,
   "metadata": {},
   "outputs": [
    {
     "data": {
      "text/html": [
       "\n",
       "        <table>\n",
       "            <tr>\n",
       "                <td><strong>Metabolite identifier</strong></td><td>f6p_c</td>\n",
       "            </tr><tr>\n",
       "                <td><strong>Name</strong></td><td>D-Fructose 6-phosphate</td>\n",
       "            </tr><tr>\n",
       "                <td><strong>Memory address</strong></td>\n",
       "                <td>0x0144018340</td>\n",
       "            </tr><tr>\n",
       "                <td><strong>Formula</strong></td><td>C6H11O9P</td>\n",
       "            </tr><tr>\n",
       "                <td><strong>Compartment</strong></td><td>Cytosol</td>\n",
       "            </tr><tr>\n",
       "                <td><strong>In 0 reaction(s)</strong></td><td>\n",
       "                    </td>\n",
       "            </tr>\n",
       "        </table>"
      ],
      "text/plain": [
       "<Metabolite f6p_c at 0x144018340>"
      ]
     },
     "execution_count": 16,
     "metadata": {},
     "output_type": "execute_result"
    }
   ],
   "source": [
    "metabolite_1"
   ]
  },
  {
   "cell_type": "markdown",
   "metadata": {},
   "source": [
    "#### 4) New properties can be calculated from attributes. For example access the metabolites `formula_weight` property\n",
    " - Computed based on metabolite formula"
   ]
  },
  {
   "cell_type": "code",
   "execution_count": 17,
   "metadata": {},
   "outputs": [
    {
     "data": {
      "text/plain": [
       "258.119901"
      ]
     },
     "execution_count": 17,
     "metadata": {},
     "output_type": "execute_result"
    }
   ],
   "source": [
    "metabolite_1.formula_weight"
   ]
  },
  {
   "cell_type": "markdown",
   "metadata": {},
   "source": [
    "#### 5) Create new metabolite with following attributes. Assign attributes when instantiating the metabolite \n",
    "\n",
    "| Attribute       | Value       |    \n",
    "| :-------------: |:-------------:|\n",
    "| id | g6p_c     |\n",
    "| mame | D-Glusose 6-phosphate     |\n",
    "| compartment | Cytosol     |\n",
    "| formula     | C6H11O9P |\n",
    "| charge      | -2      | "
   ]
  },
  {
   "cell_type": "code",
   "execution_count": 18,
   "metadata": {},
   "outputs": [],
   "source": [
    "metabolite_2 = cobra.Metabolite(id='g6p_c', name='D-Glucose 6-phosphate', compartment='cytosol', \n",
    "                                formula='C6H11O9P', charge=-2)"
   ]
  },
  {
   "cell_type": "code",
   "execution_count": 19,
   "metadata": {},
   "outputs": [
    {
     "data": {
      "text/html": [
       "\n",
       "        <table>\n",
       "            <tr>\n",
       "                <td><strong>Metabolite identifier</strong></td><td>g6p_c</td>\n",
       "            </tr><tr>\n",
       "                <td><strong>Name</strong></td><td>D-Glucose 6-phosphate</td>\n",
       "            </tr><tr>\n",
       "                <td><strong>Memory address</strong></td>\n",
       "                <td>0x0144018ee0</td>\n",
       "            </tr><tr>\n",
       "                <td><strong>Formula</strong></td><td>C6H11O9P</td>\n",
       "            </tr><tr>\n",
       "                <td><strong>Compartment</strong></td><td>cytosol</td>\n",
       "            </tr><tr>\n",
       "                <td><strong>In 0 reaction(s)</strong></td><td>\n",
       "                    </td>\n",
       "            </tr>\n",
       "        </table>"
      ],
      "text/plain": [
       "<Metabolite g6p_c at 0x144018ee0>"
      ]
     },
     "execution_count": 19,
     "metadata": {},
     "output_type": "execute_result"
    }
   ],
   "source": [
    "metabolite_2"
   ]
  },
  {
   "cell_type": "markdown",
   "metadata": {},
   "source": [
    "#### 6) Add both metabolites to model container\n",
    "\n",
    "As with classes, we can observe the properties of functions like above"
   ]
  },
  {
   "cell_type": "code",
   "execution_count": 20,
   "metadata": {},
   "outputs": [
    {
     "data": {
      "text/plain": [
       "\u001b[0;31mSignature:\u001b[0m \u001b[0mmodel\u001b[0m\u001b[0;34m.\u001b[0m\u001b[0madd_metabolites\u001b[0m\u001b[0;34m(\u001b[0m\u001b[0mmetabolite_list\u001b[0m\u001b[0;34m)\u001b[0m\u001b[0;34m\u001b[0m\u001b[0;34m\u001b[0m\u001b[0m\n",
       "\u001b[0;31mDocstring:\u001b[0m\n",
       "Will add a list of metabolites to the model object and add new\n",
       "constraints accordingly.\n",
       "\n",
       "The change is reverted upon exit when using the model as a context.\n",
       "\n",
       "Parameters\n",
       "----------\n",
       "metabolite_list : A list of `cobra.core.Metabolite` objects\n",
       "\u001b[0;31mFile:\u001b[0m      ~/.virtualenvs/everything/lib/python3.9/site-packages/cobra/core/model.py\n",
       "\u001b[0;31mType:\u001b[0m      method\n"
      ]
     },
     "metadata": {},
     "output_type": "display_data"
    }
   ],
   "source": [
    "model.add_metabolites?"
   ]
  },
  {
   "cell_type": "code",
   "execution_count": 21,
   "metadata": {},
   "outputs": [],
   "source": [
    "model.add_metabolites([metabolite_1, metabolite_2])"
   ]
  },
  {
   "cell_type": "markdown",
   "metadata": {},
   "source": [
    "#### 7) See contents of model after adding metabolites"
   ]
  },
  {
   "cell_type": "code",
   "execution_count": 22,
   "metadata": {},
   "outputs": [
    {
     "data": {
      "text/html": [
       "\n",
       "        <table>\n",
       "            <tr>\n",
       "                <td><strong>Name</strong></td>\n",
       "                <td>test_model</td>\n",
       "            </tr><tr>\n",
       "                <td><strong>Memory address</strong></td>\n",
       "                <td>0x01440186a0</td>\n",
       "            </tr><tr>\n",
       "                <td><strong>Number of metabolites</strong></td>\n",
       "                <td>2</td>\n",
       "            </tr><tr>\n",
       "                <td><strong>Number of reactions</strong></td>\n",
       "                <td>0</td>\n",
       "            </tr><tr>\n",
       "                <td><strong>Number of groups</strong></td>\n",
       "                <td>0</td>\n",
       "            </tr><tr>\n",
       "                <td><strong>Objective expression</strong></td>\n",
       "                <td>0</td>\n",
       "            </tr><tr>\n",
       "                <td><strong>Compartments</strong></td>\n",
       "                <td>Cytosol, cytosol</td>\n",
       "            </tr>\n",
       "          </table>"
      ],
      "text/plain": [
       "<Model test_model at 0x1440186a0>"
      ]
     },
     "execution_count": 22,
     "metadata": {},
     "output_type": "execute_result"
    }
   ],
   "source": [
    "model"
   ]
  },
  {
   "cell_type": "markdown",
   "metadata": {},
   "source": [
    "-----\n",
    "## C) Create and add reaction to model\n",
    "\n",
    "#### 1) Like the model and metabolites, instantiate a reaction with id '`PGI`' and name '`Glucose-6-phosphate isomerase`'"
   ]
  },
  {
   "cell_type": "code",
   "execution_count": 23,
   "metadata": {},
   "outputs": [],
   "source": [
    "reaction = cobra.Reaction(id='PGI', name='Glucose-6-phosphate isomerase')"
   ]
  },
  {
   "cell_type": "code",
   "execution_count": 24,
   "metadata": {},
   "outputs": [
    {
     "data": {
      "text/html": [
       "\n",
       "        <table>\n",
       "            <tr>\n",
       "                <td><strong>Reaction identifier</strong></td><td>PGI</td>\n",
       "            </tr><tr>\n",
       "                <td><strong>Name</strong></td><td>Glucose-6-phosphate isomerase</td>\n",
       "            </tr><tr>\n",
       "                <td><strong>Memory address</strong></td>\n",
       "                <td>0x0144018e20</td>\n",
       "            </tr><tr>\n",
       "                <td><strong>Stoichiometry</strong></td>\n",
       "                <td>\n",
       "                    <p style='text-align:right'>--></p>\n",
       "                    <p style='text-align:right'>--></p>\n",
       "                </td>\n",
       "            </tr><tr>\n",
       "                <td><strong>GPR</strong></td><td></td>\n",
       "            </tr><tr>\n",
       "                <td><strong>Lower bound</strong></td><td>0.0</td>\n",
       "            </tr><tr>\n",
       "                <td><strong>Upper bound</strong></td><td>1000.0</td>\n",
       "            </tr>\n",
       "        </table>\n",
       "        "
      ],
      "text/plain": [
       "<Reaction PGI at 0x144018e20>"
      ]
     },
     "execution_count": 24,
     "metadata": {},
     "output_type": "execute_result"
    }
   ],
   "source": [
    "reaction"
   ]
  },
  {
   "cell_type": "markdown",
   "metadata": {},
   "source": [
    "#### 2) Add the above metabolites to the reaction as a dictionary"
   ]
  },
  {
   "cell_type": "code",
   "execution_count": 25,
   "metadata": {},
   "outputs": [],
   "source": [
    "stoichiometry = {'g6p_c': -1, 'f6p_c': 1}"
   ]
  },
  {
   "cell_type": "code",
   "execution_count": 26,
   "metadata": {},
   "outputs": [
    {
     "ename": "ValueError",
     "evalue": "Reaction 'PGI' does not belong to a model. Either add the reaction to a model or use Metabolite objects instead of strings as keys.",
     "output_type": "error",
     "traceback": [
      "\u001b[0;31m---------------------------------------------------------------------------\u001b[0m",
      "\u001b[0;31mValueError\u001b[0m                                Traceback (most recent call last)",
      "\u001b[0;32m<ipython-input-26-331519b19426>\u001b[0m in \u001b[0;36m<module>\u001b[0;34m\u001b[0m\n\u001b[0;32m----> 1\u001b[0;31m \u001b[0mreaction\u001b[0m\u001b[0;34m.\u001b[0m\u001b[0madd_metabolites\u001b[0m\u001b[0;34m(\u001b[0m\u001b[0mstoichiometry\u001b[0m\u001b[0;34m)\u001b[0m\u001b[0;34m\u001b[0m\u001b[0;34m\u001b[0m\u001b[0m\n\u001b[0m",
      "\u001b[0;32m~/.virtualenvs/everything/lib/python3.9/site-packages/cobra/core/reaction.py\u001b[0m in \u001b[0;36madd_metabolites\u001b[0;34m(self, metabolites_to_add, combine, reversibly)\u001b[0m\n\u001b[1;32m    846\u001b[0m                 \u001b[0;32melif\u001b[0m \u001b[0misinstance\u001b[0m\u001b[0;34m(\u001b[0m\u001b[0mmetabolite\u001b[0m\u001b[0;34m,\u001b[0m \u001b[0mstring_types\u001b[0m\u001b[0;34m)\u001b[0m\u001b[0;34m:\u001b[0m\u001b[0;34m\u001b[0m\u001b[0;34m\u001b[0m\u001b[0m\n\u001b[1;32m    847\u001b[0m                     \u001b[0;31m# if we want to handle creation, this should be changed\u001b[0m\u001b[0;34m\u001b[0m\u001b[0;34m\u001b[0m\u001b[0;34m\u001b[0m\u001b[0m\n\u001b[0;32m--> 848\u001b[0;31m                     raise ValueError(\n\u001b[0m\u001b[1;32m    849\u001b[0m                         \u001b[0;34m\"Reaction '%s' does not belong to a \"\u001b[0m\u001b[0;34m\u001b[0m\u001b[0;34m\u001b[0m\u001b[0m\n\u001b[1;32m    850\u001b[0m                         \u001b[0;34m\"model. Either add the reaction to a \"\u001b[0m\u001b[0;34m\u001b[0m\u001b[0;34m\u001b[0m\u001b[0m\n",
      "\u001b[0;31mValueError\u001b[0m: Reaction 'PGI' does not belong to a model. Either add the reaction to a model or use Metabolite objects instead of strings as keys."
     ]
    }
   ],
   "source": [
    "reaction.add_metabolites(stoichiometry)"
   ]
  },
  {
   "cell_type": "markdown",
   "metadata": {},
   "source": [
    "**Note:** This produces and error because the reaction has not been added to the model yet. This means the reaction cannot access the metabolite information that we added above. So we must use either of the two approaches outlined in the error message.\n",
    "\n",
    " - **Option 1**: Use metabolite objects as keys"
   ]
  },
  {
   "cell_type": "code",
   "execution_count": 27,
   "metadata": {},
   "outputs": [],
   "source": [
    "metabolite_1 = model.metabolites.get_by_id('g6p_c')\n",
    "metabolite_2 = model.metabolites.f6p_c\n",
    "\n",
    "reaction.add_metabolites({metabolite_1: -1, metabolite_2: 1})"
   ]
  },
  {
   "cell_type": "markdown",
   "metadata": {},
   "source": [
    " - **Option 2**: Use add reaction to model first"
   ]
  },
  {
   "cell_type": "code",
   "execution_count": 28,
   "metadata": {},
   "outputs": [],
   "source": [
    "model.add_reaction(reaction)"
   ]
  },
  {
   "cell_type": "code",
   "execution_count": 29,
   "metadata": {},
   "outputs": [],
   "source": [
    "# combine = false to not add coefficients \n",
    "reaction.add_metabolites({'g6p_c': -1, 'f6p_c': 1}, combine=False)"
   ]
  },
  {
   "cell_type": "markdown",
   "metadata": {},
   "source": [
    "#### 3) View contents of reaction"
   ]
  },
  {
   "cell_type": "code",
   "execution_count": 30,
   "metadata": {},
   "outputs": [
    {
     "data": {
      "text/html": [
       "\n",
       "        <table>\n",
       "            <tr>\n",
       "                <td><strong>Reaction identifier</strong></td><td>PGI</td>\n",
       "            </tr><tr>\n",
       "                <td><strong>Name</strong></td><td>Glucose-6-phosphate isomerase</td>\n",
       "            </tr><tr>\n",
       "                <td><strong>Memory address</strong></td>\n",
       "                <td>0x0144018e20</td>\n",
       "            </tr><tr>\n",
       "                <td><strong>Stoichiometry</strong></td>\n",
       "                <td>\n",
       "                    <p style='text-align:right'>g6p_c --> f6p_c</p>\n",
       "                    <p style='text-align:right'>D-Glucose 6-phosphate --> D-Fructose 6-phosphate</p>\n",
       "                </td>\n",
       "            </tr><tr>\n",
       "                <td><strong>GPR</strong></td><td></td>\n",
       "            </tr><tr>\n",
       "                <td><strong>Lower bound</strong></td><td>0.0</td>\n",
       "            </tr><tr>\n",
       "                <td><strong>Upper bound</strong></td><td>1000.0</td>\n",
       "            </tr>\n",
       "        </table>\n",
       "        "
      ],
      "text/plain": [
       "<Reaction PGI at 0x144018e20>"
      ]
     },
     "execution_count": 30,
     "metadata": {},
     "output_type": "execute_result"
    }
   ],
   "source": [
    "reaction"
   ]
  },
  {
   "cell_type": "markdown",
   "metadata": {},
   "source": [
    "#### 4) View contents of model"
   ]
  },
  {
   "cell_type": "code",
   "execution_count": 31,
   "metadata": {},
   "outputs": [
    {
     "data": {
      "text/html": [
       "\n",
       "        <table>\n",
       "            <tr>\n",
       "                <td><strong>Name</strong></td>\n",
       "                <td>test_model</td>\n",
       "            </tr><tr>\n",
       "                <td><strong>Memory address</strong></td>\n",
       "                <td>0x01440186a0</td>\n",
       "            </tr><tr>\n",
       "                <td><strong>Number of metabolites</strong></td>\n",
       "                <td>2</td>\n",
       "            </tr><tr>\n",
       "                <td><strong>Number of reactions</strong></td>\n",
       "                <td>1</td>\n",
       "            </tr><tr>\n",
       "                <td><strong>Number of groups</strong></td>\n",
       "                <td>0</td>\n",
       "            </tr><tr>\n",
       "                <td><strong>Objective expression</strong></td>\n",
       "                <td>0</td>\n",
       "            </tr><tr>\n",
       "                <td><strong>Compartments</strong></td>\n",
       "                <td>Cytosol, cytosol</td>\n",
       "            </tr>\n",
       "          </table>"
      ],
      "text/plain": [
       "<Model test_model at 0x1440186a0>"
      ]
     },
     "execution_count": 31,
     "metadata": {},
     "output_type": "execute_result"
    }
   ],
   "source": [
    "model"
   ]
  },
  {
   "cell_type": "code",
   "execution_count": 32,
   "metadata": {
    "scrolled": true
   },
   "outputs": [
    {
     "name": "stdout",
     "output_type": "stream",
     "text": [
      "[<Metabolite f6p_c at 0x144018340>, <Metabolite g6p_c at 0x144018ee0>]\n"
     ]
    }
   ],
   "source": [
    "print(model.metabolites)"
   ]
  },
  {
   "cell_type": "code",
   "execution_count": 33,
   "metadata": {},
   "outputs": [
    {
     "name": "stdout",
     "output_type": "stream",
     "text": [
      "[<Reaction PGI at 0x144018e20>]\n"
     ]
    }
   ],
   "source": [
    "print(model.reactions)"
   ]
  },
  {
   "cell_type": "markdown",
   "metadata": {},
   "source": [
    "#### 5) Make the reaction reversible\n",
    "\n",
    "The reaction has two attributes **`lower_bound`** and **`upper_bound`** which place limits on how much flux the reaction can carry in a simulation. By default, the reaction is set to be irreversible in the forward direction (1000 (w/ units of $\\frac{mmol}{grams\\_dry\\_weight \\cdot hr}$ ) is used to effectively represent unbounded possible forward flux).\n",
    "\n",
    " - To make the reaction reversible, set the **`lower_bound`** of the reaction to -1000"
   ]
  },
  {
   "cell_type": "code",
   "execution_count": 34,
   "metadata": {},
   "outputs": [],
   "source": [
    "reaction.lower_bound = -1000."
   ]
  },
  {
   "cell_type": "markdown",
   "metadata": {},
   "source": [
    "#### 6) View contents of the reaction noting the arrow change"
   ]
  },
  {
   "cell_type": "code",
   "execution_count": 35,
   "metadata": {},
   "outputs": [
    {
     "data": {
      "text/html": [
       "\n",
       "        <table>\n",
       "            <tr>\n",
       "                <td><strong>Reaction identifier</strong></td><td>PGI</td>\n",
       "            </tr><tr>\n",
       "                <td><strong>Name</strong></td><td>Glucose-6-phosphate isomerase</td>\n",
       "            </tr><tr>\n",
       "                <td><strong>Memory address</strong></td>\n",
       "                <td>0x0144018e20</td>\n",
       "            </tr><tr>\n",
       "                <td><strong>Stoichiometry</strong></td>\n",
       "                <td>\n",
       "                    <p style='text-align:right'>g6p_c <=> f6p_c</p>\n",
       "                    <p style='text-align:right'>D-Glucose 6-phosphate <=> D-Fructose 6-phosphate</p>\n",
       "                </td>\n",
       "            </tr><tr>\n",
       "                <td><strong>GPR</strong></td><td></td>\n",
       "            </tr><tr>\n",
       "                <td><strong>Lower bound</strong></td><td>-1000.0</td>\n",
       "            </tr><tr>\n",
       "                <td><strong>Upper bound</strong></td><td>1000.0</td>\n",
       "            </tr>\n",
       "        </table>\n",
       "        "
      ],
      "text/plain": [
       "<Reaction PGI at 0x144018e20>"
      ]
     },
     "execution_count": 35,
     "metadata": {},
     "output_type": "execute_result"
    }
   ],
   "source": [
    "reaction"
   ]
  },
  {
   "cell_type": "markdown",
   "metadata": {},
   "source": [
    "-----\n",
    "## D) Associate genes to reaction\n",
    "\n",
    "Genes are linked to reactions via a **`gene_reaction_rule`** or **`GPR`**, above. There are boolean \"OR\" \"AND\" relationships that determine whether a reaction is knocked out based on the presence of genes in the model.\n",
    "\n",
    "#### 1) First set the GPR as an OR relationship with two genes (b1111 and b2222)"
   ]
  },
  {
   "cell_type": "code",
   "execution_count": 36,
   "metadata": {},
   "outputs": [],
   "source": [
    "reaction.gene_reaction_rule = 'b1111 or b2222'"
   ]
  },
  {
   "cell_type": "markdown",
   "metadata": {},
   "source": [
    "#### 2) View reaction to observe addition of GPR"
   ]
  },
  {
   "cell_type": "code",
   "execution_count": 37,
   "metadata": {},
   "outputs": [
    {
     "data": {
      "text/html": [
       "\n",
       "        <table>\n",
       "            <tr>\n",
       "                <td><strong>Reaction identifier</strong></td><td>PGI</td>\n",
       "            </tr><tr>\n",
       "                <td><strong>Name</strong></td><td>Glucose-6-phosphate isomerase</td>\n",
       "            </tr><tr>\n",
       "                <td><strong>Memory address</strong></td>\n",
       "                <td>0x0144018e20</td>\n",
       "            </tr><tr>\n",
       "                <td><strong>Stoichiometry</strong></td>\n",
       "                <td>\n",
       "                    <p style='text-align:right'>g6p_c <=> f6p_c</p>\n",
       "                    <p style='text-align:right'>D-Glucose 6-phosphate <=> D-Fructose 6-phosphate</p>\n",
       "                </td>\n",
       "            </tr><tr>\n",
       "                <td><strong>GPR</strong></td><td>b1111 or b2222</td>\n",
       "            </tr><tr>\n",
       "                <td><strong>Lower bound</strong></td><td>-1000.0</td>\n",
       "            </tr><tr>\n",
       "                <td><strong>Upper bound</strong></td><td>1000.0</td>\n",
       "            </tr>\n",
       "        </table>\n",
       "        "
      ],
      "text/plain": [
       "<Reaction PGI at 0x144018e20>"
      ]
     },
     "execution_count": 37,
     "metadata": {},
     "output_type": "execute_result"
    }
   ],
   "source": [
    "reaction"
   ]
  },
  {
   "cell_type": "markdown",
   "metadata": {},
   "source": [
    "#### 3) Access gene through the model\n",
    " - Gene is added to model automatically through the reaction"
   ]
  },
  {
   "cell_type": "code",
   "execution_count": 38,
   "metadata": {},
   "outputs": [
    {
     "data": {
      "text/html": [
       "\n",
       "        <table>\n",
       "            <tr>\n",
       "                <td><strong>Gene identifier</strong></td><td>b1111</td>\n",
       "            </tr><tr>\n",
       "                <td><strong>Name</strong></td><td></td>\n",
       "            </tr><tr>\n",
       "                <td><strong>Memory address</strong></td>\n",
       "                <td>0x01440fb250</td>\n",
       "            </tr><tr>\n",
       "                <td><strong>Functional</strong></td><td>True</td>\n",
       "            </tr><tr>\n",
       "                <td><strong>In 1 reaction(s)</strong></td><td>\n",
       "                    PGI</td>\n",
       "            </tr>\n",
       "        </table>"
      ],
      "text/plain": [
       "<Gene b1111 at 0x1440fb250>"
      ]
     },
     "execution_count": 38,
     "metadata": {},
     "output_type": "execute_result"
    }
   ],
   "source": [
    "model.genes.b1111"
   ]
  },
  {
   "cell_type": "markdown",
   "metadata": {},
   "source": [
    "#### 4) Simulate gene deletion by knocking out b1111 using the `knock_out()` gene method"
   ]
  },
  {
   "cell_type": "code",
   "execution_count": 39,
   "metadata": {},
   "outputs": [],
   "source": [
    "model.genes.b1111.knock_out()"
   ]
  },
  {
   "cell_type": "markdown",
   "metadata": {},
   "source": [
    "#### 5) View reaction to determine if knocked out"
   ]
  },
  {
   "cell_type": "code",
   "execution_count": 40,
   "metadata": {},
   "outputs": [
    {
     "data": {
      "text/html": [
       "\n",
       "        <table>\n",
       "            <tr>\n",
       "                <td><strong>Reaction identifier</strong></td><td>PGI</td>\n",
       "            </tr><tr>\n",
       "                <td><strong>Name</strong></td><td>Glucose-6-phosphate isomerase</td>\n",
       "            </tr><tr>\n",
       "                <td><strong>Memory address</strong></td>\n",
       "                <td>0x0144018e20</td>\n",
       "            </tr><tr>\n",
       "                <td><strong>Stoichiometry</strong></td>\n",
       "                <td>\n",
       "                    <p style='text-align:right'>g6p_c <=> f6p_c</p>\n",
       "                    <p style='text-align:right'>D-Glucose 6-phosphate <=> D-Fructose 6-phosphate</p>\n",
       "                </td>\n",
       "            </tr><tr>\n",
       "                <td><strong>GPR</strong></td><td>b1111 or b2222</td>\n",
       "            </tr><tr>\n",
       "                <td><strong>Lower bound</strong></td><td>-1000.0</td>\n",
       "            </tr><tr>\n",
       "                <td><strong>Upper bound</strong></td><td>1000.0</td>\n",
       "            </tr>\n",
       "        </table>\n",
       "        "
      ],
      "text/plain": [
       "<Reaction PGI at 0x144018e20>"
      ]
     },
     "execution_count": 40,
     "metadata": {},
     "output_type": "execute_result"
    }
   ],
   "source": [
    "reaction"
   ]
  },
  {
   "cell_type": "code",
   "execution_count": 41,
   "metadata": {},
   "outputs": [
    {
     "data": {
      "text/plain": [
       "True"
      ]
     },
     "execution_count": 41,
     "metadata": {},
     "output_type": "execute_result"
    }
   ],
   "source": [
    "False or True"
   ]
  },
  {
   "cell_type": "markdown",
   "metadata": {},
   "source": [
    "#### 6) Change GPR to \"and\" relationship with same two genes"
   ]
  },
  {
   "cell_type": "code",
   "execution_count": 42,
   "metadata": {},
   "outputs": [],
   "source": [
    "reaction.gene_reaction_rule = 'b1111 and b2222'"
   ]
  },
  {
   "cell_type": "markdown",
   "metadata": {},
   "source": [
    "#### 7) Knock out b1111 again"
   ]
  },
  {
   "cell_type": "code",
   "execution_count": 43,
   "metadata": {},
   "outputs": [],
   "source": [
    "model.genes.b1111.knock_out()"
   ]
  },
  {
   "cell_type": "markdown",
   "metadata": {},
   "source": [
    "#### 8) View reaction again to determine if knocked out"
   ]
  },
  {
   "cell_type": "code",
   "execution_count": 44,
   "metadata": {},
   "outputs": [
    {
     "data": {
      "text/html": [
       "\n",
       "        <table>\n",
       "            <tr>\n",
       "                <td><strong>Reaction identifier</strong></td><td>PGI</td>\n",
       "            </tr><tr>\n",
       "                <td><strong>Name</strong></td><td>Glucose-6-phosphate isomerase</td>\n",
       "            </tr><tr>\n",
       "                <td><strong>Memory address</strong></td>\n",
       "                <td>0x0144018e20</td>\n",
       "            </tr><tr>\n",
       "                <td><strong>Stoichiometry</strong></td>\n",
       "                <td>\n",
       "                    <p style='text-align:right'>g6p_c --> f6p_c</p>\n",
       "                    <p style='text-align:right'>D-Glucose 6-phosphate --> D-Fructose 6-phosphate</p>\n",
       "                </td>\n",
       "            </tr><tr>\n",
       "                <td><strong>GPR</strong></td><td>b1111 and b2222</td>\n",
       "            </tr><tr>\n",
       "                <td><strong>Lower bound</strong></td><td>0</td>\n",
       "            </tr><tr>\n",
       "                <td><strong>Upper bound</strong></td><td>0</td>\n",
       "            </tr>\n",
       "        </table>\n",
       "        "
      ],
      "text/plain": [
       "<Reaction PGI at 0x144018e20>"
      ]
     },
     "execution_count": 44,
     "metadata": {},
     "output_type": "execute_result"
    }
   ],
   "source": [
    "reaction"
   ]
  },
  {
   "cell_type": "code",
   "execution_count": 45,
   "metadata": {},
   "outputs": [
    {
     "data": {
      "text/plain": [
       "False"
      ]
     },
     "execution_count": 45,
     "metadata": {},
     "output_type": "execute_result"
    }
   ],
   "source": [
    "False and True"
   ]
  },
  {
   "cell_type": "markdown",
   "metadata": {},
   "source": [
    "----\n",
    "## E) Loading and solving a complete model\n",
    "\n",
    "Reconstructed M-models can be saved or loaded using a number of different standardized formats. For this workshop we will be using a model of *E. coli* K-12 MG1655 call iML1515. This is provided in a `JSON` format.\n",
    "\n",
    "####  1) Load model using `cobra.io.load_json_model()` function"
   ]
  },
  {
   "cell_type": "code",
   "execution_count": 46,
   "metadata": {},
   "outputs": [],
   "source": [
    "full_model = cobra.io.load_json_model('../../resources/iML1515.json')"
   ]
  },
  {
   "cell_type": "markdown",
   "metadata": {},
   "source": [
    "####  2) View iML1515 properties"
   ]
  },
  {
   "cell_type": "code",
   "execution_count": 47,
   "metadata": {},
   "outputs": [
    {
     "data": {
      "text/html": [
       "\n",
       "        <table>\n",
       "            <tr>\n",
       "                <td><strong>Name</strong></td>\n",
       "                <td>iML1515</td>\n",
       "            </tr><tr>\n",
       "                <td><strong>Memory address</strong></td>\n",
       "                <td>0x0102aa9880</td>\n",
       "            </tr><tr>\n",
       "                <td><strong>Number of metabolites</strong></td>\n",
       "                <td>1877</td>\n",
       "            </tr><tr>\n",
       "                <td><strong>Number of reactions</strong></td>\n",
       "                <td>2712</td>\n",
       "            </tr><tr>\n",
       "                <td><strong>Number of groups</strong></td>\n",
       "                <td>0</td>\n",
       "            </tr><tr>\n",
       "                <td><strong>Objective expression</strong></td>\n",
       "                <td>1.0*BIOMASS_Ec_iML1515_core_75p37M - 1.0*BIOMASS_Ec_iML1515_core_75p37M_reverse_35685</td>\n",
       "            </tr><tr>\n",
       "                <td><strong>Compartments</strong></td>\n",
       "                <td>cytosol, extracellular space, periplasm</td>\n",
       "            </tr>\n",
       "          </table>"
      ],
      "text/plain": [
       "<Model iML1515 at 0x102aa9880>"
      ]
     },
     "execution_count": 47,
     "metadata": {},
     "output_type": "execute_result"
    }
   ],
   "source": [
    "full_model"
   ]
  },
  {
   "cell_type": "markdown",
   "metadata": {},
   "source": [
    "#### 3) Optimize model with `optimize()` method"
   ]
  },
  {
   "cell_type": "code",
   "execution_count": 48,
   "metadata": {},
   "outputs": [
    {
     "data": {
      "text/html": [
       "<strong><em>Optimal</em> solution with objective value 0.877</strong><br><div>\n",
       "<style scoped>\n",
       "    .dataframe tbody tr th:only-of-type {\n",
       "        vertical-align: middle;\n",
       "    }\n",
       "\n",
       "    .dataframe tbody tr th {\n",
       "        vertical-align: top;\n",
       "    }\n",
       "\n",
       "    .dataframe thead th {\n",
       "        text-align: right;\n",
       "    }\n",
       "</style>\n",
       "<table border=\"1\" class=\"dataframe\">\n",
       "  <thead>\n",
       "    <tr style=\"text-align: right;\">\n",
       "      <th></th>\n",
       "      <th>fluxes</th>\n",
       "      <th>reduced_costs</th>\n",
       "    </tr>\n",
       "  </thead>\n",
       "  <tbody>\n",
       "    <tr>\n",
       "      <th>ALATA_D2</th>\n",
       "      <td>0.000000</td>\n",
       "      <td>-7.523353e-03</td>\n",
       "    </tr>\n",
       "    <tr>\n",
       "      <th>SHCHD2</th>\n",
       "      <td>0.000196</td>\n",
       "      <td>1.110223e-16</td>\n",
       "    </tr>\n",
       "    <tr>\n",
       "      <th>CPPPGO</th>\n",
       "      <td>0.000196</td>\n",
       "      <td>2.992398e-17</td>\n",
       "    </tr>\n",
       "    <tr>\n",
       "      <th>GTHOr</th>\n",
       "      <td>0.217041</td>\n",
       "      <td>1.496199e-17</td>\n",
       "    </tr>\n",
       "    <tr>\n",
       "      <th>DHORD5</th>\n",
       "      <td>0.000000</td>\n",
       "      <td>-9.714451e-17</td>\n",
       "    </tr>\n",
       "    <tr>\n",
       "      <th>...</th>\n",
       "      <td>...</td>\n",
       "      <td>...</td>\n",
       "    </tr>\n",
       "    <tr>\n",
       "      <th>SUCCt1pp</th>\n",
       "      <td>0.000000</td>\n",
       "      <td>0.000000e+00</td>\n",
       "    </tr>\n",
       "    <tr>\n",
       "      <th>QUINDH</th>\n",
       "      <td>0.000000</td>\n",
       "      <td>-1.880838e-03</td>\n",
       "    </tr>\n",
       "    <tr>\n",
       "      <th>LCARSyi</th>\n",
       "      <td>0.000000</td>\n",
       "      <td>-1.880838e-03</td>\n",
       "    </tr>\n",
       "    <tr>\n",
       "      <th>BIOMASS_Ec_iML1515_core_75p37M</th>\n",
       "      <td>0.876997</td>\n",
       "      <td>6.450634e-15</td>\n",
       "    </tr>\n",
       "    <tr>\n",
       "      <th>BIOMASS_Ec_iML1515_WT_75p37M</th>\n",
       "      <td>0.000000</td>\n",
       "      <td>-1.927004e+00</td>\n",
       "    </tr>\n",
       "  </tbody>\n",
       "</table>\n",
       "<p>2712 rows × 2 columns</p>\n",
       "</div>"
      ],
      "text/plain": [
       "<Solution 0.877 at 0x147e01f10>"
      ]
     },
     "execution_count": 48,
     "metadata": {},
     "output_type": "execute_result"
    }
   ],
   "source": [
    "full_model.optimize()"
   ]
  },
  {
   "cell_type": "markdown",
   "metadata": {},
   "source": [
    "#### 4) View solution using Escher, a pathway visualization tool"
   ]
  },
  {
   "cell_type": "code",
   "execution_count": 53,
   "metadata": {},
   "outputs": [
    {
     "data": {
      "application/vnd.jupyter.widget-view+json": {
       "model_id": "e2788cab12da473986debf06bbafe1e0",
       "version_major": 2,
       "version_minor": 0
      },
      "text/plain": [
       "Builder(reaction_data={'ALATA_D2': 0.0, 'SHCHD2': 0.0001955703788172151, 'CPPPGO': 0.0001955703788172151, 'GTH…"
      ]
     },
     "metadata": {},
     "output_type": "display_data"
    }
   ],
   "source": [
    "import escher\n",
    "solution = full_model.optimize()\n",
    "builder = escher.Builder(map_json='../../resources/primer_iML_map.json')\n",
    "builder.reaction_data = solution.fluxes.to_dict()\n",
    "builder"
   ]
  },
  {
   "cell_type": "code",
   "execution_count": null,
   "metadata": {},
   "outputs": [],
   "source": []
  }
 ],
 "metadata": {
  "kernelspec": {
   "display_name": "everything",
   "language": "python",
   "name": "everything"
  },
  "language_info": {
   "codemirror_mode": {
    "name": "ipython",
    "version": 3
   },
   "file_extension": ".py",
   "mimetype": "text/x-python",
   "name": "python",
   "nbconvert_exporter": "python",
   "pygments_lexer": "ipython3",
   "version": "3.9.2"
  }
 },
 "nbformat": 4,
 "nbformat_minor": 4
}
