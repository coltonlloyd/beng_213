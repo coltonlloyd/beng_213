{
 "cells": [
  {
   "cell_type": "markdown",
   "metadata": {},
   "source": [
    "# Multi-strain modeling"
   ]
  },
  {
   "cell_type": "code",
   "execution_count": null,
   "metadata": {},
   "outputs": [],
   "source": [
    "import pandas\n",
    "import glob\n",
    "import cobra\n",
    "\n",
    "from IPython.display import Image \n",
    "import pydotplus\n",
    "from sklearn.externals.six import StringIO  \n",
    "\n",
    "from sklearn import tree\n",
    "import graphviz \n",
    "\n",
    "import seaborn\n",
    "\n",
    "from qbio_resources.multistrain_info import carbon_sources,  strain_classification, phosphorus_sources\n",
    "%matplotlib inline"
   ]
  },
  {
   "cell_type": "markdown",
   "metadata": {},
   "source": [
    "----\n",
    "## A) Simulating growth w/ multi strain models\n",
    "\n",
    "The goal of this exercise is to provide an introduction to multi-strain metabolic modeling of the E. coli species. The following is largely take from\n",
    "\n",
    "\"Monk, J. M., Charusanti, P., Aziz, R. K., Lerman, J. a, Premyodhin, N., Orth, J. D., … Palsson, B. Ø. (2013). Genome-scale metabolic reconstructions of multiple Escherichia coli strains highlight strain-specific adaptations to nutritional environments. Proceedings of the National Academy of Sciences, 110(50), 20338–20343. http://doi.org/10.1073/pnas.1307797110\" \n",
    "\n",
    "In the interest of time, only 20 of the models from this study will be used.\n",
    "\n",
    "### 1) Using 20 models, simulate growth on the 78 carbon containing nutrients in `carbon_sources` and output all predicted growth rates in a dataframe.\n",
    "\n",
    "The first step in the multi-strain analysis is to quantify the catabolic capabilities of each of the strains in terms of the metabolites that they are capable of growing on.\n",
    "\n",
    "- The carbon sources are listed below. These are all of the metabolites that show variable growth capabilities among the strains.\n",
    "\n",
    "- The simulations should take about 3 minutes to run.\n",
    "\n",
    "- Do not forget to set the lower_bound of glucose uptake to 0 before simulating with the new carbon source AND set the lower bound of the new carbon source to 0 after simulating"
   ]
  },
  {
   "cell_type": "code",
   "execution_count": null,
   "metadata": {},
   "outputs": [],
   "source": [
    "print(carbon_sources)"
   ]
  },
  {
   "cell_type": "markdown",
   "metadata": {},
   "source": [
    "**Hints:**\n",
    "  \n",
    "1) The models are contained in the `multi_strain_models` directory and their filepaths can be listed using `glob`\n",
    " - Each model can be loded from the filepath in this list using `cobra.io.load_json_model(filepath)`"
   ]
  },
  {
   "cell_type": "code",
   "execution_count": null,
   "metadata": {},
   "outputs": [],
   "source": [
    "print(glob.glob('../qbio_resources/multi_strain_models/*.json'))"
   ]
  },
  {
   "cell_type": "markdown",
   "metadata": {},
   "source": [
    "2) The most conventient way to output the results is as a `pandas.DataFrame` (table) \n",
    "  - You can then update the values in the table by row (index) and column name using the following"
   ]
  },
  {
   "cell_type": "code",
   "execution_count": null,
   "metadata": {},
   "outputs": [],
   "source": [
    "# Initialize an empty DataFram\n",
    "test_df = pandas.DataFrame()\n",
    "\n",
    "# Add new value\n",
    "test_df.loc['Row 0', 'Column 0'] = 5\n",
    "test_df.loc['Row 1', 'Column 0'] = 10\n",
    "test_df.loc['Row 1', 'Column 1'] = 2\n",
    "test_df"
   ]
  },
  {
   "cell_type": "markdown",
   "metadata": {},
   "source": [
    "3) When optimizing the model, it is quicker to use `slim_optimize`. This will return only the growth rate of the simulation, not the entire `Solution` instance"
   ]
  },
  {
   "cell_type": "code",
   "execution_count": null,
   "metadata": {},
   "outputs": [],
   "source": [
    "# Load model\n",
    "model = cobra.io.load_json_model('../qbio_resources/iML1515.json')\n",
    "\n",
    "# Change carbon source\n",
    "model.reactions.EX_glc__D_e.lower_bound = 0\n",
    "model.reactions.EX_ac_e.lower_bound = -10\n",
    "growth_rate = model.slim_optimize() \n",
    "print(growth_rate)"
   ]
  },
  {
   "cell_type": "markdown",
   "metadata": {},
   "source": [
    "4) Do not forget to set the lower bound of the exchange reaction **back to zero** after simulating!"
   ]
  },
  {
   "cell_type": "code",
   "execution_count": null,
   "metadata": {
    "scrolled": true
   },
   "outputs": [],
   "source": []
  },
  {
   "cell_type": "markdown",
   "metadata": {},
   "source": [
    "### 2) Save output of the dataframe as a csv to save progress with `dataframe_name.to_csv(filename)`"
   ]
  },
  {
   "cell_type": "code",
   "execution_count": null,
   "metadata": {},
   "outputs": [],
   "source": []
  },
  {
   "cell_type": "code",
   "execution_count": null,
   "metadata": {},
   "outputs": [],
   "source": []
  },
  {
   "cell_type": "markdown",
   "metadata": {},
   "source": [
    "### 3) Process the dataframe by removing `nan` values and applying growth threshold\n",
    "Use 0.1 as the growth rate threshold\n",
    "- Set dataframe growth rate values less than 0.1 equal to 0\n",
    "- Set dataframe growth rate values greater than or equal to 0.1 equal to 1\n",
    "\n",
    "**Hints:**\n",
    "1) to avoid losing the simulation results during filtering first make a copy of the dataframe like below"
   ]
  },
  {
   "cell_type": "code",
   "execution_count": null,
   "metadata": {},
   "outputs": [],
   "source": [
    "test_filter_df = test_df.copy()"
   ]
  },
  {
   "cell_type": "markdown",
   "metadata": {},
   "source": [
    "2) The dataframe has nan values if the metabolite/uptake reaction is not present in the model. You can fill nan values to zero with"
   ]
  },
  {
   "cell_type": "code",
   "execution_count": null,
   "metadata": {},
   "outputs": [],
   "source": [
    "test_filter_df.fillna(0, inplace=True)"
   ]
  },
  {
   "cell_type": "markdown",
   "metadata": {},
   "source": [
    "3) You can edit values in a dataframe based on a filtering criteria (in this case values less than .5) using the following"
   ]
  },
  {
   "cell_type": "code",
   "execution_count": null,
   "metadata": {},
   "outputs": [],
   "source": [
    "test_filter_df[test_filter_df < .5] = 0"
   ]
  },
  {
   "cell_type": "code",
   "execution_count": null,
   "metadata": {},
   "outputs": [],
   "source": []
  },
  {
   "cell_type": "markdown",
   "metadata": {},
   "source": [
    "### 4) Print the new dataframe to make sure the changes were correctly made"
   ]
  },
  {
   "cell_type": "code",
   "execution_count": null,
   "metadata": {},
   "outputs": [],
   "source": []
  },
  {
   "cell_type": "markdown",
   "metadata": {},
   "source": [
    "---\n",
    "## B) Visualizing the results\n",
    "\n",
    "This section will take the results dataframe from section A and visualize it as a clustered heatmap using `seaborn`\n",
    "\n",
    "### 1) For visual purposes, transpose the dataframe so that the model IDs are listed in the rows\n",
    "**Hint:** Dataframe's have a  `dataframe_name.T` property that returns a transposed version of the dictionary."
   ]
  },
  {
   "cell_type": "code",
   "execution_count": null,
   "metadata": {},
   "outputs": [],
   "source": []
  },
  {
   "cell_type": "markdown",
   "metadata": {},
   "source": [
    "### 2) Assign colors for each strain based on its type. This will be used to color the rows of the heatmap\n",
    "Return a dictionary of the form ```strain_color_dict = {model_id: color}```\n",
    "\n",
    "The collection of strains include the following types:\n",
    " 1.  **Commensal strains** (lab strains that are not pathogenic)\n",
    " 2.  **ExPec strains** (Extraintestinal pathogenic strains)\n",
    " 3.  **InPec strains** (Intestinal pathogenics strains)\n",
    " \n",
    " \n",
    "**Hints:**\n",
    "\n",
    "1) The strain types can be colored according the following dictionary.\n",
    " - 'r' corresponds to red\n",
    " - 'b' corresponds to blue\n",
    " - 'g' corresponds to green"
   ]
  },
  {
   "cell_type": "code",
   "execution_count": null,
   "metadata": {},
   "outputs": [],
   "source": [
    "map_dict = {'Commensal': 'r', 'ExPec': 'b', 'InPec': 'g'}"
   ]
  },
  {
   "cell_type": "markdown",
   "metadata": {},
   "source": [
    "2) The strain classifications per model id can be found in `strain_classification`, imported above"
   ]
  },
  {
   "cell_type": "code",
   "execution_count": null,
   "metadata": {},
   "outputs": [],
   "source": [
    "print(strain_classification)"
   ]
  },
  {
   "cell_type": "markdown",
   "metadata": {},
   "source": [
    "3) Dictionaries can be edited like below:"
   ]
  },
  {
   "cell_type": "code",
   "execution_count": null,
   "metadata": {},
   "outputs": [],
   "source": [
    "test_dict = {}\n",
    "test_dict['key_1'] = 'value_1'\n",
    "print(test_dict)"
   ]
  },
  {
   "cell_type": "code",
   "execution_count": null,
   "metadata": {},
   "outputs": [],
   "source": []
  },
  {
   "cell_type": "markdown",
   "metadata": {},
   "source": [
    "### 3) Return a list of colors corresponding to the strain's position in the dataframe's rows (or `index`)\n",
    "**Hint:** You can map a dictionary to a dataframe's index using the following command and `test_df` from above"
   ]
  },
  {
   "cell_type": "code",
   "execution_count": null,
   "metadata": {},
   "outputs": [],
   "source": [
    "test_dict_for_mapping = {'Row 0': 'value_0', 'Row 1': 'value_1'}\n",
    "print(test_df.index)\n",
    "print(test_df.index.map(test_dict_for_mapping))"
   ]
  },
  {
   "cell_type": "code",
   "execution_count": null,
   "metadata": {},
   "outputs": [],
   "source": []
  },
  {
   "cell_type": "markdown",
   "metadata": {},
   "source": [
    "### 4) Use the `seaborn.clustermap()` function to output the clustered heatmap\n",
    "\n",
    "- Set `figsize=(15,15)`\n",
    "- Set `row_colors` equal to the list that was returned in part 3, above"
   ]
  },
  {
   "cell_type": "code",
   "execution_count": null,
   "metadata": {},
   "outputs": [],
   "source": []
  },
  {
   "cell_type": "markdown",
   "metadata": {},
   "source": [
    "## C) Machine learning to distinguish the strains\n",
    "Now that we know that the strains do in fact have different growth capabilities. This section will demonstrate how machine learning methods, namely a decision tree, can predict how the strains could be separated based on growth conditions."
   ]
  },
  {
   "cell_type": "markdown",
   "metadata": {},
   "source": [
    "### 1) Create numerical classifiers for the strains in the dataframe\n",
    "\n",
    "Create a list with 0s, 1s, and 2s corresponding to whether a row (`index`) in the dataframe corresponds to a Commensal, ExPec, or InPec strain, respectively.\n",
    "\n",
    "**Hints:** \n",
    "1) You can use the following dictionaries to map the model id contained in the dataframe indexes to the numerical value"
   ]
  },
  {
   "cell_type": "code",
   "execution_count": null,
   "metadata": {},
   "outputs": [],
   "source": [
    "map_dict = {'Commensal': 0, 'ExPec': 1, 'InPec': 2}"
   ]
  },
  {
   "cell_type": "code",
   "execution_count": null,
   "metadata": {},
   "outputs": [],
   "source": [
    "print(strain_classification)"
   ]
  },
  {
   "cell_type": "markdown",
   "metadata": {},
   "source": [
    "2) You can loop through a dataframes rows (`indexes`) using the following procedure"
   ]
  },
  {
   "cell_type": "code",
   "execution_count": null,
   "metadata": {},
   "outputs": [],
   "source": [
    "for i in test_df.index:\n",
    "    print(i)"
   ]
  },
  {
   "cell_type": "code",
   "execution_count": null,
   "metadata": {},
   "outputs": [],
   "source": []
  },
  {
   "cell_type": "markdown",
   "metadata": {},
   "source": [
    "### 2) Initialize a new `tree.DecisionTreeClassifier` instance\n",
    "\n",
    "- Set the max_depth=3. This determines how many decisions the tree can contain\n",
    "- Assign the instance to a variable named `classifier`"
   ]
  },
  {
   "cell_type": "code",
   "execution_count": null,
   "metadata": {},
   "outputs": [],
   "source": []
  },
  {
   "cell_type": "markdown",
   "metadata": {},
   "source": [
    "### 3) Build the decision tree classifier\n",
    "- This can be executed with `classifier.fit()` where the filtered dataframe from above is the first argument and the list of numerical classifiers from part C1 is the second argument\n",
    "- Assign the output to a variable named `fit_classifier`"
   ]
  },
  {
   "cell_type": "code",
   "execution_count": null,
   "metadata": {},
   "outputs": [],
   "source": []
  },
  {
   "cell_type": "markdown",
   "metadata": {},
   "source": [
    "### 4) Pass the fit decision tree classifier and the filtered dataframe into the function below to visualize the tree"
   ]
  },
  {
   "cell_type": "code",
   "execution_count": null,
   "metadata": {},
   "outputs": [],
   "source": [
    "def visualize_classification_tree(fit_classifier, filtered_dataframe):\n",
    "    dot_data = StringIO()\n",
    "    model = cobra.io.load_json_model('../qbio_resources/iML1515.json')\n",
    "    map_dict = {'Commensal': 0, 'ExPec': 1, 'InPec': 2}\n",
    "    # Get the full names of each of the columns\n",
    "    feature_names = []\n",
    "    for i in filtered_dataframe.columns:\n",
    "        met_id = i.replace('EX_', '')\n",
    "        if met_id in model.metabolites:\n",
    "            feature_names.append(model.metabolites.get_by_id(met_id).name)\n",
    "        else:\n",
    "            feature_names.append('')\n",
    "    tree.export_graphviz(fit_classifier, out_file=dot_data,  \n",
    "                    filled=True, rounded=True,\n",
    "                    special_characters=True, feature_names=feature_names,\n",
    "                    class_names = list(map_dict.keys())) \n",
    "    graph = pydotplus.graph_from_dot_data(dot_data.getvalue())  \n",
    "    return Image(graph.create_png())"
   ]
  },
  {
   "cell_type": "code",
   "execution_count": null,
   "metadata": {},
   "outputs": [],
   "source": []
  },
  {
   "cell_type": "markdown",
   "metadata": {},
   "source": [
    "## D) (If there is time left) Attempt the above analysis with growth capabilities phosphorous sources instead\n",
    "\n",
    "- The default phosphorus source is phosphate (EX_pi_e). Set this bound to zero before modeling growth with the new phosphorus sources\n",
    "\n",
    "- The phosphorus sources are:"
   ]
  },
  {
   "cell_type": "code",
   "execution_count": null,
   "metadata": {
    "scrolled": true
   },
   "outputs": [],
   "source": [
    "print(phosphorus_sources)"
   ]
  },
  {
   "cell_type": "code",
   "execution_count": null,
   "metadata": {
    "scrolled": true
   },
   "outputs": [],
   "source": []
  },
  {
   "cell_type": "code",
   "execution_count": null,
   "metadata": {},
   "outputs": [],
   "source": []
  },
  {
   "cell_type": "code",
   "execution_count": null,
   "metadata": {},
   "outputs": [],
   "source": []
  },
  {
   "cell_type": "code",
   "execution_count": null,
   "metadata": {},
   "outputs": [],
   "source": []
  },
  {
   "cell_type": "code",
   "execution_count": null,
   "metadata": {},
   "outputs": [],
   "source": []
  },
  {
   "cell_type": "code",
   "execution_count": null,
   "metadata": {},
   "outputs": [],
   "source": []
  },
  {
   "cell_type": "code",
   "execution_count": null,
   "metadata": {},
   "outputs": [],
   "source": []
  },
  {
   "cell_type": "code",
   "execution_count": null,
   "metadata": {},
   "outputs": [],
   "source": []
  },
  {
   "cell_type": "code",
   "execution_count": null,
   "metadata": {},
   "outputs": [],
   "source": []
  },
  {
   "cell_type": "code",
   "execution_count": null,
   "metadata": {},
   "outputs": [],
   "source": []
  },
  {
   "cell_type": "code",
   "execution_count": null,
   "metadata": {},
   "outputs": [],
   "source": []
  },
  {
   "cell_type": "code",
   "execution_count": null,
   "metadata": {},
   "outputs": [],
   "source": []
  }
 ],
 "metadata": {
  "kernelspec": {
   "display_name": "qbio18",
   "language": "python",
   "name": "qbio18"
  },
  "language_info": {
   "codemirror_mode": {
    "name": "ipython",
    "version": 3
   },
   "file_extension": ".py",
   "mimetype": "text/x-python",
   "name": "python",
   "nbconvert_exporter": "python",
   "pygments_lexer": "ipython3",
   "version": "3.6.4"
  }
 },
 "nbformat": 4,
 "nbformat_minor": 2
}
